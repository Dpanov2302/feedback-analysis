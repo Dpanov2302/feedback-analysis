{
  "nbformat": 4,
  "nbformat_minor": 0,
  "metadata": {
    "colab": {
      "provenance": [],
      "collapsed_sections": [
        "DHYOMkWMKaWV",
        "9TQk319VOpv-"
      ],
      "include_colab_link": true
    },
    "kernelspec": {
      "name": "python3",
      "display_name": "Python 3"
    },
    "language_info": {
      "name": "python"
    }
  },
  "cells": [
    {
      "cell_type": "markdown",
      "metadata": {
        "id": "view-in-github",
        "colab_type": "text"
      },
      "source": [
        "<a href=\"https://colab.research.google.com/github/Dpanov2302/feedback-analysis/blob/main/full_pipeline.ipynb\" target=\"_parent\"><img src=\"https://colab.research.google.com/assets/colab-badge.svg\" alt=\"Open In Colab\"/></a>"
      ]
    },
    {
      "cell_type": "markdown",
      "source": [
        "# Обучение Word2Vec на своих данных"
      ],
      "metadata": {
        "id": "am-zxC3b5Dph"
      }
    },
    {
      "cell_type": "markdown",
      "source": [
        "### Загружаем и готовим данные отзывов на банки"
      ],
      "metadata": {
        "id": "NfYhM78d9D3u"
      }
    },
    {
      "cell_type": "code",
      "source": [
        "!pip install pymorphy2"
      ],
      "metadata": {
        "colab": {
          "base_uri": "https://localhost:8080/"
        },
        "id": "Qk6ujTN_9QHC",
        "outputId": "c3bfcabf-e350-4026-9210-48355e738d01"
      },
      "execution_count": null,
      "outputs": [
        {
          "output_type": "stream",
          "name": "stdout",
          "text": [
            "Collecting pymorphy2\n",
            "  Downloading pymorphy2-0.9.1-py3-none-any.whl.metadata (3.6 kB)\n",
            "Collecting dawg-python>=0.7.1 (from pymorphy2)\n",
            "  Downloading DAWG_Python-0.7.2-py2.py3-none-any.whl.metadata (7.0 kB)\n",
            "Collecting pymorphy2-dicts-ru<3.0,>=2.4 (from pymorphy2)\n",
            "  Downloading pymorphy2_dicts_ru-2.4.417127.4579844-py2.py3-none-any.whl.metadata (2.1 kB)\n",
            "Collecting docopt>=0.6 (from pymorphy2)\n",
            "  Downloading docopt-0.6.2.tar.gz (25 kB)\n",
            "  Preparing metadata (setup.py) ... \u001b[?25l\u001b[?25hdone\n",
            "Downloading pymorphy2-0.9.1-py3-none-any.whl (55 kB)\n",
            "\u001b[2K   \u001b[90m━━━━━━━━━━━━━━━━━━━━━━━━━━━━━━━━━━━━━━━━\u001b[0m \u001b[32m55.5/55.5 kB\u001b[0m \u001b[31m1.1 MB/s\u001b[0m eta \u001b[36m0:00:00\u001b[0m\n",
            "\u001b[?25hDownloading DAWG_Python-0.7.2-py2.py3-none-any.whl (11 kB)\n",
            "Downloading pymorphy2_dicts_ru-2.4.417127.4579844-py2.py3-none-any.whl (8.2 MB)\n",
            "\u001b[2K   \u001b[90m━━━━━━━━━━━━━━━━━━━━━━━━━━━━━━━━━━━━━━━━\u001b[0m \u001b[32m8.2/8.2 MB\u001b[0m \u001b[31m36.9 MB/s\u001b[0m eta \u001b[36m0:00:00\u001b[0m\n",
            "\u001b[?25hBuilding wheels for collected packages: docopt\n",
            "  Building wheel for docopt (setup.py) ... \u001b[?25l\u001b[?25hdone\n",
            "  Created wheel for docopt: filename=docopt-0.6.2-py2.py3-none-any.whl size=13704 sha256=df85231ee4b2edbd77d1f10f99d5a58dae56720ae35052ff7d7f7c44bf3a047b\n",
            "  Stored in directory: /root/.cache/pip/wheels/fc/ab/d4/5da2067ac95b36618c629a5f93f809425700506f72c9732fac\n",
            "Successfully built docopt\n",
            "Installing collected packages: pymorphy2-dicts-ru, docopt, dawg-python, pymorphy2\n",
            "Successfully installed dawg-python-0.7.2 docopt-0.6.2 pymorphy2-0.9.1 pymorphy2-dicts-ru-2.4.417127.4579844\n"
          ]
        }
      ]
    },
    {
      "cell_type": "code",
      "source": [
        "import pandas as pd\n",
        "import pymorphy2\n",
        "import nltk\n",
        "from nltk.tokenize import word_tokenize\n",
        "from nltk.corpus import stopwords"
      ],
      "metadata": {
        "id": "7BGHAIRc9XEX"
      },
      "execution_count": null,
      "outputs": []
    },
    {
      "cell_type": "code",
      "source": [
        "nltk.download('punkt')\n",
        "nltk.download('stopwords')"
      ],
      "metadata": {
        "colab": {
          "base_uri": "https://localhost:8080/"
        },
        "id": "McleApuC9d4S",
        "outputId": "f404c692-b2d3-4a8e-e498-b6f726a24dff"
      },
      "execution_count": null,
      "outputs": [
        {
          "output_type": "stream",
          "name": "stderr",
          "text": [
            "[nltk_data] Downloading package punkt to /root/nltk_data...\n",
            "[nltk_data]   Unzipping tokenizers/punkt.zip.\n",
            "[nltk_data] Downloading package stopwords to /root/nltk_data...\n",
            "[nltk_data]   Unzipping corpora/stopwords.zip.\n"
          ]
        },
        {
          "output_type": "execute_result",
          "data": {
            "text/plain": [
              "True"
            ]
          },
          "metadata": {},
          "execution_count": 3
        }
      ]
    },
    {
      "cell_type": "code",
      "source": [
        "def preprocess(text, stop_words, punctuation_marks, morph):\n",
        "    tokens = word_tokenize(text.lower())\n",
        "    preprocessed_text = []\n",
        "    for token in tokens:\n",
        "        if token not in punctuation_marks:\n",
        "            lemma = morph.parse(token)[0].normal_form\n",
        "            if lemma not in stop_words:\n",
        "                preprocessed_text.append(lemma)\n",
        "    return preprocessed_text"
      ],
      "metadata": {
        "id": "6djhDUbN99lv"
      },
      "execution_count": null,
      "outputs": []
    },
    {
      "cell_type": "code",
      "source": [
        "punctuation_marks = ['!', ',', '(', ')', ':', '-', '?', '.', '..', '...']\n",
        "stop_words = stopwords.words(\"russian\")\n",
        "morph = pymorphy2.MorphAnalyzer()"
      ],
      "metadata": {
        "id": "0oi3JCSz9-ex"
      },
      "execution_count": null,
      "outputs": []
    },
    {
      "cell_type": "code",
      "source": [
        "!wget https://huggingface.co/datasets/C0uchP0tat0/courses_obrazoval_ru/resolve/main/reviews.csv -O dataset.csv"
      ],
      "metadata": {
        "colab": {
          "base_uri": "https://localhost:8080/"
        },
        "id": "yVeE69hG9gIT",
        "outputId": "0f546b11-1bc7-44bd-dcbe-b0d2c4c72d8f"
      },
      "execution_count": null,
      "outputs": [
        {
          "output_type": "stream",
          "name": "stdout",
          "text": [
            "--2024-09-05 19:29:22--  https://huggingface.co/datasets/C0uchP0tat0/courses_obrazoval_ru/resolve/main/reviews.csv\n",
            "Resolving huggingface.co (huggingface.co)... 18.164.174.55, 18.164.174.17, 18.164.174.23, ...\n",
            "Connecting to huggingface.co (huggingface.co)|18.164.174.55|:443... connected.\n",
            "HTTP request sent, awaiting response... 302 Found\n",
            "Location: https://cdn-lfs-us-1.huggingface.co/repos/ea/0f/ea0f960c15d93f8470907f7f90de2432df5691b359e631cdc5619075be9ca37b/591525c1812ffd8c66d8c39628e923bbe818fb9f4a0073c8c6f93d98ede84432?response-content-disposition=inline%3B+filename*%3DUTF-8%27%27reviews.csv%3B+filename%3D%22reviews.csv%22%3B&response-content-type=text%2Fcsv&Expires=1725823762&Policy=eyJTdGF0ZW1lbnQiOlt7IkNvbmRpdGlvbiI6eyJEYXRlTGVzc1RoYW4iOnsiQVdTOkVwb2NoVGltZSI6MTcyNTgyMzc2Mn19LCJSZXNvdXJjZSI6Imh0dHBzOi8vY2RuLWxmcy11cy0xLmh1Z2dpbmdmYWNlLmNvL3JlcG9zL2VhLzBmL2VhMGY5NjBjMTVkOTNmODQ3MDkwN2Y3ZjkwZGUyNDMyZGY1NjkxYjM1OWU2MzFjZGM1NjE5MDc1YmU5Y2EzN2IvNTkxNTI1YzE4MTJmZmQ4YzY2ZDhjMzk2MjhlOTIzYmJlODE4ZmI5ZjRhMDA3M2M4YzZmOTNkOThlZGU4NDQzMj9yZXNwb25zZS1jb250ZW50LWRpc3Bvc2l0aW9uPSomcmVzcG9uc2UtY29udGVudC10eXBlPSoifV19&Signature=qDhCIWqNI2FZqQmLoVeK140nj4phktMXseVfgwk1sY219NBD1qIFSVa3yqc6fdDkG-Yaf6Kh4dzs-6mTmHIpzBXOliM359KwVsdhhy4zsXB2sKlX7K4Qi7kvVxlaVezJ3o8ftXsNBjTlUNiwNWSgQNl8mOy-mTUZudiqko5FYQyyZQJhNLWDFTKY8dc7O7cvYJHFkLEZ9mzk0DxZ5XzYYwlIQ%7E7HjetY-MYeRc3pzAyb7TWbnlKZYEisFgre8Im8he0MfTtykobwSliElZ2SYiSrOW6Gq2cJlGJw8osf4Rb9dAXbOF54QUEnobeK5px9z0IU0GMC2CtxHvU544gWMg__&Key-Pair-Id=K24J24Z295AEI9 [following]\n",
            "--2024-09-05 19:29:23--  https://cdn-lfs-us-1.huggingface.co/repos/ea/0f/ea0f960c15d93f8470907f7f90de2432df5691b359e631cdc5619075be9ca37b/591525c1812ffd8c66d8c39628e923bbe818fb9f4a0073c8c6f93d98ede84432?response-content-disposition=inline%3B+filename*%3DUTF-8%27%27reviews.csv%3B+filename%3D%22reviews.csv%22%3B&response-content-type=text%2Fcsv&Expires=1725823762&Policy=eyJTdGF0ZW1lbnQiOlt7IkNvbmRpdGlvbiI6eyJEYXRlTGVzc1RoYW4iOnsiQVdTOkVwb2NoVGltZSI6MTcyNTgyMzc2Mn19LCJSZXNvdXJjZSI6Imh0dHBzOi8vY2RuLWxmcy11cy0xLmh1Z2dpbmdmYWNlLmNvL3JlcG9zL2VhLzBmL2VhMGY5NjBjMTVkOTNmODQ3MDkwN2Y3ZjkwZGUyNDMyZGY1NjkxYjM1OWU2MzFjZGM1NjE5MDc1YmU5Y2EzN2IvNTkxNTI1YzE4MTJmZmQ4YzY2ZDhjMzk2MjhlOTIzYmJlODE4ZmI5ZjRhMDA3M2M4YzZmOTNkOThlZGU4NDQzMj9yZXNwb25zZS1jb250ZW50LWRpc3Bvc2l0aW9uPSomcmVzcG9uc2UtY29udGVudC10eXBlPSoifV19&Signature=qDhCIWqNI2FZqQmLoVeK140nj4phktMXseVfgwk1sY219NBD1qIFSVa3yqc6fdDkG-Yaf6Kh4dzs-6mTmHIpzBXOliM359KwVsdhhy4zsXB2sKlX7K4Qi7kvVxlaVezJ3o8ftXsNBjTlUNiwNWSgQNl8mOy-mTUZudiqko5FYQyyZQJhNLWDFTKY8dc7O7cvYJHFkLEZ9mzk0DxZ5XzYYwlIQ%7E7HjetY-MYeRc3pzAyb7TWbnlKZYEisFgre8Im8he0MfTtykobwSliElZ2SYiSrOW6Gq2cJlGJw8osf4Rb9dAXbOF54QUEnobeK5px9z0IU0GMC2CtxHvU544gWMg__&Key-Pair-Id=K24J24Z295AEI9\n",
            "Resolving cdn-lfs-us-1.huggingface.co (cdn-lfs-us-1.huggingface.co)... 18.65.25.113, 18.65.25.119, 18.65.25.64, ...\n",
            "Connecting to cdn-lfs-us-1.huggingface.co (cdn-lfs-us-1.huggingface.co)|18.65.25.113|:443... connected.\n",
            "HTTP request sent, awaiting response... 200 OK\n",
            "Length: 42803195 (41M) [text/csv]\n",
            "Saving to: ‘dataset.csv’\n",
            "\n",
            "dataset.csv         100%[===================>]  40.82M  46.3MB/s    in 0.9s    \n",
            "\n",
            "2024-09-05 19:29:24 (46.3 MB/s) - ‘dataset.csv’ saved [42803195/42803195]\n",
            "\n"
          ]
        }
      ]
    },
    {
      "cell_type": "code",
      "source": [
        "courses = pd.read_csv('/content/test_data.csv', sep=',', index_col=False)"
      ],
      "metadata": {
        "id": "I3bToSmz9zYn",
        "colab": {
          "base_uri": "https://localhost:8080/",
          "height": 298
        },
        "outputId": "05de3598-25eb-4fe4-9546-cbf7af8f574e"
      },
      "execution_count": null,
      "outputs": [
        {
          "output_type": "error",
          "ename": "FileNotFoundError",
          "evalue": "[Errno 2] No such file or directory: '/content/test_data.csv'",
          "traceback": [
            "\u001b[0;31m---------------------------------------------------------------------------\u001b[0m",
            "\u001b[0;31mFileNotFoundError\u001b[0m                         Traceback (most recent call last)",
            "\u001b[0;32m<ipython-input-7-f076213cccc8>\u001b[0m in \u001b[0;36m<cell line: 1>\u001b[0;34m()\u001b[0m\n\u001b[0;32m----> 1\u001b[0;31m \u001b[0mcourses\u001b[0m \u001b[0;34m=\u001b[0m \u001b[0mpd\u001b[0m\u001b[0;34m.\u001b[0m\u001b[0mread_csv\u001b[0m\u001b[0;34m(\u001b[0m\u001b[0;34m'/content/test_data.csv'\u001b[0m\u001b[0;34m,\u001b[0m \u001b[0msep\u001b[0m\u001b[0;34m=\u001b[0m\u001b[0;34m','\u001b[0m\u001b[0;34m,\u001b[0m \u001b[0mindex_col\u001b[0m\u001b[0;34m=\u001b[0m\u001b[0;32mFalse\u001b[0m\u001b[0;34m)\u001b[0m\u001b[0;34m\u001b[0m\u001b[0;34m\u001b[0m\u001b[0m\n\u001b[0m",
            "\u001b[0;32m/usr/local/lib/python3.10/dist-packages/pandas/io/parsers/readers.py\u001b[0m in \u001b[0;36mread_csv\u001b[0;34m(filepath_or_buffer, sep, delimiter, header, names, index_col, usecols, dtype, engine, converters, true_values, false_values, skipinitialspace, skiprows, skipfooter, nrows, na_values, keep_default_na, na_filter, verbose, skip_blank_lines, parse_dates, infer_datetime_format, keep_date_col, date_parser, date_format, dayfirst, cache_dates, iterator, chunksize, compression, thousands, decimal, lineterminator, quotechar, quoting, doublequote, escapechar, comment, encoding, encoding_errors, dialect, on_bad_lines, delim_whitespace, low_memory, memory_map, float_precision, storage_options, dtype_backend)\u001b[0m\n\u001b[1;32m    946\u001b[0m     \u001b[0mkwds\u001b[0m\u001b[0;34m.\u001b[0m\u001b[0mupdate\u001b[0m\u001b[0;34m(\u001b[0m\u001b[0mkwds_defaults\u001b[0m\u001b[0;34m)\u001b[0m\u001b[0;34m\u001b[0m\u001b[0;34m\u001b[0m\u001b[0m\n\u001b[1;32m    947\u001b[0m \u001b[0;34m\u001b[0m\u001b[0m\n\u001b[0;32m--> 948\u001b[0;31m     \u001b[0;32mreturn\u001b[0m \u001b[0m_read\u001b[0m\u001b[0;34m(\u001b[0m\u001b[0mfilepath_or_buffer\u001b[0m\u001b[0;34m,\u001b[0m \u001b[0mkwds\u001b[0m\u001b[0;34m)\u001b[0m\u001b[0;34m\u001b[0m\u001b[0;34m\u001b[0m\u001b[0m\n\u001b[0m\u001b[1;32m    949\u001b[0m \u001b[0;34m\u001b[0m\u001b[0m\n\u001b[1;32m    950\u001b[0m \u001b[0;34m\u001b[0m\u001b[0m\n",
            "\u001b[0;32m/usr/local/lib/python3.10/dist-packages/pandas/io/parsers/readers.py\u001b[0m in \u001b[0;36m_read\u001b[0;34m(filepath_or_buffer, kwds)\u001b[0m\n\u001b[1;32m    609\u001b[0m \u001b[0;34m\u001b[0m\u001b[0m\n\u001b[1;32m    610\u001b[0m     \u001b[0;31m# Create the parser.\u001b[0m\u001b[0;34m\u001b[0m\u001b[0;34m\u001b[0m\u001b[0m\n\u001b[0;32m--> 611\u001b[0;31m     \u001b[0mparser\u001b[0m \u001b[0;34m=\u001b[0m \u001b[0mTextFileReader\u001b[0m\u001b[0;34m(\u001b[0m\u001b[0mfilepath_or_buffer\u001b[0m\u001b[0;34m,\u001b[0m \u001b[0;34m**\u001b[0m\u001b[0mkwds\u001b[0m\u001b[0;34m)\u001b[0m\u001b[0;34m\u001b[0m\u001b[0;34m\u001b[0m\u001b[0m\n\u001b[0m\u001b[1;32m    612\u001b[0m \u001b[0;34m\u001b[0m\u001b[0m\n\u001b[1;32m    613\u001b[0m     \u001b[0;32mif\u001b[0m \u001b[0mchunksize\u001b[0m \u001b[0;32mor\u001b[0m \u001b[0miterator\u001b[0m\u001b[0;34m:\u001b[0m\u001b[0;34m\u001b[0m\u001b[0;34m\u001b[0m\u001b[0m\n",
            "\u001b[0;32m/usr/local/lib/python3.10/dist-packages/pandas/io/parsers/readers.py\u001b[0m in \u001b[0;36m__init__\u001b[0;34m(self, f, engine, **kwds)\u001b[0m\n\u001b[1;32m   1446\u001b[0m \u001b[0;34m\u001b[0m\u001b[0m\n\u001b[1;32m   1447\u001b[0m         \u001b[0mself\u001b[0m\u001b[0;34m.\u001b[0m\u001b[0mhandles\u001b[0m\u001b[0;34m:\u001b[0m \u001b[0mIOHandles\u001b[0m \u001b[0;34m|\u001b[0m \u001b[0;32mNone\u001b[0m \u001b[0;34m=\u001b[0m \u001b[0;32mNone\u001b[0m\u001b[0;34m\u001b[0m\u001b[0;34m\u001b[0m\u001b[0m\n\u001b[0;32m-> 1448\u001b[0;31m         \u001b[0mself\u001b[0m\u001b[0;34m.\u001b[0m\u001b[0m_engine\u001b[0m \u001b[0;34m=\u001b[0m \u001b[0mself\u001b[0m\u001b[0;34m.\u001b[0m\u001b[0m_make_engine\u001b[0m\u001b[0;34m(\u001b[0m\u001b[0mf\u001b[0m\u001b[0;34m,\u001b[0m \u001b[0mself\u001b[0m\u001b[0;34m.\u001b[0m\u001b[0mengine\u001b[0m\u001b[0;34m)\u001b[0m\u001b[0;34m\u001b[0m\u001b[0;34m\u001b[0m\u001b[0m\n\u001b[0m\u001b[1;32m   1449\u001b[0m \u001b[0;34m\u001b[0m\u001b[0m\n\u001b[1;32m   1450\u001b[0m     \u001b[0;32mdef\u001b[0m \u001b[0mclose\u001b[0m\u001b[0;34m(\u001b[0m\u001b[0mself\u001b[0m\u001b[0;34m)\u001b[0m \u001b[0;34m->\u001b[0m \u001b[0;32mNone\u001b[0m\u001b[0;34m:\u001b[0m\u001b[0;34m\u001b[0m\u001b[0;34m\u001b[0m\u001b[0m\n",
            "\u001b[0;32m/usr/local/lib/python3.10/dist-packages/pandas/io/parsers/readers.py\u001b[0m in \u001b[0;36m_make_engine\u001b[0;34m(self, f, engine)\u001b[0m\n\u001b[1;32m   1703\u001b[0m                 \u001b[0;32mif\u001b[0m \u001b[0;34m\"b\"\u001b[0m \u001b[0;32mnot\u001b[0m \u001b[0;32min\u001b[0m \u001b[0mmode\u001b[0m\u001b[0;34m:\u001b[0m\u001b[0;34m\u001b[0m\u001b[0;34m\u001b[0m\u001b[0m\n\u001b[1;32m   1704\u001b[0m                     \u001b[0mmode\u001b[0m \u001b[0;34m+=\u001b[0m \u001b[0;34m\"b\"\u001b[0m\u001b[0;34m\u001b[0m\u001b[0;34m\u001b[0m\u001b[0m\n\u001b[0;32m-> 1705\u001b[0;31m             self.handles = get_handle(\n\u001b[0m\u001b[1;32m   1706\u001b[0m                 \u001b[0mf\u001b[0m\u001b[0;34m,\u001b[0m\u001b[0;34m\u001b[0m\u001b[0;34m\u001b[0m\u001b[0m\n\u001b[1;32m   1707\u001b[0m                 \u001b[0mmode\u001b[0m\u001b[0;34m,\u001b[0m\u001b[0;34m\u001b[0m\u001b[0;34m\u001b[0m\u001b[0m\n",
            "\u001b[0;32m/usr/local/lib/python3.10/dist-packages/pandas/io/common.py\u001b[0m in \u001b[0;36mget_handle\u001b[0;34m(path_or_buf, mode, encoding, compression, memory_map, is_text, errors, storage_options)\u001b[0m\n\u001b[1;32m    861\u001b[0m         \u001b[0;32mif\u001b[0m \u001b[0mioargs\u001b[0m\u001b[0;34m.\u001b[0m\u001b[0mencoding\u001b[0m \u001b[0;32mand\u001b[0m \u001b[0;34m\"b\"\u001b[0m \u001b[0;32mnot\u001b[0m \u001b[0;32min\u001b[0m \u001b[0mioargs\u001b[0m\u001b[0;34m.\u001b[0m\u001b[0mmode\u001b[0m\u001b[0;34m:\u001b[0m\u001b[0;34m\u001b[0m\u001b[0;34m\u001b[0m\u001b[0m\n\u001b[1;32m    862\u001b[0m             \u001b[0;31m# Encoding\u001b[0m\u001b[0;34m\u001b[0m\u001b[0;34m\u001b[0m\u001b[0m\n\u001b[0;32m--> 863\u001b[0;31m             handle = open(\n\u001b[0m\u001b[1;32m    864\u001b[0m                 \u001b[0mhandle\u001b[0m\u001b[0;34m,\u001b[0m\u001b[0;34m\u001b[0m\u001b[0;34m\u001b[0m\u001b[0m\n\u001b[1;32m    865\u001b[0m                 \u001b[0mioargs\u001b[0m\u001b[0;34m.\u001b[0m\u001b[0mmode\u001b[0m\u001b[0;34m,\u001b[0m\u001b[0;34m\u001b[0m\u001b[0;34m\u001b[0m\u001b[0m\n",
            "\u001b[0;31mFileNotFoundError\u001b[0m: [Errno 2] No such file or directory: '/content/test_data.csv'"
          ]
        }
      ]
    },
    {
      "cell_type": "code",
      "source": [
        "courses"
      ],
      "metadata": {
        "colab": {
          "base_uri": "https://localhost:8080/",
          "height": 1000
        },
        "id": "haWbnlgB-F1F",
        "outputId": "9f608540-1627-4899-e735-9805b63a1c62",
        "collapsed": true
      },
      "execution_count": null,
      "outputs": [
        {
          "output_type": "execute_result",
          "data": {
            "text/plain": [
              "                   hash            timestamp  \\\n",
              "0   6758859381752519691  2024-04-22 19:03:00   \n",
              "1  -5134118675246852169  2024-04-03 18:00:00   \n",
              "2   -968268261123424087  2024-04-06 14:00:00   \n",
              "3   4896484430320162846  2024-04-08 16:00:00   \n",
              "4   4354272097770242871  2024-04-11 15:00:00   \n",
              "5   9096569692949214531  2024-04-13 18:00:00   \n",
              "6   1496562488152212859  2024-04-17 17:00:00   \n",
              "7  -3856666688342700034  2024-04-18 20:00:00   \n",
              "8  -1716212580049605104  2024-04-20 13:00:00   \n",
              "9   1071782518866937108  2024-04-23 19:00:00   \n",
              "10  -783980288115078186  2024-04-24 14:00:00   \n",
              "11 -7166828030551288312  2024-04-24 14:10:00   \n",
              "12 -7307631199387697531  2024-04-05 15:30:00   \n",
              "13 -4149503395606359969  2024-04-06 17:00:00   \n",
              "14  3051911220221225408  2024-04-07 12:00:00   \n",
              "15 -7565351219483013038  2024-04-09 18:00:00   \n",
              "16 -4465836789288927277  2024-04-10 20:00:00   \n",
              "17  2353703711173016978  2024-04-13 16:30:00   \n",
              "18  2267622224905241769  2024-04-15 14:00:00   \n",
              "19  1965671257782122206  2024-04-18 17:00:00   \n",
              "20 -1105535986206373562  2024-04-20 19:00:00   \n",
              "21  -685994363106221208  2024-04-23 11:00:00   \n",
              "22  5704332885294096831  2024-04-21 12:30:00   \n",
              "23 -6360401066456033436  2024-04-17 20:20:00   \n",
              "24  1686157118631482080  2024-04-19 16:00:00   \n",
              "25 -7607597403492323625  2024-04-01 09:30:00   \n",
              "26 -4467748383101231783  2024-04-03 11:00:00   \n",
              "27  5281238697526689008  2024-04-05 14:15:00   \n",
              "28  4513110060428861686  2024-04-08 16:00:00   \n",
              "29  3461130657244366110  2024-04-10 18:00:00   \n",
              "30 -1591039556385701640  2024-04-12 20:00:00   \n",
              "31  7420767119475437096  2024-04-15 12:00:00   \n",
              "32 -5897294647072348904  2024-04-17 14:30:00   \n",
              "33  9152485680461242925  2024-04-19 19:30:00   \n",
              "34  4984073204422767897  2024-04-21 13:00:00   \n",
              "35  2252671510382191426  2024-04-21 13:03:00   \n",
              "36 -6774577215017011531  2024-04-21 13:04:00   \n",
              "37  1892980531381860018  2024-04-02 08:45:00   \n",
              "38  3494463512436883545  2024-04-04 11:30:00   \n",
              "39 -5439454170684364068  2024-04-06 09:00:00   \n",
              "40 -3632836482139990388  2024-04-08 16:00:00   \n",
              "41   -73017528228156685  2024-04-10 15:20:00   \n",
              "42 -5466226418806070653  2024-04-12 10:15:00   \n",
              "43  5399589127593343708  2024-04-14 12:00:00   \n",
              "44 -8254684761478595240  2024-04-16 13:30:00   \n",
              "45  7819608162956811268  2024-04-18 17:00:00   \n",
              "46  8365316402255394589  2024-04-20 18:00:00   \n",
              "47  8709971153643418261  2024-04-02 09:50:00   \n",
              "48  3932515116548717149  2024-04-04 13:30:00   \n",
              "49 -6065359541984047084  2024-04-06 15:20:00   \n",
              "50 -3479160217923818722  2024-04-06 15:21:00   \n",
              "51 -1443665589828677227  2024-04-08 11:45:00   \n",
              "52  3133969769417241307  2024-04-10 15:24:00   \n",
              "\n",
              "                              question_1  \\\n",
              "0                Новейшие тенденции в IT   \n",
              "1                Основы программирования   \n",
              "2   Продвинутые техники программирования   \n",
              "3                Новейшие тенденции в IT   \n",
              "4                Основы программирования   \n",
              "5   Продвинутые техники программирования   \n",
              "6                Новейшие тенденции в IT   \n",
              "7                Основы программирования   \n",
              "8   Продвинутые техники программирования   \n",
              "9                Новейшие тенденции в IT   \n",
              "10               Основы программирования   \n",
              "11               Основы программирования   \n",
              "12               Основы программирования   \n",
              "13  Продвинутые техники программирования   \n",
              "14               Новейшие тенденции в IT   \n",
              "15               Основы программирования   \n",
              "16  Продвинутые техники программирования   \n",
              "17               Новейшие тенденции в IT   \n",
              "18               Основы программирования   \n",
              "19  Продвинутые техники программирования   \n",
              "20               Новейшие тенденции в IT   \n",
              "21               Основы программирования   \n",
              "22               Основы программирования   \n",
              "23  Продвинутые техники программирования   \n",
              "24               Новейшие тенденции в IT   \n",
              "25               Основы программирования   \n",
              "26  Продвинутые техники программирования   \n",
              "27               Новейшие тенденции в IT   \n",
              "28               Основы программирования   \n",
              "29  Продвинутые техники программирования   \n",
              "30               Новейшие тенденции в IT   \n",
              "31               Основы программирования   \n",
              "32  Продвинутые техники программирования   \n",
              "33               Новейшие тенденции в IT   \n",
              "34               Основы программирования   \n",
              "35               Основы программирования   \n",
              "36               Основы программирования   \n",
              "37               Основы программирования   \n",
              "38  Продвинутые техники программирования   \n",
              "39               Новейшие тенденции в IT   \n",
              "40               Основы программирования   \n",
              "41  Продвинутые техники программирования   \n",
              "42               Новейшие тенденции в IT   \n",
              "43               Основы программирования   \n",
              "44  Продвинутые техники программирования   \n",
              "45               Новейшие тенденции в IT   \n",
              "46               Основы программирования   \n",
              "47               Основы программирования   \n",
              "48  Продвинутые техники программирования   \n",
              "49               Новейшие тенденции в IT   \n",
              "50               Новейшие тенденции в IT   \n",
              "51               Основы программирования   \n",
              "52               Новейшие тенденции в IT   \n",
              "\n",
              "                                           question_2  \\\n",
              "0                              Преподователь ел носки   \n",
              "1   Лекционный материал был очень структурирован и...   \n",
              "2   Очень понравился глубокий разбор алгоритмов со...   \n",
              "3   Презентация кейсов из реальной жизни помогла п...   \n",
              "4   Разбор базового синтаксиса Python был особенно...   \n",
              "5   Подробный анализ REST API и их использование в...   \n",
              "6   Обсуждение ИИ и его влияние на будущее техноло...   \n",
              "7   Хорошее объяснение концепций OOP помогло мне л...   \n",
              "8   Вебинар был особенно полезен благодаря разбору...   \n",
              "9   Разбор случаев использования новых технологий ...   \n",
              "10  Интерактивные задания по программированию дали...   \n",
              "11                                Брат пистолет брата   \n",
              "12  Отличный обзор основ JavaScript, особенно обра...   \n",
              "13  Глубокое погружение в асинхронное программиров...   \n",
              "14  Захватывающее обсуждение о влиянии искусственн...   \n",
              "15  Интерактивное занятие по SQL было очень информ...   \n",
              "16  Введение в тестирование ПО и различные методол...   \n",
              "17  Обзор передовых практик в области кибербезопас...   \n",
              "18  Хорошее объяснение механизмов работы с памятью...   \n",
              "19  Занятие по проектированию баз данных и их опти...   \n",
              "20  Дискуссия о будущем интернета вещей и его влия...   \n",
              "21  Объяснение функций высшего порядка в JavaScrip...   \n",
              "22  На вебинаре было столько пауз, что я успел под...   \n",
              "23  Было интересно узнать, сколько раз можно испол...   \n",
              "24  Лектор неожиданно забыл о том, что находится н...   \n",
              "25  Ясное объяснение переменных и функций в Python...   \n",
              "26  Подробный разбор асинхронного программирования...   \n",
              "27  Обсуждение использования машинного обучения в ...   \n",
              "28  Лекции о базовом синтаксисе JavaScript были по...   \n",
              "29  Глубокий анализ безопасности веб-приложений, о...   \n",
              "30  Дискуссия о развитии технологий виртуальной и ...   \n",
              "31  Объяснение концепций объектно-ориентированного...   \n",
              "32  Очень понравился разбор случаев использования ...   \n",
              "33  Презентация о влиянии искусственного интеллект...   \n",
              "34  В вебинаре был забавный момент, когда лектор с...   \n",
              "35                                    Я не туда попал   \n",
              "36                                 В целом все хорошо   \n",
              "37  Понятное изложение исключений и обработки ошиб...   \n",
              "38  Изучение принципов работы и настройки веб-серв...   \n",
              "39  Открытое обсуждение о влиянии криптовалют на м...   \n",
              "40  Разбор многопоточности в C# и её использование...   \n",
              "41  Обучение настройке и использованию Docker конт...   \n",
              "42  Вводная лекция о развитии искусственного интел...   \n",
              "43  Понятное введение в базы данных SQL и их приме...   \n",
              "44  Обучение интеграции API в мобильные приложения...   \n",
              "45  Семинар о последних достижениях в автономных т...   \n",
              "46  Интерактивное занятие по рефакторингу существу...   \n",
              "47  Лекция о функциональном программировании в Jav...   \n",
              "48  Обучение техникам поиска и устранения утечек п...   \n",
              "49  Презентация об использовании блокчейн технолог...   \n",
              "50               Илья Корчагин отличный преподователь   \n",
              "51  Введение в алгоритмы сортировки было подано оч...   \n",
              "52  Обширное обсуждение методов машинного обучения...   \n",
              "\n",
              "                                           question_3  \\\n",
              "0                                               Носки   \n",
              "1   Да, объяснения по массивам и их методам были с...   \n",
              "2                              Нет, все было понятно.   \n",
              "3   Да, тема криптовалют осталась не до конца поня...   \n",
              "4                                                Нет.   \n",
              "5                Да, раздел про OAuth был запутанным.   \n",
              "6   Да, сложности с пониманием алгоритмов машинног...   \n",
              "7                                                Нет.   \n",
              "8   Да, тема микросервисов была трудной для понима...   \n",
              "9   Некоторые бизнес-модели были сложны для понима...   \n",
              "10  Да, некоторые аспекты функционального программ...   \n",
              "11                                   пневматику купил   \n",
              "12                                               Нет.   \n",
              "13      Сложности с пониманием Promise и Async/Await.   \n",
              "14  Да, моменты связанные с настройкой ИИ для конк...   \n",
              "15                                               Нет.   \n",
              "16  Да, тема интеграционного тестирования была сло...   \n",
              "17  Да, детали криптографических протоколов были т...   \n",
              "18                                               Нет.   \n",
              "19        Сложности с пониманием нормализации данных.   \n",
              "20  Да, технические детали по внедрению IoT в инду...   \n",
              "21  Да, темы callback-функций и их контексты выпол...   \n",
              "22  Да, особенно когда лектор забывал свою следующ...   \n",
              "23                Да, счётчик \"по сути\" потерял счет.   \n",
              "24          Да, пытался понять, как это связано с IT.   \n",
              "25                                               Нет.   \n",
              "26  Да, тема многопоточности осталась не до конца ...   \n",
              "27  Да, некоторые медицинские термины были непонятны.   \n",
              "28                                               Нет.   \n",
              "29                                               Нет.   \n",
              "30             Да, сложности с пониманием SDK для VR.   \n",
              "31                                               Нет.   \n",
              "32                                               Нет.   \n",
              "33                                               Нет.   \n",
              "34               Нет, это было смешно, но не по теме.   \n",
              "35                                 Играть в майнкрафт   \n",
              "36                               Предурки на вебинаре   \n",
              "37                                               Нет.   \n",
              "38             Да, конфигурация SSL/TLS была сложной.   \n",
              "39                                               Нет.   \n",
              "40                                               Нет.   \n",
              "41             Да, управление состоянием контейнеров.   \n",
              "42               Да, подробности о машинном обучении.   \n",
              "43                                               Нет.   \n",
              "44         Да, интеграция сторонних API была сложной.   \n",
              "45                                               Нет.   \n",
              "46  Да, техники оптимизации кода были непросты для...   \n",
              "47        Да, концепции чистых функций были сложными.   \n",
              "48  Да, инструменты для профилирования памяти были...   \n",
              "49                                               Нет.   \n",
              "50                нет, преподователь сработал отлично   \n",
              "51  Да, быстрая сортировка требовала более глубоко...   \n",
              "52  Да, сложности с пониманием архитектур глубоких...   \n",
              "\n",
              "                                           question_4  \\\n",
              "0                                            пикапика   \n",
              "1   Предложить дополнительные учебные видео по сло...   \n",
              "2   Организовать больше интерактивных сессий для о...   \n",
              "3   Увеличить время на вопросы и ответы в конце ка...   \n",
              "4   Включить больше примеров кода в презентации дл...   \n",
              "5   Предложить дополнительные ресурсы для самостоя...   \n",
              "6   Создать рабочие группы для глубокого изучения ...   \n",
              "7   Ввести дополнительные онлайн-семинары для обсу...   \n",
              "8   Организовать специализированный вебинар по мик...   \n",
              "9   Уделить больше времени анализу реальных старта...   \n",
              "10  Увеличить количество интерактивных упражнений ...   \n",
              "11                                        ходил бухал   \n",
              "12  Увеличить количество примеров и упражнений по ...   \n",
              "13  Провести дополнительные сессии по асинхронност...   \n",
              "14  Больше времени уделить практическим аспектам И...   \n",
              "15  Предложить дополнительные ресурсы для изучения...   \n",
              "16  Разработать модули для самостоятельного изучен...   \n",
              "17  Организовать специальные вебинары по криптогра...   \n",
              "18  Ввести курс по оптимизации кода в C++, так как...   \n",
              "19  Углубить тему оптимизации запросов и работы с ...   \n",
              "20  Предложить больше кейс-стади из реальной практ...   \n",
              "21  Организовать специальные практические сессии п...   \n",
              "22  Ввести таймер для пауз, чтобы они не затягивал...   \n",
              "23  Установить лимит на количество использований ф...   \n",
              "24  Пожалуй, стоит убедиться, что лекторы знают, ч...   \n",
              "25  Ввести больше интерактивных заданий для закреп...   \n",
              "26  Организовать отдельный вебинар по многопоточно...   \n",
              "27  Предложить базовый медицинский словарь для уча...   \n",
              "28  Предоставить больше примеров реального кода дл...   \n",
              "29  Включить больше практических упражнений по защ...   \n",
              "30  Предложить технические воркшопы с демонстрацие...   \n",
              "31  Добавить больше случаев из практики на каждую ...   \n",
              "32  Организовать мастер-классы с разработчиками ре...   \n",
              "33  Углубить материал с включением кейс-стади по а...   \n",
              "34  Убедиться, что лекторы проверяют свои презента...   \n",
              "35                           Хочу стать поняшей няшей   \n",
              "36                          Убрать дураков с вебинара   \n",
              "37  Предложить дополнительные учебные материалы и ...   \n",
              "38  Организовать детальный воркшоп по настройке и ...   \n",
              "39  Углубить тему регулирования криптовалют на гло...   \n",
              "40  Предоставить примеры кода для изучения и анали...   \n",
              "41  Провести серию мастер-классов по работе с Dock...   \n",
              "42  Углубить изучение машинного обучения с примера...   \n",
              "43  Создать интерактивные онлайн-лаборатории для п...   \n",
              "44  Предложить курс по разработке и документирован...   \n",
              "45  Включить больше живых демонстраций и тест-драй...   \n",
              "46  Организовать регулярные практические сессии по...   \n",
              "47  Организовать более детальные семинары с практи...   \n",
              "48  Провести специализированные воркшопы по работе...   \n",
              "49  Углубить тему с использованием реальных кейс-с...   \n",
              "50            Больше ставить преподователя в вебинары   \n",
              "51  Предложить серию видео с подробным анализом ка...   \n",
              "52  Организовать дополнительные сессии с фокусом н...   \n",
              "\n",
              "                                           question_5  \n",
              "0                                           чипи-чипи  \n",
              "1   Введение в объектно-ориентированное программир...  \n",
              "2                              Алгоритмы оптимизации.  \n",
              "3   Использование блокчейн технологий в различных ...  \n",
              "4               Библиотеки Python для анализа данных.  \n",
              "5                        Безопасность веб-приложений.  \n",
              "6   Развитие искусственного интеллекта в медицинск...  \n",
              "7         Глубокое изучение паттернов проектирования.  \n",
              "8        Применение Docker в разработке и продакшене.  \n",
              "9   Новые подходы к финансированию технологических...  \n",
              "10                  Продвинутые техники отладки кода.  \n",
              "11                                  бабы его защищали  \n",
              "12                             Разработка на Node.js.  \n",
              "13                             Работа с веб-сокетами.  \n",
              "14              Глубокое изучение машинного обучения.  \n",
              "15               Подробное изучение NoSQL баз данных.  \n",
              "16      Глубокое изучение автоматизации тестирования.  \n",
              "17           Безопасность мобильных и веб-приложений.  \n",
              "18  Подробное изучение управления памятью в высоко...  \n",
              "19            Работа с распределенными базами данных.  \n",
              "20       Проектирование и разработка умных устройств.  \n",
              "21  Глубокое изучение асинхронного программировани...  \n",
              "22  Философия для программистов: поиск смысла в коде.  \n",
              "23  Как не использовать фразу \"по сути\" в предложе...  \n",
              "24          Готовка для программистов: быстрые блюда.  \n",
              "25       Модульное программирование и его применение.  \n",
              "26     Подробное изучение микросервисной архитектуры.  \n",
              "27      Использование ИИ для диагностики заболеваний.  \n",
              "28  Введение в фреймворки JavaScript, например Rea...  \n",
              "29                 Аудит безопасности веб-приложений.  \n",
              "30                     Создание контента для VR и AR.  \n",
              "31                   Применение ООП в разработке игр.  \n",
              "32       Разработка масштабируемых систем на Node.js.  \n",
              "33  Разработка ПО для автономных транспортных сред...  \n",
              "34                Подходы к эффективным презентациям.  \n",
              "35                           Как попасть в Экверстию?  \n",
              "36                   Хочу учиться в нормальной группе  \n",
              "37  Изучение паттернов проектирования для обработк...  \n",
              "38   Безопасность веб-серверов и защита от DDoS-атак.  \n",
              "39        Как создать собственную криптовалюту и ICO.  \n",
              "40  Глубокое изучение асинхронного программировани...  \n",
              "41  Основы микросервисной архитектуры и контейнери...  \n",
              "42  Искусственный интеллект для автоматизации бизн...  \n",
              "43      Продвинутые техники оптимизации SQL запросов.  \n",
              "44    Создание и управление API на платформе Node.js.  \n",
              "45  Технологии защиты данных в автономных транспор...  \n",
              "46  Методы улучшения и оптимизации унаследованного...  \n",
              "47  Функциональное программирование в других языка...  \n",
              "48  Подробное изучение управления памятью в систем...  \n",
              "49        Разработка собственных блокчейн-приложений.  \n",
              "50  Хотел бы погрузиться в создание видео с нейрос...  \n",
              "51  Глубокое изучение алгоритмов сортировки и их о...  \n",
              "52  Применение нейронных сетей в финансовом анализ...  "
            ],
            "text/html": [
              "\n",
              "  <div id=\"df-2a3cd4d5-e7ea-4d4b-a021-3dd535f2d363\" class=\"colab-df-container\">\n",
              "    <div>\n",
              "<style scoped>\n",
              "    .dataframe tbody tr th:only-of-type {\n",
              "        vertical-align: middle;\n",
              "    }\n",
              "\n",
              "    .dataframe tbody tr th {\n",
              "        vertical-align: top;\n",
              "    }\n",
              "\n",
              "    .dataframe thead th {\n",
              "        text-align: right;\n",
              "    }\n",
              "</style>\n",
              "<table border=\"1\" class=\"dataframe\">\n",
              "  <thead>\n",
              "    <tr style=\"text-align: right;\">\n",
              "      <th></th>\n",
              "      <th>hash</th>\n",
              "      <th>timestamp</th>\n",
              "      <th>question_1</th>\n",
              "      <th>question_2</th>\n",
              "      <th>question_3</th>\n",
              "      <th>question_4</th>\n",
              "      <th>question_5</th>\n",
              "    </tr>\n",
              "  </thead>\n",
              "  <tbody>\n",
              "    <tr>\n",
              "      <th>0</th>\n",
              "      <td>6758859381752519691</td>\n",
              "      <td>2024-04-22 19:03:00</td>\n",
              "      <td>Новейшие тенденции в IT</td>\n",
              "      <td>Преподователь ел носки</td>\n",
              "      <td>Носки</td>\n",
              "      <td>пикапика</td>\n",
              "      <td>чипи-чипи</td>\n",
              "    </tr>\n",
              "    <tr>\n",
              "      <th>1</th>\n",
              "      <td>-5134118675246852169</td>\n",
              "      <td>2024-04-03 18:00:00</td>\n",
              "      <td>Основы программирования</td>\n",
              "      <td>Лекционный материал был очень структурирован и...</td>\n",
              "      <td>Да, объяснения по массивам и их методам были с...</td>\n",
              "      <td>Предложить дополнительные учебные видео по сло...</td>\n",
              "      <td>Введение в объектно-ориентированное программир...</td>\n",
              "    </tr>\n",
              "    <tr>\n",
              "      <th>2</th>\n",
              "      <td>-968268261123424087</td>\n",
              "      <td>2024-04-06 14:00:00</td>\n",
              "      <td>Продвинутые техники программирования</td>\n",
              "      <td>Очень понравился глубокий разбор алгоритмов со...</td>\n",
              "      <td>Нет, все было понятно.</td>\n",
              "      <td>Организовать больше интерактивных сессий для о...</td>\n",
              "      <td>Алгоритмы оптимизации.</td>\n",
              "    </tr>\n",
              "    <tr>\n",
              "      <th>3</th>\n",
              "      <td>4896484430320162846</td>\n",
              "      <td>2024-04-08 16:00:00</td>\n",
              "      <td>Новейшие тенденции в IT</td>\n",
              "      <td>Презентация кейсов из реальной жизни помогла п...</td>\n",
              "      <td>Да, тема криптовалют осталась не до конца поня...</td>\n",
              "      <td>Увеличить время на вопросы и ответы в конце ка...</td>\n",
              "      <td>Использование блокчейн технологий в различных ...</td>\n",
              "    </tr>\n",
              "    <tr>\n",
              "      <th>4</th>\n",
              "      <td>4354272097770242871</td>\n",
              "      <td>2024-04-11 15:00:00</td>\n",
              "      <td>Основы программирования</td>\n",
              "      <td>Разбор базового синтаксиса Python был особенно...</td>\n",
              "      <td>Нет.</td>\n",
              "      <td>Включить больше примеров кода в презентации дл...</td>\n",
              "      <td>Библиотеки Python для анализа данных.</td>\n",
              "    </tr>\n",
              "    <tr>\n",
              "      <th>5</th>\n",
              "      <td>9096569692949214531</td>\n",
              "      <td>2024-04-13 18:00:00</td>\n",
              "      <td>Продвинутые техники программирования</td>\n",
              "      <td>Подробный анализ REST API и их использование в...</td>\n",
              "      <td>Да, раздел про OAuth был запутанным.</td>\n",
              "      <td>Предложить дополнительные ресурсы для самостоя...</td>\n",
              "      <td>Безопасность веб-приложений.</td>\n",
              "    </tr>\n",
              "    <tr>\n",
              "      <th>6</th>\n",
              "      <td>1496562488152212859</td>\n",
              "      <td>2024-04-17 17:00:00</td>\n",
              "      <td>Новейшие тенденции в IT</td>\n",
              "      <td>Обсуждение ИИ и его влияние на будущее техноло...</td>\n",
              "      <td>Да, сложности с пониманием алгоритмов машинног...</td>\n",
              "      <td>Создать рабочие группы для глубокого изучения ...</td>\n",
              "      <td>Развитие искусственного интеллекта в медицинск...</td>\n",
              "    </tr>\n",
              "    <tr>\n",
              "      <th>7</th>\n",
              "      <td>-3856666688342700034</td>\n",
              "      <td>2024-04-18 20:00:00</td>\n",
              "      <td>Основы программирования</td>\n",
              "      <td>Хорошее объяснение концепций OOP помогло мне л...</td>\n",
              "      <td>Нет.</td>\n",
              "      <td>Ввести дополнительные онлайн-семинары для обсу...</td>\n",
              "      <td>Глубокое изучение паттернов проектирования.</td>\n",
              "    </tr>\n",
              "    <tr>\n",
              "      <th>8</th>\n",
              "      <td>-1716212580049605104</td>\n",
              "      <td>2024-04-20 13:00:00</td>\n",
              "      <td>Продвинутые техники программирования</td>\n",
              "      <td>Вебинар был особенно полезен благодаря разбору...</td>\n",
              "      <td>Да, тема микросервисов была трудной для понима...</td>\n",
              "      <td>Организовать специализированный вебинар по мик...</td>\n",
              "      <td>Применение Docker в разработке и продакшене.</td>\n",
              "    </tr>\n",
              "    <tr>\n",
              "      <th>9</th>\n",
              "      <td>1071782518866937108</td>\n",
              "      <td>2024-04-23 19:00:00</td>\n",
              "      <td>Новейшие тенденции в IT</td>\n",
              "      <td>Разбор случаев использования новых технологий ...</td>\n",
              "      <td>Некоторые бизнес-модели были сложны для понима...</td>\n",
              "      <td>Уделить больше времени анализу реальных старта...</td>\n",
              "      <td>Новые подходы к финансированию технологических...</td>\n",
              "    </tr>\n",
              "    <tr>\n",
              "      <th>10</th>\n",
              "      <td>-783980288115078186</td>\n",
              "      <td>2024-04-24 14:00:00</td>\n",
              "      <td>Основы программирования</td>\n",
              "      <td>Интерактивные задания по программированию дали...</td>\n",
              "      <td>Да, некоторые аспекты функционального программ...</td>\n",
              "      <td>Увеличить количество интерактивных упражнений ...</td>\n",
              "      <td>Продвинутые техники отладки кода.</td>\n",
              "    </tr>\n",
              "    <tr>\n",
              "      <th>11</th>\n",
              "      <td>-7166828030551288312</td>\n",
              "      <td>2024-04-24 14:10:00</td>\n",
              "      <td>Основы программирования</td>\n",
              "      <td>Брат пистолет брата</td>\n",
              "      <td>пневматику купил</td>\n",
              "      <td>ходил бухал</td>\n",
              "      <td>бабы его защищали</td>\n",
              "    </tr>\n",
              "    <tr>\n",
              "      <th>12</th>\n",
              "      <td>-7307631199387697531</td>\n",
              "      <td>2024-04-05 15:30:00</td>\n",
              "      <td>Основы программирования</td>\n",
              "      <td>Отличный обзор основ JavaScript, особенно обра...</td>\n",
              "      <td>Нет.</td>\n",
              "      <td>Увеличить количество примеров и упражнений по ...</td>\n",
              "      <td>Разработка на Node.js.</td>\n",
              "    </tr>\n",
              "    <tr>\n",
              "      <th>13</th>\n",
              "      <td>-4149503395606359969</td>\n",
              "      <td>2024-04-06 17:00:00</td>\n",
              "      <td>Продвинутые техники программирования</td>\n",
              "      <td>Глубокое погружение в асинхронное программиров...</td>\n",
              "      <td>Сложности с пониманием Promise и Async/Await.</td>\n",
              "      <td>Провести дополнительные сессии по асинхронност...</td>\n",
              "      <td>Работа с веб-сокетами.</td>\n",
              "    </tr>\n",
              "    <tr>\n",
              "      <th>14</th>\n",
              "      <td>3051911220221225408</td>\n",
              "      <td>2024-04-07 12:00:00</td>\n",
              "      <td>Новейшие тенденции в IT</td>\n",
              "      <td>Захватывающее обсуждение о влиянии искусственн...</td>\n",
              "      <td>Да, моменты связанные с настройкой ИИ для конк...</td>\n",
              "      <td>Больше времени уделить практическим аспектам И...</td>\n",
              "      <td>Глубокое изучение машинного обучения.</td>\n",
              "    </tr>\n",
              "    <tr>\n",
              "      <th>15</th>\n",
              "      <td>-7565351219483013038</td>\n",
              "      <td>2024-04-09 18:00:00</td>\n",
              "      <td>Основы программирования</td>\n",
              "      <td>Интерактивное занятие по SQL было очень информ...</td>\n",
              "      <td>Нет.</td>\n",
              "      <td>Предложить дополнительные ресурсы для изучения...</td>\n",
              "      <td>Подробное изучение NoSQL баз данных.</td>\n",
              "    </tr>\n",
              "    <tr>\n",
              "      <th>16</th>\n",
              "      <td>-4465836789288927277</td>\n",
              "      <td>2024-04-10 20:00:00</td>\n",
              "      <td>Продвинутые техники программирования</td>\n",
              "      <td>Введение в тестирование ПО и различные методол...</td>\n",
              "      <td>Да, тема интеграционного тестирования была сло...</td>\n",
              "      <td>Разработать модули для самостоятельного изучен...</td>\n",
              "      <td>Глубокое изучение автоматизации тестирования.</td>\n",
              "    </tr>\n",
              "    <tr>\n",
              "      <th>17</th>\n",
              "      <td>2353703711173016978</td>\n",
              "      <td>2024-04-13 16:30:00</td>\n",
              "      <td>Новейшие тенденции в IT</td>\n",
              "      <td>Обзор передовых практик в области кибербезопас...</td>\n",
              "      <td>Да, детали криптографических протоколов были т...</td>\n",
              "      <td>Организовать специальные вебинары по криптогра...</td>\n",
              "      <td>Безопасность мобильных и веб-приложений.</td>\n",
              "    </tr>\n",
              "    <tr>\n",
              "      <th>18</th>\n",
              "      <td>2267622224905241769</td>\n",
              "      <td>2024-04-15 14:00:00</td>\n",
              "      <td>Основы программирования</td>\n",
              "      <td>Хорошее объяснение механизмов работы с памятью...</td>\n",
              "      <td>Нет.</td>\n",
              "      <td>Ввести курс по оптимизации кода в C++, так как...</td>\n",
              "      <td>Подробное изучение управления памятью в высоко...</td>\n",
              "    </tr>\n",
              "    <tr>\n",
              "      <th>19</th>\n",
              "      <td>1965671257782122206</td>\n",
              "      <td>2024-04-18 17:00:00</td>\n",
              "      <td>Продвинутые техники программирования</td>\n",
              "      <td>Занятие по проектированию баз данных и их опти...</td>\n",
              "      <td>Сложности с пониманием нормализации данных.</td>\n",
              "      <td>Углубить тему оптимизации запросов и работы с ...</td>\n",
              "      <td>Работа с распределенными базами данных.</td>\n",
              "    </tr>\n",
              "    <tr>\n",
              "      <th>20</th>\n",
              "      <td>-1105535986206373562</td>\n",
              "      <td>2024-04-20 19:00:00</td>\n",
              "      <td>Новейшие тенденции в IT</td>\n",
              "      <td>Дискуссия о будущем интернета вещей и его влия...</td>\n",
              "      <td>Да, технические детали по внедрению IoT в инду...</td>\n",
              "      <td>Предложить больше кейс-стади из реальной практ...</td>\n",
              "      <td>Проектирование и разработка умных устройств.</td>\n",
              "    </tr>\n",
              "    <tr>\n",
              "      <th>21</th>\n",
              "      <td>-685994363106221208</td>\n",
              "      <td>2024-04-23 11:00:00</td>\n",
              "      <td>Основы программирования</td>\n",
              "      <td>Объяснение функций высшего порядка в JavaScrip...</td>\n",
              "      <td>Да, темы callback-функций и их контексты выпол...</td>\n",
              "      <td>Организовать специальные практические сессии п...</td>\n",
              "      <td>Глубокое изучение асинхронного программировани...</td>\n",
              "    </tr>\n",
              "    <tr>\n",
              "      <th>22</th>\n",
              "      <td>5704332885294096831</td>\n",
              "      <td>2024-04-21 12:30:00</td>\n",
              "      <td>Основы программирования</td>\n",
              "      <td>На вебинаре было столько пауз, что я успел под...</td>\n",
              "      <td>Да, особенно когда лектор забывал свою следующ...</td>\n",
              "      <td>Ввести таймер для пауз, чтобы они не затягивал...</td>\n",
              "      <td>Философия для программистов: поиск смысла в коде.</td>\n",
              "    </tr>\n",
              "    <tr>\n",
              "      <th>23</th>\n",
              "      <td>-6360401066456033436</td>\n",
              "      <td>2024-04-17 20:20:00</td>\n",
              "      <td>Продвинутые техники программирования</td>\n",
              "      <td>Было интересно узнать, сколько раз можно испол...</td>\n",
              "      <td>Да, счётчик \"по сути\" потерял счет.</td>\n",
              "      <td>Установить лимит на количество использований ф...</td>\n",
              "      <td>Как не использовать фразу \"по сути\" в предложе...</td>\n",
              "    </tr>\n",
              "    <tr>\n",
              "      <th>24</th>\n",
              "      <td>1686157118631482080</td>\n",
              "      <td>2024-04-19 16:00:00</td>\n",
              "      <td>Новейшие тенденции в IT</td>\n",
              "      <td>Лектор неожиданно забыл о том, что находится н...</td>\n",
              "      <td>Да, пытался понять, как это связано с IT.</td>\n",
              "      <td>Пожалуй, стоит убедиться, что лекторы знают, ч...</td>\n",
              "      <td>Готовка для программистов: быстрые блюда.</td>\n",
              "    </tr>\n",
              "    <tr>\n",
              "      <th>25</th>\n",
              "      <td>-7607597403492323625</td>\n",
              "      <td>2024-04-01 09:30:00</td>\n",
              "      <td>Основы программирования</td>\n",
              "      <td>Ясное объяснение переменных и функций в Python...</td>\n",
              "      <td>Нет.</td>\n",
              "      <td>Ввести больше интерактивных заданий для закреп...</td>\n",
              "      <td>Модульное программирование и его применение.</td>\n",
              "    </tr>\n",
              "    <tr>\n",
              "      <th>26</th>\n",
              "      <td>-4467748383101231783</td>\n",
              "      <td>2024-04-03 11:00:00</td>\n",
              "      <td>Продвинутые техники программирования</td>\n",
              "      <td>Подробный разбор асинхронного программирования...</td>\n",
              "      <td>Да, тема многопоточности осталась не до конца ...</td>\n",
              "      <td>Организовать отдельный вебинар по многопоточно...</td>\n",
              "      <td>Подробное изучение микросервисной архитектуры.</td>\n",
              "    </tr>\n",
              "    <tr>\n",
              "      <th>27</th>\n",
              "      <td>5281238697526689008</td>\n",
              "      <td>2024-04-05 14:15:00</td>\n",
              "      <td>Новейшие тенденции в IT</td>\n",
              "      <td>Обсуждение использования машинного обучения в ...</td>\n",
              "      <td>Да, некоторые медицинские термины были непонятны.</td>\n",
              "      <td>Предложить базовый медицинский словарь для уча...</td>\n",
              "      <td>Использование ИИ для диагностики заболеваний.</td>\n",
              "    </tr>\n",
              "    <tr>\n",
              "      <th>28</th>\n",
              "      <td>4513110060428861686</td>\n",
              "      <td>2024-04-08 16:00:00</td>\n",
              "      <td>Основы программирования</td>\n",
              "      <td>Лекции о базовом синтаксисе JavaScript были по...</td>\n",
              "      <td>Нет.</td>\n",
              "      <td>Предоставить больше примеров реального кода дл...</td>\n",
              "      <td>Введение в фреймворки JavaScript, например Rea...</td>\n",
              "    </tr>\n",
              "    <tr>\n",
              "      <th>29</th>\n",
              "      <td>3461130657244366110</td>\n",
              "      <td>2024-04-10 18:00:00</td>\n",
              "      <td>Продвинутые техники программирования</td>\n",
              "      <td>Глубокий анализ безопасности веб-приложений, о...</td>\n",
              "      <td>Нет.</td>\n",
              "      <td>Включить больше практических упражнений по защ...</td>\n",
              "      <td>Аудит безопасности веб-приложений.</td>\n",
              "    </tr>\n",
              "    <tr>\n",
              "      <th>30</th>\n",
              "      <td>-1591039556385701640</td>\n",
              "      <td>2024-04-12 20:00:00</td>\n",
              "      <td>Новейшие тенденции в IT</td>\n",
              "      <td>Дискуссия о развитии технологий виртуальной и ...</td>\n",
              "      <td>Да, сложности с пониманием SDK для VR.</td>\n",
              "      <td>Предложить технические воркшопы с демонстрацие...</td>\n",
              "      <td>Создание контента для VR и AR.</td>\n",
              "    </tr>\n",
              "    <tr>\n",
              "      <th>31</th>\n",
              "      <td>7420767119475437096</td>\n",
              "      <td>2024-04-15 12:00:00</td>\n",
              "      <td>Основы программирования</td>\n",
              "      <td>Объяснение концепций объектно-ориентированного...</td>\n",
              "      <td>Нет.</td>\n",
              "      <td>Добавить больше случаев из практики на каждую ...</td>\n",
              "      <td>Применение ООП в разработке игр.</td>\n",
              "    </tr>\n",
              "    <tr>\n",
              "      <th>32</th>\n",
              "      <td>-5897294647072348904</td>\n",
              "      <td>2024-04-17 14:30:00</td>\n",
              "      <td>Продвинутые техники программирования</td>\n",
              "      <td>Очень понравился разбор случаев использования ...</td>\n",
              "      <td>Нет.</td>\n",
              "      <td>Организовать мастер-классы с разработчиками ре...</td>\n",
              "      <td>Разработка масштабируемых систем на Node.js.</td>\n",
              "    </tr>\n",
              "    <tr>\n",
              "      <th>33</th>\n",
              "      <td>9152485680461242925</td>\n",
              "      <td>2024-04-19 19:30:00</td>\n",
              "      <td>Новейшие тенденции в IT</td>\n",
              "      <td>Презентация о влиянии искусственного интеллект...</td>\n",
              "      <td>Нет.</td>\n",
              "      <td>Углубить материал с включением кейс-стади по а...</td>\n",
              "      <td>Разработка ПО для автономных транспортных сред...</td>\n",
              "    </tr>\n",
              "    <tr>\n",
              "      <th>34</th>\n",
              "      <td>4984073204422767897</td>\n",
              "      <td>2024-04-21 13:00:00</td>\n",
              "      <td>Основы программирования</td>\n",
              "      <td>В вебинаре был забавный момент, когда лектор с...</td>\n",
              "      <td>Нет, это было смешно, но не по теме.</td>\n",
              "      <td>Убедиться, что лекторы проверяют свои презента...</td>\n",
              "      <td>Подходы к эффективным презентациям.</td>\n",
              "    </tr>\n",
              "    <tr>\n",
              "      <th>35</th>\n",
              "      <td>2252671510382191426</td>\n",
              "      <td>2024-04-21 13:03:00</td>\n",
              "      <td>Основы программирования</td>\n",
              "      <td>Я не туда попал</td>\n",
              "      <td>Играть в майнкрафт</td>\n",
              "      <td>Хочу стать поняшей няшей</td>\n",
              "      <td>Как попасть в Экверстию?</td>\n",
              "    </tr>\n",
              "    <tr>\n",
              "      <th>36</th>\n",
              "      <td>-6774577215017011531</td>\n",
              "      <td>2024-04-21 13:04:00</td>\n",
              "      <td>Основы программирования</td>\n",
              "      <td>В целом все хорошо</td>\n",
              "      <td>Предурки на вебинаре</td>\n",
              "      <td>Убрать дураков с вебинара</td>\n",
              "      <td>Хочу учиться в нормальной группе</td>\n",
              "    </tr>\n",
              "    <tr>\n",
              "      <th>37</th>\n",
              "      <td>1892980531381860018</td>\n",
              "      <td>2024-04-02 08:45:00</td>\n",
              "      <td>Основы программирования</td>\n",
              "      <td>Понятное изложение исключений и обработки ошиб...</td>\n",
              "      <td>Нет.</td>\n",
              "      <td>Предложить дополнительные учебные материалы и ...</td>\n",
              "      <td>Изучение паттернов проектирования для обработк...</td>\n",
              "    </tr>\n",
              "    <tr>\n",
              "      <th>38</th>\n",
              "      <td>3494463512436883545</td>\n",
              "      <td>2024-04-04 11:30:00</td>\n",
              "      <td>Продвинутые техники программирования</td>\n",
              "      <td>Изучение принципов работы и настройки веб-серв...</td>\n",
              "      <td>Да, конфигурация SSL/TLS была сложной.</td>\n",
              "      <td>Организовать детальный воркшоп по настройке и ...</td>\n",
              "      <td>Безопасность веб-серверов и защита от DDoS-атак.</td>\n",
              "    </tr>\n",
              "    <tr>\n",
              "      <th>39</th>\n",
              "      <td>-5439454170684364068</td>\n",
              "      <td>2024-04-06 09:00:00</td>\n",
              "      <td>Новейшие тенденции в IT</td>\n",
              "      <td>Открытое обсуждение о влиянии криптовалют на м...</td>\n",
              "      <td>Нет.</td>\n",
              "      <td>Углубить тему регулирования криптовалют на гло...</td>\n",
              "      <td>Как создать собственную криптовалюту и ICO.</td>\n",
              "    </tr>\n",
              "    <tr>\n",
              "      <th>40</th>\n",
              "      <td>-3632836482139990388</td>\n",
              "      <td>2024-04-08 16:00:00</td>\n",
              "      <td>Основы программирования</td>\n",
              "      <td>Разбор многопоточности в C# и её использование...</td>\n",
              "      <td>Нет.</td>\n",
              "      <td>Предоставить примеры кода для изучения и анали...</td>\n",
              "      <td>Глубокое изучение асинхронного программировани...</td>\n",
              "    </tr>\n",
              "    <tr>\n",
              "      <th>41</th>\n",
              "      <td>-73017528228156685</td>\n",
              "      <td>2024-04-10 15:20:00</td>\n",
              "      <td>Продвинутые техники программирования</td>\n",
              "      <td>Обучение настройке и использованию Docker конт...</td>\n",
              "      <td>Да, управление состоянием контейнеров.</td>\n",
              "      <td>Провести серию мастер-классов по работе с Dock...</td>\n",
              "      <td>Основы микросервисной архитектуры и контейнери...</td>\n",
              "    </tr>\n",
              "    <tr>\n",
              "      <th>42</th>\n",
              "      <td>-5466226418806070653</td>\n",
              "      <td>2024-04-12 10:15:00</td>\n",
              "      <td>Новейшие тенденции в IT</td>\n",
              "      <td>Вводная лекция о развитии искусственного интел...</td>\n",
              "      <td>Да, подробности о машинном обучении.</td>\n",
              "      <td>Углубить изучение машинного обучения с примера...</td>\n",
              "      <td>Искусственный интеллект для автоматизации бизн...</td>\n",
              "    </tr>\n",
              "    <tr>\n",
              "      <th>43</th>\n",
              "      <td>5399589127593343708</td>\n",
              "      <td>2024-04-14 12:00:00</td>\n",
              "      <td>Основы программирования</td>\n",
              "      <td>Понятное введение в базы данных SQL и их приме...</td>\n",
              "      <td>Нет.</td>\n",
              "      <td>Создать интерактивные онлайн-лаборатории для п...</td>\n",
              "      <td>Продвинутые техники оптимизации SQL запросов.</td>\n",
              "    </tr>\n",
              "    <tr>\n",
              "      <th>44</th>\n",
              "      <td>-8254684761478595240</td>\n",
              "      <td>2024-04-16 13:30:00</td>\n",
              "      <td>Продвинутые техники программирования</td>\n",
              "      <td>Обучение интеграции API в мобильные приложения...</td>\n",
              "      <td>Да, интеграция сторонних API была сложной.</td>\n",
              "      <td>Предложить курс по разработке и документирован...</td>\n",
              "      <td>Создание и управление API на платформе Node.js.</td>\n",
              "    </tr>\n",
              "    <tr>\n",
              "      <th>45</th>\n",
              "      <td>7819608162956811268</td>\n",
              "      <td>2024-04-18 17:00:00</td>\n",
              "      <td>Новейшие тенденции в IT</td>\n",
              "      <td>Семинар о последних достижениях в автономных т...</td>\n",
              "      <td>Нет.</td>\n",
              "      <td>Включить больше живых демонстраций и тест-драй...</td>\n",
              "      <td>Технологии защиты данных в автономных транспор...</td>\n",
              "    </tr>\n",
              "    <tr>\n",
              "      <th>46</th>\n",
              "      <td>8365316402255394589</td>\n",
              "      <td>2024-04-20 18:00:00</td>\n",
              "      <td>Основы программирования</td>\n",
              "      <td>Интерактивное занятие по рефакторингу существу...</td>\n",
              "      <td>Да, техники оптимизации кода были непросты для...</td>\n",
              "      <td>Организовать регулярные практические сессии по...</td>\n",
              "      <td>Методы улучшения и оптимизации унаследованного...</td>\n",
              "    </tr>\n",
              "    <tr>\n",
              "      <th>47</th>\n",
              "      <td>8709971153643418261</td>\n",
              "      <td>2024-04-02 09:50:00</td>\n",
              "      <td>Основы программирования</td>\n",
              "      <td>Лекция о функциональном программировании в Jav...</td>\n",
              "      <td>Да, концепции чистых функций были сложными.</td>\n",
              "      <td>Организовать более детальные семинары с практи...</td>\n",
              "      <td>Функциональное программирование в других языка...</td>\n",
              "    </tr>\n",
              "    <tr>\n",
              "      <th>48</th>\n",
              "      <td>3932515116548717149</td>\n",
              "      <td>2024-04-04 13:30:00</td>\n",
              "      <td>Продвинутые техники программирования</td>\n",
              "      <td>Обучение техникам поиска и устранения утечек п...</td>\n",
              "      <td>Да, инструменты для профилирования памяти были...</td>\n",
              "      <td>Провести специализированные воркшопы по работе...</td>\n",
              "      <td>Подробное изучение управления памятью в систем...</td>\n",
              "    </tr>\n",
              "    <tr>\n",
              "      <th>49</th>\n",
              "      <td>-6065359541984047084</td>\n",
              "      <td>2024-04-06 15:20:00</td>\n",
              "      <td>Новейшие тенденции в IT</td>\n",
              "      <td>Презентация об использовании блокчейн технолог...</td>\n",
              "      <td>Нет.</td>\n",
              "      <td>Углубить тему с использованием реальных кейс-с...</td>\n",
              "      <td>Разработка собственных блокчейн-приложений.</td>\n",
              "    </tr>\n",
              "    <tr>\n",
              "      <th>50</th>\n",
              "      <td>-3479160217923818722</td>\n",
              "      <td>2024-04-06 15:21:00</td>\n",
              "      <td>Новейшие тенденции в IT</td>\n",
              "      <td>Илья Корчагин отличный преподователь</td>\n",
              "      <td>нет, преподователь сработал отлично</td>\n",
              "      <td>Больше ставить преподователя в вебинары</td>\n",
              "      <td>Хотел бы погрузиться в создание видео с нейрос...</td>\n",
              "    </tr>\n",
              "    <tr>\n",
              "      <th>51</th>\n",
              "      <td>-1443665589828677227</td>\n",
              "      <td>2024-04-08 11:45:00</td>\n",
              "      <td>Основы программирования</td>\n",
              "      <td>Введение в алгоритмы сортировки было подано оч...</td>\n",
              "      <td>Да, быстрая сортировка требовала более глубоко...</td>\n",
              "      <td>Предложить серию видео с подробным анализом ка...</td>\n",
              "      <td>Глубокое изучение алгоритмов сортировки и их о...</td>\n",
              "    </tr>\n",
              "    <tr>\n",
              "      <th>52</th>\n",
              "      <td>3133969769417241307</td>\n",
              "      <td>2024-04-10 15:24:00</td>\n",
              "      <td>Новейшие тенденции в IT</td>\n",
              "      <td>Обширное обсуждение методов машинного обучения...</td>\n",
              "      <td>Да, сложности с пониманием архитектур глубоких...</td>\n",
              "      <td>Организовать дополнительные сессии с фокусом н...</td>\n",
              "      <td>Применение нейронных сетей в финансовом анализ...</td>\n",
              "    </tr>\n",
              "  </tbody>\n",
              "</table>\n",
              "</div>\n",
              "    <div class=\"colab-df-buttons\">\n",
              "\n",
              "  <div class=\"colab-df-container\">\n",
              "    <button class=\"colab-df-convert\" onclick=\"convertToInteractive('df-2a3cd4d5-e7ea-4d4b-a021-3dd535f2d363')\"\n",
              "            title=\"Convert this dataframe to an interactive table.\"\n",
              "            style=\"display:none;\">\n",
              "\n",
              "  <svg xmlns=\"http://www.w3.org/2000/svg\" height=\"24px\" viewBox=\"0 -960 960 960\">\n",
              "    <path d=\"M120-120v-720h720v720H120Zm60-500h600v-160H180v160Zm220 220h160v-160H400v160Zm0 220h160v-160H400v160ZM180-400h160v-160H180v160Zm440 0h160v-160H620v160ZM180-180h160v-160H180v160Zm440 0h160v-160H620v160Z\"/>\n",
              "  </svg>\n",
              "    </button>\n",
              "\n",
              "  <style>\n",
              "    .colab-df-container {\n",
              "      display:flex;\n",
              "      gap: 12px;\n",
              "    }\n",
              "\n",
              "    .colab-df-convert {\n",
              "      background-color: #E8F0FE;\n",
              "      border: none;\n",
              "      border-radius: 50%;\n",
              "      cursor: pointer;\n",
              "      display: none;\n",
              "      fill: #1967D2;\n",
              "      height: 32px;\n",
              "      padding: 0 0 0 0;\n",
              "      width: 32px;\n",
              "    }\n",
              "\n",
              "    .colab-df-convert:hover {\n",
              "      background-color: #E2EBFA;\n",
              "      box-shadow: 0px 1px 2px rgba(60, 64, 67, 0.3), 0px 1px 3px 1px rgba(60, 64, 67, 0.15);\n",
              "      fill: #174EA6;\n",
              "    }\n",
              "\n",
              "    .colab-df-buttons div {\n",
              "      margin-bottom: 4px;\n",
              "    }\n",
              "\n",
              "    [theme=dark] .colab-df-convert {\n",
              "      background-color: #3B4455;\n",
              "      fill: #D2E3FC;\n",
              "    }\n",
              "\n",
              "    [theme=dark] .colab-df-convert:hover {\n",
              "      background-color: #434B5C;\n",
              "      box-shadow: 0px 1px 3px 1px rgba(0, 0, 0, 0.15);\n",
              "      filter: drop-shadow(0px 1px 2px rgba(0, 0, 0, 0.3));\n",
              "      fill: #FFFFFF;\n",
              "    }\n",
              "  </style>\n",
              "\n",
              "    <script>\n",
              "      const buttonEl =\n",
              "        document.querySelector('#df-2a3cd4d5-e7ea-4d4b-a021-3dd535f2d363 button.colab-df-convert');\n",
              "      buttonEl.style.display =\n",
              "        google.colab.kernel.accessAllowed ? 'block' : 'none';\n",
              "\n",
              "      async function convertToInteractive(key) {\n",
              "        const element = document.querySelector('#df-2a3cd4d5-e7ea-4d4b-a021-3dd535f2d363');\n",
              "        const dataTable =\n",
              "          await google.colab.kernel.invokeFunction('convertToInteractive',\n",
              "                                                    [key], {});\n",
              "        if (!dataTable) return;\n",
              "\n",
              "        const docLinkHtml = 'Like what you see? Visit the ' +\n",
              "          '<a target=\"_blank\" href=https://colab.research.google.com/notebooks/data_table.ipynb>data table notebook</a>'\n",
              "          + ' to learn more about interactive tables.';\n",
              "        element.innerHTML = '';\n",
              "        dataTable['output_type'] = 'display_data';\n",
              "        await google.colab.output.renderOutput(dataTable, element);\n",
              "        const docLink = document.createElement('div');\n",
              "        docLink.innerHTML = docLinkHtml;\n",
              "        element.appendChild(docLink);\n",
              "      }\n",
              "    </script>\n",
              "  </div>\n",
              "\n",
              "\n",
              "<div id=\"df-a9b07fad-5616-483c-be98-2df0c1310c5b\">\n",
              "  <button class=\"colab-df-quickchart\" onclick=\"quickchart('df-a9b07fad-5616-483c-be98-2df0c1310c5b')\"\n",
              "            title=\"Suggest charts\"\n",
              "            style=\"display:none;\">\n",
              "\n",
              "<svg xmlns=\"http://www.w3.org/2000/svg\" height=\"24px\"viewBox=\"0 0 24 24\"\n",
              "     width=\"24px\">\n",
              "    <g>\n",
              "        <path d=\"M19 3H5c-1.1 0-2 .9-2 2v14c0 1.1.9 2 2 2h14c1.1 0 2-.9 2-2V5c0-1.1-.9-2-2-2zM9 17H7v-7h2v7zm4 0h-2V7h2v10zm4 0h-2v-4h2v4z\"/>\n",
              "    </g>\n",
              "</svg>\n",
              "  </button>\n",
              "\n",
              "<style>\n",
              "  .colab-df-quickchart {\n",
              "      --bg-color: #E8F0FE;\n",
              "      --fill-color: #1967D2;\n",
              "      --hover-bg-color: #E2EBFA;\n",
              "      --hover-fill-color: #174EA6;\n",
              "      --disabled-fill-color: #AAA;\n",
              "      --disabled-bg-color: #DDD;\n",
              "  }\n",
              "\n",
              "  [theme=dark] .colab-df-quickchart {\n",
              "      --bg-color: #3B4455;\n",
              "      --fill-color: #D2E3FC;\n",
              "      --hover-bg-color: #434B5C;\n",
              "      --hover-fill-color: #FFFFFF;\n",
              "      --disabled-bg-color: #3B4455;\n",
              "      --disabled-fill-color: #666;\n",
              "  }\n",
              "\n",
              "  .colab-df-quickchart {\n",
              "    background-color: var(--bg-color);\n",
              "    border: none;\n",
              "    border-radius: 50%;\n",
              "    cursor: pointer;\n",
              "    display: none;\n",
              "    fill: var(--fill-color);\n",
              "    height: 32px;\n",
              "    padding: 0;\n",
              "    width: 32px;\n",
              "  }\n",
              "\n",
              "  .colab-df-quickchart:hover {\n",
              "    background-color: var(--hover-bg-color);\n",
              "    box-shadow: 0 1px 2px rgba(60, 64, 67, 0.3), 0 1px 3px 1px rgba(60, 64, 67, 0.15);\n",
              "    fill: var(--button-hover-fill-color);\n",
              "  }\n",
              "\n",
              "  .colab-df-quickchart-complete:disabled,\n",
              "  .colab-df-quickchart-complete:disabled:hover {\n",
              "    background-color: var(--disabled-bg-color);\n",
              "    fill: var(--disabled-fill-color);\n",
              "    box-shadow: none;\n",
              "  }\n",
              "\n",
              "  .colab-df-spinner {\n",
              "    border: 2px solid var(--fill-color);\n",
              "    border-color: transparent;\n",
              "    border-bottom-color: var(--fill-color);\n",
              "    animation:\n",
              "      spin 1s steps(1) infinite;\n",
              "  }\n",
              "\n",
              "  @keyframes spin {\n",
              "    0% {\n",
              "      border-color: transparent;\n",
              "      border-bottom-color: var(--fill-color);\n",
              "      border-left-color: var(--fill-color);\n",
              "    }\n",
              "    20% {\n",
              "      border-color: transparent;\n",
              "      border-left-color: var(--fill-color);\n",
              "      border-top-color: var(--fill-color);\n",
              "    }\n",
              "    30% {\n",
              "      border-color: transparent;\n",
              "      border-left-color: var(--fill-color);\n",
              "      border-top-color: var(--fill-color);\n",
              "      border-right-color: var(--fill-color);\n",
              "    }\n",
              "    40% {\n",
              "      border-color: transparent;\n",
              "      border-right-color: var(--fill-color);\n",
              "      border-top-color: var(--fill-color);\n",
              "    }\n",
              "    60% {\n",
              "      border-color: transparent;\n",
              "      border-right-color: var(--fill-color);\n",
              "    }\n",
              "    80% {\n",
              "      border-color: transparent;\n",
              "      border-right-color: var(--fill-color);\n",
              "      border-bottom-color: var(--fill-color);\n",
              "    }\n",
              "    90% {\n",
              "      border-color: transparent;\n",
              "      border-bottom-color: var(--fill-color);\n",
              "    }\n",
              "  }\n",
              "</style>\n",
              "\n",
              "  <script>\n",
              "    async function quickchart(key) {\n",
              "      const quickchartButtonEl =\n",
              "        document.querySelector('#' + key + ' button');\n",
              "      quickchartButtonEl.disabled = true;  // To prevent multiple clicks.\n",
              "      quickchartButtonEl.classList.add('colab-df-spinner');\n",
              "      try {\n",
              "        const charts = await google.colab.kernel.invokeFunction(\n",
              "            'suggestCharts', [key], {});\n",
              "      } catch (error) {\n",
              "        console.error('Error during call to suggestCharts:', error);\n",
              "      }\n",
              "      quickchartButtonEl.classList.remove('colab-df-spinner');\n",
              "      quickchartButtonEl.classList.add('colab-df-quickchart-complete');\n",
              "    }\n",
              "    (() => {\n",
              "      let quickchartButtonEl =\n",
              "        document.querySelector('#df-a9b07fad-5616-483c-be98-2df0c1310c5b button');\n",
              "      quickchartButtonEl.style.display =\n",
              "        google.colab.kernel.accessAllowed ? 'block' : 'none';\n",
              "    })();\n",
              "  </script>\n",
              "</div>\n",
              "    </div>\n",
              "  </div>\n"
            ],
            "application/vnd.google.colaboratory.intrinsic+json": {
              "type": "dataframe",
              "variable_name": "courses",
              "summary": "{\n  \"name\": \"courses\",\n  \"rows\": 53,\n  \"fields\": [\n    {\n      \"column\": \"hash\",\n      \"properties\": {\n        \"dtype\": \"number\",\n        \"std\": 5145687890775032832,\n        \"min\": -8254684761478595240,\n        \"max\": 9152485680461242925,\n        \"num_unique_values\": 53,\n        \"samples\": [\n          1965671257782122206,\n          -73017528228156685,\n          8709971153643418261\n        ],\n        \"semantic_type\": \"\",\n        \"description\": \"\"\n      }\n    },\n    {\n      \"column\": \"timestamp\",\n      \"properties\": {\n        \"dtype\": \"object\",\n        \"num_unique_values\": 50,\n        \"samples\": [\n          \"2024-04-06 17:00:00\",\n          \"2024-04-10 15:20:00\",\n          \"2024-04-15 12:00:00\"\n        ],\n        \"semantic_type\": \"\",\n        \"description\": \"\"\n      }\n    },\n    {\n      \"column\": \"question_1\",\n      \"properties\": {\n        \"dtype\": \"category\",\n        \"num_unique_values\": 3,\n        \"samples\": [\n          \"\\u041d\\u043e\\u0432\\u0435\\u0439\\u0448\\u0438\\u0435 \\u0442\\u0435\\u043d\\u0434\\u0435\\u043d\\u0446\\u0438\\u0438 \\u0432 IT\",\n          \"\\u041e\\u0441\\u043d\\u043e\\u0432\\u044b \\u043f\\u0440\\u043e\\u0433\\u0440\\u0430\\u043c\\u043c\\u0438\\u0440\\u043e\\u0432\\u0430\\u043d\\u0438\\u044f\",\n          \"\\u041f\\u0440\\u043e\\u0434\\u0432\\u0438\\u043d\\u0443\\u0442\\u044b\\u0435 \\u0442\\u0435\\u0445\\u043d\\u0438\\u043a\\u0438 \\u043f\\u0440\\u043e\\u0433\\u0440\\u0430\\u043c\\u043c\\u0438\\u0440\\u043e\\u0432\\u0430\\u043d\\u0438\\u044f\"\n        ],\n        \"semantic_type\": \"\",\n        \"description\": \"\"\n      }\n    },\n    {\n      \"column\": \"question_2\",\n      \"properties\": {\n        \"dtype\": \"string\",\n        \"num_unique_values\": 53,\n        \"samples\": [\n          \"\\u0417\\u0430\\u043d\\u044f\\u0442\\u0438\\u0435 \\u043f\\u043e \\u043f\\u0440\\u043e\\u0435\\u043a\\u0442\\u0438\\u0440\\u043e\\u0432\\u0430\\u043d\\u0438\\u044e \\u0431\\u0430\\u0437 \\u0434\\u0430\\u043d\\u043d\\u044b\\u0445 \\u0438 \\u0438\\u0445 \\u043e\\u043f\\u0442\\u0438\\u043c\\u0438\\u0437\\u0430\\u0446\\u0438\\u0438 \\u0431\\u044b\\u043b\\u043e \\u043e\\u0441\\u043e\\u0431\\u0435\\u043d\\u043d\\u043e \\u0446\\u0435\\u043d\\u043d\\u044b\\u043c \\u0434\\u043b\\u044f \\u043c\\u043e\\u0438\\u0445 \\u043f\\u0440\\u043e\\u0435\\u043a\\u0442\\u043e\\u0432.\",\n          \"\\u041e\\u0431\\u0443\\u0447\\u0435\\u043d\\u0438\\u0435 \\u043d\\u0430\\u0441\\u0442\\u0440\\u043e\\u0439\\u043a\\u0435 \\u0438 \\u0438\\u0441\\u043f\\u043e\\u043b\\u044c\\u0437\\u043e\\u0432\\u0430\\u043d\\u0438\\u044e Docker \\u043a\\u043e\\u043d\\u0442\\u0435\\u0439\\u043d\\u0435\\u0440\\u043e\\u0432 \\u0434\\u043b\\u044f \\u0440\\u0430\\u0437\\u0440\\u0430\\u0431\\u043e\\u0442\\u043a\\u0438 \\u0438 \\u0440\\u0430\\u0437\\u0432\\u0435\\u0440\\u0442\\u044b\\u0432\\u0430\\u043d\\u0438\\u044f \\u0431\\u044b\\u043b\\u043e \\u043e\\u0447\\u0435\\u043d\\u044c \\u043f\\u043e\\u043b\\u0435\\u0437\\u043d\\u044b\\u043c.\",\n          \"\\u041b\\u0435\\u043a\\u0446\\u0438\\u044f \\u043e \\u0444\\u0443\\u043d\\u043a\\u0446\\u0438\\u043e\\u043d\\u0430\\u043b\\u044c\\u043d\\u043e\\u043c \\u043f\\u0440\\u043e\\u0433\\u0440\\u0430\\u043c\\u043c\\u0438\\u0440\\u043e\\u0432\\u0430\\u043d\\u0438\\u0438 \\u0432 JavaScript \\u0431\\u044b\\u043b\\u0430 \\u043e\\u0441\\u043e\\u0431\\u0435\\u043d\\u043d\\u043e \\u043f\\u043e\\u043b\\u0435\\u0437\\u043d\\u043e\\u0439 \\u0434\\u043b\\u044f \\u043f\\u043e\\u043d\\u0438\\u043c\\u0430\\u043d\\u0438\\u044f \\u043d\\u0435\\u0438\\u0437\\u043c\\u0435\\u043d\\u044f\\u0435\\u043c\\u043e\\u0441\\u0442\\u0438 \\u0434\\u0430\\u043d\\u043d\\u044b\\u0445.\"\n        ],\n        \"semantic_type\": \"\",\n        \"description\": \"\"\n      }\n    },\n    {\n      \"column\": \"question_3\",\n      \"properties\": {\n        \"dtype\": \"string\",\n        \"num_unique_values\": 37,\n        \"samples\": [\n          \"\\u0414\\u0430, \\u0442\\u0435\\u043c\\u044b callback-\\u0444\\u0443\\u043d\\u043a\\u0446\\u0438\\u0439 \\u0438 \\u0438\\u0445 \\u043a\\u043e\\u043d\\u0442\\u0435\\u043a\\u0441\\u0442\\u044b \\u0432\\u044b\\u043f\\u043e\\u043b\\u043d\\u0435\\u043d\\u0438\\u044f \\u0431\\u044b\\u043b\\u0438 \\u0437\\u0430\\u043f\\u0443\\u0442\\u0430\\u043d\\u043d\\u044b\\u043c\\u0438.\",\n          \"\\u0414\\u0430, \\u0442\\u0435\\u043c\\u0430 \\u0438\\u043d\\u0442\\u0435\\u0433\\u0440\\u0430\\u0446\\u0438\\u043e\\u043d\\u043d\\u043e\\u0433\\u043e \\u0442\\u0435\\u0441\\u0442\\u0438\\u0440\\u043e\\u0432\\u0430\\u043d\\u0438\\u044f \\u0431\\u044b\\u043b\\u0430 \\u0441\\u043b\\u043e\\u0436\\u043d\\u043e\\u0439.\",\n          \"\\u041d\\u0435\\u0442.\"\n        ],\n        \"semantic_type\": \"\",\n        \"description\": \"\"\n      }\n    },\n    {\n      \"column\": \"question_4\",\n      \"properties\": {\n        \"dtype\": \"string\",\n        \"num_unique_values\": 53,\n        \"samples\": [\n          \"\\u0423\\u0433\\u043b\\u0443\\u0431\\u0438\\u0442\\u044c \\u0442\\u0435\\u043c\\u0443 \\u043e\\u043f\\u0442\\u0438\\u043c\\u0438\\u0437\\u0430\\u0446\\u0438\\u0438 \\u0437\\u0430\\u043f\\u0440\\u043e\\u0441\\u043e\\u0432 \\u0438 \\u0440\\u0430\\u0431\\u043e\\u0442\\u044b \\u0441 \\u0431\\u043e\\u043b\\u044c\\u0448\\u0438\\u043c\\u0438 \\u043e\\u0431\\u044a\\u0435\\u043c\\u0430\\u043c\\u0438 \\u0434\\u0430\\u043d\\u043d\\u044b\\u0445.\",\n          \"\\u041f\\u0440\\u043e\\u0432\\u0435\\u0441\\u0442\\u0438 \\u0441\\u0435\\u0440\\u0438\\u044e \\u043c\\u0430\\u0441\\u0442\\u0435\\u0440-\\u043a\\u043b\\u0430\\u0441\\u0441\\u043e\\u0432 \\u043f\\u043e \\u0440\\u0430\\u0431\\u043e\\u0442\\u0435 \\u0441 Docker \\u0438 Kubernetes.\",\n          \"\\u041e\\u0440\\u0433\\u0430\\u043d\\u0438\\u0437\\u043e\\u0432\\u0430\\u0442\\u044c \\u0431\\u043e\\u043b\\u0435\\u0435 \\u0434\\u0435\\u0442\\u0430\\u043b\\u044c\\u043d\\u044b\\u0435 \\u0441\\u0435\\u043c\\u0438\\u043d\\u0430\\u0440\\u044b \\u0441 \\u043f\\u0440\\u0430\\u043a\\u0442\\u0438\\u0447\\u0435\\u0441\\u043a\\u0438\\u043c\\u0438 \\u0437\\u0430\\u0434\\u0430\\u0447\\u0430\\u043c\\u0438 \\u043f\\u043e \\u043a\\u0430\\u0436\\u0434\\u043e\\u0439 \\u0442\\u0435\\u043c\\u0435.\"\n        ],\n        \"semantic_type\": \"\",\n        \"description\": \"\"\n      }\n    },\n    {\n      \"column\": \"question_5\",\n      \"properties\": {\n        \"dtype\": \"string\",\n        \"num_unique_values\": 53,\n        \"samples\": [\n          \"\\u0420\\u0430\\u0431\\u043e\\u0442\\u0430 \\u0441 \\u0440\\u0430\\u0441\\u043f\\u0440\\u0435\\u0434\\u0435\\u043b\\u0435\\u043d\\u043d\\u044b\\u043c\\u0438 \\u0431\\u0430\\u0437\\u0430\\u043c\\u0438 \\u0434\\u0430\\u043d\\u043d\\u044b\\u0445.\",\n          \"\\u041e\\u0441\\u043d\\u043e\\u0432\\u044b \\u043c\\u0438\\u043a\\u0440\\u043e\\u0441\\u0435\\u0440\\u0432\\u0438\\u0441\\u043d\\u043e\\u0439 \\u0430\\u0440\\u0445\\u0438\\u0442\\u0435\\u043a\\u0442\\u0443\\u0440\\u044b \\u0438 \\u043a\\u043e\\u043d\\u0442\\u0435\\u0439\\u043d\\u0435\\u0440\\u0438\\u0437\\u0430\\u0446\\u0438\\u0438.\",\n          \"\\u0424\\u0443\\u043d\\u043a\\u0446\\u0438\\u043e\\u043d\\u0430\\u043b\\u044c\\u043d\\u043e\\u0435 \\u043f\\u0440\\u043e\\u0433\\u0440\\u0430\\u043c\\u043c\\u0438\\u0440\\u043e\\u0432\\u0430\\u043d\\u0438\\u0435 \\u0432 \\u0434\\u0440\\u0443\\u0433\\u0438\\u0445 \\u044f\\u0437\\u044b\\u043a\\u0430\\u0445, \\u0442\\u0430\\u043a\\u0438\\u0445 \\u043a\\u0430\\u043a Haskell.\"\n        ],\n        \"semantic_type\": \"\",\n        \"description\": \"\"\n      }\n    }\n  ]\n}"
            }
          },
          "metadata": {},
          "execution_count": 11
        }
      ]
    },
    {
      "cell_type": "code",
      "source": [
        "courses['content'] = courses['question_2'] + ' ' + courses['question_3'] + ' ' + courses['question_4'] + ' ' + courses['question_5']"
      ],
      "metadata": {
        "id": "u1oR1bMYhDt9"
      },
      "execution_count": null,
      "outputs": []
    },
    {
      "cell_type": "code",
      "source": [
        "courses['Preprocessed_texts'] = courses.apply(lambda row: preprocess(row['content'], punctuation_marks, stop_words, morph), axis=1)"
      ],
      "metadata": {
        "id": "xESzC3x_JI4_"
      },
      "execution_count": null,
      "outputs": []
    },
    {
      "cell_type": "code",
      "source": [
        "courses"
      ],
      "metadata": {
        "id": "2ifHbDadJbCA"
      },
      "execution_count": null,
      "outputs": []
    },
    {
      "cell_type": "markdown",
      "source": [
        "## Обучение Word2Vec на отзывах на курсы"
      ],
      "metadata": {
        "id": "hrFJZ9rsJITw"
      }
    },
    {
      "cell_type": "code",
      "source": [
        "import gensim.models"
      ],
      "metadata": {
        "id": "rJ9GbO29Jkdq"
      },
      "execution_count": null,
      "outputs": []
    },
    {
      "cell_type": "code",
      "source": [
        "model = gensim.models.Word2Vec(sentences=courses['Preprocessed_texts'],\n",
        "                               min_count=5,\n",
        "                               vector_size=100)"
      ],
      "metadata": {
        "id": "Bk2Phyi1Jpn4"
      },
      "execution_count": null,
      "outputs": []
    },
    {
      "cell_type": "code",
      "source": [
        "model.wv['бухгалтер']"
      ],
      "metadata": {
        "id": "Iz8DGArxLCCK",
        "colab": {
          "base_uri": "https://localhost:8080/",
          "height": 287
        },
        "outputId": "035a3298-40a9-46af-880c-0a1957ce9995"
      },
      "execution_count": null,
      "outputs": [
        {
          "output_type": "error",
          "ename": "KeyError",
          "evalue": "\"Key 'бухгалтер' not present\"",
          "traceback": [
            "\u001b[0;31m---------------------------------------------------------------------------\u001b[0m",
            "\u001b[0;31mKeyError\u001b[0m                                  Traceback (most recent call last)",
            "\u001b[0;32m<ipython-input-18-1225cd750bef>\u001b[0m in \u001b[0;36m<cell line: 1>\u001b[0;34m()\u001b[0m\n\u001b[0;32m----> 1\u001b[0;31m \u001b[0mmodel\u001b[0m\u001b[0;34m.\u001b[0m\u001b[0mwv\u001b[0m\u001b[0;34m[\u001b[0m\u001b[0;34m'бухгалтер'\u001b[0m\u001b[0;34m]\u001b[0m\u001b[0;34m\u001b[0m\u001b[0;34m\u001b[0m\u001b[0m\n\u001b[0m",
            "\u001b[0;32m/usr/local/lib/python3.10/dist-packages/gensim/models/keyedvectors.py\u001b[0m in \u001b[0;36m__getitem__\u001b[0;34m(self, key_or_keys)\u001b[0m\n\u001b[1;32m    401\u001b[0m         \"\"\"\n\u001b[1;32m    402\u001b[0m         \u001b[0;32mif\u001b[0m \u001b[0misinstance\u001b[0m\u001b[0;34m(\u001b[0m\u001b[0mkey_or_keys\u001b[0m\u001b[0;34m,\u001b[0m \u001b[0m_KEY_TYPES\u001b[0m\u001b[0;34m)\u001b[0m\u001b[0;34m:\u001b[0m\u001b[0;34m\u001b[0m\u001b[0;34m\u001b[0m\u001b[0m\n\u001b[0;32m--> 403\u001b[0;31m             \u001b[0;32mreturn\u001b[0m \u001b[0mself\u001b[0m\u001b[0;34m.\u001b[0m\u001b[0mget_vector\u001b[0m\u001b[0;34m(\u001b[0m\u001b[0mkey_or_keys\u001b[0m\u001b[0;34m)\u001b[0m\u001b[0;34m\u001b[0m\u001b[0;34m\u001b[0m\u001b[0m\n\u001b[0m\u001b[1;32m    404\u001b[0m \u001b[0;34m\u001b[0m\u001b[0m\n\u001b[1;32m    405\u001b[0m         \u001b[0;32mreturn\u001b[0m \u001b[0mvstack\u001b[0m\u001b[0;34m(\u001b[0m\u001b[0;34m[\u001b[0m\u001b[0mself\u001b[0m\u001b[0;34m.\u001b[0m\u001b[0mget_vector\u001b[0m\u001b[0;34m(\u001b[0m\u001b[0mkey\u001b[0m\u001b[0;34m)\u001b[0m \u001b[0;32mfor\u001b[0m \u001b[0mkey\u001b[0m \u001b[0;32min\u001b[0m \u001b[0mkey_or_keys\u001b[0m\u001b[0;34m]\u001b[0m\u001b[0;34m)\u001b[0m\u001b[0;34m\u001b[0m\u001b[0;34m\u001b[0m\u001b[0m\n",
            "\u001b[0;32m/usr/local/lib/python3.10/dist-packages/gensim/models/keyedvectors.py\u001b[0m in \u001b[0;36mget_vector\u001b[0;34m(self, key, norm)\u001b[0m\n\u001b[1;32m    444\u001b[0m \u001b[0;34m\u001b[0m\u001b[0m\n\u001b[1;32m    445\u001b[0m         \"\"\"\n\u001b[0;32m--> 446\u001b[0;31m         \u001b[0mindex\u001b[0m \u001b[0;34m=\u001b[0m \u001b[0mself\u001b[0m\u001b[0;34m.\u001b[0m\u001b[0mget_index\u001b[0m\u001b[0;34m(\u001b[0m\u001b[0mkey\u001b[0m\u001b[0;34m)\u001b[0m\u001b[0;34m\u001b[0m\u001b[0;34m\u001b[0m\u001b[0m\n\u001b[0m\u001b[1;32m    447\u001b[0m         \u001b[0;32mif\u001b[0m \u001b[0mnorm\u001b[0m\u001b[0;34m:\u001b[0m\u001b[0;34m\u001b[0m\u001b[0;34m\u001b[0m\u001b[0m\n\u001b[1;32m    448\u001b[0m             \u001b[0mself\u001b[0m\u001b[0;34m.\u001b[0m\u001b[0mfill_norms\u001b[0m\u001b[0;34m(\u001b[0m\u001b[0;34m)\u001b[0m\u001b[0;34m\u001b[0m\u001b[0;34m\u001b[0m\u001b[0m\n",
            "\u001b[0;32m/usr/local/lib/python3.10/dist-packages/gensim/models/keyedvectors.py\u001b[0m in \u001b[0;36mget_index\u001b[0;34m(self, key, default)\u001b[0m\n\u001b[1;32m    418\u001b[0m             \u001b[0;32mreturn\u001b[0m \u001b[0mdefault\u001b[0m\u001b[0;34m\u001b[0m\u001b[0;34m\u001b[0m\u001b[0m\n\u001b[1;32m    419\u001b[0m         \u001b[0;32melse\u001b[0m\u001b[0;34m:\u001b[0m\u001b[0;34m\u001b[0m\u001b[0;34m\u001b[0m\u001b[0m\n\u001b[0;32m--> 420\u001b[0;31m             \u001b[0;32mraise\u001b[0m \u001b[0mKeyError\u001b[0m\u001b[0;34m(\u001b[0m\u001b[0;34mf\"Key '{key}' not present\"\u001b[0m\u001b[0;34m)\u001b[0m\u001b[0;34m\u001b[0m\u001b[0;34m\u001b[0m\u001b[0m\n\u001b[0m\u001b[1;32m    421\u001b[0m \u001b[0;34m\u001b[0m\u001b[0m\n\u001b[1;32m    422\u001b[0m     \u001b[0;32mdef\u001b[0m \u001b[0mget_vector\u001b[0m\u001b[0;34m(\u001b[0m\u001b[0mself\u001b[0m\u001b[0;34m,\u001b[0m \u001b[0mkey\u001b[0m\u001b[0;34m,\u001b[0m \u001b[0mnorm\u001b[0m\u001b[0;34m=\u001b[0m\u001b[0;32mFalse\u001b[0m\u001b[0;34m)\u001b[0m\u001b[0;34m:\u001b[0m\u001b[0;34m\u001b[0m\u001b[0;34m\u001b[0m\u001b[0m\n",
            "\u001b[0;31mKeyError\u001b[0m: \"Key 'бухгалтер' not present\""
          ]
        }
      ]
    },
    {
      "cell_type": "code",
      "source": [
        "model.wv['работать']"
      ],
      "metadata": {
        "id": "dUeMD8Q2K0EZ",
        "colab": {
          "base_uri": "https://localhost:8080/"
        },
        "outputId": "9af2a54d-f534-4dce-e5b2-f751c1e2aea0"
      },
      "execution_count": null,
      "outputs": [
        {
          "output_type": "execute_result",
          "data": {
            "text/plain": [
              "array([-0.29159513,  1.4937721 , -1.5982919 ,  1.9704882 , -0.01487374,\n",
              "       -0.14213839, -0.4209756 ,  1.9248255 ,  0.41783318,  0.09279018,\n",
              "       -1.4132107 , -0.7447813 , -0.58276737, -0.49766904, -1.2011428 ,\n",
              "       -2.1252525 , -1.2712185 , -0.29960227,  0.6625057 ,  1.1287917 ,\n",
              "        0.09601173, -0.8222414 , -0.5624147 , -0.03639146, -0.354266  ,\n",
              "        0.9916962 ,  0.88787174, -1.8533831 ,  0.2634939 , -0.42411014,\n",
              "        0.00614713,  2.147414  , -1.2315079 , -1.1937463 , -1.5068561 ,\n",
              "        1.7632549 ,  0.5716496 ,  1.2564847 ,  0.80061877, -0.25846145,\n",
              "       -0.12372904, -0.18002613, -0.68832344, -1.5524164 , -0.30044436,\n",
              "       -1.6374608 ,  0.29662517, -0.26623616, -0.28910467, -2.1078782 ,\n",
              "       -1.5695049 ,  0.9994995 , -1.6135156 , -0.8060039 ,  0.5225452 ,\n",
              "       -0.3585761 , -0.0690949 ,  0.43665782, -0.5680821 , -1.1906531 ,\n",
              "       -0.13558692,  2.05626   ,  0.5230661 , -2.1617653 , -0.5687941 ,\n",
              "       -0.5888757 , -0.24430574, -2.5485134 ,  0.9098222 ,  0.04479398,\n",
              "        1.8236659 , -0.2079146 , -1.3372453 , -1.6738251 ,  1.9642426 ,\n",
              "       -0.39439693, -2.1862574 , -0.49383748, -1.1797105 ,  1.9080261 ,\n",
              "        0.06016495, -2.0534637 , -1.3302841 ,  0.18294418,  1.2759525 ,\n",
              "       -0.00773174, -1.2565081 ,  0.3879934 ,  1.0952501 , -0.260565  ,\n",
              "        1.5459609 , -0.35344648,  1.118098  ,  0.06196515, -0.7705763 ,\n",
              "       -0.13740599,  1.3242927 , -0.56683195,  3.332238  , -2.096111  ],\n",
              "      dtype=float32)"
            ]
          },
          "metadata": {},
          "execution_count": 19
        }
      ]
    },
    {
      "cell_type": "code",
      "source": [
        "model.wv['замечательный']"
      ],
      "metadata": {
        "id": "7teZFAHemRip",
        "colab": {
          "base_uri": "https://localhost:8080/"
        },
        "outputId": "bca48b76-32d6-4962-d5d7-8399417825f2"
      },
      "execution_count": null,
      "outputs": [
        {
          "output_type": "execute_result",
          "data": {
            "text/plain": [
              "array([ 0.60710406,  0.39183268, -2.6602821 ,  0.15670039,  0.21299   ,\n",
              "        0.84227836,  1.08575   , -0.789597  , -0.6255664 , -0.21231358,\n",
              "       -0.5281301 , -0.3051672 ,  0.1843884 , -1.5180686 , -1.6074893 ,\n",
              "        0.2615614 ,  1.0321982 , -0.6354902 ,  0.250673  ,  0.744175  ,\n",
              "       -0.12600636, -0.05974419,  0.2501791 , -0.92645895,  0.07652204,\n",
              "       -0.6856795 , -0.4083035 ,  0.9056811 ,  0.10002383,  1.0808773 ,\n",
              "       -0.65793645,  0.68620396, -1.4416888 ,  1.2103709 , -0.5714271 ,\n",
              "       -0.03139848, -0.83141756,  0.52134657,  2.0689082 , -0.3316599 ,\n",
              "        0.89043826,  0.08161501,  0.5733655 , -0.7152247 , -1.0237815 ,\n",
              "        0.49980983, -0.1540966 , -1.4940556 ,  0.1251533 ,  0.2974921 ,\n",
              "       -1.1009033 , -1.2826418 ,  0.04852537,  0.75544953,  0.26666936,\n",
              "        0.882697  ,  0.05568907, -0.63441586,  1.4065695 ,  0.08821851,\n",
              "        0.33810535,  0.04503356,  0.76856995, -2.124968  , -0.37496874,\n",
              "       -0.51389146,  0.1778362 , -0.11810756, -0.6684031 , -0.7120711 ,\n",
              "        0.8081897 , -0.9650038 ,  0.21438475,  0.6284824 , -1.4934913 ,\n",
              "        0.52702963, -0.8203658 , -0.04823614,  0.05505454,  0.6965626 ,\n",
              "        3.2280812 , -0.23276567, -1.2728524 ,  1.1224045 , -0.43383366,\n",
              "       -0.62320405, -0.4335456 , -0.9276408 ,  0.28489223, -0.45820263,\n",
              "       -0.0730618 , -0.10808709, -0.7827197 ,  0.8522657 ,  0.11073095,\n",
              "       -1.4618237 , -0.99175876,  0.40623745, -1.0292538 , -0.74955267],\n",
              "      dtype=float32)"
            ]
          },
          "metadata": {},
          "execution_count": 20
        }
      ]
    },
    {
      "cell_type": "code",
      "source": [
        "model.wv.most_similar('замечательный')"
      ],
      "metadata": {
        "id": "8rxpdNHPLpIW",
        "colab": {
          "base_uri": "https://localhost:8080/"
        },
        "outputId": "e8aad66b-1e76-4f5d-aa5b-40510cdf63ce"
      },
      "execution_count": null,
      "outputs": [
        {
          "output_type": "execute_result",
          "data": {
            "text/plain": [
              "[('прекрасный', 0.8715837597846985),\n",
              " ('чудесный', 0.843593955039978),\n",
              " ('потрясать', 0.7912430763244629),\n",
              " ('великолепный', 0.770684003829956),\n",
              " ('отличный', 0.7338511943817139),\n",
              " ('шикарный', 0.7264212965965271),\n",
              " ('компетентный', 0.7150235772132874),\n",
              " ('молодой', 0.691044270992279),\n",
              " ('супер', 0.6854419112205505),\n",
              " ('классный', 0.6836981773376465)]"
            ]
          },
          "metadata": {},
          "execution_count": 21
        }
      ]
    },
    {
      "cell_type": "code",
      "source": [
        "model.wv.most_similar('стрессовый')"
      ],
      "metadata": {
        "id": "ZXbVAG00L3Qz",
        "colab": {
          "base_uri": "https://localhost:8080/"
        },
        "outputId": "d76742c1-1d1b-4312-83ba-718463365e3a"
      },
      "execution_count": null,
      "outputs": [
        {
          "output_type": "execute_result",
          "data": {
            "text/plain": [
              "[('слабенький', 0.8239932060241699),\n",
              " ('беглый', 0.7917324900627136),\n",
              " ('перфекционист', 0.788231611251831),\n",
              " ('засчитать', 0.7798177003860474),\n",
              " ('жёстко', 0.7748072147369385),\n",
              " ('значить', 0.7725996375083923),\n",
              " ('насущный', 0.7626070976257324),\n",
              " ('непреодолимый', 0.7574629187583923),\n",
              " ('поддаваться', 0.7572595477104187),\n",
              " ('подмечать', 0.7570160627365112)]"
            ]
          },
          "metadata": {},
          "execution_count": 22
        }
      ]
    },
    {
      "cell_type": "markdown",
      "source": [
        "## Сохранение обученной модели"
      ],
      "metadata": {
        "id": "_AZhtI2_MQr9"
      }
    },
    {
      "cell_type": "code",
      "source": [
        "model.save('word2vec-obrazoval.ru-50')"
      ],
      "metadata": {
        "id": "1vIqrI9NMTnN"
      },
      "execution_count": null,
      "outputs": []
    },
    {
      "cell_type": "code",
      "source": [
        "!ls -lh"
      ],
      "metadata": {
        "id": "GBReJc3EOYkY",
        "colab": {
          "base_uri": "https://localhost:8080/"
        },
        "outputId": "993156c3-eed3-40e6-d1b8-a0a60c2ddbc1"
      },
      "execution_count": null,
      "outputs": [
        {
          "output_type": "stream",
          "name": "stdout",
          "text": [
            "total 78M\n",
            "-rw-r--r-- 1 root root  41M Apr 25 07:56 dataset.csv\n",
            "-rw-r--r-- 1 root root  15M Apr 25 06:43 reviews.csv\n",
            "drwxr-xr-x 1 root root 4.0K Apr 25 13:25 sample_data\n",
            "-rw-r--r-- 1 root root 1.5K Apr 28 04:16 sample_submission.csv\n",
            "-rw-r--r-- 1 root root  49K Apr 28 04:16 train_data.csv\n",
            "-rw-r--r-- 1 root root  12M Apr 28 04:27 word2vec-obrazoval.ru-50\n",
            "-rw-r--r-- 1 root root  12M Apr 28 04:17 word2vec_pipeline.pkl\n"
          ]
        }
      ]
    },
    {
      "cell_type": "markdown",
      "source": [
        "## Загрузка сохраненной модели"
      ],
      "metadata": {
        "id": "Zv8BLVNXOWeR"
      }
    },
    {
      "cell_type": "code",
      "source": [
        "new_model = gensim.models.Word2Vec.load('word2vec-obrazoval.ru-50')"
      ],
      "metadata": {
        "id": "RO5IbTE4OV28"
      },
      "execution_count": null,
      "outputs": []
    },
    {
      "cell_type": "code",
      "source": [
        "new_model.wv['работать']"
      ],
      "metadata": {
        "id": "-wcPbHQ9Opb3",
        "colab": {
          "base_uri": "https://localhost:8080/"
        },
        "outputId": "9885e163-fe73-436f-b2f9-fc909f79c7b7"
      },
      "execution_count": null,
      "outputs": [
        {
          "output_type": "execute_result",
          "data": {
            "text/plain": [
              "array([-0.29159513,  1.4937721 , -1.5982919 ,  1.9704882 , -0.01487374,\n",
              "       -0.14213839, -0.4209756 ,  1.9248255 ,  0.41783318,  0.09279018,\n",
              "       -1.4132107 , -0.7447813 , -0.58276737, -0.49766904, -1.2011428 ,\n",
              "       -2.1252525 , -1.2712185 , -0.29960227,  0.6625057 ,  1.1287917 ,\n",
              "        0.09601173, -0.8222414 , -0.5624147 , -0.03639146, -0.354266  ,\n",
              "        0.9916962 ,  0.88787174, -1.8533831 ,  0.2634939 , -0.42411014,\n",
              "        0.00614713,  2.147414  , -1.2315079 , -1.1937463 , -1.5068561 ,\n",
              "        1.7632549 ,  0.5716496 ,  1.2564847 ,  0.80061877, -0.25846145,\n",
              "       -0.12372904, -0.18002613, -0.68832344, -1.5524164 , -0.30044436,\n",
              "       -1.6374608 ,  0.29662517, -0.26623616, -0.28910467, -2.1078782 ,\n",
              "       -1.5695049 ,  0.9994995 , -1.6135156 , -0.8060039 ,  0.5225452 ,\n",
              "       -0.3585761 , -0.0690949 ,  0.43665782, -0.5680821 , -1.1906531 ,\n",
              "       -0.13558692,  2.05626   ,  0.5230661 , -2.1617653 , -0.5687941 ,\n",
              "       -0.5888757 , -0.24430574, -2.5485134 ,  0.9098222 ,  0.04479398,\n",
              "        1.8236659 , -0.2079146 , -1.3372453 , -1.6738251 ,  1.9642426 ,\n",
              "       -0.39439693, -2.1862574 , -0.49383748, -1.1797105 ,  1.9080261 ,\n",
              "        0.06016495, -2.0534637 , -1.3302841 ,  0.18294418,  1.2759525 ,\n",
              "       -0.00773174, -1.2565081 ,  0.3879934 ,  1.0952501 , -0.260565  ,\n",
              "        1.5459609 , -0.35344648,  1.118098  ,  0.06196515, -0.7705763 ,\n",
              "       -0.13740599,  1.3242927 , -0.56683195,  3.332238  , -2.096111  ],\n",
              "      dtype=float32)"
            ]
          },
          "metadata": {},
          "execution_count": 26
        }
      ]
    },
    {
      "cell_type": "markdown",
      "source": [
        "## Полезные ссылки\n",
        "\n",
        "1. [Библиотека Gensim](https://radimrehurek.com/gensim/index.html).\n",
        "2. [Word2Vec в Gensim](https://radimrehurek.com/gensim/auto_examples/tutorials/run_word2vec.html).\n"
      ],
      "metadata": {
        "id": "agjDpcaV0dUf"
      }
    },
    {
      "cell_type": "markdown",
      "source": [
        "# Логистическая регрессия"
      ],
      "metadata": {
        "id": "DHYOMkWMKaWV"
      }
    },
    {
      "cell_type": "code",
      "source": [
        "!wget https://huggingface.co/datasets/C0uchP0tat0/courses_sravni_ru/resolve/main/dataset.csv -O reviews.csv"
      ],
      "metadata": {
        "colab": {
          "base_uri": "https://localhost:8080/"
        },
        "id": "VYmuOfhjdPHp",
        "outputId": "0ab87292-49a4-47cf-8b8c-a0608ccca1e7"
      },
      "execution_count": null,
      "outputs": [
        {
          "output_type": "stream",
          "name": "stdout",
          "text": [
            "--2024-04-26 06:48:29--  https://huggingface.co/datasets/C0uchP0tat0/courses_sravni_ru/resolve/main/dataset.csv\n",
            "Resolving huggingface.co (huggingface.co)... 65.8.243.16, 65.8.243.90, 65.8.243.92, ...\n",
            "Connecting to huggingface.co (huggingface.co)|65.8.243.16|:443... connected.\n",
            "HTTP request sent, awaiting response... 302 Found\n",
            "Location: https://cdn-lfs-us-1.huggingface.co/repos/e9/a2/e9a241e4099b8361fb6be16dd66c1146a8b8d9805e7fcfef45c7e71d3aee5d80/4d78714bc987232e514f3c87fd37a71fc0187a5d303b13f5a19ee3c9326031f5?response-content-disposition=attachment%3B+filename*%3DUTF-8%27%27dataset.csv%3B+filename%3D%22dataset.csv%22%3B&response-content-type=text%2Fcsv&Expires=1714373309&Policy=eyJTdGF0ZW1lbnQiOlt7IkNvbmRpdGlvbiI6eyJEYXRlTGVzc1RoYW4iOnsiQVdTOkVwb2NoVGltZSI6MTcxNDM3MzMwOX19LCJSZXNvdXJjZSI6Imh0dHBzOi8vY2RuLWxmcy11cy0xLmh1Z2dpbmdmYWNlLmNvL3JlcG9zL2U5L2EyL2U5YTI0MWU0MDk5YjgzNjFmYjZiZTE2ZGQ2NmMxMTQ2YThiOGQ5ODA1ZTdmY2ZlZjQ1YzdlNzFkM2FlZTVkODAvNGQ3ODcxNGJjOTg3MjMyZTUxNGYzYzg3ZmQzN2E3MWZjMDE4N2E1ZDMwM2IxM2Y1YTE5ZWUzYzkzMjYwMzFmNT9yZXNwb25zZS1jb250ZW50LWRpc3Bvc2l0aW9uPSomcmVzcG9uc2UtY29udGVudC10eXBlPSoifV19&Signature=jCFJCMXmiwoaJuoKwOQw7MQ1rNky9dJnr6mpGmD%7EV-A5KUUcQW5RQ0RxXPugemHP%7EwSTuFRulJcy0f0FnBsLUq-h3tojidRy-NWv-n7OXfFS-B9yxAfqhCWYnkW%7EUWrQop9qIzBkcYgTsJ8zaw06ScYlcBwHVvMzrEhL8BWACRYfdcDDXZnVWnpFCSV9ytcJVo61zSoCbpBNwciMKjrUh2%7ELXqI0qBeQrL6ICvLCoLtih9%7E3a3HvrPPWACJ-uslKmJWFcR4YsZqm4vGY0cF-LGDkTMIsuvGwcljIX9Kz9LImr-xMgB8QEdRTqbAFhz1oezbJrcgCNIQxVvnmQR3hQw__&Key-Pair-Id=KCD77M1F0VK2B [following]\n",
            "--2024-04-26 06:48:29--  https://cdn-lfs-us-1.huggingface.co/repos/e9/a2/e9a241e4099b8361fb6be16dd66c1146a8b8d9805e7fcfef45c7e71d3aee5d80/4d78714bc987232e514f3c87fd37a71fc0187a5d303b13f5a19ee3c9326031f5?response-content-disposition=attachment%3B+filename*%3DUTF-8%27%27dataset.csv%3B+filename%3D%22dataset.csv%22%3B&response-content-type=text%2Fcsv&Expires=1714373309&Policy=eyJTdGF0ZW1lbnQiOlt7IkNvbmRpdGlvbiI6eyJEYXRlTGVzc1RoYW4iOnsiQVdTOkVwb2NoVGltZSI6MTcxNDM3MzMwOX19LCJSZXNvdXJjZSI6Imh0dHBzOi8vY2RuLWxmcy11cy0xLmh1Z2dpbmdmYWNlLmNvL3JlcG9zL2U5L2EyL2U5YTI0MWU0MDk5YjgzNjFmYjZiZTE2ZGQ2NmMxMTQ2YThiOGQ5ODA1ZTdmY2ZlZjQ1YzdlNzFkM2FlZTVkODAvNGQ3ODcxNGJjOTg3MjMyZTUxNGYzYzg3ZmQzN2E3MWZjMDE4N2E1ZDMwM2IxM2Y1YTE5ZWUzYzkzMjYwMzFmNT9yZXNwb25zZS1jb250ZW50LWRpc3Bvc2l0aW9uPSomcmVzcG9uc2UtY29udGVudC10eXBlPSoifV19&Signature=jCFJCMXmiwoaJuoKwOQw7MQ1rNky9dJnr6mpGmD%7EV-A5KUUcQW5RQ0RxXPugemHP%7EwSTuFRulJcy0f0FnBsLUq-h3tojidRy-NWv-n7OXfFS-B9yxAfqhCWYnkW%7EUWrQop9qIzBkcYgTsJ8zaw06ScYlcBwHVvMzrEhL8BWACRYfdcDDXZnVWnpFCSV9ytcJVo61zSoCbpBNwciMKjrUh2%7ELXqI0qBeQrL6ICvLCoLtih9%7E3a3HvrPPWACJ-uslKmJWFcR4YsZqm4vGY0cF-LGDkTMIsuvGwcljIX9Kz9LImr-xMgB8QEdRTqbAFhz1oezbJrcgCNIQxVvnmQR3hQw__&Key-Pair-Id=KCD77M1F0VK2B\n",
            "Resolving cdn-lfs-us-1.huggingface.co (cdn-lfs-us-1.huggingface.co)... 18.160.143.89, 18.160.143.73, 18.160.143.116, ...\n",
            "Connecting to cdn-lfs-us-1.huggingface.co (cdn-lfs-us-1.huggingface.co)|18.160.143.89|:443... connected.\n",
            "HTTP request sent, awaiting response... 200 OK\n",
            "Length: 14703555 (14M) [text/csv]\n",
            "Saving to: ‘reviews.csv’\n",
            "\n",
            "reviews.csv         100%[===================>]  14.02M  52.8MB/s    in 0.3s    \n",
            "\n",
            "2024-04-26 06:48:29 (52.8 MB/s) - ‘reviews.csv’ saved [14703555/14703555]\n",
            "\n"
          ]
        }
      ]
    },
    {
      "cell_type": "code",
      "source": [
        "# !wget https://huggingface.co/datasets/C0uchP0tat0/courses_obrazoval_ru/resolve/main/reviews.csv -O reviews.csv"
      ],
      "metadata": {
        "id": "PzFzY2qcDXpr"
      },
      "execution_count": null,
      "outputs": []
    },
    {
      "cell_type": "code",
      "source": [
        "import pandas as pd\n",
        "import numpy as np\n",
        "from gensim.models import Word2Vec\n",
        "from sklearn.linear_model import LogisticRegression\n",
        "from sklearn.pipeline import Pipeline\n",
        "from sklearn.model_selection import train_test_split\n",
        "from sklearn.metrics import accuracy_score\n",
        "from sklearn.preprocessing import FunctionTransformer\n",
        "import pymorphy2\n",
        "import nltk\n",
        "from nltk.tokenize import word_tokenize\n",
        "from nltk.corpus import stopwords\n",
        "\n",
        "nltk.download('punkt')\n",
        "nltk.download('stopwords')\n",
        "\n",
        "# Загрузка предварительно обученной модели word2vec\n",
        "model = Word2Vec.load(\"word2vec-obrazoval.ru-50\")\n",
        "\n",
        "# Загрузка данных\n",
        "data = pd.read_csv(\"/content/test_data.csv\")\n",
        "data['content'] = data['question_1'] + ' ' + data['question_2'] + ' ' + data['question_3'] + ' ' + data['question_4'] + ' ' + data['question_5']\n",
        "\n",
        "# Предобработка текста\n",
        "def preprocess(text, stop_words, punctuation_marks, morph):\n",
        "    tokens = word_tokenize(text.lower())\n",
        "    preprocessed_text = []\n",
        "    for token in tokens:\n",
        "        if token not in punctuation_marks:\n",
        "            lemma = morph.parse(token)[0].normal_form\n",
        "            if lemma not in stop_words:\n",
        "                preprocessed_text.append(lemma)\n",
        "    return \" \".join(preprocessed_text)\n",
        "\n",
        "punctuation_marks = ['!', ',', '(', ')', ':', '-', '?', '.', '..', '...']\n",
        "stop_words = stopwords.words(\"russian\")\n",
        "morph = pymorphy2.MorphAnalyzer()\n",
        "\n",
        "try:\n",
        "    # для датасета СРАВНИ РУ https://huggingface.co/datasets/C0uchP0tat0/courses_sravni_ru\n",
        "    data['content'] = data['text'].apply(lambda x: preprocess(x, stop_words, punctuation_marks, morph))\n",
        "except KeyError:\n",
        "    # для датасета ОБРАЗОВАЛ РУ https://huggingface.co/datasets/C0uchP0tat0/courses_obrazoval_ru\n",
        "    data['content'] = data['content'].apply(lambda x: preprocess(x, stop_words, punctuation_marks, morph))\n",
        "\n",
        "# Разделение на признаки и метки\n",
        "X = data['content']\n",
        "y = data['label']\n",
        "\n",
        "# Разделение на обучающий и тестовый наборы\n",
        "X_train, X_test, y_train, y_test = train_test_split(X, y, test_size=0.2, random_state=42)\n",
        "\n",
        "# Функция для преобразования текста в векторы с использованием word2vec\n",
        "def word_averaging(words, model):\n",
        "    all_words, mean = set(), []\n",
        "\n",
        "    for word in words:\n",
        "        if word in model.wv.key_to_index:\n",
        "            mean.append(model.wv.get_vector(word))\n",
        "            all_words.add(model.wv.key_to_index[word])\n",
        "\n",
        "    if not mean:\n",
        "        return np.zeros(model.vector_size,)\n",
        "\n",
        "    mean = np.array(mean).mean(axis=0)\n",
        "    return mean\n",
        "\n",
        "def word_vectorizer(X, model):\n",
        "    return np.array([word_averaging(words.split(), model) for words in X])\n",
        "\n",
        "# Создание pipeline\n",
        "w2v_pipeline = Pipeline([\n",
        "    (\"word_vectorizer\", FunctionTransformer(word_vectorizer, kw_args={\"model\": model})),\n",
        "    (\"clf\", LogisticRegression())\n",
        "])\n",
        "\n",
        "# Обучение модели и оценка ее точности\n",
        "w2v_pipeline.fit(X_train, y_train)\n",
        "y_pred = w2v_pipeline.predict(X_test)\n",
        "accuracy = accuracy_score(y_test, y_pred)\n",
        "print(\"Accuracy:\", accuracy)\n"
      ],
      "metadata": {
        "colab": {
          "base_uri": "https://localhost:8080/",
          "height": 547
        },
        "id": "Nc3__m0Wj9Wc",
        "outputId": "65d03afe-148b-4f04-bb5c-e195e374c020"
      },
      "execution_count": null,
      "outputs": [
        {
          "output_type": "stream",
          "name": "stderr",
          "text": [
            "[nltk_data] Downloading package punkt to /root/nltk_data...\n",
            "[nltk_data]   Package punkt is already up-to-date!\n",
            "[nltk_data] Downloading package stopwords to /root/nltk_data...\n",
            "[nltk_data]   Package stopwords is already up-to-date!\n"
          ]
        },
        {
          "output_type": "error",
          "ename": "KeyError",
          "evalue": "'label'",
          "traceback": [
            "\u001b[0;31m---------------------------------------------------------------------------\u001b[0m",
            "\u001b[0;31mKeyError\u001b[0m                                  Traceback (most recent call last)",
            "\u001b[0;32m/usr/local/lib/python3.10/dist-packages/pandas/core/indexes/base.py\u001b[0m in \u001b[0;36mget_loc\u001b[0;34m(self, key)\u001b[0m\n\u001b[1;32m   3652\u001b[0m         \u001b[0;32mtry\u001b[0m\u001b[0;34m:\u001b[0m\u001b[0;34m\u001b[0m\u001b[0;34m\u001b[0m\u001b[0m\n\u001b[0;32m-> 3653\u001b[0;31m             \u001b[0;32mreturn\u001b[0m \u001b[0mself\u001b[0m\u001b[0;34m.\u001b[0m\u001b[0m_engine\u001b[0m\u001b[0;34m.\u001b[0m\u001b[0mget_loc\u001b[0m\u001b[0;34m(\u001b[0m\u001b[0mcasted_key\u001b[0m\u001b[0;34m)\u001b[0m\u001b[0;34m\u001b[0m\u001b[0;34m\u001b[0m\u001b[0m\n\u001b[0m\u001b[1;32m   3654\u001b[0m         \u001b[0;32mexcept\u001b[0m \u001b[0mKeyError\u001b[0m \u001b[0;32mas\u001b[0m \u001b[0merr\u001b[0m\u001b[0;34m:\u001b[0m\u001b[0;34m\u001b[0m\u001b[0;34m\u001b[0m\u001b[0m\n",
            "\u001b[0;32m/usr/local/lib/python3.10/dist-packages/pandas/_libs/index.pyx\u001b[0m in \u001b[0;36mpandas._libs.index.IndexEngine.get_loc\u001b[0;34m()\u001b[0m\n",
            "\u001b[0;32m/usr/local/lib/python3.10/dist-packages/pandas/_libs/index.pyx\u001b[0m in \u001b[0;36mpandas._libs.index.IndexEngine.get_loc\u001b[0;34m()\u001b[0m\n",
            "\u001b[0;32mpandas/_libs/hashtable_class_helper.pxi\u001b[0m in \u001b[0;36mpandas._libs.hashtable.PyObjectHashTable.get_item\u001b[0;34m()\u001b[0m\n",
            "\u001b[0;32mpandas/_libs/hashtable_class_helper.pxi\u001b[0m in \u001b[0;36mpandas._libs.hashtable.PyObjectHashTable.get_item\u001b[0;34m()\u001b[0m\n",
            "\u001b[0;31mKeyError\u001b[0m: 'label'",
            "\nThe above exception was the direct cause of the following exception:\n",
            "\u001b[0;31mKeyError\u001b[0m                                  Traceback (most recent call last)",
            "\u001b[0;32m<ipython-input-6-d93c891a7c6d>\u001b[0m in \u001b[0;36m<cell line: 48>\u001b[0;34m()\u001b[0m\n\u001b[1;32m     46\u001b[0m \u001b[0;31m# Разделение на признаки и метки\u001b[0m\u001b[0;34m\u001b[0m\u001b[0;34m\u001b[0m\u001b[0m\n\u001b[1;32m     47\u001b[0m \u001b[0mX\u001b[0m \u001b[0;34m=\u001b[0m \u001b[0mdata\u001b[0m\u001b[0;34m[\u001b[0m\u001b[0;34m'content'\u001b[0m\u001b[0;34m]\u001b[0m\u001b[0;34m\u001b[0m\u001b[0;34m\u001b[0m\u001b[0m\n\u001b[0;32m---> 48\u001b[0;31m \u001b[0my\u001b[0m \u001b[0;34m=\u001b[0m \u001b[0mdata\u001b[0m\u001b[0;34m[\u001b[0m\u001b[0;34m'label'\u001b[0m\u001b[0;34m]\u001b[0m\u001b[0;34m\u001b[0m\u001b[0;34m\u001b[0m\u001b[0m\n\u001b[0m\u001b[1;32m     49\u001b[0m \u001b[0;34m\u001b[0m\u001b[0m\n\u001b[1;32m     50\u001b[0m \u001b[0;31m# Разделение на обучающий и тестовый наборы\u001b[0m\u001b[0;34m\u001b[0m\u001b[0;34m\u001b[0m\u001b[0m\n",
            "\u001b[0;32m/usr/local/lib/python3.10/dist-packages/pandas/core/frame.py\u001b[0m in \u001b[0;36m__getitem__\u001b[0;34m(self, key)\u001b[0m\n\u001b[1;32m   3759\u001b[0m             \u001b[0;32mif\u001b[0m \u001b[0mself\u001b[0m\u001b[0;34m.\u001b[0m\u001b[0mcolumns\u001b[0m\u001b[0;34m.\u001b[0m\u001b[0mnlevels\u001b[0m \u001b[0;34m>\u001b[0m \u001b[0;36m1\u001b[0m\u001b[0;34m:\u001b[0m\u001b[0;34m\u001b[0m\u001b[0;34m\u001b[0m\u001b[0m\n\u001b[1;32m   3760\u001b[0m                 \u001b[0;32mreturn\u001b[0m \u001b[0mself\u001b[0m\u001b[0;34m.\u001b[0m\u001b[0m_getitem_multilevel\u001b[0m\u001b[0;34m(\u001b[0m\u001b[0mkey\u001b[0m\u001b[0;34m)\u001b[0m\u001b[0;34m\u001b[0m\u001b[0;34m\u001b[0m\u001b[0m\n\u001b[0;32m-> 3761\u001b[0;31m             \u001b[0mindexer\u001b[0m \u001b[0;34m=\u001b[0m \u001b[0mself\u001b[0m\u001b[0;34m.\u001b[0m\u001b[0mcolumns\u001b[0m\u001b[0;34m.\u001b[0m\u001b[0mget_loc\u001b[0m\u001b[0;34m(\u001b[0m\u001b[0mkey\u001b[0m\u001b[0;34m)\u001b[0m\u001b[0;34m\u001b[0m\u001b[0;34m\u001b[0m\u001b[0m\n\u001b[0m\u001b[1;32m   3762\u001b[0m             \u001b[0;32mif\u001b[0m \u001b[0mis_integer\u001b[0m\u001b[0;34m(\u001b[0m\u001b[0mindexer\u001b[0m\u001b[0;34m)\u001b[0m\u001b[0;34m:\u001b[0m\u001b[0;34m\u001b[0m\u001b[0;34m\u001b[0m\u001b[0m\n\u001b[1;32m   3763\u001b[0m                 \u001b[0mindexer\u001b[0m \u001b[0;34m=\u001b[0m \u001b[0;34m[\u001b[0m\u001b[0mindexer\u001b[0m\u001b[0;34m]\u001b[0m\u001b[0;34m\u001b[0m\u001b[0;34m\u001b[0m\u001b[0m\n",
            "\u001b[0;32m/usr/local/lib/python3.10/dist-packages/pandas/core/indexes/base.py\u001b[0m in \u001b[0;36mget_loc\u001b[0;34m(self, key)\u001b[0m\n\u001b[1;32m   3653\u001b[0m             \u001b[0;32mreturn\u001b[0m \u001b[0mself\u001b[0m\u001b[0;34m.\u001b[0m\u001b[0m_engine\u001b[0m\u001b[0;34m.\u001b[0m\u001b[0mget_loc\u001b[0m\u001b[0;34m(\u001b[0m\u001b[0mcasted_key\u001b[0m\u001b[0;34m)\u001b[0m\u001b[0;34m\u001b[0m\u001b[0;34m\u001b[0m\u001b[0m\n\u001b[1;32m   3654\u001b[0m         \u001b[0;32mexcept\u001b[0m \u001b[0mKeyError\u001b[0m \u001b[0;32mas\u001b[0m \u001b[0merr\u001b[0m\u001b[0;34m:\u001b[0m\u001b[0;34m\u001b[0m\u001b[0;34m\u001b[0m\u001b[0m\n\u001b[0;32m-> 3655\u001b[0;31m             \u001b[0;32mraise\u001b[0m \u001b[0mKeyError\u001b[0m\u001b[0;34m(\u001b[0m\u001b[0mkey\u001b[0m\u001b[0;34m)\u001b[0m \u001b[0;32mfrom\u001b[0m \u001b[0merr\u001b[0m\u001b[0;34m\u001b[0m\u001b[0;34m\u001b[0m\u001b[0m\n\u001b[0m\u001b[1;32m   3656\u001b[0m         \u001b[0;32mexcept\u001b[0m \u001b[0mTypeError\u001b[0m\u001b[0;34m:\u001b[0m\u001b[0;34m\u001b[0m\u001b[0;34m\u001b[0m\u001b[0m\n\u001b[1;32m   3657\u001b[0m             \u001b[0;31m# If we have a listlike key, _check_indexing_error will raise\u001b[0m\u001b[0;34m\u001b[0m\u001b[0;34m\u001b[0m\u001b[0m\n",
            "\u001b[0;31mKeyError\u001b[0m: 'label'"
          ]
        }
      ]
    },
    {
      "cell_type": "code",
      "source": [
        "text = \"\"\"Брал кредит в Мегабанке на автомобиль. Выдали за один день. Никаких скрытых комиссий и переплат.\n",
        "У банка удобное мобильное приложение, через которое можно быстро отправить ежемесячный платеж.\n",
        "Досрочное гасить начал через три месяца. Я доволен оперативностью и удобством. Огромное спасибо!\n",
        "\"\"\"\n",
        "preprocessed_text = preprocess(text, stop_words, punctuation_marks, morph)\n",
        "predicted_label = w2v_pipeline.predict([preprocessed_text])[0]\n",
        "print(\"Predicted label:\", predicted_label)"
      ],
      "metadata": {
        "colab": {
          "base_uri": "https://localhost:8080/"
        },
        "id": "UuuSyJEFoddh",
        "outputId": "69320547-38d4-4b30-a028-591b77eac39c"
      },
      "execution_count": null,
      "outputs": [
        {
          "output_type": "stream",
          "name": "stdout",
          "text": [
            "Predicted label: positive\n"
          ]
        }
      ]
    },
    {
      "cell_type": "code",
      "source": [
        "text = \"\"\"Взял кредит в ТакСебеБанке на автомобиль. В договор включили обязательный контракт\n",
        "на помощь на дороге, который мне не нужен. Узнал об этом только во время подписания договора, иначе бы отказался.\n",
        "Альтернативы была страхование жизни, но мне это даже не предложили. Скорее всего, менеджер продвигает\n",
        "продажи услуг этой компании в ущерб интересов клиента. Как минимум, непорядочно и непрофессионально.\n",
        "У банка ужасное мобильное приложение, из-за которого с меня взяли штраф 10 тыс.руб. По требованиям\n",
        "банка после покупки автомобиля в приложении нужно загрузить ПТС. Я загрузил и проверил, что ПТС в приложении есть.\n",
        "Но через некоторое время ПТС из приложения пропал и с меня взяли штраф. Никому не рекомендую связываться с ТакСебеБанком.\n",
        "\"\"\"\n",
        "preprocessed_text = preprocess(text, stop_words, punctuation_marks, morph)\n",
        "predicted_label = w2v_pipeline.predict([preprocessed_text])[0]\n",
        "print(\"Predicted label:\", predicted_label)"
      ],
      "metadata": {
        "colab": {
          "base_uri": "https://localhost:8080/"
        },
        "id": "bTJ5ynQBofGF",
        "outputId": "bdeb298a-87a0-49ae-cdcc-2eaa8a5859f9"
      },
      "execution_count": null,
      "outputs": [
        {
          "output_type": "stream",
          "name": "stdout",
          "text": [
            "Predicted label: negative\n"
          ]
        }
      ]
    },
    {
      "cell_type": "code",
      "source": [
        "mappingId2Label = {0:'negative', 1:'positive'}"
      ],
      "metadata": {
        "id": "y8HBowUqJO7_"
      },
      "execution_count": null,
      "outputs": []
    },
    {
      "cell_type": "code",
      "source": [
        "test_data = pd.DataFrame({\n",
        "    \"text\": [\n",
        "        \"Этот курс был удивительным! Я много узнал и преподаватель был очень компетентным.\",\n",
        "        \"Содержание курса было несвязанным и плохо объяснено.\",\n",
        "        \"Я ничего не понял в этом курсе. Потеря времени и денег.\",\n",
        "        \"Материал курса был хорошо структурирован и легко воспринимался.\",\n",
        "        \"Преподаватель казался неинтересным и не предоставлял много руководства.\",\n",
        "        \"Отличный курс! Очень рекомендую его всем, кто хочет учиться.\",\n",
        "        \"Курс был запутанным и не соответствовал моим ожиданиям.\",\n",
        "        \"Я нашел этот курс очень информативным и полезным для своей карьеры.\",\n",
        "        \"Курс был полным временем. Я ничего нового не узнал.\",\n",
        "        \"Преподаватель был заинтересованным и сделал материал легким для понимания.\",\n",
        "        \"Каки каки каки каки\"\n",
        "    ],\n",
        "    \"label\": [1, 0, 0, 1, 0, 1, 0, 1, 0, 1, 0]\n",
        "})"
      ],
      "metadata": {
        "id": "glI1wyPz9rDz"
      },
      "execution_count": null,
      "outputs": []
    },
    {
      "cell_type": "code",
      "source": [
        "for r in zip(test_data[\"text\"], test_data[\"label\"]):\n",
        "    preprocessed_text = preprocess(r[0], stop_words, punctuation_marks, morph)\n",
        "    predicted_label = w2v_pipeline.predict([preprocessed_text])[0]\n",
        "    print(\"Predicted label:\", predicted_label, mappingId2Label[r[1]])"
      ],
      "metadata": {
        "id": "gp_EmlRUo2SD",
        "colab": {
          "base_uri": "https://localhost:8080/"
        },
        "outputId": "13aa556f-cdd7-4ec9-8fa8-7bdea561c355"
      },
      "execution_count": null,
      "outputs": [
        {
          "output_type": "stream",
          "name": "stdout",
          "text": [
            "Predicted label: positive positive\n",
            "Predicted label: negative negative\n",
            "Predicted label: negative negative\n",
            "Predicted label: positive positive\n",
            "Predicted label: positive negative\n",
            "Predicted label: positive positive\n",
            "Predicted label: negative negative\n",
            "Predicted label: positive positive\n",
            "Predicted label: positive negative\n",
            "Predicted label: positive positive\n",
            "Predicted label: negative negative\n"
          ]
        }
      ]
    },
    {
      "cell_type": "code",
      "source": [
        "from sklearn.metrics import f1_score\n",
        "\n",
        "# Предобработка текста\n",
        "test_data['content'] = test_data['text'].apply(lambda x: preprocess(x, stop_words, punctuation_marks, morph))\n",
        "\n",
        "# Предсказание меток для тестовых данных\n",
        "y_true = test_data['label']\n",
        "y_pred = w2v_pipeline.predict(test_data['content'])\n",
        "\n",
        "# Преобразование предсказанных меток в числовой формат\n",
        "y_pred = [1 if label == 'positive' else 0 for label in y_pred]\n",
        "\n",
        "# Оценка F1-меры\n",
        "f1 = f1_score(y_true, y_pred)\n",
        "print(\"F1-мера на тестовых данных:\", f1)"
      ],
      "metadata": {
        "colab": {
          "base_uri": "https://localhost:8080/"
        },
        "id": "rfzGDMreTwVm",
        "outputId": "d1c298a6-4379-4d77-fd37-d753262c8383"
      },
      "execution_count": null,
      "outputs": [
        {
          "output_type": "stream",
          "name": "stdout",
          "text": [
            "F1-мера на тестовых данных: 0.8333333333333333\n"
          ]
        }
      ]
    },
    {
      "cell_type": "code",
      "source": [
        "# Предсказание вероятностей классов для тестовых данных\n",
        "probabilities = w2v_pipeline.predict_proba(X_test)\n",
        "\n",
        "# Отсортировать индексы отзывов по вероятностям позитивного класса\n",
        "sorted_positive_indices = np.argsort(probabilities[:, 1])[::-1]\n",
        "\n",
        "# Отсортировать индексы отзывов по вероятностям негативного класса\n",
        "sorted_negative_indices = np.argsort(probabilities[:, 0])[::-1]\n",
        "\n",
        "most_positive_reviews = X_test.iloc[sorted_positive_indices[:50]]\n",
        "most_negative_reviews = X_test.iloc[sorted_negative_indices[:50]]\n",
        "\n",
        "most_positive = []\n",
        "most_negative = []\n",
        "\n",
        "# Вывести 50 самых позитивных отзывов\n",
        "print(\"Самые позитивные отзывы:\")\n",
        "for i, review in enumerate(most_positive_reviews):\n",
        "    most_positive.append(data[\"text\"][most_positive_reviews.index[i]])\n",
        "    print(f\"Отзыв #{i+1}, индекс строки: {most_positive_reviews.index[i]}\")\n",
        "    print(review)\n",
        "    print()\n",
        "\n",
        "# Вывести 50 самых негативных отзывов\n",
        "print(\"Самые негативные отзывы:\")\n",
        "for i, review in enumerate(most_negative_reviews):\n",
        "    most_negative.append(data[\"text\"][most_negative_reviews.index[i]])\n",
        "    print(f\"Отзыв #{i+1}, индекс строки: {most_negative_reviews.index[i]}\")\n",
        "    print(review)\n",
        "    print()"
      ],
      "metadata": {
        "id": "4GkHQxpPnFhu"
      },
      "execution_count": null,
      "outputs": []
    },
    {
      "cell_type": "code",
      "source": [
        "import gensim\n",
        "from gensim import corpora\n",
        "\n",
        "# Создание словаря\n",
        "dictionary = corpora.Dictionary(most_positive_reviews.apply(lambda x: x.split()))\n",
        "\n",
        "# Преобразование текста в мешок слов\n",
        "corpus = [dictionary.doc2bow(text.split()) for text in most_positive_reviews]\n",
        "\n",
        "# Обучение модели LDA\n",
        "lda_model = gensim.models.ldamodel.LdaModel(corpus=corpus,\n",
        "                                            id2word=dictionary,\n",
        "                                            num_topics=5,\n",
        "                                            random_state=42,\n",
        "                                            passes=10,\n",
        "                                            per_word_topics=True)\n",
        "\n",
        "# Вывод тем\n",
        "print(lda_model.print_topics())"
      ],
      "metadata": {
        "colab": {
          "base_uri": "https://localhost:8080/",
          "height": 211
        },
        "id": "oJqcqWg1J1tE",
        "outputId": "2bf41db4-31c7-4aef-cce8-7f0e4f17ef6b"
      },
      "execution_count": null,
      "outputs": [
        {
          "output_type": "error",
          "ename": "NameError",
          "evalue": "name 'most_positive_reviews' is not defined",
          "traceback": [
            "\u001b[0;31m---------------------------------------------------------------------------\u001b[0m",
            "\u001b[0;31mNameError\u001b[0m                                 Traceback (most recent call last)",
            "\u001b[0;32m<ipython-input-47-c43f80416cf1>\u001b[0m in \u001b[0;36m<cell line: 5>\u001b[0;34m()\u001b[0m\n\u001b[1;32m      3\u001b[0m \u001b[0;34m\u001b[0m\u001b[0m\n\u001b[1;32m      4\u001b[0m \u001b[0;31m# Создание словаря\u001b[0m\u001b[0;34m\u001b[0m\u001b[0;34m\u001b[0m\u001b[0m\n\u001b[0;32m----> 5\u001b[0;31m \u001b[0mdictionary\u001b[0m \u001b[0;34m=\u001b[0m \u001b[0mcorpora\u001b[0m\u001b[0;34m.\u001b[0m\u001b[0mDictionary\u001b[0m\u001b[0;34m(\u001b[0m\u001b[0mmost_positive_reviews\u001b[0m\u001b[0;34m.\u001b[0m\u001b[0mapply\u001b[0m\u001b[0;34m(\u001b[0m\u001b[0;32mlambda\u001b[0m \u001b[0mx\u001b[0m\u001b[0;34m:\u001b[0m \u001b[0mx\u001b[0m\u001b[0;34m.\u001b[0m\u001b[0msplit\u001b[0m\u001b[0;34m(\u001b[0m\u001b[0;34m)\u001b[0m\u001b[0;34m)\u001b[0m\u001b[0;34m)\u001b[0m\u001b[0;34m\u001b[0m\u001b[0;34m\u001b[0m\u001b[0m\n\u001b[0m\u001b[1;32m      6\u001b[0m \u001b[0;34m\u001b[0m\u001b[0m\n\u001b[1;32m      7\u001b[0m \u001b[0;31m# Преобразование текста в мешок слов\u001b[0m\u001b[0;34m\u001b[0m\u001b[0;34m\u001b[0m\u001b[0m\n",
            "\u001b[0;31mNameError\u001b[0m: name 'most_positive_reviews' is not defined"
          ]
        }
      ]
    },
    {
      "cell_type": "code",
      "source": [
        "import gensim\n",
        "from gensim import corpora\n",
        "\n",
        "# Создание словаря\n",
        "dictionary = corpora.Dictionary(most_negative_reviews.apply(lambda x: x.split()))\n",
        "\n",
        "# Преобразование текста в мешок слов\n",
        "corpus = [dictionary.doc2bow(text.split()) for text in most_negative_reviews]\n",
        "\n",
        "# Обучение модели LDA\n",
        "lda_model = gensim.models.ldamodel.LdaModel(corpus=corpus,\n",
        "                                            id2word=dictionary,\n",
        "                                            num_topics=5,\n",
        "                                            random_state=42,\n",
        "                                            passes=10,\n",
        "                                            per_word_topics=True)\n",
        "\n",
        "# Вывод тем\n",
        "print(lda_model.print_topics())"
      ],
      "metadata": {
        "colab": {
          "base_uri": "https://localhost:8080/"
        },
        "id": "BOJ6w3GbNhtE",
        "outputId": "4beae8d2-c11c-4b8f-a4cb-80a48c22b8d4"
      },
      "execution_count": null,
      "outputs": [
        {
          "output_type": "stream",
          "name": "stdout",
          "text": [
            "[(0, '0.020*\"деньга\" + 0.017*\"обучение\" + 0.016*\"вернуть\" + 0.012*\"возврат\" + 0.010*\"курс\" + 0.008*\"это\" + 0.008*\"договор\" + 0.007*\"день\" + 0.007*\"свой\" + 0.006*\"заявление\"'), (1, '0.015*\"возврат\" + 0.015*\"день\" + 0.012*\"это\" + 0.012*\"деньга\" + 0.011*\"обучение\" + 0.008*\"вернуть\" + 0.008*\"менеджер\" + 0.008*\"курс\" + 0.008*\"заявление\" + 0.007*\"решить\"'), (2, '0.010*\"возврат\" + 0.009*\"деньга\" + 0.008*\"средство\" + 0.007*\"обучение\" + 0.007*\"договор\" + 0.007*\"день\" + 0.007*\"30\" + 0.006*\"месяц\" + 0.006*\"сказать\" + 0.006*\"копия\"'), (3, '0.020*\"это\" + 0.015*\"обучение\" + 0.012*\"который\" + 0.011*\">\" + 0.011*\"<\" + 0.010*\"деньга\" + 0.007*\"курс\" + 0.007*\"вернуть\" + 0.006*\"мочь\" + 0.006*\"урок\"'), (4, '0.017*\"курс\" + 0.015*\"деньга\" + 0.011*\"вернуть\" + 0.011*\"обучение\" + 0.009*\"это\" + 0.009*\"день\" + 0.008*\"который\" + 0.007*\"\\'\\'\" + 0.007*\"написать\" + 0.007*\"возврат\"')]\n"
          ]
        }
      ]
    },
    {
      "cell_type": "code",
      "source": [
        "from sklearn.decomposition import NMF\n",
        "from sklearn.feature_extraction.text import TfidfVectorizer\n",
        "\n",
        "# Преобразование текста в TF-IDF признаки\n",
        "tfidf_vectorizer = TfidfVectorizer(max_df=0.95, min_df=2, stop_words='english')\n",
        "tfidf = tfidf_vectorizer.fit_transform(most_positive_reviews)\n",
        "\n",
        "# Обучение модели NMF\n",
        "num_topics = 10\n",
        "nmf_model = NMF(n_components=num_topics, random_state=42)\n",
        "nmf_model.fit(tfidf)\n",
        "\n",
        "# Вывод тем\n",
        "feature_names = tfidf_vectorizer.get_feature_names_out()\n",
        "for topic_idx, topic in enumerate(nmf_model.components_):\n",
        "    print(f\"Тема {topic_idx}:\")\n",
        "    print(\" \".join([feature_names[i] for i in topic.argsort()[:-10 - 1:-1]]))\n",
        "    print()"
      ],
      "metadata": {
        "colab": {
          "base_uri": "https://localhost:8080/"
        },
        "id": "FP9XYoLuQB9O",
        "outputId": "6311c7b2-937c-4f10-b438-3d82a839ea34"
      },
      "execution_count": null,
      "outputs": [
        {
          "output_type": "stream",
          "name": "stdout",
          "text": [
            "Тема 0:\n",
            "ребёнок нравиться заниматься очень интерес удовольствие форма урок отличный педагог\n",
            "\n",
            "Тема 1:\n",
            "обучение удобный формат большой онлайн эффективный программа выбор подготовка проходить\n",
            "\n",
            "Тема 2:\n",
            "английский год платформа результат язык говорение говорить очень заниматься изучение\n",
            "\n",
            "Тема 3:\n",
            "очень советовать школа хороший весь самый эффективно интересный урок несколько\n",
            "\n",
            "Тема 4:\n",
            "дочка нравиться тетрик индивидуальный подход математика заниматься спасибо наш огромный\n",
            "\n",
            "Тема 5:\n",
            "рекомендовать всё школа довольный ребёнок понятно доступно объяснять делать очень\n",
            "\n",
            "Тема 6:\n",
            "русский математика язык заниматься предмет ребёнок всё подтянуть занятие хороший\n",
            "\n",
            "Тема 7:\n",
            "разный курс разработка профессиональный отзывчивый направление свой большой знание хотеть\n",
            "\n",
            "Тема 8:\n",
            "интересно задание занятие заниматься выбрать время удобно skyeng преподаватель приложение\n",
            "\n",
            "Тема 9:\n",
            "работа подача спасибо материал найти обучение проходить удобно очень нужно\n",
            "\n"
          ]
        }
      ]
    },
    {
      "cell_type": "code",
      "source": [
        "from sklearn.decomposition import NMF\n",
        "from sklearn.feature_extraction.text import TfidfVectorizer\n",
        "\n",
        "# Преобразование текста в TF-IDF признаки\n",
        "tfidf_vectorizer = TfidfVectorizer(max_df=0.95, min_df=2, stop_words='english')\n",
        "tfidf = tfidf_vectorizer.fit_transform(most_negative_reviews)\n",
        "\n",
        "# Обучение модели NMF\n",
        "num_topics = 10\n",
        "nmf_model = NMF(n_components=num_topics, random_state=42)\n",
        "nmf_model.fit(tfidf)\n",
        "\n",
        "# Вывод тем\n",
        "feature_names = tfidf_vectorizer.get_feature_names_out()\n",
        "for topic_idx, topic in enumerate(nmf_model.components_):\n",
        "    print(f\"Тема {topic_idx}:\")\n",
        "    print(\" \".join([feature_names[i] for i in topic.argsort()[:-10 - 1:-1]]))\n",
        "    print()"
      ],
      "metadata": {
        "id": "XyWoAB7LJ66U"
      },
      "execution_count": null,
      "outputs": []
    },
    {
      "cell_type": "code",
      "source": [
        "!pip install bigartm"
      ],
      "metadata": {
        "colab": {
          "base_uri": "https://localhost:8080/"
        },
        "id": "labyVLyLPMye",
        "outputId": "4b280511-283b-49ac-e9b3-f1b187e8d904"
      },
      "execution_count": null,
      "outputs": [
        {
          "output_type": "stream",
          "name": "stdout",
          "text": [
            "Requirement already satisfied: bigartm in /usr/local/lib/python3.10/dist-packages (0.9.2)\n",
            "Requirement already satisfied: pandas in /usr/local/lib/python3.10/dist-packages (from bigartm) (2.0.3)\n",
            "Requirement already satisfied: numpy in /usr/local/lib/python3.10/dist-packages (from bigartm) (1.25.2)\n",
            "Requirement already satisfied: tqdm in /usr/local/lib/python3.10/dist-packages (from bigartm) (4.66.2)\n",
            "Requirement already satisfied: protobuf>=3.0 in /usr/local/lib/python3.10/dist-packages (from bigartm) (3.20.3)\n",
            "Requirement already satisfied: python-dateutil>=2.8.2 in /usr/local/lib/python3.10/dist-packages (from pandas->bigartm) (2.8.2)\n",
            "Requirement already satisfied: pytz>=2020.1 in /usr/local/lib/python3.10/dist-packages (from pandas->bigartm) (2023.4)\n",
            "Requirement already satisfied: tzdata>=2022.1 in /usr/local/lib/python3.10/dist-packages (from pandas->bigartm) (2024.1)\n",
            "Requirement already satisfied: six>=1.5 in /usr/local/lib/python3.10/dist-packages (from python-dateutil>=2.8.2->pandas->bigartm) (1.16.0)\n"
          ]
        }
      ]
    },
    {
      "cell_type": "code",
      "source": [
        "import artm\n",
        "import pandas as pd\n",
        "import numpy as np\n",
        "import nltk\n",
        "from nltk.corpus import stopwords\n",
        "from nltk.tokenize import word_tokenize\n",
        "from sklearn.model_selection import train_test_split\n",
        "from sklearn.feature_extraction.text import CountVectorizer\n",
        "\n",
        "# Загрузка данных\n",
        "data = pd.read_csv(\"reviews.csv\")\n",
        "\n",
        "# Предварительная обработка текста\n",
        "nltk.download('stopwords')\n",
        "nltk.download('punkt')\n",
        "stop_words = set(stopwords.words('russian'))\n",
        "\n",
        "def preprocess_text(text):\n",
        "    tokens = word_tokenize(text.lower())\n",
        "    lemmatized_tokens = [token for token in tokens if token.isalpha() and token not in stop_words]\n",
        "    return \" \".join(lemmatized_tokens)\n",
        "\n",
        "data['processed_content'] = data['content'].apply(preprocess_text)\n",
        "\n",
        "# Разделение на обучающий и тестовый наборы\n",
        "train_data, test_data = train_test_split(most_positive_reviews, test_size=0.2, random_state=42)\n",
        "\n",
        "# Создание и обучение CountVectorizer\n",
        "cv = CountVectorizer(max_features=1000)\n",
        "n_wd = cv.fit_transform(train_data).toarray().T\n",
        "vocabulary = cv.get_feature_names_out()\n",
        "\n",
        "# Создание BatchVectorizer\n",
        "bv = artm.BatchVectorizer(data_format='bow_n_wd', n_wd=n_wd, vocabulary=vocabulary)\n",
        "\n",
        "# Обучение модели LDA\n",
        "model = artm.LDA(num_topics=15, dictionary=bv.dictionary)\n",
        "model.fit_offline(bv, num_collection_passes=20)\n",
        "\n",
        "# Вывод результатов\n",
        "print(model.get_top_tokens())\n"
      ],
      "metadata": {
        "id": "wbHWMhxWYbux"
      },
      "execution_count": null,
      "outputs": []
    },
    {
      "cell_type": "code",
      "source": [
        "import artm\n",
        "import pandas as pd\n",
        "import numpy as np\n",
        "import nltk\n",
        "from nltk.corpus import stopwords\n",
        "from nltk.tokenize import word_tokenize\n",
        "from sklearn.model_selection import train_test_split\n",
        "from sklearn.feature_extraction.text import CountVectorizer\n",
        "\n",
        "# Разделение на обучающий и тестовый наборы\n",
        "train_data, test_data = train_test_split(most_negative_reviews, test_size=0.2, random_state=42)\n",
        "\n",
        "# Создание и обучение CountVectorizer\n",
        "cv = CountVectorizer(max_features=1000)\n",
        "n_wd = cv.fit_transform(train_data).toarray().T\n",
        "vocabulary = cv.get_feature_names_out()\n",
        "\n",
        "# Создание BatchVectorizer\n",
        "bv = artm.BatchVectorizer(data_format='bow_n_wd', n_wd=n_wd, vocabulary=vocabulary)\n",
        "\n",
        "# Обучение модели LDA\n",
        "model = artm.LDA(num_topics=15, dictionary=bv.dictionary)\n",
        "model.fit_offline(bv, num_collection_passes=20)\n",
        "\n",
        "# Вывод результатов\n",
        "print(model.get_top_tokens())\n"
      ],
      "metadata": {
        "id": "Mg9Glj56ZhsT"
      },
      "execution_count": null,
      "outputs": []
    },
    {
      "cell_type": "code",
      "source": [
        "import nltk\n",
        "from nltk.collocations import *\n",
        "import pandas as pd\n",
        "\n",
        "def calculate_bigram_rankings(tokenized_texts, N_best=100):\n",
        "    texts = [t for sublist in tokenized_texts for t in sublist]\n",
        "    bigram_measures = nltk.collocations.BigramAssocMeasures()\n",
        "    finder = BigramCollocationFinder.from_words(texts)\n",
        "    finder.apply_freq_filter(1)\n",
        "\n",
        "    raw_freq_ranking = [' '.join(i) for i in finder.nbest(bigram_measures.raw_freq, N_best)]\n",
        "    tscore_ranking = [' '.join(i) for i in finder.nbest(bigram_measures.student_t, N_best)]\n",
        "    pmi_ranking =  [' '.join(i) for i in finder.nbest(bigram_measures.pmi, N_best)]\n",
        "    llr_ranking = [' '. join(i) for i in finder.nbest(bigram_measures.likelihood_ratio, N_best)]\n",
        "    chi2_ranking =  [' '.join(i) for i in finder.nbest(bigram_measures.chi_sq, N_best)]\n",
        "\n",
        "    rankings = pd.DataFrame({\n",
        "        'raw_freq': raw_freq_ranking,\n",
        "        'pmi': pmi_ranking,\n",
        "        't-score': tscore_ranking,\n",
        "        'chi2': chi2_ranking,\n",
        "        'llr': llr_ranking\n",
        "    })\n",
        "    rankings = rankings[['raw_freq', 'pmi', 't-score', 'chi2', 'llr']]\n",
        "    return rankings\n",
        "\n",
        "def print_bigram_ranking(ranking):\n",
        "    for measure, bigrams in ranking.items():\n",
        "        print(f\"Топ-100 биграм по мере {measure}:\")\n",
        "        for i, bigram in enumerate(bigrams, 1):\n",
        "            print(f\"{i}. {bigram}\")\n",
        "        print()\n",
        "\n",
        "# Пример использования\n",
        "# tokenized_texts = [text.split() for text in most_positive_reviews]\n",
        "tokenized_texts = [text.split() for text in most_negative_reviews]\n",
        "rankings = calculate_bigram_rankings(tokenized_texts)\n",
        "print(rankings.head(10))\n",
        "print()\n",
        "\n",
        "# Вывод ранжированных биграм\n",
        "print_bigram_ranking(rankings)\n"
      ],
      "metadata": {
        "colab": {
          "base_uri": "https://localhost:8080/",
          "height": 211
        },
        "id": "ErpfzwsrwuBf",
        "outputId": "8ece653c-a512-4b7a-9a28-ed06b8576d24"
      },
      "execution_count": null,
      "outputs": [
        {
          "output_type": "error",
          "ename": "NameError",
          "evalue": "name 'most_negative_reviews' is not defined",
          "traceback": [
            "\u001b[0;31m---------------------------------------------------------------------------\u001b[0m",
            "\u001b[0;31mNameError\u001b[0m                                 Traceback (most recent call last)",
            "\u001b[0;32m<ipython-input-48-e7a9b2587d96>\u001b[0m in \u001b[0;36m<cell line: 36>\u001b[0;34m()\u001b[0m\n\u001b[1;32m     34\u001b[0m \u001b[0;31m# Пример использования\u001b[0m\u001b[0;34m\u001b[0m\u001b[0;34m\u001b[0m\u001b[0m\n\u001b[1;32m     35\u001b[0m \u001b[0;31m# tokenized_texts = [text.split() for text in most_positive_reviews]\u001b[0m\u001b[0;34m\u001b[0m\u001b[0;34m\u001b[0m\u001b[0m\n\u001b[0;32m---> 36\u001b[0;31m \u001b[0mtokenized_texts\u001b[0m \u001b[0;34m=\u001b[0m \u001b[0;34m[\u001b[0m\u001b[0mtext\u001b[0m\u001b[0;34m.\u001b[0m\u001b[0msplit\u001b[0m\u001b[0;34m(\u001b[0m\u001b[0;34m)\u001b[0m \u001b[0;32mfor\u001b[0m \u001b[0mtext\u001b[0m \u001b[0;32min\u001b[0m \u001b[0mmost_negative_reviews\u001b[0m\u001b[0;34m]\u001b[0m\u001b[0;34m\u001b[0m\u001b[0;34m\u001b[0m\u001b[0m\n\u001b[0m\u001b[1;32m     37\u001b[0m \u001b[0mrankings\u001b[0m \u001b[0;34m=\u001b[0m \u001b[0mcalculate_bigram_rankings\u001b[0m\u001b[0;34m(\u001b[0m\u001b[0mtokenized_texts\u001b[0m\u001b[0;34m)\u001b[0m\u001b[0;34m\u001b[0m\u001b[0;34m\u001b[0m\u001b[0m\n\u001b[1;32m     38\u001b[0m \u001b[0mprint\u001b[0m\u001b[0;34m(\u001b[0m\u001b[0mrankings\u001b[0m\u001b[0;34m.\u001b[0m\u001b[0mhead\u001b[0m\u001b[0;34m(\u001b[0m\u001b[0;36m10\u001b[0m\u001b[0;34m)\u001b[0m\u001b[0;34m)\u001b[0m\u001b[0;34m\u001b[0m\u001b[0;34m\u001b[0m\u001b[0m\n",
            "\u001b[0;31mNameError\u001b[0m: name 'most_negative_reviews' is not defined"
          ]
        }
      ]
    },
    {
      "cell_type": "markdown",
      "source": [
        "# Стохастический градиентный спуск с логистической функцией потерь"
      ],
      "metadata": {
        "id": "KvYdEi3KKnI7"
      }
    },
    {
      "cell_type": "code",
      "source": [
        "!wget https://huggingface.co/datasets/C0uchP0tat0/courses_sravni_ru/resolve/main/dataset.csv -O reviews.csv"
      ],
      "metadata": {
        "id": "KY9I5bzTF4_8",
        "colab": {
          "base_uri": "https://localhost:8080/"
        },
        "outputId": "dd10dadc-5ef2-47ca-e21c-23e6975db358"
      },
      "execution_count": null,
      "outputs": [
        {
          "output_type": "stream",
          "name": "stdout",
          "text": [
            "--2024-04-28 06:28:41--  https://huggingface.co/datasets/C0uchP0tat0/courses_sravni_ru/resolve/main/dataset.csv\n",
            "Resolving huggingface.co (huggingface.co)... 3.163.189.74, 3.163.189.37, 3.163.189.90, ...\n",
            "Connecting to huggingface.co (huggingface.co)|3.163.189.74|:443... connected.\n",
            "HTTP request sent, awaiting response... 302 Found\n",
            "Location: https://cdn-lfs-us-1.huggingface.co/repos/e9/a2/e9a241e4099b8361fb6be16dd66c1146a8b8d9805e7fcfef45c7e71d3aee5d80/4d78714bc987232e514f3c87fd37a71fc0187a5d303b13f5a19ee3c9326031f5?response-content-disposition=attachment%3B+filename*%3DUTF-8%27%27dataset.csv%3B+filename%3D%22dataset.csv%22%3B&response-content-type=text%2Fcsv&Expires=1714544921&Policy=eyJTdGF0ZW1lbnQiOlt7IkNvbmRpdGlvbiI6eyJEYXRlTGVzc1RoYW4iOnsiQVdTOkVwb2NoVGltZSI6MTcxNDU0NDkyMX19LCJSZXNvdXJjZSI6Imh0dHBzOi8vY2RuLWxmcy11cy0xLmh1Z2dpbmdmYWNlLmNvL3JlcG9zL2U5L2EyL2U5YTI0MWU0MDk5YjgzNjFmYjZiZTE2ZGQ2NmMxMTQ2YThiOGQ5ODA1ZTdmY2ZlZjQ1YzdlNzFkM2FlZTVkODAvNGQ3ODcxNGJjOTg3MjMyZTUxNGYzYzg3ZmQzN2E3MWZjMDE4N2E1ZDMwM2IxM2Y1YTE5ZWUzYzkzMjYwMzFmNT9yZXNwb25zZS1jb250ZW50LWRpc3Bvc2l0aW9uPSomcmVzcG9uc2UtY29udGVudC10eXBlPSoifV19&Signature=AnsaNDyuSpZb8M4d6z5fnz8MmUITxIyOUAqW6G6McRNEr1QgRFD38GUjfXeFgquN4Djey1zsPpHTzqnuk3e5IBNfuzaGz2Gm-kTs1BTTF5entn1d5Kj-cZ3vL-yYEf%7EnaAypBEHqVjG7FPueIzEgZy2ided3T-srkyA8mHQ4ZGFMqQQXws6L98IwXUqoqlsK2NgXMwXOHN3uwTcsIi8FGhSEeGssXq43aUugGaTG3f%7EIo5mPs5RCLvxty9VvKXJR7SxJEL8EJh7B7kNeocRTPwU5gZnCvjVyuBnkNmyRPuvo3XkGozYp8KgpxnYoInSE63201s5HycoI0DUtlblBLw__&Key-Pair-Id=KCD77M1F0VK2B [following]\n",
            "--2024-04-28 06:28:41--  https://cdn-lfs-us-1.huggingface.co/repos/e9/a2/e9a241e4099b8361fb6be16dd66c1146a8b8d9805e7fcfef45c7e71d3aee5d80/4d78714bc987232e514f3c87fd37a71fc0187a5d303b13f5a19ee3c9326031f5?response-content-disposition=attachment%3B+filename*%3DUTF-8%27%27dataset.csv%3B+filename%3D%22dataset.csv%22%3B&response-content-type=text%2Fcsv&Expires=1714544921&Policy=eyJTdGF0ZW1lbnQiOlt7IkNvbmRpdGlvbiI6eyJEYXRlTGVzc1RoYW4iOnsiQVdTOkVwb2NoVGltZSI6MTcxNDU0NDkyMX19LCJSZXNvdXJjZSI6Imh0dHBzOi8vY2RuLWxmcy11cy0xLmh1Z2dpbmdmYWNlLmNvL3JlcG9zL2U5L2EyL2U5YTI0MWU0MDk5YjgzNjFmYjZiZTE2ZGQ2NmMxMTQ2YThiOGQ5ODA1ZTdmY2ZlZjQ1YzdlNzFkM2FlZTVkODAvNGQ3ODcxNGJjOTg3MjMyZTUxNGYzYzg3ZmQzN2E3MWZjMDE4N2E1ZDMwM2IxM2Y1YTE5ZWUzYzkzMjYwMzFmNT9yZXNwb25zZS1jb250ZW50LWRpc3Bvc2l0aW9uPSomcmVzcG9uc2UtY29udGVudC10eXBlPSoifV19&Signature=AnsaNDyuSpZb8M4d6z5fnz8MmUITxIyOUAqW6G6McRNEr1QgRFD38GUjfXeFgquN4Djey1zsPpHTzqnuk3e5IBNfuzaGz2Gm-kTs1BTTF5entn1d5Kj-cZ3vL-yYEf%7EnaAypBEHqVjG7FPueIzEgZy2ided3T-srkyA8mHQ4ZGFMqQQXws6L98IwXUqoqlsK2NgXMwXOHN3uwTcsIi8FGhSEeGssXq43aUugGaTG3f%7EIo5mPs5RCLvxty9VvKXJR7SxJEL8EJh7B7kNeocRTPwU5gZnCvjVyuBnkNmyRPuvo3XkGozYp8KgpxnYoInSE63201s5HycoI0DUtlblBLw__&Key-Pair-Id=KCD77M1F0VK2B\n",
            "Resolving cdn-lfs-us-1.huggingface.co (cdn-lfs-us-1.huggingface.co)... 3.163.189.127, 3.163.189.28, 3.163.189.91, ...\n",
            "Connecting to cdn-lfs-us-1.huggingface.co (cdn-lfs-us-1.huggingface.co)|3.163.189.127|:443... connected.\n",
            "HTTP request sent, awaiting response... 200 OK\n",
            "Length: 14703555 (14M) [text/csv]\n",
            "Saving to: ‘reviews.csv’\n",
            "\n",
            "reviews.csv         100%[===================>]  14.02M  84.0MB/s    in 0.2s    \n",
            "\n",
            "2024-04-28 06:28:41 (84.0 MB/s) - ‘reviews.csv’ saved [14703555/14703555]\n",
            "\n"
          ]
        }
      ]
    },
    {
      "cell_type": "code",
      "source": [
        "!wget https://huggingface.co/datasets/C0uchP0tat0/courses_obrazoval_ru/resolve/main/reviews.csv -O reviews.csv"
      ],
      "metadata": {
        "id": "VNPjBRv-jNrG",
        "colab": {
          "base_uri": "https://localhost:8080/"
        },
        "outputId": "e78a57bb-afae-4560-f115-216428501b3a"
      },
      "execution_count": null,
      "outputs": [
        {
          "output_type": "stream",
          "name": "stdout",
          "text": [
            "--2024-04-28 06:29:21--  https://huggingface.co/datasets/C0uchP0tat0/courses_obrazoval_ru/resolve/main/reviews.csv\n",
            "Resolving huggingface.co (huggingface.co)... 3.163.189.37, 3.163.189.90, 3.163.189.114, ...\n",
            "Connecting to huggingface.co (huggingface.co)|3.163.189.37|:443... connected.\n",
            "HTTP request sent, awaiting response... 302 Found\n",
            "Location: https://cdn-lfs-us-1.huggingface.co/repos/ea/0f/ea0f960c15d93f8470907f7f90de2432df5691b359e631cdc5619075be9ca37b/591525c1812ffd8c66d8c39628e923bbe818fb9f4a0073c8c6f93d98ede84432?response-content-disposition=attachment%3B+filename*%3DUTF-8%27%27reviews.csv%3B+filename%3D%22reviews.csv%22%3B&response-content-type=text%2Fcsv&Expires=1714544962&Policy=eyJTdGF0ZW1lbnQiOlt7IkNvbmRpdGlvbiI6eyJEYXRlTGVzc1RoYW4iOnsiQVdTOkVwb2NoVGltZSI6MTcxNDU0NDk2Mn19LCJSZXNvdXJjZSI6Imh0dHBzOi8vY2RuLWxmcy11cy0xLmh1Z2dpbmdmYWNlLmNvL3JlcG9zL2VhLzBmL2VhMGY5NjBjMTVkOTNmODQ3MDkwN2Y3ZjkwZGUyNDMyZGY1NjkxYjM1OWU2MzFjZGM1NjE5MDc1YmU5Y2EzN2IvNTkxNTI1YzE4MTJmZmQ4YzY2ZDhjMzk2MjhlOTIzYmJlODE4ZmI5ZjRhMDA3M2M4YzZmOTNkOThlZGU4NDQzMj9yZXNwb25zZS1jb250ZW50LWRpc3Bvc2l0aW9uPSomcmVzcG9uc2UtY29udGVudC10eXBlPSoifV19&Signature=Mv4xvvti14hS8fxZ66SksFgcBGevaQLvclusQ3LjseHBSOEc1yqz5q67n2N6VKPsCrgwDH8eW9VxNzNTp1z%7EHlHG6eCbIB%7Eg29rTd4zMru%7EXdN3f5KeSFNJ5FMxk4AHTiIJlluXNzue%7EsMvNytMTpagZ4RU7gsSy%7ETu%7EXxO2MXYhr834OQw4hjnqFqfJT8PvTDpxE%7EWARMK9wEWRG%7EhgBbl3cwwWQNESJHTrrdBv5J5wwbxN0h1d56JAHsHB1PNif11EBaZnx9CGp4-YAsRGyuRqk7UZ7BQsNIDKPXPbWTdEfOQqWxQ3nKdQ89iKaxJaBQPeY1C1YOqPJy%7E5TgWamw__&Key-Pair-Id=KCD77M1F0VK2B [following]\n",
            "--2024-04-28 06:29:22--  https://cdn-lfs-us-1.huggingface.co/repos/ea/0f/ea0f960c15d93f8470907f7f90de2432df5691b359e631cdc5619075be9ca37b/591525c1812ffd8c66d8c39628e923bbe818fb9f4a0073c8c6f93d98ede84432?response-content-disposition=attachment%3B+filename*%3DUTF-8%27%27reviews.csv%3B+filename%3D%22reviews.csv%22%3B&response-content-type=text%2Fcsv&Expires=1714544962&Policy=eyJTdGF0ZW1lbnQiOlt7IkNvbmRpdGlvbiI6eyJEYXRlTGVzc1RoYW4iOnsiQVdTOkVwb2NoVGltZSI6MTcxNDU0NDk2Mn19LCJSZXNvdXJjZSI6Imh0dHBzOi8vY2RuLWxmcy11cy0xLmh1Z2dpbmdmYWNlLmNvL3JlcG9zL2VhLzBmL2VhMGY5NjBjMTVkOTNmODQ3MDkwN2Y3ZjkwZGUyNDMyZGY1NjkxYjM1OWU2MzFjZGM1NjE5MDc1YmU5Y2EzN2IvNTkxNTI1YzE4MTJmZmQ4YzY2ZDhjMzk2MjhlOTIzYmJlODE4ZmI5ZjRhMDA3M2M4YzZmOTNkOThlZGU4NDQzMj9yZXNwb25zZS1jb250ZW50LWRpc3Bvc2l0aW9uPSomcmVzcG9uc2UtY29udGVudC10eXBlPSoifV19&Signature=Mv4xvvti14hS8fxZ66SksFgcBGevaQLvclusQ3LjseHBSOEc1yqz5q67n2N6VKPsCrgwDH8eW9VxNzNTp1z%7EHlHG6eCbIB%7Eg29rTd4zMru%7EXdN3f5KeSFNJ5FMxk4AHTiIJlluXNzue%7EsMvNytMTpagZ4RU7gsSy%7ETu%7EXxO2MXYhr834OQw4hjnqFqfJT8PvTDpxE%7EWARMK9wEWRG%7EhgBbl3cwwWQNESJHTrrdBv5J5wwbxN0h1d56JAHsHB1PNif11EBaZnx9CGp4-YAsRGyuRqk7UZ7BQsNIDKPXPbWTdEfOQqWxQ3nKdQ89iKaxJaBQPeY1C1YOqPJy%7E5TgWamw__&Key-Pair-Id=KCD77M1F0VK2B\n",
            "Resolving cdn-lfs-us-1.huggingface.co (cdn-lfs-us-1.huggingface.co)... 3.163.189.20, 3.163.189.127, 3.163.189.28, ...\n",
            "Connecting to cdn-lfs-us-1.huggingface.co (cdn-lfs-us-1.huggingface.co)|3.163.189.20|:443... connected.\n",
            "HTTP request sent, awaiting response... 200 OK\n",
            "Length: 42803195 (41M) [text/csv]\n",
            "Saving to: ‘reviews.csv’\n",
            "\n",
            "reviews.csv         100%[===================>]  40.82M   140MB/s    in 0.3s    \n",
            "\n",
            "2024-04-28 06:29:22 (140 MB/s) - ‘reviews.csv’ saved [42803195/42803195]\n",
            "\n"
          ]
        }
      ]
    },
    {
      "cell_type": "code",
      "source": [
        "import pandas as pd\n",
        "import numpy as np\n",
        "from gensim.models import Word2Vec\n",
        "from sklearn.linear_model import SGDClassifier\n",
        "from sklearn.pipeline import Pipeline\n",
        "from sklearn.model_selection import train_test_split\n",
        "from sklearn.metrics import accuracy_score\n",
        "from sklearn.feature_extraction.text import TfidfVectorizer\n",
        "from sklearn.preprocessing import FunctionTransformer\n",
        "import pymorphy2\n",
        "import nltk\n",
        "from nltk.tokenize import word_tokenize\n",
        "from nltk.corpus import stopwords\n",
        "\n",
        "# Загрузка предварительно обученной модели word2vec\n",
        "model = Word2Vec.load(\"word2vec-obrazoval.ru-50\")\n",
        "\n",
        "# Загрузка данных\n",
        "data = pd.read_csv(\"reviews.csv\")\n",
        "\n",
        "# Предобработка текста\n",
        "def preprocess(text, stop_words, punctuation_marks, morph):\n",
        "    tokens = word_tokenize(text.lower())\n",
        "    preprocessed_text = []\n",
        "    for token in tokens:\n",
        "        if token not in punctuation_marks:\n",
        "            lemma = morph.parse(token)[0].normal_form\n",
        "            if lemma not in stop_words:\n",
        "                preprocessed_text.append(lemma)\n",
        "    return \" \".join(preprocessed_text)\n",
        "\n",
        "punctuation_marks = ['!', ',', '(', ')', ':', '-', '?', '.', '..', '...']\n",
        "stop_words = stopwords.words(\"russian\")\n",
        "morph = pymorphy2.MorphAnalyzer()\n",
        "\n",
        "try:\n",
        "    # для датасета СРАВНИ РУ https://huggingface.co/datasets/C0uchP0tat0/courses_sravni_ru\n",
        "    data['content'] = data['text'].apply(lambda x: preprocess(x, stop_words, punctuation_marks, morph))\n",
        "except KeyError:\n",
        "    # для датасета ОБРАЗОВАЛ РУ https://huggingface.co/datasets/C0uchP0tat0/courses_obrazoval_ru\n",
        "    data['content'] = data['content'].apply(lambda x: preprocess(x, stop_words, punctuation_marks, morph))\n",
        "\n",
        "# Разделение на признаки и метки\n",
        "X = data['content']\n",
        "y = data['label']\n",
        "\n",
        "# Разделение на обучающий и тестовый наборы\n",
        "X_train, X_test, y_train, y_test = train_test_split(X, y, test_size=0.2, random_state=42)\n",
        "\n",
        "# Функция для преобразования текста в векторы с использованием word2vec\n",
        "def word_averaging(words, model):\n",
        "    all_words, mean = set(), []\n",
        "\n",
        "    for word in words:\n",
        "        if word in model.wv.key_to_index:\n",
        "            mean.append(model.wv.get_vector(word))\n",
        "            all_words.add(model.wv.key_to_index[word])\n",
        "\n",
        "    if not mean:\n",
        "        return np.zeros(model.vector_size,)\n",
        "\n",
        "    mean = np.array(mean).mean(axis=0)\n",
        "    return mean\n",
        "\n",
        "def word_vectorizer(X, model):\n",
        "    return np.array([word_averaging(words.split(), model) for words in X])\n",
        "\n",
        "# Создание pipeline\n",
        "w2v_pipeline = Pipeline([\n",
        "    (\"word_vectorizer\", FunctionTransformer(word_vectorizer, kw_args={\"model\": model})),\n",
        "    (\"clf\", SGDClassifier(loss='log', alpha=0.0001, penalty='l2', max_iter=1000, tol=1e-3))\n",
        "])\n",
        "\n",
        "# Обучение модели и оценка ее точности\n",
        "w2v_pipeline.fit(X_train, y_train)\n",
        "y_pred = w2v_pipeline.predict(X_test)\n",
        "accuracy = accuracy_score(y_test, y_pred)\n",
        "print(\"Accuracy:\", accuracy)\n"
      ],
      "metadata": {
        "id": "KYIBdV8MFz1c",
        "colab": {
          "base_uri": "https://localhost:8080/",
          "height": 564
        },
        "outputId": "7ff49f7c-44fc-4928-8b51-97e7d1c4452e"
      },
      "execution_count": null,
      "outputs": [
        {
          "output_type": "error",
          "ename": "KeyboardInterrupt",
          "evalue": "",
          "traceback": [
            "\u001b[0;31m---------------------------------------------------------------------------\u001b[0m",
            "\u001b[0;31mKeyError\u001b[0m                                  Traceback (most recent call last)",
            "\u001b[0;32m/usr/local/lib/python3.10/dist-packages/pandas/core/indexes/base.py\u001b[0m in \u001b[0;36mget_loc\u001b[0;34m(self, key)\u001b[0m\n\u001b[1;32m   3652\u001b[0m         \u001b[0;32mtry\u001b[0m\u001b[0;34m:\u001b[0m\u001b[0;34m\u001b[0m\u001b[0;34m\u001b[0m\u001b[0m\n\u001b[0;32m-> 3653\u001b[0;31m             \u001b[0;32mreturn\u001b[0m \u001b[0mself\u001b[0m\u001b[0;34m.\u001b[0m\u001b[0m_engine\u001b[0m\u001b[0;34m.\u001b[0m\u001b[0mget_loc\u001b[0m\u001b[0;34m(\u001b[0m\u001b[0mcasted_key\u001b[0m\u001b[0;34m)\u001b[0m\u001b[0;34m\u001b[0m\u001b[0;34m\u001b[0m\u001b[0m\n\u001b[0m\u001b[1;32m   3654\u001b[0m         \u001b[0;32mexcept\u001b[0m \u001b[0mKeyError\u001b[0m \u001b[0;32mas\u001b[0m \u001b[0merr\u001b[0m\u001b[0;34m:\u001b[0m\u001b[0;34m\u001b[0m\u001b[0;34m\u001b[0m\u001b[0m\n",
            "\u001b[0;32m/usr/local/lib/python3.10/dist-packages/pandas/_libs/index.pyx\u001b[0m in \u001b[0;36mpandas._libs.index.IndexEngine.get_loc\u001b[0;34m()\u001b[0m\n",
            "\u001b[0;32m/usr/local/lib/python3.10/dist-packages/pandas/_libs/index.pyx\u001b[0m in \u001b[0;36mpandas._libs.index.IndexEngine.get_loc\u001b[0;34m()\u001b[0m\n",
            "\u001b[0;32mpandas/_libs/hashtable_class_helper.pxi\u001b[0m in \u001b[0;36mpandas._libs.hashtable.PyObjectHashTable.get_item\u001b[0;34m()\u001b[0m\n",
            "\u001b[0;32mpandas/_libs/hashtable_class_helper.pxi\u001b[0m in \u001b[0;36mpandas._libs.hashtable.PyObjectHashTable.get_item\u001b[0;34m()\u001b[0m\n",
            "\u001b[0;31mKeyError\u001b[0m: 'text'",
            "\nThe above exception was the direct cause of the following exception:\n",
            "\u001b[0;31mKeyError\u001b[0m                                  Traceback (most recent call last)",
            "\u001b[0;32m<ipython-input-18-6a70e4b6c576>\u001b[0m in \u001b[0;36m<cell line: 36>\u001b[0;34m()\u001b[0m\n\u001b[1;32m     37\u001b[0m     \u001b[0;31m# для датасета СРАВНИ РУ https://huggingface.co/datasets/C0uchP0tat0/courses_sravni_ru\u001b[0m\u001b[0;34m\u001b[0m\u001b[0;34m\u001b[0m\u001b[0m\n\u001b[0;32m---> 38\u001b[0;31m     \u001b[0mdata\u001b[0m\u001b[0;34m[\u001b[0m\u001b[0;34m'content'\u001b[0m\u001b[0;34m]\u001b[0m \u001b[0;34m=\u001b[0m \u001b[0mdata\u001b[0m\u001b[0;34m[\u001b[0m\u001b[0;34m'text'\u001b[0m\u001b[0;34m]\u001b[0m\u001b[0;34m.\u001b[0m\u001b[0mapply\u001b[0m\u001b[0;34m(\u001b[0m\u001b[0;32mlambda\u001b[0m \u001b[0mx\u001b[0m\u001b[0;34m:\u001b[0m \u001b[0mpreprocess\u001b[0m\u001b[0;34m(\u001b[0m\u001b[0mx\u001b[0m\u001b[0;34m,\u001b[0m \u001b[0mstop_words\u001b[0m\u001b[0;34m,\u001b[0m \u001b[0mpunctuation_marks\u001b[0m\u001b[0;34m,\u001b[0m \u001b[0mmorph\u001b[0m\u001b[0;34m)\u001b[0m\u001b[0;34m)\u001b[0m\u001b[0;34m\u001b[0m\u001b[0;34m\u001b[0m\u001b[0m\n\u001b[0m\u001b[1;32m     39\u001b[0m \u001b[0;32mexcept\u001b[0m \u001b[0mKeyError\u001b[0m\u001b[0;34m:\u001b[0m\u001b[0;34m\u001b[0m\u001b[0;34m\u001b[0m\u001b[0m\n",
            "\u001b[0;32m/usr/local/lib/python3.10/dist-packages/pandas/core/frame.py\u001b[0m in \u001b[0;36m__getitem__\u001b[0;34m(self, key)\u001b[0m\n\u001b[1;32m   3760\u001b[0m                 \u001b[0;32mreturn\u001b[0m \u001b[0mself\u001b[0m\u001b[0;34m.\u001b[0m\u001b[0m_getitem_multilevel\u001b[0m\u001b[0;34m(\u001b[0m\u001b[0mkey\u001b[0m\u001b[0;34m)\u001b[0m\u001b[0;34m\u001b[0m\u001b[0;34m\u001b[0m\u001b[0m\n\u001b[0;32m-> 3761\u001b[0;31m             \u001b[0mindexer\u001b[0m \u001b[0;34m=\u001b[0m \u001b[0mself\u001b[0m\u001b[0;34m.\u001b[0m\u001b[0mcolumns\u001b[0m\u001b[0;34m.\u001b[0m\u001b[0mget_loc\u001b[0m\u001b[0;34m(\u001b[0m\u001b[0mkey\u001b[0m\u001b[0;34m)\u001b[0m\u001b[0;34m\u001b[0m\u001b[0;34m\u001b[0m\u001b[0m\n\u001b[0m\u001b[1;32m   3762\u001b[0m             \u001b[0;32mif\u001b[0m \u001b[0mis_integer\u001b[0m\u001b[0;34m(\u001b[0m\u001b[0mindexer\u001b[0m\u001b[0;34m)\u001b[0m\u001b[0;34m:\u001b[0m\u001b[0;34m\u001b[0m\u001b[0;34m\u001b[0m\u001b[0m\n",
            "\u001b[0;32m/usr/local/lib/python3.10/dist-packages/pandas/core/indexes/base.py\u001b[0m in \u001b[0;36mget_loc\u001b[0;34m(self, key)\u001b[0m\n\u001b[1;32m   3654\u001b[0m         \u001b[0;32mexcept\u001b[0m \u001b[0mKeyError\u001b[0m \u001b[0;32mas\u001b[0m \u001b[0merr\u001b[0m\u001b[0;34m:\u001b[0m\u001b[0;34m\u001b[0m\u001b[0;34m\u001b[0m\u001b[0m\n\u001b[0;32m-> 3655\u001b[0;31m             \u001b[0;32mraise\u001b[0m \u001b[0mKeyError\u001b[0m\u001b[0;34m(\u001b[0m\u001b[0mkey\u001b[0m\u001b[0;34m)\u001b[0m \u001b[0;32mfrom\u001b[0m \u001b[0merr\u001b[0m\u001b[0;34m\u001b[0m\u001b[0;34m\u001b[0m\u001b[0m\n\u001b[0m\u001b[1;32m   3656\u001b[0m         \u001b[0;32mexcept\u001b[0m \u001b[0mTypeError\u001b[0m\u001b[0;34m:\u001b[0m\u001b[0;34m\u001b[0m\u001b[0;34m\u001b[0m\u001b[0m\n",
            "\u001b[0;31mKeyError\u001b[0m: 'text'",
            "\nDuring handling of the above exception, another exception occurred:\n",
            "\u001b[0;31mKeyboardInterrupt\u001b[0m                         Traceback (most recent call last)",
            "\u001b[0;32m<ipython-input-18-6a70e4b6c576>\u001b[0m in \u001b[0;36m<cell line: 36>\u001b[0;34m()\u001b[0m\n\u001b[1;32m     39\u001b[0m \u001b[0;32mexcept\u001b[0m \u001b[0mKeyError\u001b[0m\u001b[0;34m:\u001b[0m\u001b[0;34m\u001b[0m\u001b[0;34m\u001b[0m\u001b[0m\n\u001b[1;32m     40\u001b[0m     \u001b[0;31m# для датасета ОБРАЗОВАЛ РУ https://huggingface.co/datasets/C0uchP0tat0/courses_obrazoval_ru\u001b[0m\u001b[0;34m\u001b[0m\u001b[0;34m\u001b[0m\u001b[0m\n\u001b[0;32m---> 41\u001b[0;31m     \u001b[0mdata\u001b[0m\u001b[0;34m[\u001b[0m\u001b[0;34m'content'\u001b[0m\u001b[0;34m]\u001b[0m \u001b[0;34m=\u001b[0m \u001b[0mdata\u001b[0m\u001b[0;34m[\u001b[0m\u001b[0;34m'content'\u001b[0m\u001b[0;34m]\u001b[0m\u001b[0;34m.\u001b[0m\u001b[0mapply\u001b[0m\u001b[0;34m(\u001b[0m\u001b[0;32mlambda\u001b[0m \u001b[0mx\u001b[0m\u001b[0;34m:\u001b[0m \u001b[0mpreprocess\u001b[0m\u001b[0;34m(\u001b[0m\u001b[0mx\u001b[0m\u001b[0;34m,\u001b[0m \u001b[0mstop_words\u001b[0m\u001b[0;34m,\u001b[0m \u001b[0mpunctuation_marks\u001b[0m\u001b[0;34m,\u001b[0m \u001b[0mmorph\u001b[0m\u001b[0;34m)\u001b[0m\u001b[0;34m)\u001b[0m\u001b[0;34m\u001b[0m\u001b[0;34m\u001b[0m\u001b[0m\n\u001b[0m\u001b[1;32m     42\u001b[0m \u001b[0;34m\u001b[0m\u001b[0m\n\u001b[1;32m     43\u001b[0m \u001b[0;31m# Разделение на признаки и метки\u001b[0m\u001b[0;34m\u001b[0m\u001b[0;34m\u001b[0m\u001b[0m\n",
            "\u001b[0;32m/usr/local/lib/python3.10/dist-packages/pandas/core/series.py\u001b[0m in \u001b[0;36mapply\u001b[0;34m(self, func, convert_dtype, args, **kwargs)\u001b[0m\n\u001b[1;32m   4628\u001b[0m         \u001b[0mdtype\u001b[0m\u001b[0;34m:\u001b[0m \u001b[0mfloat64\u001b[0m\u001b[0;34m\u001b[0m\u001b[0;34m\u001b[0m\u001b[0m\n\u001b[1;32m   4629\u001b[0m         \"\"\"\n\u001b[0;32m-> 4630\u001b[0;31m         \u001b[0;32mreturn\u001b[0m \u001b[0mSeriesApply\u001b[0m\u001b[0;34m(\u001b[0m\u001b[0mself\u001b[0m\u001b[0;34m,\u001b[0m \u001b[0mfunc\u001b[0m\u001b[0;34m,\u001b[0m \u001b[0mconvert_dtype\u001b[0m\u001b[0;34m,\u001b[0m \u001b[0margs\u001b[0m\u001b[0;34m,\u001b[0m \u001b[0mkwargs\u001b[0m\u001b[0;34m)\u001b[0m\u001b[0;34m.\u001b[0m\u001b[0mapply\u001b[0m\u001b[0;34m(\u001b[0m\u001b[0;34m)\u001b[0m\u001b[0;34m\u001b[0m\u001b[0;34m\u001b[0m\u001b[0m\n\u001b[0m\u001b[1;32m   4631\u001b[0m \u001b[0;34m\u001b[0m\u001b[0m\n\u001b[1;32m   4632\u001b[0m     def _reduce(\n",
            "\u001b[0;32m/usr/local/lib/python3.10/dist-packages/pandas/core/apply.py\u001b[0m in \u001b[0;36mapply\u001b[0;34m(self)\u001b[0m\n\u001b[1;32m   1023\u001b[0m \u001b[0;34m\u001b[0m\u001b[0m\n\u001b[1;32m   1024\u001b[0m         \u001b[0;31m# self.f is Callable\u001b[0m\u001b[0;34m\u001b[0m\u001b[0;34m\u001b[0m\u001b[0m\n\u001b[0;32m-> 1025\u001b[0;31m         \u001b[0;32mreturn\u001b[0m \u001b[0mself\u001b[0m\u001b[0;34m.\u001b[0m\u001b[0mapply_standard\u001b[0m\u001b[0;34m(\u001b[0m\u001b[0;34m)\u001b[0m\u001b[0;34m\u001b[0m\u001b[0;34m\u001b[0m\u001b[0m\n\u001b[0m\u001b[1;32m   1026\u001b[0m \u001b[0;34m\u001b[0m\u001b[0m\n\u001b[1;32m   1027\u001b[0m     \u001b[0;32mdef\u001b[0m \u001b[0magg\u001b[0m\u001b[0;34m(\u001b[0m\u001b[0mself\u001b[0m\u001b[0;34m)\u001b[0m\u001b[0;34m:\u001b[0m\u001b[0;34m\u001b[0m\u001b[0;34m\u001b[0m\u001b[0m\n",
            "\u001b[0;32m/usr/local/lib/python3.10/dist-packages/pandas/core/apply.py\u001b[0m in \u001b[0;36mapply_standard\u001b[0;34m(self)\u001b[0m\n\u001b[1;32m   1074\u001b[0m             \u001b[0;32melse\u001b[0m\u001b[0;34m:\u001b[0m\u001b[0;34m\u001b[0m\u001b[0;34m\u001b[0m\u001b[0m\n\u001b[1;32m   1075\u001b[0m                 \u001b[0mvalues\u001b[0m \u001b[0;34m=\u001b[0m \u001b[0mobj\u001b[0m\u001b[0;34m.\u001b[0m\u001b[0mastype\u001b[0m\u001b[0;34m(\u001b[0m\u001b[0mobject\u001b[0m\u001b[0;34m)\u001b[0m\u001b[0;34m.\u001b[0m\u001b[0m_values\u001b[0m\u001b[0;34m\u001b[0m\u001b[0;34m\u001b[0m\u001b[0m\n\u001b[0;32m-> 1076\u001b[0;31m                 mapped = lib.map_infer(\n\u001b[0m\u001b[1;32m   1077\u001b[0m                     \u001b[0mvalues\u001b[0m\u001b[0;34m,\u001b[0m\u001b[0;34m\u001b[0m\u001b[0;34m\u001b[0m\u001b[0m\n\u001b[1;32m   1078\u001b[0m                     \u001b[0mf\u001b[0m\u001b[0;34m,\u001b[0m\u001b[0;34m\u001b[0m\u001b[0;34m\u001b[0m\u001b[0m\n",
            "\u001b[0;32m/usr/local/lib/python3.10/dist-packages/pandas/_libs/lib.pyx\u001b[0m in \u001b[0;36mpandas._libs.lib.map_infer\u001b[0;34m()\u001b[0m\n",
            "\u001b[0;32m<ipython-input-18-6a70e4b6c576>\u001b[0m in \u001b[0;36m<lambda>\u001b[0;34m(x)\u001b[0m\n\u001b[1;32m     39\u001b[0m \u001b[0;32mexcept\u001b[0m \u001b[0mKeyError\u001b[0m\u001b[0;34m:\u001b[0m\u001b[0;34m\u001b[0m\u001b[0;34m\u001b[0m\u001b[0m\n\u001b[1;32m     40\u001b[0m     \u001b[0;31m# для датасета ОБРАЗОВАЛ РУ https://huggingface.co/datasets/C0uchP0tat0/courses_obrazoval_ru\u001b[0m\u001b[0;34m\u001b[0m\u001b[0;34m\u001b[0m\u001b[0m\n\u001b[0;32m---> 41\u001b[0;31m     \u001b[0mdata\u001b[0m\u001b[0;34m[\u001b[0m\u001b[0;34m'content'\u001b[0m\u001b[0;34m]\u001b[0m \u001b[0;34m=\u001b[0m \u001b[0mdata\u001b[0m\u001b[0;34m[\u001b[0m\u001b[0;34m'content'\u001b[0m\u001b[0;34m]\u001b[0m\u001b[0;34m.\u001b[0m\u001b[0mapply\u001b[0m\u001b[0;34m(\u001b[0m\u001b[0;32mlambda\u001b[0m \u001b[0mx\u001b[0m\u001b[0;34m:\u001b[0m \u001b[0mpreprocess\u001b[0m\u001b[0;34m(\u001b[0m\u001b[0mx\u001b[0m\u001b[0;34m,\u001b[0m \u001b[0mstop_words\u001b[0m\u001b[0;34m,\u001b[0m \u001b[0mpunctuation_marks\u001b[0m\u001b[0;34m,\u001b[0m \u001b[0mmorph\u001b[0m\u001b[0;34m)\u001b[0m\u001b[0;34m)\u001b[0m\u001b[0;34m\u001b[0m\u001b[0;34m\u001b[0m\u001b[0m\n\u001b[0m\u001b[1;32m     42\u001b[0m \u001b[0;34m\u001b[0m\u001b[0m\n\u001b[1;32m     43\u001b[0m \u001b[0;31m# Разделение на признаки и метки\u001b[0m\u001b[0;34m\u001b[0m\u001b[0;34m\u001b[0m\u001b[0m\n",
            "\u001b[0;32m<ipython-input-18-6a70e4b6c576>\u001b[0m in \u001b[0;36mpreprocess\u001b[0;34m(text, stop_words, punctuation_marks, morph)\u001b[0m\n\u001b[1;32m     25\u001b[0m     \u001b[0;32mfor\u001b[0m \u001b[0mtoken\u001b[0m \u001b[0;32min\u001b[0m \u001b[0mtokens\u001b[0m\u001b[0;34m:\u001b[0m\u001b[0;34m\u001b[0m\u001b[0;34m\u001b[0m\u001b[0m\n\u001b[1;32m     26\u001b[0m         \u001b[0;32mif\u001b[0m \u001b[0mtoken\u001b[0m \u001b[0;32mnot\u001b[0m \u001b[0;32min\u001b[0m \u001b[0mpunctuation_marks\u001b[0m\u001b[0;34m:\u001b[0m\u001b[0;34m\u001b[0m\u001b[0;34m\u001b[0m\u001b[0m\n\u001b[0;32m---> 27\u001b[0;31m             \u001b[0mlemma\u001b[0m \u001b[0;34m=\u001b[0m \u001b[0mmorph\u001b[0m\u001b[0;34m.\u001b[0m\u001b[0mparse\u001b[0m\u001b[0;34m(\u001b[0m\u001b[0mtoken\u001b[0m\u001b[0;34m)\u001b[0m\u001b[0;34m[\u001b[0m\u001b[0;36m0\u001b[0m\u001b[0;34m]\u001b[0m\u001b[0;34m.\u001b[0m\u001b[0mnormal_form\u001b[0m\u001b[0;34m\u001b[0m\u001b[0;34m\u001b[0m\u001b[0m\n\u001b[0m\u001b[1;32m     28\u001b[0m             \u001b[0;32mif\u001b[0m \u001b[0mlemma\u001b[0m \u001b[0;32mnot\u001b[0m \u001b[0;32min\u001b[0m \u001b[0mstop_words\u001b[0m\u001b[0;34m:\u001b[0m\u001b[0;34m\u001b[0m\u001b[0;34m\u001b[0m\u001b[0m\n\u001b[1;32m     29\u001b[0m                 \u001b[0mpreprocessed_text\u001b[0m\u001b[0;34m.\u001b[0m\u001b[0mappend\u001b[0m\u001b[0;34m(\u001b[0m\u001b[0mlemma\u001b[0m\u001b[0;34m)\u001b[0m\u001b[0;34m\u001b[0m\u001b[0;34m\u001b[0m\u001b[0m\n",
            "\u001b[0;32m/usr/local/lib/python3.10/dist-packages/pymorphy2/analyzer.py\u001b[0m in \u001b[0;36mparse\u001b[0;34m(self, word)\u001b[0m\n\u001b[1;32m    313\u001b[0m \u001b[0;34m\u001b[0m\u001b[0m\n\u001b[1;32m    314\u001b[0m         \u001b[0;32mfor\u001b[0m \u001b[0manalyzer\u001b[0m\u001b[0;34m,\u001b[0m \u001b[0mis_terminal\u001b[0m \u001b[0;32min\u001b[0m \u001b[0mself\u001b[0m\u001b[0;34m.\u001b[0m\u001b[0m_units\u001b[0m\u001b[0;34m:\u001b[0m\u001b[0;34m\u001b[0m\u001b[0;34m\u001b[0m\u001b[0m\n\u001b[0;32m--> 315\u001b[0;31m             \u001b[0mres\u001b[0m\u001b[0;34m.\u001b[0m\u001b[0mextend\u001b[0m\u001b[0;34m(\u001b[0m\u001b[0manalyzer\u001b[0m\u001b[0;34m.\u001b[0m\u001b[0mparse\u001b[0m\u001b[0;34m(\u001b[0m\u001b[0mword\u001b[0m\u001b[0;34m,\u001b[0m \u001b[0mword_lower\u001b[0m\u001b[0;34m,\u001b[0m \u001b[0mseen\u001b[0m\u001b[0;34m)\u001b[0m\u001b[0;34m)\u001b[0m\u001b[0;34m\u001b[0m\u001b[0;34m\u001b[0m\u001b[0m\n\u001b[0m\u001b[1;32m    316\u001b[0m \u001b[0;34m\u001b[0m\u001b[0m\n\u001b[1;32m    317\u001b[0m             \u001b[0;32mif\u001b[0m \u001b[0mis_terminal\u001b[0m \u001b[0;32mand\u001b[0m \u001b[0mres\u001b[0m\u001b[0;34m:\u001b[0m\u001b[0;34m\u001b[0m\u001b[0;34m\u001b[0m\u001b[0m\n",
            "\u001b[0;32m/usr/local/lib/python3.10/dist-packages/pymorphy2/units/by_lookup.py\u001b[0m in \u001b[0;36mparse\u001b[0;34m(self, word, word_lower, seen_parses)\u001b[0m\n\u001b[1;32m     22\u001b[0m         \"\"\"\n\u001b[1;32m     23\u001b[0m         \u001b[0mres\u001b[0m \u001b[0;34m=\u001b[0m \u001b[0;34m[\u001b[0m\u001b[0;34m]\u001b[0m\u001b[0;34m\u001b[0m\u001b[0;34m\u001b[0m\u001b[0m\n\u001b[0;32m---> 24\u001b[0;31m         \u001b[0mpara_data\u001b[0m \u001b[0;34m=\u001b[0m \u001b[0mself\u001b[0m\u001b[0;34m.\u001b[0m\u001b[0mdict\u001b[0m\u001b[0;34m.\u001b[0m\u001b[0mwords\u001b[0m\u001b[0;34m.\u001b[0m\u001b[0msimilar_items\u001b[0m\u001b[0;34m(\u001b[0m\u001b[0mword_lower\u001b[0m\u001b[0;34m,\u001b[0m \u001b[0mself\u001b[0m\u001b[0;34m.\u001b[0m\u001b[0mmorph\u001b[0m\u001b[0;34m.\u001b[0m\u001b[0mchar_substitutes\u001b[0m\u001b[0;34m)\u001b[0m\u001b[0;34m\u001b[0m\u001b[0;34m\u001b[0m\u001b[0m\n\u001b[0m\u001b[1;32m     25\u001b[0m \u001b[0;34m\u001b[0m\u001b[0m\n\u001b[1;32m     26\u001b[0m         \u001b[0;32mfor\u001b[0m \u001b[0mfixed_word\u001b[0m\u001b[0;34m,\u001b[0m \u001b[0mparses\u001b[0m \u001b[0;32min\u001b[0m \u001b[0mpara_data\u001b[0m\u001b[0;34m:\u001b[0m\u001b[0;34m\u001b[0m\u001b[0;34m\u001b[0m\u001b[0m\n",
            "\u001b[0;32m/usr/local/lib/python3.10/dist-packages/dawg_python/dawgs.py\u001b[0m in \u001b[0;36msimilar_items\u001b[0;34m(self, key, replaces)\u001b[0m\n\u001b[1;32m    367\u001b[0m         \u001b[0municode\u001b[0m \u001b[0mstrings\u001b[0m\u001b[0;34m.\u001b[0m\u001b[0;34m\u001b[0m\u001b[0;34m\u001b[0m\u001b[0m\n\u001b[1;32m    368\u001b[0m         \"\"\"\n\u001b[0;32m--> 369\u001b[0;31m         \u001b[0;32mreturn\u001b[0m \u001b[0mself\u001b[0m\u001b[0;34m.\u001b[0m\u001b[0m_similar_items\u001b[0m\u001b[0;34m(\u001b[0m\u001b[0;34m\"\"\u001b[0m\u001b[0;34m,\u001b[0m \u001b[0mkey\u001b[0m\u001b[0;34m,\u001b[0m \u001b[0mself\u001b[0m\u001b[0;34m.\u001b[0m\u001b[0mdct\u001b[0m\u001b[0;34m.\u001b[0m\u001b[0mROOT\u001b[0m\u001b[0;34m,\u001b[0m \u001b[0mreplaces\u001b[0m\u001b[0;34m)\u001b[0m\u001b[0;34m\u001b[0m\u001b[0;34m\u001b[0m\u001b[0m\n\u001b[0m\u001b[1;32m    370\u001b[0m \u001b[0;34m\u001b[0m\u001b[0m\n\u001b[1;32m    371\u001b[0m \u001b[0;34m\u001b[0m\u001b[0m\n",
            "\u001b[0;32m/usr/local/lib/python3.10/dist-packages/dawg_python/dawgs.py\u001b[0m in \u001b[0;36m_similar_items\u001b[0;34m(self, current_prefix, key, index, replace_chars)\u001b[0m\n\u001b[1;32m    352\u001b[0m             \u001b[0;32mif\u001b[0m \u001b[0mindex\u001b[0m\u001b[0;34m:\u001b[0m\u001b[0;34m\u001b[0m\u001b[0;34m\u001b[0m\u001b[0m\n\u001b[1;32m    353\u001b[0m                 \u001b[0mfound_key\u001b[0m \u001b[0;34m=\u001b[0m \u001b[0mcurrent_prefix\u001b[0m \u001b[0;34m+\u001b[0m \u001b[0mkey\u001b[0m\u001b[0;34m[\u001b[0m\u001b[0mstart_pos\u001b[0m\u001b[0;34m:\u001b[0m\u001b[0;34m]\u001b[0m\u001b[0;34m\u001b[0m\u001b[0;34m\u001b[0m\u001b[0m\n\u001b[0;32m--> 354\u001b[0;31m                 \u001b[0mvalue\u001b[0m \u001b[0;34m=\u001b[0m \u001b[0mself\u001b[0m\u001b[0;34m.\u001b[0m\u001b[0m_value_for_index\u001b[0m\u001b[0;34m(\u001b[0m\u001b[0mindex\u001b[0m\u001b[0;34m)\u001b[0m\u001b[0;34m\u001b[0m\u001b[0;34m\u001b[0m\u001b[0m\n\u001b[0m\u001b[1;32m    355\u001b[0m                 \u001b[0mres\u001b[0m\u001b[0;34m.\u001b[0m\u001b[0minsert\u001b[0m\u001b[0;34m(\u001b[0m\u001b[0;36m0\u001b[0m\u001b[0;34m,\u001b[0m \u001b[0;34m(\u001b[0m\u001b[0mfound_key\u001b[0m\u001b[0;34m,\u001b[0m \u001b[0mvalue\u001b[0m\u001b[0;34m)\u001b[0m\u001b[0;34m)\u001b[0m\u001b[0;34m\u001b[0m\u001b[0;34m\u001b[0m\u001b[0m\n\u001b[1;32m    356\u001b[0m \u001b[0;34m\u001b[0m\u001b[0m\n",
            "\u001b[0;32m/usr/local/lib/python3.10/dist-packages/dawg_python/dawgs.py\u001b[0m in \u001b[0;36m_value_for_index\u001b[0;34m(self, index)\u001b[0m\n\u001b[1;32m    420\u001b[0m \u001b[0;34m\u001b[0m\u001b[0m\n\u001b[1;32m    421\u001b[0m     \u001b[0;32mdef\u001b[0m \u001b[0m_value_for_index\u001b[0m\u001b[0;34m(\u001b[0m\u001b[0mself\u001b[0m\u001b[0;34m,\u001b[0m \u001b[0mindex\u001b[0m\u001b[0;34m)\u001b[0m\u001b[0;34m:\u001b[0m\u001b[0;34m\u001b[0m\u001b[0;34m\u001b[0m\u001b[0m\n\u001b[0;32m--> 422\u001b[0;31m         \u001b[0mvalue\u001b[0m \u001b[0;34m=\u001b[0m \u001b[0msuper\u001b[0m\u001b[0;34m(\u001b[0m\u001b[0mRecordDAWG\u001b[0m\u001b[0;34m,\u001b[0m \u001b[0mself\u001b[0m\u001b[0;34m)\u001b[0m\u001b[0;34m.\u001b[0m\u001b[0m_value_for_index\u001b[0m\u001b[0;34m(\u001b[0m\u001b[0mindex\u001b[0m\u001b[0;34m)\u001b[0m\u001b[0;34m\u001b[0m\u001b[0;34m\u001b[0m\u001b[0m\n\u001b[0m\u001b[1;32m    423\u001b[0m         \u001b[0;32mreturn\u001b[0m \u001b[0;34m[\u001b[0m\u001b[0mself\u001b[0m\u001b[0;34m.\u001b[0m\u001b[0m_struct\u001b[0m\u001b[0;34m.\u001b[0m\u001b[0munpack\u001b[0m\u001b[0;34m(\u001b[0m\u001b[0mval\u001b[0m\u001b[0;34m)\u001b[0m \u001b[0;32mfor\u001b[0m \u001b[0mval\u001b[0m \u001b[0;32min\u001b[0m \u001b[0mvalue\u001b[0m\u001b[0;34m]\u001b[0m\u001b[0;34m\u001b[0m\u001b[0;34m\u001b[0m\u001b[0m\n\u001b[1;32m    424\u001b[0m \u001b[0;34m\u001b[0m\u001b[0m\n",
            "\u001b[0;32m/usr/local/lib/python3.10/dist-packages/dawg_python/dawgs.py\u001b[0m in \u001b[0;36m_value_for_index\u001b[0;34m(self, index)\u001b[0m\n\u001b[1;32m    225\u001b[0m \u001b[0;34m\u001b[0m\u001b[0m\n\u001b[1;32m    226\u001b[0m         \u001b[0mcompleter\u001b[0m\u001b[0;34m.\u001b[0m\u001b[0mstart\u001b[0m\u001b[0;34m(\u001b[0m\u001b[0mindex\u001b[0m\u001b[0;34m)\u001b[0m\u001b[0;34m\u001b[0m\u001b[0;34m\u001b[0m\u001b[0m\n\u001b[0;32m--> 227\u001b[0;31m         \u001b[0;32mwhile\u001b[0m \u001b[0mcompleter\u001b[0m\u001b[0;34m.\u001b[0m\u001b[0mnext\u001b[0m\u001b[0;34m(\u001b[0m\u001b[0;34m)\u001b[0m\u001b[0;34m:\u001b[0m\u001b[0;34m\u001b[0m\u001b[0;34m\u001b[0m\u001b[0m\n\u001b[0m\u001b[1;32m    228\u001b[0m             \u001b[0;31m# a2b_base64 doesn't support bytearray in python 2.6\u001b[0m\u001b[0;34m\u001b[0m\u001b[0;34m\u001b[0m\u001b[0m\n\u001b[1;32m    229\u001b[0m             \u001b[0;31m# so it is converted (and copied) to bytes\u001b[0m\u001b[0;34m\u001b[0m\u001b[0;34m\u001b[0m\u001b[0m\n",
            "\u001b[0;32m/usr/local/lib/python3.10/dist-packages/dawg_python/wrapper.py\u001b[0m in \u001b[0;36mnext\u001b[0;34m(self)\u001b[0m\n\u001b[1;32m    145\u001b[0m \u001b[0;34m\u001b[0m\u001b[0m\n\u001b[1;32m    146\u001b[0m                     \u001b[0mindex\u001b[0m \u001b[0;34m=\u001b[0m \u001b[0mself\u001b[0m\u001b[0;34m.\u001b[0m\u001b[0m_index_stack\u001b[0m\u001b[0;34m[\u001b[0m\u001b[0;34m-\u001b[0m\u001b[0;36m1\u001b[0m\u001b[0;34m]\u001b[0m\u001b[0;34m\u001b[0m\u001b[0;34m\u001b[0m\u001b[0m\n\u001b[0;32m--> 147\u001b[0;31m                     \u001b[0;32mif\u001b[0m \u001b[0msibling_label\u001b[0m\u001b[0;34m:\u001b[0m\u001b[0;34m\u001b[0m\u001b[0;34m\u001b[0m\u001b[0m\n\u001b[0m\u001b[1;32m    148\u001b[0m                         \u001b[0;31m# Follows a transition to the next sibling.\u001b[0m\u001b[0;34m\u001b[0m\u001b[0;34m\u001b[0m\u001b[0m\n\u001b[1;32m    149\u001b[0m                         \u001b[0mindex\u001b[0m \u001b[0;34m=\u001b[0m \u001b[0mself\u001b[0m\u001b[0;34m.\u001b[0m\u001b[0m_follow\u001b[0m\u001b[0;34m(\u001b[0m\u001b[0msibling_label\u001b[0m\u001b[0;34m,\u001b[0m \u001b[0mindex\u001b[0m\u001b[0;34m)\u001b[0m\u001b[0;34m\u001b[0m\u001b[0;34m\u001b[0m\u001b[0m\n",
            "\u001b[0;31mKeyboardInterrupt\u001b[0m: "
          ]
        }
      ]
    },
    {
      "cell_type": "code",
      "source": [
        "import joblib\n",
        "\n",
        "# Сохранение модели\n",
        "joblib.dump(w2v_pipeline, 'word2vec_pipeline.pkl')"
      ],
      "metadata": {
        "colab": {
          "base_uri": "https://localhost:8080/"
        },
        "id": "Kx95wGzsJM5m",
        "outputId": "42a146e5-c68d-49aa-da82-d841f3bc4a6a"
      },
      "execution_count": null,
      "outputs": [
        {
          "output_type": "execute_result",
          "data": {
            "text/plain": [
              "['word2vec_pipeline.pkl']"
            ]
          },
          "metadata": {},
          "execution_count": 30
        }
      ]
    },
    {
      "cell_type": "code",
      "source": [
        "import joblib\n",
        "\n",
        "# Загрузка модели\n",
        "loaded_model = joblib.load('word2vec_pipeline.pkl')\n",
        "\n",
        "# Предположим, у вас есть данные X_test\n",
        "# Вы должны загрузить X_test перед использованием модели для предсказания\n",
        "\n",
        "# Применение загруженной модели\n",
        "y_pred = loaded_model.predict(X_test)\n",
        "accuracy = accuracy_score(y_test, y_pred)\n",
        "print(\"Accuracy:\", accuracy)\n"
      ],
      "metadata": {
        "colab": {
          "base_uri": "https://localhost:8080/"
        },
        "id": "mXZLl_OVUei5",
        "outputId": "33426a5e-522c-4688-e55d-eb53f9d8e6a6"
      },
      "execution_count": null,
      "outputs": [
        {
          "output_type": "stream",
          "name": "stdout",
          "text": [
            "Accuracy: 0.9383596535914417\n"
          ]
        }
      ]
    },
    {
      "cell_type": "code",
      "source": [
        "mappingId2Label = {0:'negative', 1:'positive'}"
      ],
      "metadata": {
        "id": "SGrcfecfKzBH"
      },
      "execution_count": null,
      "outputs": []
    },
    {
      "cell_type": "code",
      "source": [
        "test_data = pd.DataFrame({\n",
        "    \"text\": [\n",
        "        \"Этот курс был удивительным! Я много узнал и преподаватель был очень компетентным.\",\n",
        "        \"Содержание курса было несвязанным и плохо объяснено.\",\n",
        "        \"Я ничего не понял в этом курсе. Потеря времени и денег.\",\n",
        "        \"Материал курса был хорошо структурирован и легко воспринимался.\",\n",
        "        \"Преподаватель казался неинтересным и не предоставлял много руководства.\",\n",
        "        \"Отличный курс! Очень рекомендую его всем, кто хочет учиться.\",\n",
        "        \"Курс был запутанным и не соответствовал моим ожиданиям.\",\n",
        "        \"Я нашел этот курс очень информативным и полезным для своей карьеры.\",\n",
        "        \"Курс был полным временем. Я ничего нового не узнал.\",\n",
        "        \"Преподаватель был заинтересованным и сделал материал легким для понимания.\",\n",
        "        \"Каки каки каки каки\"\n",
        "    ],\n",
        "    \"label\": [1, 0, 0, 1, 0, 1, 0, 1, 0, 1, 0]\n",
        "})"
      ],
      "metadata": {
        "id": "L1Yf8RMPKzc5"
      },
      "execution_count": null,
      "outputs": []
    },
    {
      "cell_type": "code",
      "source": [
        "for r in zip(test_data[\"text\"], test_data[\"label\"]):\n",
        "    preprocessed_text = preprocess(r[0], stop_words, punctuation_marks, morph)\n",
        "    predicted_label = w2v_pipeline.predict([preprocessed_text])[0]\n",
        "    print(\"Predicted label:\", predicted_label, mappingId2Label[r[1]])"
      ],
      "metadata": {
        "colab": {
          "base_uri": "https://localhost:8080/"
        },
        "id": "-WoVXYB2IS_d",
        "outputId": "53b51bd8-3d0d-4f56-cafd-147b1f11e0fe"
      },
      "execution_count": null,
      "outputs": [
        {
          "output_type": "stream",
          "name": "stdout",
          "text": [
            "Predicted label: positive positive\n",
            "Predicted label: negative negative\n",
            "Predicted label: negative negative\n",
            "Predicted label: positive positive\n",
            "Predicted label: positive negative\n",
            "Predicted label: positive positive\n",
            "Predicted label: negative negative\n",
            "Predicted label: positive positive\n",
            "Predicted label: positive negative\n",
            "Predicted label: positive positive\n",
            "Predicted label: negative negative\n"
          ]
        }
      ]
    },
    {
      "cell_type": "code",
      "source": [
        "from sklearn.metrics import f1_score\n",
        "\n",
        "# Предобработка текста\n",
        "test_data['content'] = test_data['text'].apply(lambda x: preprocess(x, stop_words, punctuation_marks, morph))\n",
        "\n",
        "# Предсказание меток для тестовых данных\n",
        "y_true = test_data['label']\n",
        "y_pred = w2v_pipeline.predict(test_data['content'])\n",
        "\n",
        "# Преобразование предсказанных меток в числовой формат\n",
        "y_pred = [1 if label == 'positive' else 0 for label in y_pred]\n",
        "\n",
        "# Оценка F1-меры\n",
        "f1 = f1_score(y_true, y_pred)\n",
        "print(\"F1-мера на тестовых данных:\", f1)"
      ],
      "metadata": {
        "colab": {
          "base_uri": "https://localhost:8080/"
        },
        "id": "6x-9zrH9UGkZ",
        "outputId": "e170c99c-1e0d-4d16-b366-b5d41cb796d7"
      },
      "execution_count": null,
      "outputs": [
        {
          "output_type": "stream",
          "name": "stdout",
          "text": [
            "F1-мера на тестовых данных: 0.8333333333333333\n"
          ]
        }
      ]
    },
    {
      "cell_type": "code",
      "source": [
        "import pandas as pd\n",
        "\n",
        "df = pd.read_csv('train_data.csv')\n",
        "\n",
        "concatenated_questions_list = []\n",
        "rel_list = []\n",
        "\n",
        "# Проходим по каждой строке и конкатенируем значения в столбцах question_1 до question_5\n",
        "for index, row in df.iterrows():\n",
        "    concatenated_questions = ' '.join(row[['question_1', 'question_2', 'question_3', 'question_4', 'question_5']])\n",
        "    concatenated_questions_list.append(concatenated_questions)\n",
        "    # print(concatenated_questions)\n",
        "\n",
        "# Проходим по каждой строке и конкатенируем значения в столбцах question_1 до question_5\n",
        "for index, row in df.iterrows():\n",
        "    # rel = ''.join(str(row['is_positive']))\n",
        "    rel = ''.join(str(row['is_relevant']))\n",
        "    rel_list.append(rel)\n",
        "print(concatenated_questions_list)\n",
        "print(rel_list)\n"
      ],
      "metadata": {
        "colab": {
          "base_uri": "https://localhost:8080/"
        },
        "id": "NvUWsn3CkBEz",
        "outputId": "2dc1e34a-5b37-478b-d4fe-bc3b70bb7403"
      },
      "execution_count": null,
      "outputs": [
        {
          "output_type": "stream",
          "name": "stdout",
          "text": [
            "['Основы программирования Интерактивный подход к изучению основ C# был очень увлекательным. Нет. Увеличить количество практических заданий для лучшего закрепления материала. Введение в разработку на .NET Framework.', 'Основы программирования Подробное объяснение логических операторов в JavaScript помогло мне лучше понять условные конструкции. Нет. Предоставить ещё больше практических задач после теории. Детальное изучение асинхронного программирования в JavaScript.', 'Основы программирования Введение в программирование на Python было простым и интуитивно понятным, особенно для начинающих. Нет. Улучшить качество видеоматериалов, иногда было трудно разглядеть код. Библиотеки Python для анализа данных и машинного обучения.', 'Основы программирования Понятное изложение основных понятий, хорошая структура материала. Да, циклы for и while были объяснены слишком быстро. Добавить видеоматериалы для самостоятельного изучения. Функциональное программирование.', 'Основы программирования Кларность и структура материала по основам JavaScript, особенно затронутые темы циклов и функций. Нет. Ввести больше примеров на работу с массивами и объектами. Работа с асинхронным кодом в JavaScript.', 'Основы программирования Простота объяснений основ Python, особенно циклов и условий, сделала занятие очень доступным. Нет. Предложить больше дополнительных материалов для самостоятельного изучения после вебинара. Подробнее о работе с API в Python.', 'Основы программирования Лектор имел забавную прическу, что отвлекало, но было весело. Да, особенно когда кот лектора прыгнул на стол. Может, начать с курса стрижки для лекторов? И убрать котов из кадра. Как сделать так, чтобы коты не мешали учёбе.', 'Продвинутые техники программирования Детальный разбор объектно-ориентированного программирования. Нет. Ввести дополнительные Q&A сессии после вебинара. Принципы SOLID в программировании.', 'Продвинутые техники программирования Разбор использования шаблонов проектирования в Java был очень подробным и полезным. Да, тема абстрактных фабрик была сложной для понимания. Организовать вебинары с более подробными примерами реализации каждого шаблона. Применение шаблонов проектирования в реальных проектах.', 'Продвинутые техники программирования Изучение сложных структур данных в Python, таких как деревья и графы, было особенно интересным. Да, работа с графами и их алгоритмами. Устроить отдельные вебинары по каждому типу структуры данных с подробными примерами. Глубокое изучение алгоритмов поиска пути и оптимизации.', 'Продвинутые техники программирования Обширное покрытие темы REST API и как они интегрируются с современными веб-приложениями было очень полезно. Да, концепции OAuth 2.0 были сложными для понимания. Больше интерактивных примеров и пошаговых руководств по реализации API. Подробности реализации микросервисов на Spring Boot и Docker.', 'Продвинутые техники программирования Глубина разбора модульного тестирования и TDD была полезной для понимания процессов разработки. Да, использование моков и стабов в тестах. Предоставить дополнительные ресурсы для изучения инструментов мокирования. Интеграционное тестирование и CI/CD пайплайны.', 'Основы программирования Ясное и чёткое объяснение базовых структур данных. Нет. Включить больше реальных примеров использования данных структур. Принципы проектирования алгоритмов.', 'Продвинутые техники программирования На вебинаре раздали виртуальные печеньки, очень мило. Нет, я был слишком занят едой. В следующий раз добавить виртуальный чай. Как запекать печенья.', 'Продвинутые техники программирования Подробный разбор применения шаблонов проектирования в реальных проектах был очень познавательным. Сложности с пониманием абстрактной фабрики. Больше практических примеров для каждого шаблона проектирования. Применение шаблонов проектирования в микросервисах.', 'Новейшие тенденции в IT Дискуссия о будущем облачных вычислений и их влиянии на ИТ-индустрию была очень проницательной. Нет. Включить больше кейс-стади от компаний, успешно интегрировавших облачные решения. Стратегии миграции предприятий в облако.', 'Новейшие тенденции в IT Обсуждение актуальных IT-трендов 2024 года. Да, тема искусственного интеллекта требует более глубокого погружения. Больше времени на сложные темы. Глубокое изучение нейронных сетей.', 'Новейшие тенденции в IT Обсуждение тенденций в разработке мобильных приложений и их влияние на рынок было весьма познавательным. Нет. Включить больше примеров успешных мобильных приложений и их стратегий монетизации. Разработка кроссплатформенных мобильных приложений.', 'Новейшие тенденции в IT Обзор последних достижений в области квантовых вычислений был впечатляющим. Да, сложность темы требует более глубокого погружения. Организовать серию вебинаров по квантовым технологиям с участием экспертов. Квантовая криптография и её практическое применение.', 'Новейшие тенденции в IT Вебинар о технологиях блокчейна и их влиянии на финансовую отрасль был глубоко информативным. Да, концепции смарт-контрактов были сложными для понимания. Ввести вебинар, полностью посвященный смарт-контрактам, с практическими примерами. Разработка и тестирование смарт-контрактов на разных платформах.', 'Новейшие тенденции в IT Обсуждение влияния облачных технологий на современные IT-структуры было особенно актуальным. Да, различия между IaaS, PaaS, и SaaS. Устроить подробный вебинар о каждой облачной модели в отдельности. Безопасность данных в облаке и лучшие практики.', 'ChatGPT для обучения как правильно пользоваться GPT чатом, для получения более развернутого ответа не было пока нет предложений затрудняюсь ответить', 'Управление персоналом Все понравилось Календарь составили так, что совместилось два обучения в одно и тоже время, что не совсем удобно Все хорошо Создания чата со студентами', 'ChatGPT для обучения Gpt чат Информация предоставлена в доступном виде Все хорошо Другие виды ИИ', 'ChatGPT для обучения Промт-Инжиниринг, это уже даёт какое-то понимание правильной формулировки вопросов для ИИ. Нет Не увидел минусов в вебинаре, очень понравился. Промт-Инжиниринг', 'ChatGPT для обучения новая информация, полезно нет не было таких моментов мне все понравилось пока затрудняюсь ответить', 'ChatGPT для обучения Светлые и темные стороны ChatGPT Не знание определений Все идеально темы по дизайну интерьера', 'Новейшие тенденции в IT Обсуждение было настолько скучным, что я научился жонглировать во время вебинара. Да, пытался понять жонглирование тремя шарами. Возможно, включить более динамичную музыку во время обсуждений. Жонглирование для начинающих.', 'Продвинутые техники программирования Глубокий анализ шаблонов проектирования на конкретных примерах. Сложно было понять шаблон Singleton. Подробнее разбирать каждый шаблон на примерах. Тестирование ПО и фреймворки для автоматизации.', 'Основы программирования Объяснение циклов и массивов в JavaScript было очень доступным и понятным. Нет. Добавить видео с разбором сложных примеров кода после вебинара. Подробнее о Node.js и серверном JavaScript.', 'Основы программирования Примеры кода были очень полезными для понимания. Нет. Предоставить дополнительные ресурсы для углубленного изучения. Базы данных и SQL.', 'Основы программирования Занятие по основам HTML и CSS было чрезвычайно полезным для понимания структуры веб-страниц. Нет. Предложить курс по продвинутым техникам CSS, включая Flexbox и Grid. Погружение в JavaScript для интерактивности веб-страниц.', 'Основы программирования Подробный разбор циклов и условных операторов в JavaScript помог укрепить мои знания. Нет. Ввести более сложные задачи для практики после вебинара. Асинхронное программирование в JavaScript и его применение в реальных проектах.', 'Основы программирования Отличное объяснение переменных, типов данных и структур в Python. Нет. Предложить дополнительные учебные материалы для глубокого изучения каждой темы. Глубокое изучение функционального программирования.', 'Основы программирования Дискуссия о том, как писать код одной рукой, была неожиданно увлекательной. Нет, это было странно интересно. Может быть, курс по печати ногами для разнообразия? Как писать код левой пяткой.', 'Основы программирования Отличное введение в основы SQL, особенно работа с JOIN-операциями. Да, сложности с пониманием внешних и внутренних соединений. Предложить более подробные учебные ресурсы и примеры запросов для практики. Оптимизация запросов SQL и анализ производительности баз данных.', 'Продвинутые техники программирования Сессия по оптимизации производительности веб-приложений дала мне новые инструменты для работы. Да, концепты кэширования данных были сложными. Углубить тему кэширования и состояния сессии в отдельном вебинаре. Работа с большими данными и их хранение.', 'Продвинутые техники программирования Затронута тема безопасности приложений, что крайне важно. Сложности с пониманием криптографических методов. Добавить примеры на кейсах из жизни. Кибербезопасность.', 'Основы программирования Отличное объяснение темы циклов и условий, всё стало на свои места. Да, сложно было понять тему рекурсии. Хотелось бы больше практических заданий по каждой теме. Глубже изучить тему работы с базами данных.', 'Продвинутые техники программирования Разбор примеров рефакторинга кода был очень практичным и полезным для понимания, как улучшить существующий код. Некоторые сложные примеры рефакторинга. Углубить материал с дополнительными кейс-стади из реальных проектов. Методы оптимизации производительности приложений.', 'Продвинутые техники программирования Очень ценно было изучить интеграцию API в большие системы, использование RESTful и GraphQL. Да, работа с GraphQL была сложнее, чем ожидалось. Провести серию практических вебинаров, специально посвященных GraphQL. Безопасность API, управление доступом и ограничения скорости запросов.', 'Новейшие тенденции в IT Интересное обсуждение применения искусственного интеллекта в нетехнических отраслях. Да, были трудности с пониманием нейросетей. Уделить больше времени основам нейросетей перед их применением. Машинное обучение и его применение в реальных условиях.', 'Продвинутые техники программирования Глубокое погружение в архитектуру REST и SOAP интерфейсов было крайне полезным для моих проектов. Нет. Организовать практические лаборатории по созданию и тестированию API. Безопасность API и использование OAuth 2.0.', 'Продвинутые техники программирования Глубокий анализ принципов SOLID и их применение в объектно-ориентированном проектировании был великолепен. Да, примеры на C# были запутанными. Организовать дополнительные сессии по практическому применению SOLID в различных языках программирования. Глубокое изучение паттернов проектирования и рефакторинга существующего кода.', 'Продвинутые техники программирования Презентация была настолько монотонной, что я научился рисовать слонов. Да, как правильно рисовать уши слона. Пожалуй, стоит добавить курс по рисованию к вебинарам, чтобы сохранить внимание слушателей. Рисование слонов в Photoshop.', 'Новейшие тенденции в IT Лекция о влиянии ИИ на автоматизацию рабочих процессов была весьма актуальной. Нет. Обсудить более подробно кейсы применения ИИ в разных отраслях. Применение ИИ для оптимизации клиентского сервиса.', 'Новейшие тенденции в IT Дискуссия о будущем искусственного интеллекта и его этических аспектах была особенно привлекательной. Да, темы моральных дилемм ИИ требовали более глубокого понимания. Устроить дебаты или панельную дискуссию с экспертами по этике ИИ, чтобы обсудить эти вопросы подробнее. Роль ИИ в управлении данными и приватности.', 'Новейшие тенденции в IT Обсуждение машинного обучения было особенно интересным. Да, темы, связанные с Big Data, остались не до конца ясны. Углубленный разбор каждой темы. Технологии Big Data.', 'Новейшие тенденции в IT Введение в искусственный интеллект и его влияние на робототехнику было захватывающим и познавательным. Да, темы построения нейросетей требовали более детального объяснения. Провести специализированные вебинары по машинному обучению и нейросетям, с практическими занятиями на реальных данных. Разработка и применение нейросетей в индустрии развлечений и медиа.', 'Новейшие тенденции в IT Доклад о последних инновациях в области искусственного интеллекта и машинного обучения был вдохновляющим. Да, сложности с пониманием концепций глубокого обучения. Провести серию вебинаров, посвященных только машинному обучению, с кейс-стади и примерами из практики. Применение ИИ в реальных бизнес-задачах.', 'Новейшие тенденции в IT Лектор использовал так много жаргонных слов, что я составил словарь. Да, пытался понять, что такое \"блокчейн\". Ввести словарь на каждом вебинаре, чтобы можно было следить за разговором. Разработка собственного жаргона для внутреннего использования.', 'Новейшие тенденции в IT Интерактивная сессия о применении ИИ в финансовом секторе была исчерпывающей и инновационной. Да, спецификации алгоритмов машинного обучения. Организовать более детальные практические занятия по настройке ИИ. Этические аспекты использования ИИ в финансах.', 'Основы программирования Отличное введение в язык программирования Java, особенно раздел про исключения. Нет. Добавить больше задач на практику после каждой темы. Глубокое изучение многопоточности в Java.', 'Основы программирования Ясное объяснение функций и методов в Python помогло мне лучше понять объектно-ориентированное программирование. Нет. Разработать интерактивные лабораторные работы для лучшего усвоения материала. Глубокое изучение Python для научных вычислений.', 'Знакомство с языком Python В теме понравилось, то что обсуждается распространенный среди аналитиков инструмент - Colab Да такие моменты были. Не были раскрыты следующие темы:1. Что такое Колаб? 2. Описание интерфейса и правил работы с Колаб. 3. Для чего он нужен. 4. Функции Колаб. 5. Библиотеки Колаб. 6. Как открыть Колаб в Вижуал Студио. 7. Как установить модули для открытия Колаб в Вижуал Студио. Это первое что пришло на ум. Кстати не зря вам прислали ссылку на урок. Под уроком есть много комментариев недовольных пользователей. Рассказать о том о чем я рассказал в предыдущем вопросе: 1. Что такое Колаб? 2. Описание интерфейса и правил работы с Колаб. 3. Для чего он нужен. 4. Функции Колаб. 5. Библиотеки Колаб. 6. Как открыть Колаб в Вижуал Студио. 7. Как установить модули для открытия Колаб в Вижуал Студио. Библиотеки Колаб', 'Знакомство с языком Python Материал доступен Я не понимаю, зачем мне python Я учуст на Frontend разработчика, зачем мне питон? Дайте мне JS Хочу учить JS', 'Основы программирования Объяснения понятий переменных, типов данных и операторов в Java были ясными и тщательными. Нет. Добавить больше упражнений на практическое применение изученных концепций. Подробное изучение Java для Android-разработки.', 'Основы программирования Ясное и прямолинейное объяснение условных операторов и циклов в C++. Нет. Включить больше комплексных задач для практических занятий. Разработка игр на C++.', 'Основы программирования Подробный разбор процессов компиляции и интерпретации в различных языках программирования был полезен. Да, детали JIT компиляции в Java. Предложить дополнительные материалы для самостоятельного изучения и видео о внутреннем устройстве компиляторов. Подробнее о механизмах управления памятью в современных языках.', 'Основы программирования Легкость доступа к материалам и их понятность. Да, темы алгоритмов требуют больше времени на разбор. Увеличить продолжительность вебинаров. Алгоритмы и структуры данных.', 'Основы программирования Чипи чипи лувиви Ламалама Котик танцует как преподователь Как научить котика танцевать?', 'Основы программирования Лекция о базах данных SQL была очень информативной, особенно раздел о связях и нормализации. Нет. Улучшить визуальные материалы, добавить больше диаграмм и примеров из реальной жизни. Глубокое изучение NoSQL баз данных и их использование в больших данных.', 'Основы программирования Обсуждение ошибок кода было таким скучным, что я составил список фильмов к просмотру. Да, каждый раз, когда слово \"ошибка\" упоминалось. Может быть, провести кинопоказ вместо следующего вебинара? Фильмы, которые каждый программист должен видеть.', 'Основы программирования Майкнафт вспомнили, прослезился Добавьте Херобрина Херобрииин МАМААА', 'Продвинутые техники программирования Вводная часть о машинном обучении была очень информативной и понятной. Нет, материал был представлен доступно. Хотелось бы уделить больше времени вопросам безопасности при программировании. Технологии блокчейн и их применение в программировании.', 'Продвинутые техники программирования Введение в микросервисы было крайне полезным для понимания современных архитектурных подходов. Да, раздел о контейнеризации был сложным. Провести дополнительный вебинар по Docker и Kubernetes. Подробности о развертывании приложений в облаке.', 'Продвинутые техники программирования Вебинар по агил-методологиям и их применению в проектном управлении был чрезвычайно полезен. Да, разбор Scrum и Kanban мог быть более детализированным. Провести отдельные сессии по каждой агил-методологии с практическими примерами их использования. Адаптация агил-методологий в крупных организациях.', 'Продвинутые техники программирования Изучение техник отладки и профилирования приложений на Java было особенно полезным для улучшения производительности. Нет. Организовать воркшопы, где участники могут применять эти техники на практике под руководством опытных разработчиков. Углубленное изучение инструментов профилирования и отладки.', 'Продвинутые техники программирования Хорошее объяснение принципов проектирования ПО. Сложности с примерами рефакторинга. Добавить рабочие листы для отработки материала. Принципы проектирования интерфейсов.', 'Продвинутые техники программирования Разбор использования Docker и Kubernetes для развертывания приложений дал мне ценные знания для работы. Сложности с настройкой Kubernetes. Провести дополнительные сессии, посвященные только Kubernetes, с демонстрацией живого развертывания. Подробное изучение микросервисной архитектуры.', 'Продвинутые техники программирования Сессия по оптимизации SQL запросов была чрезвычайно полезна для улучшения производительности баз данных. Нет. Предоставить доступ к онлайн тренажеру для оттачивания навыков написания и оптимизации SQL запросов. Глубокое понимание индексов и их влияние на производительность.', 'Новейшие тенденции в IT Презентация о развитии кибербезопасности и новых методах защиты информации была крайне информативной. Нет. Предложить серию вебинаров, посвященных подробному разбору инструментов защиты данных. Новые технологии в области защиты персональных данных.', 'Продвинутые техники программирования Сессия по безопасности веб-приложений была не только образовательной, но и очень актуальной. Да, детали XSS и CSRF атак были сложными для понимания. Разработать серию вебинаров, посвященных только кибербезопасности, с практическими упражнениями и тестами. Продвинутые методы защиты данных и инфраструктуры.', 'Новейшие тенденции в IT Освещение прогресса в технологии блокчейн и её применения в различных секторах экономики было проницательным. Да, объяснения функционирования сетей блокчейн. Подробнее разбирать техническую сторону блокчейн технологий на примерах успешных проектов. Разработка на базе Ethereum, включая создание смарт-контрактов.', 'Новейшие тенденции в IT Обсуждение влияния квантовых компьютеров на будущее криптографии было захватывающим. Сложности с пониманием квантовой физики. Обеспечить базовый вводный курс по квантовой механике перед этой темой. Квантовое программирование и его будущее.', 'Новейшие тенденции в IT Презентация о влиянии блокчейн технологий на безопасность данных была крайне просветляющей. Да, концепты шифрования в блокчейне. Организовать тематический вебинар о криптографии, используемой в блокчейне. Разработка смарт-контрактов и их безопасность.', 'Новейшие тенденции в IT Введение в технологии распределенных систем и их применение в разных отраслях было захватывающим. Да, концепции консенсуса в блокчейне были трудными для понимания. Организовать технические воркшопы по каждой теме вебинара для глубокого понимания. Распределенные вычисления и их применение в больших данных.', 'Основы программирования Изучение основных принципов создания пользовательских интерфейсов на React было практичным и актуальным. Да, сложности с Redux для управления состоянием. Устроить дополнительные вебинары по Redux и контексту React для глубокого понимания управления состоянием. Разработка сложных интерактивных веб-приложений на React.', 'Основы программирования Ильнар Шафигуллин большой молодец нет Чаще ставить преподователя на вебинары Больше примеров с уточкой', 'Новейшие тенденции в IT Обсуждение влияния больших данных на современный маркетинг было очень проницательным. Да, вопросы обработки и анализа больших объемов данных были запутанными. Предложить курсы по аналитике данных с использованием специализированных инструментов, таких как Hadoop или Spark. Методы визуализации данных для бизнес-анализа.', 'Новейшие тенденции в IT Презентация новых технологий в визуализации данных. Некоторые примеры были слишком сложны для понимания. Менее загруженные слайды, больше практики. Интерактивная визуализация данных.', 'Основы программирования Обучение эффективным методам написания чистого кода в Python было крайне полезным для моих проектов. Нет. Устроить регулярные сессии код-ревью с опытными разработчиками для обмена опытом и лучшими практиками. Принципы разработки программного обеспечения по методологии Agile.', 'Основы программирования Понравилась харизма преподователя нет, не было Все прошло хорошо Про алгоритмы интересно и устройство процессора', 'Основы программирования Преподователь супер нет Преподователь вырулил все недостатки Не знаю, дальше по программе обучения двигаться', 'Основы программирования Занятие по алгоритмам сортировки было насыщено множеством практических примеров, что упростило понимание. Да, быстрая сортировка требовала более тщательного объяснения. Предложить дополнительные видеоуроки по каждому типу алгоритмов сортировки с подробными примерами кода. Продвинутые алгоритмы и структуры данных, такие как деревья и графы.', 'Основы программирования Разбор методов коллекций в Java был исключительно полезен для понимания работы со списками и множествами. Да, методы Stream API. Разработать детальный курс по работе с Stream API в Java, включая практические примеры. Глубокое изучение многопоточности в Java.', 'Основы программирования Интерактивный подход преподавателя позволил лучше усвоить информацию. Нет, все было понятно. Хотелось бы более подробные материалы для самостоятельного изучения. Больше практических задач на алгоритмы.', 'Основы программирования Чёткое объяснение парадигмы функционального программирования на примере Scala. Да, концепции чистых функций и неизменяемости были запутанными. Устраивать сессии вопросов и ответов после сложных тем. Функциональные языки программирования как Haskell.', 'Основы программирования Освежающий подход к изучению JavaScript, особенно в части ES6+ функционала, был весьма стимулирующим. Нет. Увеличить количество заданий на кодирование в реальном времени для лучшего усвоения материала. Современные фронтенд технологии, такие как React и Angular.', 'Основы программирования Задания для самостоятельной работы помогли закрепить материал. Да, темы объектно-ориентированного программирования были сложными. Больше времени на практические упражнения. Работа с исключениями в программировании.', 'Основы программирования Понравилось как он рассказывает Ха затруднения Удалите эти эфиры все и займитесь нормальным уже делом Не надо мне тему', 'Продвинутые техники программирования Глубина разбора кейсов из реальной практики. Некоторые технические термины не были объяснены. Больше времени уделять базовым концепциям для новичков. Искусственный интеллект в области здравоохранения.', 'Новейшие тенденции в IT Разнообразие примеров из реального мира помогло лучше понять применение теории. Да, разбор паттернов проектирования был слишком быстрым. Меньше теории, больше практики. Сделать вебинары более интерактивными с возможностью задавать вопросы в реальном времени. Изучение разработки виртуальной и дополненной реальности.', 'Новейшие тенденции в IT Преподователь Арбуз Преподователь красный внутри Арбуз хочу Арбуз я покушать я люблю, семки все я исплюю', 'Новейшие тенденции в IT Я не люблю все это Шли вы Платити мани мани студентам как мани поднять', 'Продвинутые техники программирования Разбор техник оптимизации кода на C++ был очень глубоким и практичным. Нет. Предложить материалы для дополнительного изучения сложных тем. Оптимизация и производительность программ на низком уровне.', 'Основы программирования Примеры реального использования паттернов проектирования в .NET были очень ценными. Нет. Больше времени на анализ кода в примерах, меньше теории. Паттерны проектирования для микросервисных архитектур.', 'Основы программирования Зазнался преподователь Напыщенный преподователь Уважение Вопрос к воспитанию преподователя', 'Основы программирования Преподователь раз такой умный , зачем за гроши работаешь? Унижение Уважать студентов и не хамить К преподователю', 'Новейшие тенденции в IT Очень понравилось изучение применения технологий виртуальной реальности в образовании. Да, тема разработки контента для VR была недостаточно подробна. Организовать практические занятия по созданию VR-контента. Разработка приложений для виртуальной реальности.', 'Новейшие тенденции в IT Очень подробный разбор сложных концепций. Сложности с пониманием асинхронного программирования. Нужно больше примеров из жизни. Разработка мобильных приложений.', 'Java api браузеров Понравилась тема Да, преподователь нес чушь и путался в своих же словах Поменяйте преподователя Хотел бы повторить тему Java коллекции', 'Java api браузеров Понравился методический вебинар Преподователь сошел с ума Я думаю с другим преподователем я получил бы больше знаний Хочу перепройти вебинар с другим преподователем']\n",
            "['1', '1', '1', '1', '1', '1', '0', '1', '1', '1', '1', '1', '1', '0', '1', '1', '1', '1', '1', '1', '1', '0', '1', '1', '1', '1', '1', '0', '1', '1', '1', '1', '1', '1', '0', '1', '1', '1', '1', '1', '1', '1', '1', '1', '0', '1', '1', '1', '1', '1', '0', '1', '1', '1', '1', '1', '1', '1', '1', '1', '0', '1', '0', '0', '1', '1', '1', '1', '1', '1', '1', '1', '1', '1', '1', '1', '1', '1', '1', '1', '1', '1', '1', '1', '1', '1', '1', '1', '1', '1', '0', '1', '1', '0', '0', '1', '1', '1', '1', '1', '1', '1', '1']\n"
          ]
        }
      ]
    },
    {
      "cell_type": "code",
      "source": [
        "from sklearn.metrics import f1_score\n",
        "\n",
        "# Предобработка текста\n",
        "# test_data_content_ = concatenated_questions_list.(lambda x: preprocess(x, stop_words, punctuation_marks, morph))\n",
        "test_data_content_ = list(map(lambda x: preprocess(x, stop_words, punctuation_marks, morph), concatenated_questions_list))\n",
        "print(test_data_content_)\n",
        "\n",
        "# Предсказание меток для тестовых данных\n",
        "y_true = [1 if label == '1' else 0 for label in rel_list]\n",
        "y_pred = w2v_pipeline.predict(test_data_content_)\n",
        "print(y_pred)\n",
        "\n",
        "# # Преобразование предсказанных меток в числовой формат\n",
        "y_pred = [1 if label == 'positive' else 0 for label in y_pred]\n",
        "\n",
        "# Оценка F1-меры\n",
        "f1 = f1_score(y_true, y_pred)\n",
        "print(\"F1-мера на тестовых данных:\", f1)"
      ],
      "metadata": {
        "colab": {
          "base_uri": "https://localhost:8080/"
        },
        "id": "kjLp0ai-kTql",
        "outputId": "260f80c2-3635-4cea-9f5c-d081bfdbc002"
      },
      "execution_count": null,
      "outputs": [
        {
          "output_type": "stream",
          "name": "stdout",
          "text": [
            "['основа программирование интерактивный подход изучение основа c # очень увлекательный увеличить количество практический задание хороший закрепление материал введение разработка .net framework', 'основа программирование подробный объяснение логический оператор javascript помочь хороший понять условный конструкция предоставить ещё большой практический задача теория детальный изучение асинхронный программирование javascript', 'основа программирование введение программирование python простой интуитивно понятный особенно начинающий улучшить качество видеоматериал трудно разглядеть код библиотека python анализ данные машинный обучение', 'основа программирование понятный изложение основный понятие хороший структура материал цикл for while объяснить слишком быстро добавить видеоматериал самостоятельный изучение функциональный программирование', 'основа программирование кларность структура материал основа javascript особенно затронуть тема цикл функция ввести большой пример работа массив объект работа асинхронный код javascript', 'основа программирование простота объяснение основа python особенно цикл условие сделать занятие очень доступный предложить большой дополнительный материал самостоятельный изучение вебинар подробный работа api python', 'основа программирование лектор иметь забавный причёска отвлекать весело особенно кот лектор прыгнуть стол мочь начать курс стрижка лектор убрать кот кадр сделать кот мешать учёба', 'продвинуть техника программирование детальный разбор объектно-ориентированный программирование ввести дополнительный q & a сессия вебинар принцип solid программирование', 'продвинуть техника программирование разбор использование шаблон проектирование java очень подробный полезный тема абстрактный фабрика сложный понимание организовать вебинар подробный пример реализация каждый шаблон применение шаблон проектирование реальный проект', 'продвинуть техника программирование изучение сложный структура данные python дерево граф особенно интересный работа граф алгоритм устроить отдельный вебинар каждый тип структура данные подробный пример глубокий изучение алгоритм поиск путь оптимизация', 'продвинуть техника программирование обширный покрытие тема rest api интегрироваться современный веб-приложение очень полезно концепция oauth 2.0 сложный понимание большой интерактивный пример пошаговый руководство реализация api подробность реализация микросервис spring boot docker', 'продвинуть техника программирование глубина разбор модульный тестирование tdd полезный понимание процесс разработка использование мокова стабов тест предоставить дополнительный ресурс изучение инструмент мокирование интеграционный тестирование ci/cd пайплайна', 'основа программирование ясный чёткий объяснение базовый структура данные включить большой реальный пример использование данные структура принцип проектирование алгоритм', 'продвинуть техника программирование вебинар раздать виртуальный печенька очень мило слишком занятый еда следующий добавить виртуальный чай запекать печение', 'продвинуть техника программирование подробный разбор применение шаблон проектирование реальный проект очень познавательный сложность понимание абстрактный фабрика большой практический пример каждый шаблон проектирование применение шаблон проектирование микросервис', 'новый тенденция it дискуссия будущее облачный вычисление влияние ит-индустрия очень проницательный включить большой кейс-стади компания успешно интегрировать облачный решение стратегия миграция предприятие облако', 'новый тенденция it обсуждение актуальный it-тренд 2024 год тема искусственный интеллект требовать глубокий погружение большой время сложный тема глубокий изучение нейронный сеть', 'новый тенденция it обсуждение тенденция разработка мобильный приложение влияние рынок весьма познавательный включить большой пример успешный мобильный приложение стратегия монетизация разработка кроссплатформенный мобильный приложение', 'новый тенденция it обзор последний достижение область квантовый вычисление впечатляющий сложность тема требовать глубокий погружение организовать серия вебинар квантовый технология участие эксперт квантовый криптография её практический применение', 'новый тенденция it вебинар технология блокчейн влияние финансовый отрасль глубоко информативный концепция смарта-контракт сложный понимание ввести вебинар полностью посвятить смарт-контракт практический пример разработка тестирование смарта-контракт разный платформа', 'новый тенденция it обсуждение влияние облачный технология современный it-структура особенно актуальный различие iaas paas saas устроить подробный вебинар каждый облачный модель отдельность безопасность данные облако хороший практика', 'chatgpt обучение правильно пользоваться gpt чат получение развернуть ответ пока предложение затрудняться ответить', 'управление персонал всё понравиться календарь составить совместиться обучение время удобно всё создание чат студент', 'chatgpt обучение gpt чат информация предоставить доступный вид всё вид ия', 'chatgpt обучение промт-инжиниринг это давать какой-то понимание правильный формулировка вопрос ия увидеть минус вебинар очень понравиться промт-инжиниринг', 'chatgpt обучение новый информация полезно момент всё понравиться пока затрудняться ответить', 'chatgpt обучение светлый тёмный сторона chatgpt знание определение всё идеально тема дизайн интерьер', 'новый тенденция it обсуждение настолько скучный научиться жонглировать время вебинар пытаться понять жонглирование шар возможно включить динамичный музыка время обсуждение жонглирование начинающий', 'продвинуть техника программирование глубокий анализ шаблон проектирование конкретный пример сложно понять шаблон singleton подробный разбирать каждый шаблон пример тестирование фреймворк автоматизация', 'основа программирование объяснение цикл массив javascript очень доступный понятный добавить видео разбор сложный пример код вебинар подробный node.js серверный javascript', 'основа программирование пример код очень полезный понимание предоставить дополнительный ресурс углублённый изучение база данные sql', 'основа программирование занятие основа html css чрезвычайно полезный понимание структура веб-страница предложить курс продвинуть техника css включая flexbox grid погружение javascript интерактивность веб-страница', 'основа программирование подробный разбор цикл условный оператор javascript помочь укрепить знание ввести сложный задача практика вебинар асинхронный программирование javascript применение реальный проект', 'основа программирование отличный объяснение переменный тип данные структура python предложить дополнительный учебный материал глубокий изучение каждый тема глубокий изучение функциональный программирование', 'основа программирование дискуссия писать код рука неожиданно увлекательный это странно интересно мочь курс печать нога разнообразие писать код левый пятка', 'основа программирование отличный введение основа sql особенно работа join-операция сложность понимание внешний внутренний соединение предложить подробный учебный ресурс пример запрос практика оптимизация запрос sql анализ производительность база данные', 'продвинуть техника программирование сессия оптимизация производительность веб-приложение дать новый инструмент работа концепт кэширование данные сложный углубить тема кэширование состояние сессия отдельный вебинар работа больший данные хранение', 'продвинуть техника программирование затронуть тема безопасность приложение крайне важно сложность понимание криптографический метод добавить пример кейс жизнь кибербезопасность', 'основа программирование отличный объяснение тема цикл условие всё стать свой место сложно понять тема рекурсия хотеться большой практический задание каждый тема глубокий изучить тема работа база данные', 'продвинуть техника программирование разбор пример рефакторинг код очень практичный полезный понимание улучшить существующий код некоторый сложный пример рефакторинг углубить материал дополнительный кейс-стади реальный проект метод оптимизация производительность приложение', 'продвинуть техника программирование очень ценный изучить интеграция api больший система использование restful graphql работа graphql сложный ожидаться провести серия практический вебинар специально посвятить graphql безопасность api управление доступ ограничение скорость запрос', 'новый тенденция it интересный обсуждение применение искусственный интеллект нетехнический отрасль трудность понимание нейросеть уделить большой время основа нейросеть применение машинный обучение применение реальный условие', 'продвинуть техника программирование глубокий погружение архитектура rest soap интерфейс крайне полезный проект организовать практический лаборатория создание тестирование api безопасность api использование oauth 2.0', 'продвинуть техника программирование глубокий анализ принцип solid применение объектно-ориентированный проектирование великолепный пример c # запутать организовать дополнительный сессия практический применение solid различный язык программирование глубокий изучение паттерн проектирование рефакторинг существующий код', 'продвинуть техника программирование презентация настолько монотонный научиться рисовать слон правильно рисовать ухо слон пожалуй стоить добавить курс рисование вебинар сохранить внимание слушатель рисование слон photoshop', 'новый тенденция it лекция влияние ия автоматизация рабочий процесс весьма актуальный обсудить подробно кейс применение ия разный отрасль применение ия оптимизация клиентский сервис', 'новый тенденция it дискуссия будущее искусственный интеллект этический аспект особенно привлекательный тема моральный дилемма ия требовать глубокий понимание устроить дебаты панельный дискуссия эксперт этика ия обсудить вопрос подробный роль ия управление данные приватность', 'новый тенденция it обсуждение машинный обучение особенно интересный тема связанный big data остаться конец ясный углублённый разбор каждый тема технология big data', 'новый тенденция it введение искусственный интеллект влияние робототехника захватывать познавательный тема построение нейросеть требовать детальный объяснение провести специализировать вебинар машинный обучение нейросеть практический занятие реальный данные разработка применение нейросеть индустрия развлечение медиа', 'новый тенденция it доклад последний инновация область искусственный интеллект машинный обучение вдохновлять сложность понимание концепция глубокий обучение провести серия вебинар посвятить машинный обучение кейс-стади пример практика применение ия реальный бизнес-задача', \"новый тенденция it лектор использовать жаргонный слово составить словарь пытаться понять `` блокчейн '' ввести словарь каждый вебинар следить разговор разработка собственный жаргон внутренний использование\", 'новый тенденция it интерактивный сессия применение ия финансовый сектор исчерпывающий инновационный спецификация алгоритм машинный обучение организовать детальный практический занятие настройка ия этический аспект использование ия финансы', 'основа программирование отличный введение язык программирование java особенно раздел исключение добавить большой задача практика каждый тема глубокий изучение многопоточность java', 'основа программирование ясный объяснение функция метод python помочь хороший понять объектно-ориентированный программирование разработать интерактивный лабораторный работа хороший усвоение материал глубокий изучение python научный вычисление', 'знакомство язык python тема понравиться обсуждаться распространить среди аналитик инструмент colab момент раскрыть следующий темы:1. колабнуть 2. описание интерфейс правило работа колабнуть 3. нужный 4. функция колабнуть 5. библиотека колабнуть 6. открыть колабнуть вижуал студио 7. установить модуль открытие колабнуть вижуал студио это первый прийти ум кстати зря прислать ссылка урок урок комментарий недовольный пользователь рассказать рассказать предыдущий вопрос 1. колабнуть 2. описание интерфейс правило работа колабнуть 3. нужный 4. функция колабнуть 5. библиотека колабнуть 6. открыть колабнуть вижуал студио 7. установить модуль открытие колабнуть вижуал студио библиотека колабнуть', 'знакомство язык python материал доступный понимать python учуст frontend разработчик питон дать js хотеть учить js', 'основа программирование объяснение понятие переменный тип данные оператор java ясный тщательный добавить большой упражнение практический применение изучить концепция подробный изучение java android-разработка', 'основа программирование ясный прямолинейный объяснение условный оператор цикл c++ включить большой комплексный задача практический занятие разработка игра c++', 'основа программирование подробный разбор процесс компиляция интерпретация различный язык программирование полезный деталь jit компиляция java предложить дополнительный материал самостоятельный изучение видео внутренний устройство компилятор подробный механизм управление память современный язык', 'основа программирование лёгкость доступ материал понятность тема алгоритм требовать большой время разбор увеличить продолжительность вебинар алгоритм структура данные', 'основа программирование чипеть чипеть лувиви ламалам котик танцевать преподователь научить котик танцевать', 'основа программирование лекция база данные sql очень информативный особенно раздел связь нормализация улучшить визуальный материал добавить большой диаграмма пример реальный жизнь глубокий изучение nosql база данные использование больший данные', \"основа программирование обсуждение ошибка код скучный составить список фильм просмотр каждый слово `` ошибка '' упоминаться мочь провести кинопоказ вместо следующий вебинар фильм который каждый программист должный видеть\", 'основа программирование майкнафт вспомнить прослезиться добавить херобрина херобрииина мамааа', 'продвинуть техника программирование вводный часть машинный обучение очень информативный понятный материал представить доступно хотеться уделить большой время вопрос безопасность программирование технология блокчейн применение программирование', 'продвинуть техника программирование введение микросервис крайне полезный понимание современный архитектурный подход раздел контейнеризация сложный провести дополнительный вебинар docker kubernetes подробность развёртывание приложение облако', 'продвинуть техника программирование вебинар агил-методология применение проектный управление чрезвычайно полезный разбор scrum kanban мочь детализировать провести отдельный сессия каждый агил-методология практический пример использование адаптация агил-методология крупный организация', 'продвинуть техника программирование изучение техника отладка профилирование приложение java особенно полезный улучшение производительность организовать воркшоп участник мочь применять техника практика руководство опытный разработчик углублённый изучение инструмент профилирование отладка', 'продвинуть техника программирование хороший объяснение принцип проектирование сложность пример рефакторинг добавить рабочий лист отработка материал принцип проектирование интерфейс', 'продвинуть техника программирование разбор использование docker kubernetes развёртывание приложение дать ценный знание работа сложность настройка kubernetes провести дополнительный сессия посвятить kubernetes демонстрация живой развёртывание подробный изучение микросервисный архитектура', 'продвинуть техника программирование сессия оптимизация sql запрос чрезвычайно полезный улучшение производительность база данные предоставить доступ онлайн тренажёр оттачивание навык написание оптимизация sql запрос глубокий понимание индекс влияние производительность', 'новый тенденция it презентация развитие кибербезопасность новый метод защита информация крайне информативный предложить серия вебинар посвятить подробный разбор инструмент защита данные новый технология область защита персональный данные', 'продвинуть техника программирование сессия безопасность веб-приложение образовательный очень актуальный деталь xss csrf атака сложный понимание разработать серия вебинар посвятить кибербезопасность практический упражнение тест продвинуть метод защита данные инфраструктура', 'новый тенденция it освещение прогресс технология блокчейн её применение различный сектор экономика проницательный объяснение функционирование сеть блокчейн подробный разбирать технический сторона блокчейн технология пример успешный проект разработка база ethereum включая создание смарта-контракт', 'новый тенденция it обсуждение влияние квантовый компьютер будущее криптография захватывать сложность понимание квантовый физика обеспечить базовый вводный курс квантовый механика тема квантовый программирование будущее', 'новый тенденция it презентация влияние блокчейн технология безопасность данные крайне просветлять концепт шифрование блокчейн организовать тематический вебинар криптография использовать блокчейн разработка смарта-контракт безопасность', 'новый тенденция it введение технология распределённый система применение разный отрасль захватывать концепция консенсус блокчейн трудный понимание организовать технический воркшоп каждый тема вебинар глубокий понимание распределённый вычисление применение больший данные', 'основа программирование изучение основный принцип создание пользовательский интерфейс react практичный актуальный сложность redux управление состояние устроить дополнительный вебинар redux контекст react глубокий понимание управление состояние разработка сложный интерактивный веб-приложение react', 'основа программирование ильнара шафигуллин большой молодец частый ставить преподователь вебинар большой пример уточка', 'новый тенденция it обсуждение влияние больший данные современный маркетинг очень проницательный вопрос обработка анализ больший объём данные запутать предложить курс аналитик данные использование специализированный инструмент hadoop spark метод визуализация данные бизнес-анализ', 'новый тенденция it презентация новый технология визуализация данные некоторый пример слишком сложный понимание менее загрузить слайд большой практика интерактивный визуализация данные', 'основа программирование обучение эффективный метод написание чистый код python крайне полезный проект устроить регулярный сессия код-ревить опытный разработчик обмен опыт хороший практика принцип разработка программный обеспечение методология agile', 'основа программирование понравиться харизма преподователь всё пройти алгоритм интересно устройство процессор', 'основа программирование преподователь супер преподователь вырулить всё недостаток знать далёкий программа обучение двигаться', 'основа программирование занятие алгоритм сортировка насытить множество практический пример упростить понимание быстрый сортировка требовать тщательный объяснение предложить дополнительный видеоурок каждый тип алгоритм сортировка подробный пример код продвинуть алгоритм структура данные дерево граф', 'основа программирование разбор метод коллекция java исключительно полезный понимание работа список множество метод stream api разработать детальный курс работа stream api java включая практический пример глубокий изучение многопоточность java', 'основа программирование интерактивный подход преподаватель позволить хороший усвоить информация всё понятно хотеться подробный материал самостоятельный изучение большой практический задача алгоритм', 'основа программирование чёткий объяснение парадигма функциональный программирование пример scala концепция чистый функция неизменяемость запутать устраивать сессия вопрос ответ сложный функциональный язык программирование haskell', 'основа программирование освежать подход изучение javascript особенно часть es6+ функционал весьма стимулировать увеличить количество задание кодирование реальный время хороший усвоение материал современный фронтенд технология react angular', 'основа программирование задание самостоятельный работа помочь закрепить материал тема объектно-ориентированный программирование сложный большой время практический упражнение работа исключение программирование', 'основа программирование понравиться рассказывать ха затруднение удалить эфир всё заняться нормальный дело тема', 'продвинуть техника программирование глубина разбор кейс реальный практика некоторый технический термин объяснить большой время уделять базовый концепция новичок искусственный интеллект область здравоохранение', 'новый тенденция it разнообразие пример реальный мир помочь хороший понять применение теория разбор паттерн проектирование слишком быстрый маленький теория большой практика сделать вебинар интерактивный возможность задавать вопрос реальный время изучение разработка виртуальный дополнить реальность', 'новый тенденция it преподователь арбуз преподователь красный внутри арбуз хотеть арбуз покушать любить сёмкий всё исплевать', 'новый тенденция it любить всё это идти платити маня маня студент маня поднять', 'продвинуть техника программирование разбор техника оптимизация код c++ очень глубокий практичный предложить материал дополнительный изучение сложный оптимизация производительность программа низкий уровень', 'основа программирование пример реальный использование паттерн проектирование .net очень ценный большой время анализ код пример маленький теория паттерн проектирование микросервисный архитектура', 'основа программирование зазнаться преподователь напыщенный преподователь уважение вопрос воспитание преподователь', 'основа программирование преподователь умный грош работать унижение уважать студент хамить преподователь', 'новый тенденция it очень понравиться изучение применение технология виртуальный реальность образование тема разработка контент vr недостаточно подробный организовать практический занятие создание vr-контент разработка приложение виртуальный реальность', 'новый тенденция it очень подробный разбор сложный концепция сложность понимание асинхронный программирование нужно большой пример жизнь разработка мобильный приложение', 'java api браузер понравиться тема преподователь нести чушь путаться свой слово поменять преподователь хотеть повторить тема java коллекция', 'java api браузер понравиться методический вебинар преподователь сойти ум думать преподователь получить большой знание хотеть перепройти вебинар преподователь']\n",
            "['positive' 'positive' 'positive' 'positive' 'positive' 'positive'\n",
            " 'positive' 'positive' 'positive' 'positive' 'positive' 'positive'\n",
            " 'positive' 'negative' 'positive' 'positive' 'positive' 'positive'\n",
            " 'positive' 'positive' 'positive' 'negative' 'positive' 'positive'\n",
            " 'positive' 'positive' 'positive' 'positive' 'positive' 'positive'\n",
            " 'positive' 'positive' 'positive' 'positive' 'positive' 'positive'\n",
            " 'positive' 'positive' 'positive' 'positive' 'positive' 'positive'\n",
            " 'positive' 'positive' 'positive' 'positive' 'positive' 'positive'\n",
            " 'positive' 'positive' 'positive' 'positive' 'positive' 'positive'\n",
            " 'positive' 'positive' 'positive' 'positive' 'positive' 'positive'\n",
            " 'positive' 'positive' 'positive' 'positive' 'positive' 'positive'\n",
            " 'positive' 'positive' 'positive' 'positive' 'positive' 'positive'\n",
            " 'positive' 'positive' 'positive' 'positive' 'positive' 'positive'\n",
            " 'positive' 'positive' 'positive' 'positive' 'positive' 'positive'\n",
            " 'positive' 'positive' 'positive' 'positive' 'positive' 'positive'\n",
            " 'positive' 'positive' 'positive' 'positive' 'positive' 'positive'\n",
            " 'positive' 'positive' 'positive' 'positive' 'positive' 'positive'\n",
            " 'positive']\n",
            "F1-мера на тестовых данных: 0.9424083769633509\n"
          ]
        }
      ]
    },
    {
      "cell_type": "markdown",
      "source": [
        "### Код is_relevant"
      ],
      "metadata": {
        "id": "X7UoNt7BLqY7"
      }
    },
    {
      "cell_type": "code",
      "source": [
        "import pandas as pd\n",
        "\n",
        "df = pd.read_csv('train_data.csv')\n",
        "\n",
        "concatenated_questions_list = []\n",
        "rel_list = []\n",
        "\n",
        "# Проходим по каждой строке и конкатенируем значения в столбцах question_1 до question_5\n",
        "for index, row in df.iterrows():\n",
        "    concatenated_questions = ' '.join(row[['question_1', 'question_2', 'question_3', 'question_4', 'question_5']])\n",
        "    concatenated_questions_list.append(concatenated_questions)\n",
        "    # print(concatenated_questions)\n",
        "\n",
        "# Проходим по каждой строке и конкатенируем значения в столбцах question_1 до question_5\n",
        "for index, row in df.iterrows():\n",
        "    # rel = ''.join(str(row['is_positive']))\n",
        "    rel = ''.join(str(row['is_relevant']))\n",
        "    rel_list.append(rel)\n",
        "print(concatenated_questions_list)\n",
        "print(rel_list)"
      ],
      "metadata": {
        "colab": {
          "base_uri": "https://localhost:8080/"
        },
        "id": "b0bgHsWcLogM",
        "outputId": "470b2f79-c52a-4de7-b496-b7e797beb544"
      },
      "execution_count": null,
      "outputs": [
        {
          "output_type": "stream",
          "name": "stdout",
          "text": [
            "['Основы программирования Интерактивный подход к изучению основ C# был очень увлекательным. Нет. Увеличить количество практических заданий для лучшего закрепления материала. Введение в разработку на .NET Framework.', 'Основы программирования Подробное объяснение логических операторов в JavaScript помогло мне лучше понять условные конструкции. Нет. Предоставить ещё больше практических задач после теории. Детальное изучение асинхронного программирования в JavaScript.', 'Основы программирования Введение в программирование на Python было простым и интуитивно понятным, особенно для начинающих. Нет. Улучшить качество видеоматериалов, иногда было трудно разглядеть код. Библиотеки Python для анализа данных и машинного обучения.', 'Основы программирования Понятное изложение основных понятий, хорошая структура материала. Да, циклы for и while были объяснены слишком быстро. Добавить видеоматериалы для самостоятельного изучения. Функциональное программирование.', 'Основы программирования Кларность и структура материала по основам JavaScript, особенно затронутые темы циклов и функций. Нет. Ввести больше примеров на работу с массивами и объектами. Работа с асинхронным кодом в JavaScript.', 'Основы программирования Простота объяснений основ Python, особенно циклов и условий, сделала занятие очень доступным. Нет. Предложить больше дополнительных материалов для самостоятельного изучения после вебинара. Подробнее о работе с API в Python.', 'Основы программирования Лектор имел забавную прическу, что отвлекало, но было весело. Да, особенно когда кот лектора прыгнул на стол. Может, начать с курса стрижки для лекторов? И убрать котов из кадра. Как сделать так, чтобы коты не мешали учёбе.', 'Продвинутые техники программирования Детальный разбор объектно-ориентированного программирования. Нет. Ввести дополнительные Q&A сессии после вебинара. Принципы SOLID в программировании.', 'Продвинутые техники программирования Разбор использования шаблонов проектирования в Java был очень подробным и полезным. Да, тема абстрактных фабрик была сложной для понимания. Организовать вебинары с более подробными примерами реализации каждого шаблона. Применение шаблонов проектирования в реальных проектах.', 'Продвинутые техники программирования Изучение сложных структур данных в Python, таких как деревья и графы, было особенно интересным. Да, работа с графами и их алгоритмами. Устроить отдельные вебинары по каждому типу структуры данных с подробными примерами. Глубокое изучение алгоритмов поиска пути и оптимизации.', 'Продвинутые техники программирования Обширное покрытие темы REST API и как они интегрируются с современными веб-приложениями было очень полезно. Да, концепции OAuth 2.0 были сложными для понимания. Больше интерактивных примеров и пошаговых руководств по реализации API. Подробности реализации микросервисов на Spring Boot и Docker.', 'Продвинутые техники программирования Глубина разбора модульного тестирования и TDD была полезной для понимания процессов разработки. Да, использование моков и стабов в тестах. Предоставить дополнительные ресурсы для изучения инструментов мокирования. Интеграционное тестирование и CI/CD пайплайны.', 'Основы программирования Ясное и чёткое объяснение базовых структур данных. Нет. Включить больше реальных примеров использования данных структур. Принципы проектирования алгоритмов.', 'Продвинутые техники программирования На вебинаре раздали виртуальные печеньки, очень мило. Нет, я был слишком занят едой. В следующий раз добавить виртуальный чай. Как запекать печенья.', 'Продвинутые техники программирования Подробный разбор применения шаблонов проектирования в реальных проектах был очень познавательным. Сложности с пониманием абстрактной фабрики. Больше практических примеров для каждого шаблона проектирования. Применение шаблонов проектирования в микросервисах.', 'Новейшие тенденции в IT Дискуссия о будущем облачных вычислений и их влиянии на ИТ-индустрию была очень проницательной. Нет. Включить больше кейс-стади от компаний, успешно интегрировавших облачные решения. Стратегии миграции предприятий в облако.', 'Новейшие тенденции в IT Обсуждение актуальных IT-трендов 2024 года. Да, тема искусственного интеллекта требует более глубокого погружения. Больше времени на сложные темы. Глубокое изучение нейронных сетей.', 'Новейшие тенденции в IT Обсуждение тенденций в разработке мобильных приложений и их влияние на рынок было весьма познавательным. Нет. Включить больше примеров успешных мобильных приложений и их стратегий монетизации. Разработка кроссплатформенных мобильных приложений.', 'Новейшие тенденции в IT Обзор последних достижений в области квантовых вычислений был впечатляющим. Да, сложность темы требует более глубокого погружения. Организовать серию вебинаров по квантовым технологиям с участием экспертов. Квантовая криптография и её практическое применение.', 'Новейшие тенденции в IT Вебинар о технологиях блокчейна и их влиянии на финансовую отрасль был глубоко информативным. Да, концепции смарт-контрактов были сложными для понимания. Ввести вебинар, полностью посвященный смарт-контрактам, с практическими примерами. Разработка и тестирование смарт-контрактов на разных платформах.', 'Новейшие тенденции в IT Обсуждение влияния облачных технологий на современные IT-структуры было особенно актуальным. Да, различия между IaaS, PaaS, и SaaS. Устроить подробный вебинар о каждой облачной модели в отдельности. Безопасность данных в облаке и лучшие практики.', 'ChatGPT для обучения как правильно пользоваться GPT чатом, для получения более развернутого ответа не было пока нет предложений затрудняюсь ответить', 'Управление персоналом Все понравилось Календарь составили так, что совместилось два обучения в одно и тоже время, что не совсем удобно Все хорошо Создания чата со студентами', 'ChatGPT для обучения Gpt чат Информация предоставлена в доступном виде Все хорошо Другие виды ИИ', 'ChatGPT для обучения Промт-Инжиниринг, это уже даёт какое-то понимание правильной формулировки вопросов для ИИ. Нет Не увидел минусов в вебинаре, очень понравился. Промт-Инжиниринг', 'ChatGPT для обучения новая информация, полезно нет не было таких моментов мне все понравилось пока затрудняюсь ответить', 'ChatGPT для обучения Светлые и темные стороны ChatGPT Не знание определений Все идеально темы по дизайну интерьера', 'Новейшие тенденции в IT Обсуждение было настолько скучным, что я научился жонглировать во время вебинара. Да, пытался понять жонглирование тремя шарами. Возможно, включить более динамичную музыку во время обсуждений. Жонглирование для начинающих.', 'Продвинутые техники программирования Глубокий анализ шаблонов проектирования на конкретных примерах. Сложно было понять шаблон Singleton. Подробнее разбирать каждый шаблон на примерах. Тестирование ПО и фреймворки для автоматизации.', 'Основы программирования Объяснение циклов и массивов в JavaScript было очень доступным и понятным. Нет. Добавить видео с разбором сложных примеров кода после вебинара. Подробнее о Node.js и серверном JavaScript.', 'Основы программирования Примеры кода были очень полезными для понимания. Нет. Предоставить дополнительные ресурсы для углубленного изучения. Базы данных и SQL.', 'Основы программирования Занятие по основам HTML и CSS было чрезвычайно полезным для понимания структуры веб-страниц. Нет. Предложить курс по продвинутым техникам CSS, включая Flexbox и Grid. Погружение в JavaScript для интерактивности веб-страниц.', 'Основы программирования Подробный разбор циклов и условных операторов в JavaScript помог укрепить мои знания. Нет. Ввести более сложные задачи для практики после вебинара. Асинхронное программирование в JavaScript и его применение в реальных проектах.', 'Основы программирования Отличное объяснение переменных, типов данных и структур в Python. Нет. Предложить дополнительные учебные материалы для глубокого изучения каждой темы. Глубокое изучение функционального программирования.', 'Основы программирования Дискуссия о том, как писать код одной рукой, была неожиданно увлекательной. Нет, это было странно интересно. Может быть, курс по печати ногами для разнообразия? Как писать код левой пяткой.', 'Основы программирования Отличное введение в основы SQL, особенно работа с JOIN-операциями. Да, сложности с пониманием внешних и внутренних соединений. Предложить более подробные учебные ресурсы и примеры запросов для практики. Оптимизация запросов SQL и анализ производительности баз данных.', 'Продвинутые техники программирования Сессия по оптимизации производительности веб-приложений дала мне новые инструменты для работы. Да, концепты кэширования данных были сложными. Углубить тему кэширования и состояния сессии в отдельном вебинаре. Работа с большими данными и их хранение.', 'Продвинутые техники программирования Затронута тема безопасности приложений, что крайне важно. Сложности с пониманием криптографических методов. Добавить примеры на кейсах из жизни. Кибербезопасность.', 'Основы программирования Отличное объяснение темы циклов и условий, всё стало на свои места. Да, сложно было понять тему рекурсии. Хотелось бы больше практических заданий по каждой теме. Глубже изучить тему работы с базами данных.', 'Продвинутые техники программирования Разбор примеров рефакторинга кода был очень практичным и полезным для понимания, как улучшить существующий код. Некоторые сложные примеры рефакторинга. Углубить материал с дополнительными кейс-стади из реальных проектов. Методы оптимизации производительности приложений.', 'Продвинутые техники программирования Очень ценно было изучить интеграцию API в большие системы, использование RESTful и GraphQL. Да, работа с GraphQL была сложнее, чем ожидалось. Провести серию практических вебинаров, специально посвященных GraphQL. Безопасность API, управление доступом и ограничения скорости запросов.', 'Новейшие тенденции в IT Интересное обсуждение применения искусственного интеллекта в нетехнических отраслях. Да, были трудности с пониманием нейросетей. Уделить больше времени основам нейросетей перед их применением. Машинное обучение и его применение в реальных условиях.', 'Продвинутые техники программирования Глубокое погружение в архитектуру REST и SOAP интерфейсов было крайне полезным для моих проектов. Нет. Организовать практические лаборатории по созданию и тестированию API. Безопасность API и использование OAuth 2.0.', 'Продвинутые техники программирования Глубокий анализ принципов SOLID и их применение в объектно-ориентированном проектировании был великолепен. Да, примеры на C# были запутанными. Организовать дополнительные сессии по практическому применению SOLID в различных языках программирования. Глубокое изучение паттернов проектирования и рефакторинга существующего кода.', 'Продвинутые техники программирования Презентация была настолько монотонной, что я научился рисовать слонов. Да, как правильно рисовать уши слона. Пожалуй, стоит добавить курс по рисованию к вебинарам, чтобы сохранить внимание слушателей. Рисование слонов в Photoshop.', 'Новейшие тенденции в IT Лекция о влиянии ИИ на автоматизацию рабочих процессов была весьма актуальной. Нет. Обсудить более подробно кейсы применения ИИ в разных отраслях. Применение ИИ для оптимизации клиентского сервиса.', 'Новейшие тенденции в IT Дискуссия о будущем искусственного интеллекта и его этических аспектах была особенно привлекательной. Да, темы моральных дилемм ИИ требовали более глубокого понимания. Устроить дебаты или панельную дискуссию с экспертами по этике ИИ, чтобы обсудить эти вопросы подробнее. Роль ИИ в управлении данными и приватности.', 'Новейшие тенденции в IT Обсуждение машинного обучения было особенно интересным. Да, темы, связанные с Big Data, остались не до конца ясны. Углубленный разбор каждой темы. Технологии Big Data.', 'Новейшие тенденции в IT Введение в искусственный интеллект и его влияние на робототехнику было захватывающим и познавательным. Да, темы построения нейросетей требовали более детального объяснения. Провести специализированные вебинары по машинному обучению и нейросетям, с практическими занятиями на реальных данных. Разработка и применение нейросетей в индустрии развлечений и медиа.', 'Новейшие тенденции в IT Доклад о последних инновациях в области искусственного интеллекта и машинного обучения был вдохновляющим. Да, сложности с пониманием концепций глубокого обучения. Провести серию вебинаров, посвященных только машинному обучению, с кейс-стади и примерами из практики. Применение ИИ в реальных бизнес-задачах.', 'Новейшие тенденции в IT Лектор использовал так много жаргонных слов, что я составил словарь. Да, пытался понять, что такое \"блокчейн\". Ввести словарь на каждом вебинаре, чтобы можно было следить за разговором. Разработка собственного жаргона для внутреннего использования.', 'Новейшие тенденции в IT Интерактивная сессия о применении ИИ в финансовом секторе была исчерпывающей и инновационной. Да, спецификации алгоритмов машинного обучения. Организовать более детальные практические занятия по настройке ИИ. Этические аспекты использования ИИ в финансах.', 'Основы программирования Отличное введение в язык программирования Java, особенно раздел про исключения. Нет. Добавить больше задач на практику после каждой темы. Глубокое изучение многопоточности в Java.', 'Основы программирования Ясное объяснение функций и методов в Python помогло мне лучше понять объектно-ориентированное программирование. Нет. Разработать интерактивные лабораторные работы для лучшего усвоения материала. Глубокое изучение Python для научных вычислений.', 'Знакомство с языком Python В теме понравилось, то что обсуждается распространенный среди аналитиков инструмент - Colab Да такие моменты были. Не были раскрыты следующие темы:1. Что такое Колаб? 2. Описание интерфейса и правил работы с Колаб. 3. Для чего он нужен. 4. Функции Колаб. 5. Библиотеки Колаб. 6. Как открыть Колаб в Вижуал Студио. 7. Как установить модули для открытия Колаб в Вижуал Студио. Это первое что пришло на ум. Кстати не зря вам прислали ссылку на урок. Под уроком есть много комментариев недовольных пользователей. Рассказать о том о чем я рассказал в предыдущем вопросе: 1. Что такое Колаб? 2. Описание интерфейса и правил работы с Колаб. 3. Для чего он нужен. 4. Функции Колаб. 5. Библиотеки Колаб. 6. Как открыть Колаб в Вижуал Студио. 7. Как установить модули для открытия Колаб в Вижуал Студио. Библиотеки Колаб', 'Знакомство с языком Python Материал доступен Я не понимаю, зачем мне python Я учуст на Frontend разработчика, зачем мне питон? Дайте мне JS Хочу учить JS', 'Основы программирования Объяснения понятий переменных, типов данных и операторов в Java были ясными и тщательными. Нет. Добавить больше упражнений на практическое применение изученных концепций. Подробное изучение Java для Android-разработки.', 'Основы программирования Ясное и прямолинейное объяснение условных операторов и циклов в C++. Нет. Включить больше комплексных задач для практических занятий. Разработка игр на C++.', 'Основы программирования Подробный разбор процессов компиляции и интерпретации в различных языках программирования был полезен. Да, детали JIT компиляции в Java. Предложить дополнительные материалы для самостоятельного изучения и видео о внутреннем устройстве компиляторов. Подробнее о механизмах управления памятью в современных языках.', 'Основы программирования Легкость доступа к материалам и их понятность. Да, темы алгоритмов требуют больше времени на разбор. Увеличить продолжительность вебинаров. Алгоритмы и структуры данных.', 'Основы программирования Чипи чипи лувиви Ламалама Котик танцует как преподователь Как научить котика танцевать?', 'Основы программирования Лекция о базах данных SQL была очень информативной, особенно раздел о связях и нормализации. Нет. Улучшить визуальные материалы, добавить больше диаграмм и примеров из реальной жизни. Глубокое изучение NoSQL баз данных и их использование в больших данных.', 'Основы программирования Обсуждение ошибок кода было таким скучным, что я составил список фильмов к просмотру. Да, каждый раз, когда слово \"ошибка\" упоминалось. Может быть, провести кинопоказ вместо следующего вебинара? Фильмы, которые каждый программист должен видеть.', 'Основы программирования Майкнафт вспомнили, прослезился Добавьте Херобрина Херобрииин МАМААА', 'Продвинутые техники программирования Вводная часть о машинном обучении была очень информативной и понятной. Нет, материал был представлен доступно. Хотелось бы уделить больше времени вопросам безопасности при программировании. Технологии блокчейн и их применение в программировании.', 'Продвинутые техники программирования Введение в микросервисы было крайне полезным для понимания современных архитектурных подходов. Да, раздел о контейнеризации был сложным. Провести дополнительный вебинар по Docker и Kubernetes. Подробности о развертывании приложений в облаке.', 'Продвинутые техники программирования Вебинар по агил-методологиям и их применению в проектном управлении был чрезвычайно полезен. Да, разбор Scrum и Kanban мог быть более детализированным. Провести отдельные сессии по каждой агил-методологии с практическими примерами их использования. Адаптация агил-методологий в крупных организациях.', 'Продвинутые техники программирования Изучение техник отладки и профилирования приложений на Java было особенно полезным для улучшения производительности. Нет. Организовать воркшопы, где участники могут применять эти техники на практике под руководством опытных разработчиков. Углубленное изучение инструментов профилирования и отладки.', 'Продвинутые техники программирования Хорошее объяснение принципов проектирования ПО. Сложности с примерами рефакторинга. Добавить рабочие листы для отработки материала. Принципы проектирования интерфейсов.', 'Продвинутые техники программирования Разбор использования Docker и Kubernetes для развертывания приложений дал мне ценные знания для работы. Сложности с настройкой Kubernetes. Провести дополнительные сессии, посвященные только Kubernetes, с демонстрацией живого развертывания. Подробное изучение микросервисной архитектуры.', 'Продвинутые техники программирования Сессия по оптимизации SQL запросов была чрезвычайно полезна для улучшения производительности баз данных. Нет. Предоставить доступ к онлайн тренажеру для оттачивания навыков написания и оптимизации SQL запросов. Глубокое понимание индексов и их влияние на производительность.', 'Новейшие тенденции в IT Презентация о развитии кибербезопасности и новых методах защиты информации была крайне информативной. Нет. Предложить серию вебинаров, посвященных подробному разбору инструментов защиты данных. Новые технологии в области защиты персональных данных.', 'Продвинутые техники программирования Сессия по безопасности веб-приложений была не только образовательной, но и очень актуальной. Да, детали XSS и CSRF атак были сложными для понимания. Разработать серию вебинаров, посвященных только кибербезопасности, с практическими упражнениями и тестами. Продвинутые методы защиты данных и инфраструктуры.', 'Новейшие тенденции в IT Освещение прогресса в технологии блокчейн и её применения в различных секторах экономики было проницательным. Да, объяснения функционирования сетей блокчейн. Подробнее разбирать техническую сторону блокчейн технологий на примерах успешных проектов. Разработка на базе Ethereum, включая создание смарт-контрактов.', 'Новейшие тенденции в IT Обсуждение влияния квантовых компьютеров на будущее криптографии было захватывающим. Сложности с пониманием квантовой физики. Обеспечить базовый вводный курс по квантовой механике перед этой темой. Квантовое программирование и его будущее.', 'Новейшие тенденции в IT Презентация о влиянии блокчейн технологий на безопасность данных была крайне просветляющей. Да, концепты шифрования в блокчейне. Организовать тематический вебинар о криптографии, используемой в блокчейне. Разработка смарт-контрактов и их безопасность.', 'Новейшие тенденции в IT Введение в технологии распределенных систем и их применение в разных отраслях было захватывающим. Да, концепции консенсуса в блокчейне были трудными для понимания. Организовать технические воркшопы по каждой теме вебинара для глубокого понимания. Распределенные вычисления и их применение в больших данных.', 'Основы программирования Изучение основных принципов создания пользовательских интерфейсов на React было практичным и актуальным. Да, сложности с Redux для управления состоянием. Устроить дополнительные вебинары по Redux и контексту React для глубокого понимания управления состоянием. Разработка сложных интерактивных веб-приложений на React.', 'Основы программирования Ильнар Шафигуллин большой молодец нет Чаще ставить преподователя на вебинары Больше примеров с уточкой', 'Новейшие тенденции в IT Обсуждение влияния больших данных на современный маркетинг было очень проницательным. Да, вопросы обработки и анализа больших объемов данных были запутанными. Предложить курсы по аналитике данных с использованием специализированных инструментов, таких как Hadoop или Spark. Методы визуализации данных для бизнес-анализа.', 'Новейшие тенденции в IT Презентация новых технологий в визуализации данных. Некоторые примеры были слишком сложны для понимания. Менее загруженные слайды, больше практики. Интерактивная визуализация данных.', 'Основы программирования Обучение эффективным методам написания чистого кода в Python было крайне полезным для моих проектов. Нет. Устроить регулярные сессии код-ревью с опытными разработчиками для обмена опытом и лучшими практиками. Принципы разработки программного обеспечения по методологии Agile.', 'Основы программирования Понравилась харизма преподователя нет, не было Все прошло хорошо Про алгоритмы интересно и устройство процессора', 'Основы программирования Преподователь супер нет Преподователь вырулил все недостатки Не знаю, дальше по программе обучения двигаться', 'Основы программирования Занятие по алгоритмам сортировки было насыщено множеством практических примеров, что упростило понимание. Да, быстрая сортировка требовала более тщательного объяснения. Предложить дополнительные видеоуроки по каждому типу алгоритмов сортировки с подробными примерами кода. Продвинутые алгоритмы и структуры данных, такие как деревья и графы.', 'Основы программирования Разбор методов коллекций в Java был исключительно полезен для понимания работы со списками и множествами. Да, методы Stream API. Разработать детальный курс по работе с Stream API в Java, включая практические примеры. Глубокое изучение многопоточности в Java.', 'Основы программирования Интерактивный подход преподавателя позволил лучше усвоить информацию. Нет, все было понятно. Хотелось бы более подробные материалы для самостоятельного изучения. Больше практических задач на алгоритмы.', 'Основы программирования Чёткое объяснение парадигмы функционального программирования на примере Scala. Да, концепции чистых функций и неизменяемости были запутанными. Устраивать сессии вопросов и ответов после сложных тем. Функциональные языки программирования как Haskell.', 'Основы программирования Освежающий подход к изучению JavaScript, особенно в части ES6+ функционала, был весьма стимулирующим. Нет. Увеличить количество заданий на кодирование в реальном времени для лучшего усвоения материала. Современные фронтенд технологии, такие как React и Angular.', 'Основы программирования Задания для самостоятельной работы помогли закрепить материал. Да, темы объектно-ориентированного программирования были сложными. Больше времени на практические упражнения. Работа с исключениями в программировании.', 'Основы программирования Понравилось как он рассказывает Ха затруднения Удалите эти эфиры все и займитесь нормальным уже делом Не надо мне тему', 'Продвинутые техники программирования Глубина разбора кейсов из реальной практики. Некоторые технические термины не были объяснены. Больше времени уделять базовым концепциям для новичков. Искусственный интеллект в области здравоохранения.', 'Новейшие тенденции в IT Разнообразие примеров из реального мира помогло лучше понять применение теории. Да, разбор паттернов проектирования был слишком быстрым. Меньше теории, больше практики. Сделать вебинары более интерактивными с возможностью задавать вопросы в реальном времени. Изучение разработки виртуальной и дополненной реальности.', 'Новейшие тенденции в IT Преподователь Арбуз Преподователь красный внутри Арбуз хочу Арбуз я покушать я люблю, семки все я исплюю', 'Новейшие тенденции в IT Я не люблю все это Шли вы Платити мани мани студентам как мани поднять', 'Продвинутые техники программирования Разбор техник оптимизации кода на C++ был очень глубоким и практичным. Нет. Предложить материалы для дополнительного изучения сложных тем. Оптимизация и производительность программ на низком уровне.', 'Основы программирования Примеры реального использования паттернов проектирования в .NET были очень ценными. Нет. Больше времени на анализ кода в примерах, меньше теории. Паттерны проектирования для микросервисных архитектур.', 'Основы программирования Зазнался преподователь Напыщенный преподователь Уважение Вопрос к воспитанию преподователя', 'Основы программирования Преподователь раз такой умный , зачем за гроши работаешь? Унижение Уважать студентов и не хамить К преподователю', 'Новейшие тенденции в IT Очень понравилось изучение применения технологий виртуальной реальности в образовании. Да, тема разработки контента для VR была недостаточно подробна. Организовать практические занятия по созданию VR-контента. Разработка приложений для виртуальной реальности.', 'Новейшие тенденции в IT Очень подробный разбор сложных концепций. Сложности с пониманием асинхронного программирования. Нужно больше примеров из жизни. Разработка мобильных приложений.', 'Java api браузеров Понравилась тема Да, преподователь нес чушь и путался в своих же словах Поменяйте преподователя Хотел бы повторить тему Java коллекции', 'Java api браузеров Понравился методический вебинар Преподователь сошел с ума Я думаю с другим преподователем я получил бы больше знаний Хочу перепройти вебинар с другим преподователем']\n",
            "['1', '1', '1', '1', '1', '1', '0', '1', '1', '1', '1', '1', '1', '0', '1', '1', '1', '1', '1', '1', '1', '0', '1', '1', '1', '1', '1', '0', '1', '1', '1', '1', '1', '1', '0', '1', '1', '1', '1', '1', '1', '1', '1', '1', '0', '1', '1', '1', '1', '1', '0', '1', '1', '1', '1', '1', '1', '1', '1', '1', '0', '1', '0', '0', '1', '1', '1', '1', '1', '1', '1', '1', '1', '1', '1', '1', '1', '1', '1', '1', '1', '1', '1', '1', '1', '1', '1', '1', '1', '1', '0', '1', '1', '0', '0', '1', '1', '1', '1', '1', '1', '1', '1']\n"
          ]
        }
      ]
    },
    {
      "cell_type": "code",
      "source": [
        "import csv\n",
        "\n",
        "# mappingId2Label = {0:'negative', 1:'positive'}\n",
        "mappingLabe2Id = {'negative':0, 'positive':1}\n",
        "\n",
        "def get_label(text):\n",
        "    preprocessed_text = preprocess(text, stop_words, punctuation_marks, morph)\n",
        "    predicted_label = w2v_pipeline.predict([preprocessed_text])[0]\n",
        "    print(predicted_label)\n",
        "    return mappingLabe2Id[predicted_label]\n",
        "\n",
        "# Открываем файл CSV для чтения\n",
        "with open('sample_submission.csv', 'r') as file:\n",
        "    # Создаем объект чтения CSV\n",
        "    csv_reader = csv.reader(file)\n",
        "\n",
        "    # Читаем заголовок\n",
        "    header = next(csv_reader)\n",
        "\n",
        "    # Читаем данные из файла\n",
        "    data = list(csv_reader)\n",
        "\n",
        "print(len(data))\n",
        "\n",
        "# Заменяем каждое значение в колонке is_relevant на 1\n",
        "for row, text in zip(data, concatenated_questions_list[:len(data)]):\n",
        "    print(text)\n",
        "    row[1] = get_label(text)\n",
        "\n",
        "# Записываем измененные данные обратно в файл CSV\n",
        "with open('your_submission.csv', 'w', newline='') as file:\n",
        "    # Создаем объект записи CSV\n",
        "    csv_writer = csv.writer(file)\n",
        "\n",
        "    # Записываем заголовок\n",
        "    csv_writer.writerow(header)\n",
        "\n",
        "    # Записываем данные в файл\n",
        "    csv_writer.writerows(data)"
      ],
      "metadata": {
        "colab": {
          "base_uri": "https://localhost:8080/"
        },
        "id": "fRQ4Pw0CIalC",
        "outputId": "ccc2a9f0-24bf-4dd6-fde8-ed7a25e6868e"
      },
      "execution_count": null,
      "outputs": [
        {
          "output_type": "stream",
          "name": "stdout",
          "text": [
            "53\n",
            "Основы программирования Интерактивный подход к изучению основ C# был очень увлекательным. Нет. Увеличить количество практических заданий для лучшего закрепления материала. Введение в разработку на .NET Framework.\n",
            "positive\n",
            "Основы программирования Подробное объяснение логических операторов в JavaScript помогло мне лучше понять условные конструкции. Нет. Предоставить ещё больше практических задач после теории. Детальное изучение асинхронного программирования в JavaScript.\n",
            "positive\n",
            "Основы программирования Введение в программирование на Python было простым и интуитивно понятным, особенно для начинающих. Нет. Улучшить качество видеоматериалов, иногда было трудно разглядеть код. Библиотеки Python для анализа данных и машинного обучения.\n",
            "positive\n",
            "Основы программирования Понятное изложение основных понятий, хорошая структура материала. Да, циклы for и while были объяснены слишком быстро. Добавить видеоматериалы для самостоятельного изучения. Функциональное программирование.\n",
            "positive\n",
            "Основы программирования Кларность и структура материала по основам JavaScript, особенно затронутые темы циклов и функций. Нет. Ввести больше примеров на работу с массивами и объектами. Работа с асинхронным кодом в JavaScript.\n",
            "positive\n",
            "Основы программирования Простота объяснений основ Python, особенно циклов и условий, сделала занятие очень доступным. Нет. Предложить больше дополнительных материалов для самостоятельного изучения после вебинара. Подробнее о работе с API в Python.\n",
            "positive\n",
            "Основы программирования Лектор имел забавную прическу, что отвлекало, но было весело. Да, особенно когда кот лектора прыгнул на стол. Может, начать с курса стрижки для лекторов? И убрать котов из кадра. Как сделать так, чтобы коты не мешали учёбе.\n",
            "positive\n",
            "Продвинутые техники программирования Детальный разбор объектно-ориентированного программирования. Нет. Ввести дополнительные Q&A сессии после вебинара. Принципы SOLID в программировании.\n",
            "positive\n",
            "Продвинутые техники программирования Разбор использования шаблонов проектирования в Java был очень подробным и полезным. Да, тема абстрактных фабрик была сложной для понимания. Организовать вебинары с более подробными примерами реализации каждого шаблона. Применение шаблонов проектирования в реальных проектах.\n",
            "positive\n",
            "Продвинутые техники программирования Изучение сложных структур данных в Python, таких как деревья и графы, было особенно интересным. Да, работа с графами и их алгоритмами. Устроить отдельные вебинары по каждому типу структуры данных с подробными примерами. Глубокое изучение алгоритмов поиска пути и оптимизации.\n",
            "positive\n",
            "Продвинутые техники программирования Обширное покрытие темы REST API и как они интегрируются с современными веб-приложениями было очень полезно. Да, концепции OAuth 2.0 были сложными для понимания. Больше интерактивных примеров и пошаговых руководств по реализации API. Подробности реализации микросервисов на Spring Boot и Docker.\n",
            "positive\n",
            "Продвинутые техники программирования Глубина разбора модульного тестирования и TDD была полезной для понимания процессов разработки. Да, использование моков и стабов в тестах. Предоставить дополнительные ресурсы для изучения инструментов мокирования. Интеграционное тестирование и CI/CD пайплайны.\n",
            "positive\n",
            "Основы программирования Ясное и чёткое объяснение базовых структур данных. Нет. Включить больше реальных примеров использования данных структур. Принципы проектирования алгоритмов.\n",
            "positive\n",
            "Продвинутые техники программирования На вебинаре раздали виртуальные печеньки, очень мило. Нет, я был слишком занят едой. В следующий раз добавить виртуальный чай. Как запекать печенья.\n",
            "negative\n",
            "Продвинутые техники программирования Подробный разбор применения шаблонов проектирования в реальных проектах был очень познавательным. Сложности с пониманием абстрактной фабрики. Больше практических примеров для каждого шаблона проектирования. Применение шаблонов проектирования в микросервисах.\n",
            "positive\n",
            "Новейшие тенденции в IT Дискуссия о будущем облачных вычислений и их влиянии на ИТ-индустрию была очень проницательной. Нет. Включить больше кейс-стади от компаний, успешно интегрировавших облачные решения. Стратегии миграции предприятий в облако.\n",
            "positive\n",
            "Новейшие тенденции в IT Обсуждение актуальных IT-трендов 2024 года. Да, тема искусственного интеллекта требует более глубокого погружения. Больше времени на сложные темы. Глубокое изучение нейронных сетей.\n",
            "positive\n",
            "Новейшие тенденции в IT Обсуждение тенденций в разработке мобильных приложений и их влияние на рынок было весьма познавательным. Нет. Включить больше примеров успешных мобильных приложений и их стратегий монетизации. Разработка кроссплатформенных мобильных приложений.\n",
            "positive\n",
            "Новейшие тенденции в IT Обзор последних достижений в области квантовых вычислений был впечатляющим. Да, сложность темы требует более глубокого погружения. Организовать серию вебинаров по квантовым технологиям с участием экспертов. Квантовая криптография и её практическое применение.\n",
            "positive\n",
            "Новейшие тенденции в IT Вебинар о технологиях блокчейна и их влиянии на финансовую отрасль был глубоко информативным. Да, концепции смарт-контрактов были сложными для понимания. Ввести вебинар, полностью посвященный смарт-контрактам, с практическими примерами. Разработка и тестирование смарт-контрактов на разных платформах.\n",
            "positive\n",
            "Новейшие тенденции в IT Обсуждение влияния облачных технологий на современные IT-структуры было особенно актуальным. Да, различия между IaaS, PaaS, и SaaS. Устроить подробный вебинар о каждой облачной модели в отдельности. Безопасность данных в облаке и лучшие практики.\n",
            "positive\n",
            "ChatGPT для обучения как правильно пользоваться GPT чатом, для получения более развернутого ответа не было пока нет предложений затрудняюсь ответить\n",
            "negative\n",
            "Управление персоналом Все понравилось Календарь составили так, что совместилось два обучения в одно и тоже время, что не совсем удобно Все хорошо Создания чата со студентами\n",
            "positive\n",
            "ChatGPT для обучения Gpt чат Информация предоставлена в доступном виде Все хорошо Другие виды ИИ\n",
            "positive\n",
            "ChatGPT для обучения Промт-Инжиниринг, это уже даёт какое-то понимание правильной формулировки вопросов для ИИ. Нет Не увидел минусов в вебинаре, очень понравился. Промт-Инжиниринг\n",
            "positive\n",
            "ChatGPT для обучения новая информация, полезно нет не было таких моментов мне все понравилось пока затрудняюсь ответить\n",
            "positive\n",
            "ChatGPT для обучения Светлые и темные стороны ChatGPT Не знание определений Все идеально темы по дизайну интерьера\n",
            "positive\n",
            "Новейшие тенденции в IT Обсуждение было настолько скучным, что я научился жонглировать во время вебинара. Да, пытался понять жонглирование тремя шарами. Возможно, включить более динамичную музыку во время обсуждений. Жонглирование для начинающих.\n",
            "positive\n",
            "Продвинутые техники программирования Глубокий анализ шаблонов проектирования на конкретных примерах. Сложно было понять шаблон Singleton. Подробнее разбирать каждый шаблон на примерах. Тестирование ПО и фреймворки для автоматизации.\n",
            "positive\n",
            "Основы программирования Объяснение циклов и массивов в JavaScript было очень доступным и понятным. Нет. Добавить видео с разбором сложных примеров кода после вебинара. Подробнее о Node.js и серверном JavaScript.\n",
            "positive\n",
            "Основы программирования Примеры кода были очень полезными для понимания. Нет. Предоставить дополнительные ресурсы для углубленного изучения. Базы данных и SQL.\n",
            "positive\n",
            "Основы программирования Занятие по основам HTML и CSS было чрезвычайно полезным для понимания структуры веб-страниц. Нет. Предложить курс по продвинутым техникам CSS, включая Flexbox и Grid. Погружение в JavaScript для интерактивности веб-страниц.\n",
            "positive\n",
            "Основы программирования Подробный разбор циклов и условных операторов в JavaScript помог укрепить мои знания. Нет. Ввести более сложные задачи для практики после вебинара. Асинхронное программирование в JavaScript и его применение в реальных проектах.\n",
            "positive\n",
            "Основы программирования Отличное объяснение переменных, типов данных и структур в Python. Нет. Предложить дополнительные учебные материалы для глубокого изучения каждой темы. Глубокое изучение функционального программирования.\n",
            "positive\n",
            "Основы программирования Дискуссия о том, как писать код одной рукой, была неожиданно увлекательной. Нет, это было странно интересно. Может быть, курс по печати ногами для разнообразия? Как писать код левой пяткой.\n",
            "positive\n",
            "Основы программирования Отличное введение в основы SQL, особенно работа с JOIN-операциями. Да, сложности с пониманием внешних и внутренних соединений. Предложить более подробные учебные ресурсы и примеры запросов для практики. Оптимизация запросов SQL и анализ производительности баз данных.\n",
            "positive\n",
            "Продвинутые техники программирования Сессия по оптимизации производительности веб-приложений дала мне новые инструменты для работы. Да, концепты кэширования данных были сложными. Углубить тему кэширования и состояния сессии в отдельном вебинаре. Работа с большими данными и их хранение.\n",
            "positive\n",
            "Продвинутые техники программирования Затронута тема безопасности приложений, что крайне важно. Сложности с пониманием криптографических методов. Добавить примеры на кейсах из жизни. Кибербезопасность.\n",
            "positive\n",
            "Основы программирования Отличное объяснение темы циклов и условий, всё стало на свои места. Да, сложно было понять тему рекурсии. Хотелось бы больше практических заданий по каждой теме. Глубже изучить тему работы с базами данных.\n",
            "positive\n",
            "Продвинутые техники программирования Разбор примеров рефакторинга кода был очень практичным и полезным для понимания, как улучшить существующий код. Некоторые сложные примеры рефакторинга. Углубить материал с дополнительными кейс-стади из реальных проектов. Методы оптимизации производительности приложений.\n",
            "positive\n",
            "Продвинутые техники программирования Очень ценно было изучить интеграцию API в большие системы, использование RESTful и GraphQL. Да, работа с GraphQL была сложнее, чем ожидалось. Провести серию практических вебинаров, специально посвященных GraphQL. Безопасность API, управление доступом и ограничения скорости запросов.\n",
            "positive\n",
            "Новейшие тенденции в IT Интересное обсуждение применения искусственного интеллекта в нетехнических отраслях. Да, были трудности с пониманием нейросетей. Уделить больше времени основам нейросетей перед их применением. Машинное обучение и его применение в реальных условиях.\n",
            "positive\n",
            "Продвинутые техники программирования Глубокое погружение в архитектуру REST и SOAP интерфейсов было крайне полезным для моих проектов. Нет. Организовать практические лаборатории по созданию и тестированию API. Безопасность API и использование OAuth 2.0.\n",
            "positive\n",
            "Продвинутые техники программирования Глубокий анализ принципов SOLID и их применение в объектно-ориентированном проектировании был великолепен. Да, примеры на C# были запутанными. Организовать дополнительные сессии по практическому применению SOLID в различных языках программирования. Глубокое изучение паттернов проектирования и рефакторинга существующего кода.\n",
            "positive\n",
            "Продвинутые техники программирования Презентация была настолько монотонной, что я научился рисовать слонов. Да, как правильно рисовать уши слона. Пожалуй, стоит добавить курс по рисованию к вебинарам, чтобы сохранить внимание слушателей. Рисование слонов в Photoshop.\n",
            "positive\n",
            "Новейшие тенденции в IT Лекция о влиянии ИИ на автоматизацию рабочих процессов была весьма актуальной. Нет. Обсудить более подробно кейсы применения ИИ в разных отраслях. Применение ИИ для оптимизации клиентского сервиса.\n",
            "positive\n",
            "Новейшие тенденции в IT Дискуссия о будущем искусственного интеллекта и его этических аспектах была особенно привлекательной. Да, темы моральных дилемм ИИ требовали более глубокого понимания. Устроить дебаты или панельную дискуссию с экспертами по этике ИИ, чтобы обсудить эти вопросы подробнее. Роль ИИ в управлении данными и приватности.\n",
            "positive\n",
            "Новейшие тенденции в IT Обсуждение машинного обучения было особенно интересным. Да, темы, связанные с Big Data, остались не до конца ясны. Углубленный разбор каждой темы. Технологии Big Data.\n",
            "positive\n",
            "Новейшие тенденции в IT Введение в искусственный интеллект и его влияние на робототехнику было захватывающим и познавательным. Да, темы построения нейросетей требовали более детального объяснения. Провести специализированные вебинары по машинному обучению и нейросетям, с практическими занятиями на реальных данных. Разработка и применение нейросетей в индустрии развлечений и медиа.\n",
            "positive\n",
            "Новейшие тенденции в IT Доклад о последних инновациях в области искусственного интеллекта и машинного обучения был вдохновляющим. Да, сложности с пониманием концепций глубокого обучения. Провести серию вебинаров, посвященных только машинному обучению, с кейс-стади и примерами из практики. Применение ИИ в реальных бизнес-задачах.\n",
            "positive\n",
            "Новейшие тенденции в IT Лектор использовал так много жаргонных слов, что я составил словарь. Да, пытался понять, что такое \"блокчейн\". Ввести словарь на каждом вебинаре, чтобы можно было следить за разговором. Разработка собственного жаргона для внутреннего использования.\n",
            "positive\n",
            "Новейшие тенденции в IT Интерактивная сессия о применении ИИ в финансовом секторе была исчерпывающей и инновационной. Да, спецификации алгоритмов машинного обучения. Организовать более детальные практические занятия по настройке ИИ. Этические аспекты использования ИИ в финансах.\n",
            "positive\n",
            "Основы программирования Отличное введение в язык программирования Java, особенно раздел про исключения. Нет. Добавить больше задач на практику после каждой темы. Глубокое изучение многопоточности в Java.\n",
            "positive\n"
          ]
        }
      ]
    },
    {
      "cell_type": "markdown",
      "source": [
        "### Код is_positive"
      ],
      "metadata": {
        "id": "e9yPONnmMuDG"
      }
    },
    {
      "cell_type": "code",
      "source": [
        "import pandas as pd\n",
        "\n",
        "df = pd.read_csv('train_data.csv')\n",
        "\n",
        "concatenated_questions_list = []\n",
        "pos_list = []\n",
        "\n",
        "# Проходим по каждой строке и конкатенируем значения в столбцах question_1 до question_5\n",
        "for index, row in df.iterrows():\n",
        "    concatenated_questions = ' '.join(row[['question_1', 'question_2', 'question_3', 'question_4', 'question_5']])\n",
        "    concatenated_questions_list.append(concatenated_questions)\n",
        "    # print(concatenated_questions)\n",
        "\n",
        "# Проходим по каждой строке и конкатенируем значения в столбцах question_1 до question_5\n",
        "for index, row in df.iterrows():\n",
        "    pos = ''.join(str(row['is_positive']))\n",
        "    # rel = ''.join(str(row['is_relevant']))\n",
        "    pos_list.append(rel)\n",
        "print(concatenated_questions_list)\n",
        "print(pos_list)"
      ],
      "metadata": {
        "colab": {
          "base_uri": "https://localhost:8080/"
        },
        "id": "xBQpikkAM2wG",
        "outputId": "88028f60-7b8c-4c94-a290-d3f02247103b"
      },
      "execution_count": null,
      "outputs": [
        {
          "output_type": "stream",
          "name": "stdout",
          "text": [
            "['Основы программирования Интерактивный подход к изучению основ C# был очень увлекательным. Нет. Увеличить количество практических заданий для лучшего закрепления материала. Введение в разработку на .NET Framework.', 'Основы программирования Подробное объяснение логических операторов в JavaScript помогло мне лучше понять условные конструкции. Нет. Предоставить ещё больше практических задач после теории. Детальное изучение асинхронного программирования в JavaScript.', 'Основы программирования Введение в программирование на Python было простым и интуитивно понятным, особенно для начинающих. Нет. Улучшить качество видеоматериалов, иногда было трудно разглядеть код. Библиотеки Python для анализа данных и машинного обучения.', 'Основы программирования Понятное изложение основных понятий, хорошая структура материала. Да, циклы for и while были объяснены слишком быстро. Добавить видеоматериалы для самостоятельного изучения. Функциональное программирование.', 'Основы программирования Кларность и структура материала по основам JavaScript, особенно затронутые темы циклов и функций. Нет. Ввести больше примеров на работу с массивами и объектами. Работа с асинхронным кодом в JavaScript.', 'Основы программирования Простота объяснений основ Python, особенно циклов и условий, сделала занятие очень доступным. Нет. Предложить больше дополнительных материалов для самостоятельного изучения после вебинара. Подробнее о работе с API в Python.', 'Основы программирования Лектор имел забавную прическу, что отвлекало, но было весело. Да, особенно когда кот лектора прыгнул на стол. Может, начать с курса стрижки для лекторов? И убрать котов из кадра. Как сделать так, чтобы коты не мешали учёбе.', 'Продвинутые техники программирования Детальный разбор объектно-ориентированного программирования. Нет. Ввести дополнительные Q&A сессии после вебинара. Принципы SOLID в программировании.', 'Продвинутые техники программирования Разбор использования шаблонов проектирования в Java был очень подробным и полезным. Да, тема абстрактных фабрик была сложной для понимания. Организовать вебинары с более подробными примерами реализации каждого шаблона. Применение шаблонов проектирования в реальных проектах.', 'Продвинутые техники программирования Изучение сложных структур данных в Python, таких как деревья и графы, было особенно интересным. Да, работа с графами и их алгоритмами. Устроить отдельные вебинары по каждому типу структуры данных с подробными примерами. Глубокое изучение алгоритмов поиска пути и оптимизации.', 'Продвинутые техники программирования Обширное покрытие темы REST API и как они интегрируются с современными веб-приложениями было очень полезно. Да, концепции OAuth 2.0 были сложными для понимания. Больше интерактивных примеров и пошаговых руководств по реализации API. Подробности реализации микросервисов на Spring Boot и Docker.', 'Продвинутые техники программирования Глубина разбора модульного тестирования и TDD была полезной для понимания процессов разработки. Да, использование моков и стабов в тестах. Предоставить дополнительные ресурсы для изучения инструментов мокирования. Интеграционное тестирование и CI/CD пайплайны.', 'Основы программирования Ясное и чёткое объяснение базовых структур данных. Нет. Включить больше реальных примеров использования данных структур. Принципы проектирования алгоритмов.', 'Продвинутые техники программирования На вебинаре раздали виртуальные печеньки, очень мило. Нет, я был слишком занят едой. В следующий раз добавить виртуальный чай. Как запекать печенья.', 'Продвинутые техники программирования Подробный разбор применения шаблонов проектирования в реальных проектах был очень познавательным. Сложности с пониманием абстрактной фабрики. Больше практических примеров для каждого шаблона проектирования. Применение шаблонов проектирования в микросервисах.', 'Новейшие тенденции в IT Дискуссия о будущем облачных вычислений и их влиянии на ИТ-индустрию была очень проницательной. Нет. Включить больше кейс-стади от компаний, успешно интегрировавших облачные решения. Стратегии миграции предприятий в облако.', 'Новейшие тенденции в IT Обсуждение актуальных IT-трендов 2024 года. Да, тема искусственного интеллекта требует более глубокого погружения. Больше времени на сложные темы. Глубокое изучение нейронных сетей.', 'Новейшие тенденции в IT Обсуждение тенденций в разработке мобильных приложений и их влияние на рынок было весьма познавательным. Нет. Включить больше примеров успешных мобильных приложений и их стратегий монетизации. Разработка кроссплатформенных мобильных приложений.', 'Новейшие тенденции в IT Обзор последних достижений в области квантовых вычислений был впечатляющим. Да, сложность темы требует более глубокого погружения. Организовать серию вебинаров по квантовым технологиям с участием экспертов. Квантовая криптография и её практическое применение.', 'Новейшие тенденции в IT Вебинар о технологиях блокчейна и их влиянии на финансовую отрасль был глубоко информативным. Да, концепции смарт-контрактов были сложными для понимания. Ввести вебинар, полностью посвященный смарт-контрактам, с практическими примерами. Разработка и тестирование смарт-контрактов на разных платформах.', 'Новейшие тенденции в IT Обсуждение влияния облачных технологий на современные IT-структуры было особенно актуальным. Да, различия между IaaS, PaaS, и SaaS. Устроить подробный вебинар о каждой облачной модели в отдельности. Безопасность данных в облаке и лучшие практики.', 'ChatGPT для обучения как правильно пользоваться GPT чатом, для получения более развернутого ответа не было пока нет предложений затрудняюсь ответить', 'Управление персоналом Все понравилось Календарь составили так, что совместилось два обучения в одно и тоже время, что не совсем удобно Все хорошо Создания чата со студентами', 'ChatGPT для обучения Gpt чат Информация предоставлена в доступном виде Все хорошо Другие виды ИИ', 'ChatGPT для обучения Промт-Инжиниринг, это уже даёт какое-то понимание правильной формулировки вопросов для ИИ. Нет Не увидел минусов в вебинаре, очень понравился. Промт-Инжиниринг', 'ChatGPT для обучения новая информация, полезно нет не было таких моментов мне все понравилось пока затрудняюсь ответить', 'ChatGPT для обучения Светлые и темные стороны ChatGPT Не знание определений Все идеально темы по дизайну интерьера', 'Новейшие тенденции в IT Обсуждение было настолько скучным, что я научился жонглировать во время вебинара. Да, пытался понять жонглирование тремя шарами. Возможно, включить более динамичную музыку во время обсуждений. Жонглирование для начинающих.', 'Продвинутые техники программирования Глубокий анализ шаблонов проектирования на конкретных примерах. Сложно было понять шаблон Singleton. Подробнее разбирать каждый шаблон на примерах. Тестирование ПО и фреймворки для автоматизации.', 'Основы программирования Объяснение циклов и массивов в JavaScript было очень доступным и понятным. Нет. Добавить видео с разбором сложных примеров кода после вебинара. Подробнее о Node.js и серверном JavaScript.', 'Основы программирования Примеры кода были очень полезными для понимания. Нет. Предоставить дополнительные ресурсы для углубленного изучения. Базы данных и SQL.', 'Основы программирования Занятие по основам HTML и CSS было чрезвычайно полезным для понимания структуры веб-страниц. Нет. Предложить курс по продвинутым техникам CSS, включая Flexbox и Grid. Погружение в JavaScript для интерактивности веб-страниц.', 'Основы программирования Подробный разбор циклов и условных операторов в JavaScript помог укрепить мои знания. Нет. Ввести более сложные задачи для практики после вебинара. Асинхронное программирование в JavaScript и его применение в реальных проектах.', 'Основы программирования Отличное объяснение переменных, типов данных и структур в Python. Нет. Предложить дополнительные учебные материалы для глубокого изучения каждой темы. Глубокое изучение функционального программирования.', 'Основы программирования Дискуссия о том, как писать код одной рукой, была неожиданно увлекательной. Нет, это было странно интересно. Может быть, курс по печати ногами для разнообразия? Как писать код левой пяткой.', 'Основы программирования Отличное введение в основы SQL, особенно работа с JOIN-операциями. Да, сложности с пониманием внешних и внутренних соединений. Предложить более подробные учебные ресурсы и примеры запросов для практики. Оптимизация запросов SQL и анализ производительности баз данных.', 'Продвинутые техники программирования Сессия по оптимизации производительности веб-приложений дала мне новые инструменты для работы. Да, концепты кэширования данных были сложными. Углубить тему кэширования и состояния сессии в отдельном вебинаре. Работа с большими данными и их хранение.', 'Продвинутые техники программирования Затронута тема безопасности приложений, что крайне важно. Сложности с пониманием криптографических методов. Добавить примеры на кейсах из жизни. Кибербезопасность.', 'Основы программирования Отличное объяснение темы циклов и условий, всё стало на свои места. Да, сложно было понять тему рекурсии. Хотелось бы больше практических заданий по каждой теме. Глубже изучить тему работы с базами данных.', 'Продвинутые техники программирования Разбор примеров рефакторинга кода был очень практичным и полезным для понимания, как улучшить существующий код. Некоторые сложные примеры рефакторинга. Углубить материал с дополнительными кейс-стади из реальных проектов. Методы оптимизации производительности приложений.', 'Продвинутые техники программирования Очень ценно было изучить интеграцию API в большие системы, использование RESTful и GraphQL. Да, работа с GraphQL была сложнее, чем ожидалось. Провести серию практических вебинаров, специально посвященных GraphQL. Безопасность API, управление доступом и ограничения скорости запросов.', 'Новейшие тенденции в IT Интересное обсуждение применения искусственного интеллекта в нетехнических отраслях. Да, были трудности с пониманием нейросетей. Уделить больше времени основам нейросетей перед их применением. Машинное обучение и его применение в реальных условиях.', 'Продвинутые техники программирования Глубокое погружение в архитектуру REST и SOAP интерфейсов было крайне полезным для моих проектов. Нет. Организовать практические лаборатории по созданию и тестированию API. Безопасность API и использование OAuth 2.0.', 'Продвинутые техники программирования Глубокий анализ принципов SOLID и их применение в объектно-ориентированном проектировании был великолепен. Да, примеры на C# были запутанными. Организовать дополнительные сессии по практическому применению SOLID в различных языках программирования. Глубокое изучение паттернов проектирования и рефакторинга существующего кода.', 'Продвинутые техники программирования Презентация была настолько монотонной, что я научился рисовать слонов. Да, как правильно рисовать уши слона. Пожалуй, стоит добавить курс по рисованию к вебинарам, чтобы сохранить внимание слушателей. Рисование слонов в Photoshop.', 'Новейшие тенденции в IT Лекция о влиянии ИИ на автоматизацию рабочих процессов была весьма актуальной. Нет. Обсудить более подробно кейсы применения ИИ в разных отраслях. Применение ИИ для оптимизации клиентского сервиса.', 'Новейшие тенденции в IT Дискуссия о будущем искусственного интеллекта и его этических аспектах была особенно привлекательной. Да, темы моральных дилемм ИИ требовали более глубокого понимания. Устроить дебаты или панельную дискуссию с экспертами по этике ИИ, чтобы обсудить эти вопросы подробнее. Роль ИИ в управлении данными и приватности.', 'Новейшие тенденции в IT Обсуждение машинного обучения было особенно интересным. Да, темы, связанные с Big Data, остались не до конца ясны. Углубленный разбор каждой темы. Технологии Big Data.', 'Новейшие тенденции в IT Введение в искусственный интеллект и его влияние на робототехнику было захватывающим и познавательным. Да, темы построения нейросетей требовали более детального объяснения. Провести специализированные вебинары по машинному обучению и нейросетям, с практическими занятиями на реальных данных. Разработка и применение нейросетей в индустрии развлечений и медиа.', 'Новейшие тенденции в IT Доклад о последних инновациях в области искусственного интеллекта и машинного обучения был вдохновляющим. Да, сложности с пониманием концепций глубокого обучения. Провести серию вебинаров, посвященных только машинному обучению, с кейс-стади и примерами из практики. Применение ИИ в реальных бизнес-задачах.', 'Новейшие тенденции в IT Лектор использовал так много жаргонных слов, что я составил словарь. Да, пытался понять, что такое \"блокчейн\". Ввести словарь на каждом вебинаре, чтобы можно было следить за разговором. Разработка собственного жаргона для внутреннего использования.', 'Новейшие тенденции в IT Интерактивная сессия о применении ИИ в финансовом секторе была исчерпывающей и инновационной. Да, спецификации алгоритмов машинного обучения. Организовать более детальные практические занятия по настройке ИИ. Этические аспекты использования ИИ в финансах.', 'Основы программирования Отличное введение в язык программирования Java, особенно раздел про исключения. Нет. Добавить больше задач на практику после каждой темы. Глубокое изучение многопоточности в Java.', 'Основы программирования Ясное объяснение функций и методов в Python помогло мне лучше понять объектно-ориентированное программирование. Нет. Разработать интерактивные лабораторные работы для лучшего усвоения материала. Глубокое изучение Python для научных вычислений.', 'Знакомство с языком Python В теме понравилось, то что обсуждается распространенный среди аналитиков инструмент - Colab Да такие моменты были. Не были раскрыты следующие темы:1. Что такое Колаб? 2. Описание интерфейса и правил работы с Колаб. 3. Для чего он нужен. 4. Функции Колаб. 5. Библиотеки Колаб. 6. Как открыть Колаб в Вижуал Студио. 7. Как установить модули для открытия Колаб в Вижуал Студио. Это первое что пришло на ум. Кстати не зря вам прислали ссылку на урок. Под уроком есть много комментариев недовольных пользователей. Рассказать о том о чем я рассказал в предыдущем вопросе: 1. Что такое Колаб? 2. Описание интерфейса и правил работы с Колаб. 3. Для чего он нужен. 4. Функции Колаб. 5. Библиотеки Колаб. 6. Как открыть Колаб в Вижуал Студио. 7. Как установить модули для открытия Колаб в Вижуал Студио. Библиотеки Колаб', 'Знакомство с языком Python Материал доступен Я не понимаю, зачем мне python Я учуст на Frontend разработчика, зачем мне питон? Дайте мне JS Хочу учить JS', 'Основы программирования Объяснения понятий переменных, типов данных и операторов в Java были ясными и тщательными. Нет. Добавить больше упражнений на практическое применение изученных концепций. Подробное изучение Java для Android-разработки.', 'Основы программирования Ясное и прямолинейное объяснение условных операторов и циклов в C++. Нет. Включить больше комплексных задач для практических занятий. Разработка игр на C++.', 'Основы программирования Подробный разбор процессов компиляции и интерпретации в различных языках программирования был полезен. Да, детали JIT компиляции в Java. Предложить дополнительные материалы для самостоятельного изучения и видео о внутреннем устройстве компиляторов. Подробнее о механизмах управления памятью в современных языках.', 'Основы программирования Легкость доступа к материалам и их понятность. Да, темы алгоритмов требуют больше времени на разбор. Увеличить продолжительность вебинаров. Алгоритмы и структуры данных.', 'Основы программирования Чипи чипи лувиви Ламалама Котик танцует как преподователь Как научить котика танцевать?', 'Основы программирования Лекция о базах данных SQL была очень информативной, особенно раздел о связях и нормализации. Нет. Улучшить визуальные материалы, добавить больше диаграмм и примеров из реальной жизни. Глубокое изучение NoSQL баз данных и их использование в больших данных.', 'Основы программирования Обсуждение ошибок кода было таким скучным, что я составил список фильмов к просмотру. Да, каждый раз, когда слово \"ошибка\" упоминалось. Может быть, провести кинопоказ вместо следующего вебинара? Фильмы, которые каждый программист должен видеть.', 'Основы программирования Майкнафт вспомнили, прослезился Добавьте Херобрина Херобрииин МАМААА', 'Продвинутые техники программирования Вводная часть о машинном обучении была очень информативной и понятной. Нет, материал был представлен доступно. Хотелось бы уделить больше времени вопросам безопасности при программировании. Технологии блокчейн и их применение в программировании.', 'Продвинутые техники программирования Введение в микросервисы было крайне полезным для понимания современных архитектурных подходов. Да, раздел о контейнеризации был сложным. Провести дополнительный вебинар по Docker и Kubernetes. Подробности о развертывании приложений в облаке.', 'Продвинутые техники программирования Вебинар по агил-методологиям и их применению в проектном управлении был чрезвычайно полезен. Да, разбор Scrum и Kanban мог быть более детализированным. Провести отдельные сессии по каждой агил-методологии с практическими примерами их использования. Адаптация агил-методологий в крупных организациях.', 'Продвинутые техники программирования Изучение техник отладки и профилирования приложений на Java было особенно полезным для улучшения производительности. Нет. Организовать воркшопы, где участники могут применять эти техники на практике под руководством опытных разработчиков. Углубленное изучение инструментов профилирования и отладки.', 'Продвинутые техники программирования Хорошее объяснение принципов проектирования ПО. Сложности с примерами рефакторинга. Добавить рабочие листы для отработки материала. Принципы проектирования интерфейсов.', 'Продвинутые техники программирования Разбор использования Docker и Kubernetes для развертывания приложений дал мне ценные знания для работы. Сложности с настройкой Kubernetes. Провести дополнительные сессии, посвященные только Kubernetes, с демонстрацией живого развертывания. Подробное изучение микросервисной архитектуры.', 'Продвинутые техники программирования Сессия по оптимизации SQL запросов была чрезвычайно полезна для улучшения производительности баз данных. Нет. Предоставить доступ к онлайн тренажеру для оттачивания навыков написания и оптимизации SQL запросов. Глубокое понимание индексов и их влияние на производительность.', 'Новейшие тенденции в IT Презентация о развитии кибербезопасности и новых методах защиты информации была крайне информативной. Нет. Предложить серию вебинаров, посвященных подробному разбору инструментов защиты данных. Новые технологии в области защиты персональных данных.', 'Продвинутые техники программирования Сессия по безопасности веб-приложений была не только образовательной, но и очень актуальной. Да, детали XSS и CSRF атак были сложными для понимания. Разработать серию вебинаров, посвященных только кибербезопасности, с практическими упражнениями и тестами. Продвинутые методы защиты данных и инфраструктуры.', 'Новейшие тенденции в IT Освещение прогресса в технологии блокчейн и её применения в различных секторах экономики было проницательным. Да, объяснения функционирования сетей блокчейн. Подробнее разбирать техническую сторону блокчейн технологий на примерах успешных проектов. Разработка на базе Ethereum, включая создание смарт-контрактов.', 'Новейшие тенденции в IT Обсуждение влияния квантовых компьютеров на будущее криптографии было захватывающим. Сложности с пониманием квантовой физики. Обеспечить базовый вводный курс по квантовой механике перед этой темой. Квантовое программирование и его будущее.', 'Новейшие тенденции в IT Презентация о влиянии блокчейн технологий на безопасность данных была крайне просветляющей. Да, концепты шифрования в блокчейне. Организовать тематический вебинар о криптографии, используемой в блокчейне. Разработка смарт-контрактов и их безопасность.', 'Новейшие тенденции в IT Введение в технологии распределенных систем и их применение в разных отраслях было захватывающим. Да, концепции консенсуса в блокчейне были трудными для понимания. Организовать технические воркшопы по каждой теме вебинара для глубокого понимания. Распределенные вычисления и их применение в больших данных.', 'Основы программирования Изучение основных принципов создания пользовательских интерфейсов на React было практичным и актуальным. Да, сложности с Redux для управления состоянием. Устроить дополнительные вебинары по Redux и контексту React для глубокого понимания управления состоянием. Разработка сложных интерактивных веб-приложений на React.', 'Основы программирования Ильнар Шафигуллин большой молодец нет Чаще ставить преподователя на вебинары Больше примеров с уточкой', 'Новейшие тенденции в IT Обсуждение влияния больших данных на современный маркетинг было очень проницательным. Да, вопросы обработки и анализа больших объемов данных были запутанными. Предложить курсы по аналитике данных с использованием специализированных инструментов, таких как Hadoop или Spark. Методы визуализации данных для бизнес-анализа.', 'Новейшие тенденции в IT Презентация новых технологий в визуализации данных. Некоторые примеры были слишком сложны для понимания. Менее загруженные слайды, больше практики. Интерактивная визуализация данных.', 'Основы программирования Обучение эффективным методам написания чистого кода в Python было крайне полезным для моих проектов. Нет. Устроить регулярные сессии код-ревью с опытными разработчиками для обмена опытом и лучшими практиками. Принципы разработки программного обеспечения по методологии Agile.', 'Основы программирования Понравилась харизма преподователя нет, не было Все прошло хорошо Про алгоритмы интересно и устройство процессора', 'Основы программирования Преподователь супер нет Преподователь вырулил все недостатки Не знаю, дальше по программе обучения двигаться', 'Основы программирования Занятие по алгоритмам сортировки было насыщено множеством практических примеров, что упростило понимание. Да, быстрая сортировка требовала более тщательного объяснения. Предложить дополнительные видеоуроки по каждому типу алгоритмов сортировки с подробными примерами кода. Продвинутые алгоритмы и структуры данных, такие как деревья и графы.', 'Основы программирования Разбор методов коллекций в Java был исключительно полезен для понимания работы со списками и множествами. Да, методы Stream API. Разработать детальный курс по работе с Stream API в Java, включая практические примеры. Глубокое изучение многопоточности в Java.', 'Основы программирования Интерактивный подход преподавателя позволил лучше усвоить информацию. Нет, все было понятно. Хотелось бы более подробные материалы для самостоятельного изучения. Больше практических задач на алгоритмы.', 'Основы программирования Чёткое объяснение парадигмы функционального программирования на примере Scala. Да, концепции чистых функций и неизменяемости были запутанными. Устраивать сессии вопросов и ответов после сложных тем. Функциональные языки программирования как Haskell.', 'Основы программирования Освежающий подход к изучению JavaScript, особенно в части ES6+ функционала, был весьма стимулирующим. Нет. Увеличить количество заданий на кодирование в реальном времени для лучшего усвоения материала. Современные фронтенд технологии, такие как React и Angular.', 'Основы программирования Задания для самостоятельной работы помогли закрепить материал. Да, темы объектно-ориентированного программирования были сложными. Больше времени на практические упражнения. Работа с исключениями в программировании.', 'Основы программирования Понравилось как он рассказывает Ха затруднения Удалите эти эфиры все и займитесь нормальным уже делом Не надо мне тему', 'Продвинутые техники программирования Глубина разбора кейсов из реальной практики. Некоторые технические термины не были объяснены. Больше времени уделять базовым концепциям для новичков. Искусственный интеллект в области здравоохранения.', 'Новейшие тенденции в IT Разнообразие примеров из реального мира помогло лучше понять применение теории. Да, разбор паттернов проектирования был слишком быстрым. Меньше теории, больше практики. Сделать вебинары более интерактивными с возможностью задавать вопросы в реальном времени. Изучение разработки виртуальной и дополненной реальности.', 'Новейшие тенденции в IT Преподователь Арбуз Преподователь красный внутри Арбуз хочу Арбуз я покушать я люблю, семки все я исплюю', 'Новейшие тенденции в IT Я не люблю все это Шли вы Платити мани мани студентам как мани поднять', 'Продвинутые техники программирования Разбор техник оптимизации кода на C++ был очень глубоким и практичным. Нет. Предложить материалы для дополнительного изучения сложных тем. Оптимизация и производительность программ на низком уровне.', 'Основы программирования Примеры реального использования паттернов проектирования в .NET были очень ценными. Нет. Больше времени на анализ кода в примерах, меньше теории. Паттерны проектирования для микросервисных архитектур.', 'Основы программирования Зазнался преподователь Напыщенный преподователь Уважение Вопрос к воспитанию преподователя', 'Основы программирования Преподователь раз такой умный , зачем за гроши работаешь? Унижение Уважать студентов и не хамить К преподователю', 'Новейшие тенденции в IT Очень понравилось изучение применения технологий виртуальной реальности в образовании. Да, тема разработки контента для VR была недостаточно подробна. Организовать практические занятия по созданию VR-контента. Разработка приложений для виртуальной реальности.', 'Новейшие тенденции в IT Очень подробный разбор сложных концепций. Сложности с пониманием асинхронного программирования. Нужно больше примеров из жизни. Разработка мобильных приложений.', 'Java api браузеров Понравилась тема Да, преподователь нес чушь и путался в своих же словах Поменяйте преподователя Хотел бы повторить тему Java коллекции', 'Java api браузеров Понравился методический вебинар Преподователь сошел с ума Я думаю с другим преподователем я получил бы больше знаний Хочу перепройти вебинар с другим преподователем']\n",
            "['1', '1', '1', '1', '1', '1', '1', '1', '1', '1', '1', '1', '1', '1', '1', '1', '1', '1', '1', '1', '1', '1', '1', '1', '1', '1', '1', '1', '1', '1', '1', '1', '1', '1', '1', '1', '1', '1', '1', '1', '1', '1', '1', '1', '1', '1', '1', '1', '1', '1', '1', '1', '1', '1', '1', '1', '1', '1', '1', '1', '1', '1', '1', '1', '1', '1', '1', '1', '1', '1', '1', '1', '1', '1', '1', '1', '1', '1', '1', '1', '1', '1', '1', '1', '1', '1', '1', '1', '1', '1', '1', '1', '1', '1', '1', '1', '1', '1', '1', '1', '1', '1', '1']\n"
          ]
        }
      ]
    },
    {
      "cell_type": "code",
      "source": [
        "import csv\n",
        "\n",
        "# mappingId2Label = {0:'negative', 1:'positive'}\n",
        "mappingLabe2Id = {'negative':0, 'positive':1}\n",
        "\n",
        "def get_label(text):\n",
        "    preprocessed_text = preprocess(text, stop_words, punctuation_marks, morph)\n",
        "    predicted_label = w2v_pipeline.predict([preprocessed_text])[0]\n",
        "    print(predicted_label)\n",
        "    return mappingLabe2Id[predicted_label]\n",
        "\n",
        "# Открываем файл CSV для чтения\n",
        "with open('/content/sample_submission.csv', 'r') as file:\n",
        "    # Создаем объект чтения CSV\n",
        "    csv_reader = csv.reader(file)\n",
        "\n",
        "    # Читаем заголовок\n",
        "    header = next(csv_reader)\n",
        "\n",
        "    # Читаем данные из файла\n",
        "    data = list(csv_reader)\n",
        "\n",
        "print(len(data))\n",
        "\n",
        "# Заменяем каждое значение в колонке is_relevant на 1\n",
        "for row, text in zip(data, concatenated_questions_list[:len(data)]):\n",
        "    print(text)\n",
        "    row[3] = get_label(text)\n",
        "\n",
        "# Записываем измененные данные обратно в файл CSV\n",
        "with open('your_submission.csv', 'w', newline='') as file:\n",
        "    # Создаем объект записи CSV\n",
        "    csv_writer = csv.writer(file)\n",
        "\n",
        "    # Записываем заголовок\n",
        "    csv_writer.writerow(header)\n",
        "\n",
        "    # Записываем данные в файл\n",
        "    csv_writer.writerows(data)"
      ],
      "metadata": {
        "colab": {
          "base_uri": "https://localhost:8080/",
          "height": 367
        },
        "id": "7AEF2nLGM60u",
        "outputId": "b504f73e-9ee4-4602-d8b9-d545dc8a2e5f"
      },
      "execution_count": null,
      "outputs": [
        {
          "output_type": "stream",
          "name": "stdout",
          "text": [
            "53\n",
            "Новейшие тенденции в IT Преподователь ел носки Носки пикапика чипи-чипи\n"
          ]
        },
        {
          "output_type": "error",
          "ename": "NameError",
          "evalue": "name 'w2v_pipeline' is not defined",
          "traceback": [
            "\u001b[0;31m---------------------------------------------------------------------------\u001b[0m",
            "\u001b[0;31mNameError\u001b[0m                                 Traceback (most recent call last)",
            "\u001b[0;32m<ipython-input-10-8696faa0325d>\u001b[0m in \u001b[0;36m<cell line: 26>\u001b[0;34m()\u001b[0m\n\u001b[1;32m     26\u001b[0m \u001b[0;32mfor\u001b[0m \u001b[0mrow\u001b[0m\u001b[0;34m,\u001b[0m \u001b[0mtext\u001b[0m \u001b[0;32min\u001b[0m \u001b[0mzip\u001b[0m\u001b[0;34m(\u001b[0m\u001b[0mdata\u001b[0m\u001b[0;34m,\u001b[0m \u001b[0mconcatenated_questions_list\u001b[0m\u001b[0;34m[\u001b[0m\u001b[0;34m:\u001b[0m\u001b[0mlen\u001b[0m\u001b[0;34m(\u001b[0m\u001b[0mdata\u001b[0m\u001b[0;34m)\u001b[0m\u001b[0;34m]\u001b[0m\u001b[0;34m)\u001b[0m\u001b[0;34m:\u001b[0m\u001b[0;34m\u001b[0m\u001b[0;34m\u001b[0m\u001b[0m\n\u001b[1;32m     27\u001b[0m     \u001b[0mprint\u001b[0m\u001b[0;34m(\u001b[0m\u001b[0mtext\u001b[0m\u001b[0;34m)\u001b[0m\u001b[0;34m\u001b[0m\u001b[0;34m\u001b[0m\u001b[0m\n\u001b[0;32m---> 28\u001b[0;31m     \u001b[0mrow\u001b[0m\u001b[0;34m[\u001b[0m\u001b[0;36m3\u001b[0m\u001b[0;34m]\u001b[0m \u001b[0;34m=\u001b[0m \u001b[0mget_label\u001b[0m\u001b[0;34m(\u001b[0m\u001b[0mtext\u001b[0m\u001b[0;34m)\u001b[0m\u001b[0;34m\u001b[0m\u001b[0;34m\u001b[0m\u001b[0m\n\u001b[0m\u001b[1;32m     29\u001b[0m \u001b[0;34m\u001b[0m\u001b[0m\n\u001b[1;32m     30\u001b[0m \u001b[0;31m# Записываем измененные данные обратно в файл CSV\u001b[0m\u001b[0;34m\u001b[0m\u001b[0;34m\u001b[0m\u001b[0m\n",
            "\u001b[0;32m<ipython-input-10-8696faa0325d>\u001b[0m in \u001b[0;36mget_label\u001b[0;34m(text)\u001b[0m\n\u001b[1;32m      6\u001b[0m \u001b[0;32mdef\u001b[0m \u001b[0mget_label\u001b[0m\u001b[0;34m(\u001b[0m\u001b[0mtext\u001b[0m\u001b[0;34m)\u001b[0m\u001b[0;34m:\u001b[0m\u001b[0;34m\u001b[0m\u001b[0;34m\u001b[0m\u001b[0m\n\u001b[1;32m      7\u001b[0m     \u001b[0mpreprocessed_text\u001b[0m \u001b[0;34m=\u001b[0m \u001b[0mpreprocess\u001b[0m\u001b[0;34m(\u001b[0m\u001b[0mtext\u001b[0m\u001b[0;34m,\u001b[0m \u001b[0mstop_words\u001b[0m\u001b[0;34m,\u001b[0m \u001b[0mpunctuation_marks\u001b[0m\u001b[0;34m,\u001b[0m \u001b[0mmorph\u001b[0m\u001b[0;34m)\u001b[0m\u001b[0;34m\u001b[0m\u001b[0;34m\u001b[0m\u001b[0m\n\u001b[0;32m----> 8\u001b[0;31m     \u001b[0mpredicted_label\u001b[0m \u001b[0;34m=\u001b[0m \u001b[0mw2v_pipeline\u001b[0m\u001b[0;34m.\u001b[0m\u001b[0mpredict\u001b[0m\u001b[0;34m(\u001b[0m\u001b[0;34m[\u001b[0m\u001b[0mpreprocessed_text\u001b[0m\u001b[0;34m]\u001b[0m\u001b[0;34m)\u001b[0m\u001b[0;34m[\u001b[0m\u001b[0;36m0\u001b[0m\u001b[0;34m]\u001b[0m\u001b[0;34m\u001b[0m\u001b[0;34m\u001b[0m\u001b[0m\n\u001b[0m\u001b[1;32m      9\u001b[0m     \u001b[0mprint\u001b[0m\u001b[0;34m(\u001b[0m\u001b[0mpredicted_label\u001b[0m\u001b[0;34m)\u001b[0m\u001b[0;34m\u001b[0m\u001b[0;34m\u001b[0m\u001b[0m\n\u001b[1;32m     10\u001b[0m     \u001b[0;32mreturn\u001b[0m \u001b[0mmappingLabe2Id\u001b[0m\u001b[0;34m[\u001b[0m\u001b[0mpredicted_label\u001b[0m\u001b[0;34m]\u001b[0m\u001b[0;34m\u001b[0m\u001b[0;34m\u001b[0m\u001b[0m\n",
            "\u001b[0;31mNameError\u001b[0m: name 'w2v_pipeline' is not defined"
          ]
        }
      ]
    },
    {
      "cell_type": "markdown",
      "source": [
        "# ОБРАБОТКА РЕЗУЛЬТАТА В GPTlike модели"
      ],
      "metadata": {
        "id": "4k_UYUB2ymYV"
      }
    },
    {
      "cell_type": "markdown",
      "source": [
        "### Код object"
      ],
      "metadata": {
        "id": "-ikzXkyQN-c9"
      }
    },
    {
      "cell_type": "code",
      "source": [
        "!pip install gradio_client"
      ],
      "metadata": {
        "colab": {
          "base_uri": "https://localhost:8080/"
        },
        "id": "C50HW_bVgmj_",
        "outputId": "741a71eb-2a8d-4a2a-c207-d563b0fe75b5"
      },
      "execution_count": null,
      "outputs": [
        {
          "output_type": "stream",
          "name": "stdout",
          "text": [
            "Collecting gradio_client\n",
            "  Downloading gradio_client-0.16.0-py3-none-any.whl (314 kB)\n",
            "\u001b[2K     \u001b[90m━━━━━━━━━━━━━━━━━━━━━━━━━━━━━━━━━━━━━━━━\u001b[0m \u001b[32m314.4/314.4 kB\u001b[0m \u001b[31m3.4 MB/s\u001b[0m eta \u001b[36m0:00:00\u001b[0m\n",
            "\u001b[?25hRequirement already satisfied: fsspec in /usr/local/lib/python3.10/dist-packages (from gradio_client) (2023.6.0)\n",
            "Collecting httpx>=0.24.1 (from gradio_client)\n",
            "  Downloading httpx-0.27.0-py3-none-any.whl (75 kB)\n",
            "\u001b[2K     \u001b[90m━━━━━━━━━━━━━━━━━━━━━━━━━━━━━━━━━━━━━━━━\u001b[0m \u001b[32m75.6/75.6 kB\u001b[0m \u001b[31m7.5 MB/s\u001b[0m eta \u001b[36m0:00:00\u001b[0m\n",
            "\u001b[?25hRequirement already satisfied: huggingface-hub>=0.19.3 in /usr/local/lib/python3.10/dist-packages (from gradio_client) (0.20.3)\n",
            "Requirement already satisfied: packaging in /usr/local/lib/python3.10/dist-packages (from gradio_client) (24.0)\n",
            "Requirement already satisfied: typing-extensions~=4.0 in /usr/local/lib/python3.10/dist-packages (from gradio_client) (4.11.0)\n",
            "Collecting websockets<12.0,>=10.0 (from gradio_client)\n",
            "  Downloading websockets-11.0.3-cp310-cp310-manylinux_2_5_x86_64.manylinux1_x86_64.manylinux_2_17_x86_64.manylinux2014_x86_64.whl (129 kB)\n",
            "\u001b[2K     \u001b[90m━━━━━━━━━━━━━━━━━━━━━━━━━━━━━━━━━━━━━━━━\u001b[0m \u001b[32m129.9/129.9 kB\u001b[0m \u001b[31m6.7 MB/s\u001b[0m eta \u001b[36m0:00:00\u001b[0m\n",
            "\u001b[?25hRequirement already satisfied: anyio in /usr/local/lib/python3.10/dist-packages (from httpx>=0.24.1->gradio_client) (3.7.1)\n",
            "Requirement already satisfied: certifi in /usr/local/lib/python3.10/dist-packages (from httpx>=0.24.1->gradio_client) (2024.2.2)\n",
            "Collecting httpcore==1.* (from httpx>=0.24.1->gradio_client)\n",
            "  Downloading httpcore-1.0.5-py3-none-any.whl (77 kB)\n",
            "\u001b[2K     \u001b[90m━━━━━━━━━━━━━━━━━━━━━━━━━━━━━━━━━━━━━━━━\u001b[0m \u001b[32m77.9/77.9 kB\u001b[0m \u001b[31m6.7 MB/s\u001b[0m eta \u001b[36m0:00:00\u001b[0m\n",
            "\u001b[?25hRequirement already satisfied: idna in /usr/local/lib/python3.10/dist-packages (from httpx>=0.24.1->gradio_client) (3.7)\n",
            "Requirement already satisfied: sniffio in /usr/local/lib/python3.10/dist-packages (from httpx>=0.24.1->gradio_client) (1.3.1)\n",
            "Collecting h11<0.15,>=0.13 (from httpcore==1.*->httpx>=0.24.1->gradio_client)\n",
            "  Downloading h11-0.14.0-py3-none-any.whl (58 kB)\n",
            "\u001b[2K     \u001b[90m━━━━━━━━━━━━━━━━━━━━━━━━━━━━━━━━━━━━━━━━\u001b[0m \u001b[32m58.3/58.3 kB\u001b[0m \u001b[31m7.1 MB/s\u001b[0m eta \u001b[36m0:00:00\u001b[0m\n",
            "\u001b[?25hRequirement already satisfied: filelock in /usr/local/lib/python3.10/dist-packages (from huggingface-hub>=0.19.3->gradio_client) (3.13.4)\n",
            "Requirement already satisfied: requests in /usr/local/lib/python3.10/dist-packages (from huggingface-hub>=0.19.3->gradio_client) (2.31.0)\n",
            "Requirement already satisfied: tqdm>=4.42.1 in /usr/local/lib/python3.10/dist-packages (from huggingface-hub>=0.19.3->gradio_client) (4.66.2)\n",
            "Requirement already satisfied: pyyaml>=5.1 in /usr/local/lib/python3.10/dist-packages (from huggingface-hub>=0.19.3->gradio_client) (6.0.1)\n",
            "Requirement already satisfied: exceptiongroup in /usr/local/lib/python3.10/dist-packages (from anyio->httpx>=0.24.1->gradio_client) (1.2.1)\n",
            "Requirement already satisfied: charset-normalizer<4,>=2 in /usr/local/lib/python3.10/dist-packages (from requests->huggingface-hub>=0.19.3->gradio_client) (3.3.2)\n",
            "Requirement already satisfied: urllib3<3,>=1.21.1 in /usr/local/lib/python3.10/dist-packages (from requests->huggingface-hub>=0.19.3->gradio_client) (2.0.7)\n",
            "Installing collected packages: websockets, h11, httpcore, httpx, gradio_client\n",
            "Successfully installed gradio_client-0.16.0 h11-0.14.0 httpcore-1.0.5 httpx-0.27.0 websockets-11.0.3\n"
          ]
        }
      ]
    },
    {
      "cell_type": "code",
      "source": [
        "import pandas as pd\n",
        "\n",
        "# Замените 'data.csv' на путь к вашему файлу CSV\n",
        "df = pd.read_csv('train_data.csv')\n",
        "\n",
        "concatenated_questions_list = []\n",
        "object_list = []\n",
        "\n",
        "# Проходим по каждой строке и конкатенируем значения в столбцах question_1 до question_5\n",
        "for index, row in df.iterrows():\n",
        "    concatenated_questions = ' '.join(row[['question_2', 'question_3', 'question_4', 'question_5']])\n",
        "    concatenated_questions_list.append(concatenated_questions)\n",
        "    # print(concatenated_questions)\n",
        "\n",
        "# Проходим по каждой строке и конкатенируем значения в столбцах question_1 до question_5\n",
        "for index, row in df.iterrows():\n",
        "    obj = ''.join(str(row['object']))\n",
        "    object_list.append(obj)\n",
        "print(concatenated_questions_list)\n",
        "print(object_list)"
      ],
      "metadata": {
        "colab": {
          "base_uri": "https://localhost:8080/"
        },
        "id": "XAvyc1M0ELc0",
        "outputId": "d6fd8dce-ce98-4e3f-9a49-c1c2aa66bcc2"
      },
      "execution_count": null,
      "outputs": [
        {
          "output_type": "stream",
          "name": "stdout",
          "text": [
            "['Интерактивный подход к изучению основ C# был очень увлекательным. Нет. Увеличить количество практических заданий для лучшего закрепления материала. Введение в разработку на .NET Framework.', 'Подробное объяснение логических операторов в JavaScript помогло мне лучше понять условные конструкции. Нет. Предоставить ещё больше практических задач после теории. Детальное изучение асинхронного программирования в JavaScript.', 'Введение в программирование на Python было простым и интуитивно понятным, особенно для начинающих. Нет. Улучшить качество видеоматериалов, иногда было трудно разглядеть код. Библиотеки Python для анализа данных и машинного обучения.', 'Понятное изложение основных понятий, хорошая структура материала. Да, циклы for и while были объяснены слишком быстро. Добавить видеоматериалы для самостоятельного изучения. Функциональное программирование.', 'Кларность и структура материала по основам JavaScript, особенно затронутые темы циклов и функций. Нет. Ввести больше примеров на работу с массивами и объектами. Работа с асинхронным кодом в JavaScript.', 'Простота объяснений основ Python, особенно циклов и условий, сделала занятие очень доступным. Нет. Предложить больше дополнительных материалов для самостоятельного изучения после вебинара. Подробнее о работе с API в Python.', 'Лектор имел забавную прическу, что отвлекало, но было весело. Да, особенно когда кот лектора прыгнул на стол. Может, начать с курса стрижки для лекторов? И убрать котов из кадра. Как сделать так, чтобы коты не мешали учёбе.', 'Детальный разбор объектно-ориентированного программирования. Нет. Ввести дополнительные Q&A сессии после вебинара. Принципы SOLID в программировании.', 'Разбор использования шаблонов проектирования в Java был очень подробным и полезным. Да, тема абстрактных фабрик была сложной для понимания. Организовать вебинары с более подробными примерами реализации каждого шаблона. Применение шаблонов проектирования в реальных проектах.', 'Изучение сложных структур данных в Python, таких как деревья и графы, было особенно интересным. Да, работа с графами и их алгоритмами. Устроить отдельные вебинары по каждому типу структуры данных с подробными примерами. Глубокое изучение алгоритмов поиска пути и оптимизации.', 'Обширное покрытие темы REST API и как они интегрируются с современными веб-приложениями было очень полезно. Да, концепции OAuth 2.0 были сложными для понимания. Больше интерактивных примеров и пошаговых руководств по реализации API. Подробности реализации микросервисов на Spring Boot и Docker.', 'Глубина разбора модульного тестирования и TDD была полезной для понимания процессов разработки. Да, использование моков и стабов в тестах. Предоставить дополнительные ресурсы для изучения инструментов мокирования. Интеграционное тестирование и CI/CD пайплайны.', 'Ясное и чёткое объяснение базовых структур данных. Нет. Включить больше реальных примеров использования данных структур. Принципы проектирования алгоритмов.', 'На вебинаре раздали виртуальные печеньки, очень мило. Нет, я был слишком занят едой. В следующий раз добавить виртуальный чай. Как запекать печенья.', 'Подробный разбор применения шаблонов проектирования в реальных проектах был очень познавательным. Сложности с пониманием абстрактной фабрики. Больше практических примеров для каждого шаблона проектирования. Применение шаблонов проектирования в микросервисах.', 'Дискуссия о будущем облачных вычислений и их влиянии на ИТ-индустрию была очень проницательной. Нет. Включить больше кейс-стади от компаний, успешно интегрировавших облачные решения. Стратегии миграции предприятий в облако.', 'Обсуждение актуальных IT-трендов 2024 года. Да, тема искусственного интеллекта требует более глубокого погружения. Больше времени на сложные темы. Глубокое изучение нейронных сетей.', 'Обсуждение тенденций в разработке мобильных приложений и их влияние на рынок было весьма познавательным. Нет. Включить больше примеров успешных мобильных приложений и их стратегий монетизации. Разработка кроссплатформенных мобильных приложений.', 'Обзор последних достижений в области квантовых вычислений был впечатляющим. Да, сложность темы требует более глубокого погружения. Организовать серию вебинаров по квантовым технологиям с участием экспертов. Квантовая криптография и её практическое применение.', 'Вебинар о технологиях блокчейна и их влиянии на финансовую отрасль был глубоко информативным. Да, концепции смарт-контрактов были сложными для понимания. Ввести вебинар, полностью посвященный смарт-контрактам, с практическими примерами. Разработка и тестирование смарт-контрактов на разных платформах.', 'Обсуждение влияния облачных технологий на современные IT-структуры было особенно актуальным. Да, различия между IaaS, PaaS, и SaaS. Устроить подробный вебинар о каждой облачной модели в отдельности. Безопасность данных в облаке и лучшие практики.', 'как правильно пользоваться GPT чатом, для получения более развернутого ответа не было пока нет предложений затрудняюсь ответить', 'Все понравилось Календарь составили так, что совместилось два обучения в одно и тоже время, что не совсем удобно Все хорошо Создания чата со студентами', 'Gpt чат Информация предоставлена в доступном виде Все хорошо Другие виды ИИ', 'Промт-Инжиниринг, это уже даёт какое-то понимание правильной формулировки вопросов для ИИ. Нет Не увидел минусов в вебинаре, очень понравился. Промт-Инжиниринг', 'новая информация, полезно нет не было таких моментов мне все понравилось пока затрудняюсь ответить', 'Светлые и темные стороны ChatGPT Не знание определений Все идеально темы по дизайну интерьера', 'Обсуждение было настолько скучным, что я научился жонглировать во время вебинара. Да, пытался понять жонглирование тремя шарами. Возможно, включить более динамичную музыку во время обсуждений. Жонглирование для начинающих.', 'Глубокий анализ шаблонов проектирования на конкретных примерах. Сложно было понять шаблон Singleton. Подробнее разбирать каждый шаблон на примерах. Тестирование ПО и фреймворки для автоматизации.', 'Объяснение циклов и массивов в JavaScript было очень доступным и понятным. Нет. Добавить видео с разбором сложных примеров кода после вебинара. Подробнее о Node.js и серверном JavaScript.', 'Примеры кода были очень полезными для понимания. Нет. Предоставить дополнительные ресурсы для углубленного изучения. Базы данных и SQL.', 'Занятие по основам HTML и CSS было чрезвычайно полезным для понимания структуры веб-страниц. Нет. Предложить курс по продвинутым техникам CSS, включая Flexbox и Grid. Погружение в JavaScript для интерактивности веб-страниц.', 'Подробный разбор циклов и условных операторов в JavaScript помог укрепить мои знания. Нет. Ввести более сложные задачи для практики после вебинара. Асинхронное программирование в JavaScript и его применение в реальных проектах.', 'Отличное объяснение переменных, типов данных и структур в Python. Нет. Предложить дополнительные учебные материалы для глубокого изучения каждой темы. Глубокое изучение функционального программирования.', 'Дискуссия о том, как писать код одной рукой, была неожиданно увлекательной. Нет, это было странно интересно. Может быть, курс по печати ногами для разнообразия? Как писать код левой пяткой.', 'Отличное введение в основы SQL, особенно работа с JOIN-операциями. Да, сложности с пониманием внешних и внутренних соединений. Предложить более подробные учебные ресурсы и примеры запросов для практики. Оптимизация запросов SQL и анализ производительности баз данных.', 'Сессия по оптимизации производительности веб-приложений дала мне новые инструменты для работы. Да, концепты кэширования данных были сложными. Углубить тему кэширования и состояния сессии в отдельном вебинаре. Работа с большими данными и их хранение.', 'Затронута тема безопасности приложений, что крайне важно. Сложности с пониманием криптографических методов. Добавить примеры на кейсах из жизни. Кибербезопасность.', 'Отличное объяснение темы циклов и условий, всё стало на свои места. Да, сложно было понять тему рекурсии. Хотелось бы больше практических заданий по каждой теме. Глубже изучить тему работы с базами данных.', 'Разбор примеров рефакторинга кода был очень практичным и полезным для понимания, как улучшить существующий код. Некоторые сложные примеры рефакторинга. Углубить материал с дополнительными кейс-стади из реальных проектов. Методы оптимизации производительности приложений.', 'Очень ценно было изучить интеграцию API в большие системы, использование RESTful и GraphQL. Да, работа с GraphQL была сложнее, чем ожидалось. Провести серию практических вебинаров, специально посвященных GraphQL. Безопасность API, управление доступом и ограничения скорости запросов.', 'Интересное обсуждение применения искусственного интеллекта в нетехнических отраслях. Да, были трудности с пониманием нейросетей. Уделить больше времени основам нейросетей перед их применением. Машинное обучение и его применение в реальных условиях.', 'Глубокое погружение в архитектуру REST и SOAP интерфейсов было крайне полезным для моих проектов. Нет. Организовать практические лаборатории по созданию и тестированию API. Безопасность API и использование OAuth 2.0.', 'Глубокий анализ принципов SOLID и их применение в объектно-ориентированном проектировании был великолепен. Да, примеры на C# были запутанными. Организовать дополнительные сессии по практическому применению SOLID в различных языках программирования. Глубокое изучение паттернов проектирования и рефакторинга существующего кода.', 'Презентация была настолько монотонной, что я научился рисовать слонов. Да, как правильно рисовать уши слона. Пожалуй, стоит добавить курс по рисованию к вебинарам, чтобы сохранить внимание слушателей. Рисование слонов в Photoshop.', 'Лекция о влиянии ИИ на автоматизацию рабочих процессов была весьма актуальной. Нет. Обсудить более подробно кейсы применения ИИ в разных отраслях. Применение ИИ для оптимизации клиентского сервиса.', 'Дискуссия о будущем искусственного интеллекта и его этических аспектах была особенно привлекательной. Да, темы моральных дилемм ИИ требовали более глубокого понимания. Устроить дебаты или панельную дискуссию с экспертами по этике ИИ, чтобы обсудить эти вопросы подробнее. Роль ИИ в управлении данными и приватности.', 'Обсуждение машинного обучения было особенно интересным. Да, темы, связанные с Big Data, остались не до конца ясны. Углубленный разбор каждой темы. Технологии Big Data.', 'Введение в искусственный интеллект и его влияние на робототехнику было захватывающим и познавательным. Да, темы построения нейросетей требовали более детального объяснения. Провести специализированные вебинары по машинному обучению и нейросетям, с практическими занятиями на реальных данных. Разработка и применение нейросетей в индустрии развлечений и медиа.', 'Доклад о последних инновациях в области искусственного интеллекта и машинного обучения был вдохновляющим. Да, сложности с пониманием концепций глубокого обучения. Провести серию вебинаров, посвященных только машинному обучению, с кейс-стади и примерами из практики. Применение ИИ в реальных бизнес-задачах.', 'Лектор использовал так много жаргонных слов, что я составил словарь. Да, пытался понять, что такое \"блокчейн\". Ввести словарь на каждом вебинаре, чтобы можно было следить за разговором. Разработка собственного жаргона для внутреннего использования.', 'Интерактивная сессия о применении ИИ в финансовом секторе была исчерпывающей и инновационной. Да, спецификации алгоритмов машинного обучения. Организовать более детальные практические занятия по настройке ИИ. Этические аспекты использования ИИ в финансах.', 'Отличное введение в язык программирования Java, особенно раздел про исключения. Нет. Добавить больше задач на практику после каждой темы. Глубокое изучение многопоточности в Java.', 'Ясное объяснение функций и методов в Python помогло мне лучше понять объектно-ориентированное программирование. Нет. Разработать интерактивные лабораторные работы для лучшего усвоения материала. Глубокое изучение Python для научных вычислений.', 'В теме понравилось, то что обсуждается распространенный среди аналитиков инструмент - Colab Да такие моменты были. Не были раскрыты следующие темы:1. Что такое Колаб? 2. Описание интерфейса и правил работы с Колаб. 3. Для чего он нужен. 4. Функции Колаб. 5. Библиотеки Колаб. 6. Как открыть Колаб в Вижуал Студио. 7. Как установить модули для открытия Колаб в Вижуал Студио. Это первое что пришло на ум. Кстати не зря вам прислали ссылку на урок. Под уроком есть много комментариев недовольных пользователей. Рассказать о том о чем я рассказал в предыдущем вопросе: 1. Что такое Колаб? 2. Описание интерфейса и правил работы с Колаб. 3. Для чего он нужен. 4. Функции Колаб. 5. Библиотеки Колаб. 6. Как открыть Колаб в Вижуал Студио. 7. Как установить модули для открытия Колаб в Вижуал Студио. Библиотеки Колаб', 'Материал доступен Я не понимаю, зачем мне python Я учуст на Frontend разработчика, зачем мне питон? Дайте мне JS Хочу учить JS', 'Объяснения понятий переменных, типов данных и операторов в Java были ясными и тщательными. Нет. Добавить больше упражнений на практическое применение изученных концепций. Подробное изучение Java для Android-разработки.', 'Ясное и прямолинейное объяснение условных операторов и циклов в C++. Нет. Включить больше комплексных задач для практических занятий. Разработка игр на C++.', 'Подробный разбор процессов компиляции и интерпретации в различных языках программирования был полезен. Да, детали JIT компиляции в Java. Предложить дополнительные материалы для самостоятельного изучения и видео о внутреннем устройстве компиляторов. Подробнее о механизмах управления памятью в современных языках.', 'Легкость доступа к материалам и их понятность. Да, темы алгоритмов требуют больше времени на разбор. Увеличить продолжительность вебинаров. Алгоритмы и структуры данных.', 'Чипи чипи лувиви Ламалама Котик танцует как преподователь Как научить котика танцевать?', 'Лекция о базах данных SQL была очень информативной, особенно раздел о связях и нормализации. Нет. Улучшить визуальные материалы, добавить больше диаграмм и примеров из реальной жизни. Глубокое изучение NoSQL баз данных и их использование в больших данных.', 'Обсуждение ошибок кода было таким скучным, что я составил список фильмов к просмотру. Да, каждый раз, когда слово \"ошибка\" упоминалось. Может быть, провести кинопоказ вместо следующего вебинара? Фильмы, которые каждый программист должен видеть.', 'Майкнафт вспомнили, прослезился Добавьте Херобрина Херобрииин МАМААА', 'Вводная часть о машинном обучении была очень информативной и понятной. Нет, материал был представлен доступно. Хотелось бы уделить больше времени вопросам безопасности при программировании. Технологии блокчейн и их применение в программировании.', 'Введение в микросервисы было крайне полезным для понимания современных архитектурных подходов. Да, раздел о контейнеризации был сложным. Провести дополнительный вебинар по Docker и Kubernetes. Подробности о развертывании приложений в облаке.', 'Вебинар по агил-методологиям и их применению в проектном управлении был чрезвычайно полезен. Да, разбор Scrum и Kanban мог быть более детализированным. Провести отдельные сессии по каждой агил-методологии с практическими примерами их использования. Адаптация агил-методологий в крупных организациях.', 'Изучение техник отладки и профилирования приложений на Java было особенно полезным для улучшения производительности. Нет. Организовать воркшопы, где участники могут применять эти техники на практике под руководством опытных разработчиков. Углубленное изучение инструментов профилирования и отладки.', 'Хорошее объяснение принципов проектирования ПО. Сложности с примерами рефакторинга. Добавить рабочие листы для отработки материала. Принципы проектирования интерфейсов.', 'Разбор использования Docker и Kubernetes для развертывания приложений дал мне ценные знания для работы. Сложности с настройкой Kubernetes. Провести дополнительные сессии, посвященные только Kubernetes, с демонстрацией живого развертывания. Подробное изучение микросервисной архитектуры.', 'Сессия по оптимизации SQL запросов была чрезвычайно полезна для улучшения производительности баз данных. Нет. Предоставить доступ к онлайн тренажеру для оттачивания навыков написания и оптимизации SQL запросов. Глубокое понимание индексов и их влияние на производительность.', 'Презентация о развитии кибербезопасности и новых методах защиты информации была крайне информативной. Нет. Предложить серию вебинаров, посвященных подробному разбору инструментов защиты данных. Новые технологии в области защиты персональных данных.', 'Сессия по безопасности веб-приложений была не только образовательной, но и очень актуальной. Да, детали XSS и CSRF атак были сложными для понимания. Разработать серию вебинаров, посвященных только кибербезопасности, с практическими упражнениями и тестами. Продвинутые методы защиты данных и инфраструктуры.', 'Освещение прогресса в технологии блокчейн и её применения в различных секторах экономики было проницательным. Да, объяснения функционирования сетей блокчейн. Подробнее разбирать техническую сторону блокчейн технологий на примерах успешных проектов. Разработка на базе Ethereum, включая создание смарт-контрактов.', 'Обсуждение влияния квантовых компьютеров на будущее криптографии было захватывающим. Сложности с пониманием квантовой физики. Обеспечить базовый вводный курс по квантовой механике перед этой темой. Квантовое программирование и его будущее.', 'Презентация о влиянии блокчейн технологий на безопасность данных была крайне просветляющей. Да, концепты шифрования в блокчейне. Организовать тематический вебинар о криптографии, используемой в блокчейне. Разработка смарт-контрактов и их безопасность.', 'Введение в технологии распределенных систем и их применение в разных отраслях было захватывающим. Да, концепции консенсуса в блокчейне были трудными для понимания. Организовать технические воркшопы по каждой теме вебинара для глубокого понимания. Распределенные вычисления и их применение в больших данных.', 'Изучение основных принципов создания пользовательских интерфейсов на React было практичным и актуальным. Да, сложности с Redux для управления состоянием. Устроить дополнительные вебинары по Redux и контексту React для глубокого понимания управления состоянием. Разработка сложных интерактивных веб-приложений на React.', 'Ильнар Шафигуллин большой молодец нет Чаще ставить преподователя на вебинары Больше примеров с уточкой', 'Обсуждение влияния больших данных на современный маркетинг было очень проницательным. Да, вопросы обработки и анализа больших объемов данных были запутанными. Предложить курсы по аналитике данных с использованием специализированных инструментов, таких как Hadoop или Spark. Методы визуализации данных для бизнес-анализа.', 'Презентация новых технологий в визуализации данных. Некоторые примеры были слишком сложны для понимания. Менее загруженные слайды, больше практики. Интерактивная визуализация данных.', 'Обучение эффективным методам написания чистого кода в Python было крайне полезным для моих проектов. Нет. Устроить регулярные сессии код-ревью с опытными разработчиками для обмена опытом и лучшими практиками. Принципы разработки программного обеспечения по методологии Agile.', 'Понравилась харизма преподователя нет, не было Все прошло хорошо Про алгоритмы интересно и устройство процессора', 'Преподователь супер нет Преподователь вырулил все недостатки Не знаю, дальше по программе обучения двигаться', 'Занятие по алгоритмам сортировки было насыщено множеством практических примеров, что упростило понимание. Да, быстрая сортировка требовала более тщательного объяснения. Предложить дополнительные видеоуроки по каждому типу алгоритмов сортировки с подробными примерами кода. Продвинутые алгоритмы и структуры данных, такие как деревья и графы.', 'Разбор методов коллекций в Java был исключительно полезен для понимания работы со списками и множествами. Да, методы Stream API. Разработать детальный курс по работе с Stream API в Java, включая практические примеры. Глубокое изучение многопоточности в Java.', 'Интерактивный подход преподавателя позволил лучше усвоить информацию. Нет, все было понятно. Хотелось бы более подробные материалы для самостоятельного изучения. Больше практических задач на алгоритмы.', 'Чёткое объяснение парадигмы функционального программирования на примере Scala. Да, концепции чистых функций и неизменяемости были запутанными. Устраивать сессии вопросов и ответов после сложных тем. Функциональные языки программирования как Haskell.', 'Освежающий подход к изучению JavaScript, особенно в части ES6+ функционала, был весьма стимулирующим. Нет. Увеличить количество заданий на кодирование в реальном времени для лучшего усвоения материала. Современные фронтенд технологии, такие как React и Angular.', 'Задания для самостоятельной работы помогли закрепить материал. Да, темы объектно-ориентированного программирования были сложными. Больше времени на практические упражнения. Работа с исключениями в программировании.', 'Понравилось как он рассказывает Ха затруднения Удалите эти эфиры все и займитесь нормальным уже делом Не надо мне тему', 'Глубина разбора кейсов из реальной практики. Некоторые технические термины не были объяснены. Больше времени уделять базовым концепциям для новичков. Искусственный интеллект в области здравоохранения.', 'Разнообразие примеров из реального мира помогло лучше понять применение теории. Да, разбор паттернов проектирования был слишком быстрым. Меньше теории, больше практики. Сделать вебинары более интерактивными с возможностью задавать вопросы в реальном времени. Изучение разработки виртуальной и дополненной реальности.', 'Преподователь Арбуз Преподователь красный внутри Арбуз хочу Арбуз я покушать я люблю, семки все я исплюю', 'Я не люблю все это Шли вы Платити мани мани студентам как мани поднять', 'Разбор техник оптимизации кода на C++ был очень глубоким и практичным. Нет. Предложить материалы для дополнительного изучения сложных тем. Оптимизация и производительность программ на низком уровне.', 'Примеры реального использования паттернов проектирования в .NET были очень ценными. Нет. Больше времени на анализ кода в примерах, меньше теории. Паттерны проектирования для микросервисных архитектур.', 'Зазнался преподователь Напыщенный преподователь Уважение Вопрос к воспитанию преподователя', 'Преподователь раз такой умный , зачем за гроши работаешь? Унижение Уважать студентов и не хамить К преподователю', 'Очень понравилось изучение применения технологий виртуальной реальности в образовании. Да, тема разработки контента для VR была недостаточно подробна. Организовать практические занятия по созданию VR-контента. Разработка приложений для виртуальной реальности.', 'Очень подробный разбор сложных концепций. Сложности с пониманием асинхронного программирования. Нужно больше примеров из жизни. Разработка мобильных приложений.', 'Понравилась тема Да, преподователь нес чушь и путался в своих же словах Поменяйте преподователя Хотел бы повторить тему Java коллекции', 'Понравился методический вебинар Преподователь сошел с ума Я думаю с другим преподователем я получил бы больше знаний Хочу перепройти вебинар с другим преподователем']\n",
            "['0', '0', '0', '0', '0', '0', '2', '1', '1', '1', '1', '1', '0', '1', '1', '2', '2', '2', '2', '2', '2', '0', '1', '0', '0', '0', '0', '0', '1', '0', '0', '0', '0', '0', '0', '0', '1', '1', '0', '1', '1', '2', '1', '1', '1', '2', '2', '2', '2', '2', '2', '2', '0', '0', '1', '1', '0', '0', '0', '0', '2', '0', '0', '1', '1', '1', '1', '1', '1', '1', '1', '2', '1', '2', '2', '2', '2', '0', '2', '2', '2', '0', '2', '2', '0', '0', '0', '0', '0', '0', '2', '1', '2', '2', '1', '1', '0', '2', '2', '2', '2', '2', '2']\n"
          ]
        }
      ]
    },
    {
      "cell_type": "code",
      "source": [
        "from gradio_client import Client\n",
        "\n",
        "client = Client(\"https://qwen-qwen1-5-72b-chat.hf.space/--replicas/3kh1x/\")\n",
        "\n",
        "\n",
        "def get_label_object(text):\n",
        "\n",
        "    dox=f\"кому направлен отзыв. выбери один варинат наиболее веротяный \\\n",
        "    0 - техническая часть вебинара (Примеры: интерактивный подход к изучению, структура материала, практических задач, просто и понятно, хорошая структура, доступном виде, правильной формулировки вопросов) , \\\n",
        "    1 - программа вебинара (Примеры: тема с подробными примерами, практических задач, подробности реализации, детальный разбор, был очень подробным и полезным, ясное и чёткое, совместилось обучение, примеры на кейсах из жизни, информативной и понятной), \\\n",
        "    2 - преподаватель (Примеры:лектор, лектор имел, материал более живым, обсуждение актуальных тем тендеций, обсуждение применения, освещение, презентация, дискуссия о, лекция о, доклад о, харизма преподователя, преподаватель, он рассказывает, зазнался, умный).\\\n",
        "    {text.replace('.', '').lower()}\"\n",
        "    result = client.predict(\n",
        "        dox,\t# str  in 'Input' Textbox component\n",
        "        [[ \"None\", \"None\" ],],\t# Tuple[str | Dict(file: filepath, alt_text: str | None) | None, str | Dict(file: filepath, alt_text: str | None) | None]  in 'Qwen1.5-72B-Chat' Chatbot component\n",
        "        \"None\",\t# str  in 'parameter_9' Textbox component\n",
        "        api_name=\"/model_chat\"\n",
        "    )\n",
        "\n",
        "    answer = result[1][1][1].lower()\n",
        "    if \"техническую часть\" in answer or \"технической части\" in answer or \"техническая часть\" in answer or \"организация вебинара\" in answer or \"tech\" in answer or \"нет определенного варианта\" in answer:\n",
        "        print(0)\n",
        "        return 0\n",
        "    elif \"преподаватель\" in answer or \"лектор\" in answer or \"1 - программе вебинара\" in answer or \"prepodavatel\" in answer:\n",
        "        print(2)\n",
        "        return 2\n",
        "    else:\n",
        "        print(1)\n",
        "        return 1\n",
        "    print(\"------>\", answer, \"<------\")\n",
        "    print()"
      ],
      "metadata": {
        "id": "wadXmvlwFVkD",
        "colab": {
          "base_uri": "https://localhost:8080/"
        },
        "outputId": "32f44fe2-61d9-4e32-ec27-ff7942575dde"
      },
      "execution_count": null,
      "outputs": [
        {
          "output_type": "stream",
          "name": "stderr",
          "text": [
            "/usr/local/lib/python3.10/dist-packages/huggingface_hub/utils/_token.py:88: UserWarning: \n",
            "The secret `HF_TOKEN` does not exist in your Colab secrets.\n",
            "To authenticate with the Hugging Face Hub, create a token in your settings tab (https://huggingface.co/settings/tokens), set it as secret in your Google Colab and restart your session.\n",
            "You will be able to reuse this secret in all of your notebooks.\n",
            "Please note that authentication is recommended but still optional to access public models or datasets.\n",
            "  warnings.warn(\n"
          ]
        },
        {
          "output_type": "stream",
          "name": "stdout",
          "text": [
            "Loaded as API: https://qwen-qwen1-5-72b-chat.hf.space/--replicas/3kh1x/ ✔\n"
          ]
        }
      ]
    },
    {
      "cell_type": "code",
      "source": [
        "# Открываем файл CSV для чтения\n",
        "with open('your_submission.csv', 'r') as file:\n",
        "    # Создаем объект чтения CSV\n",
        "    csv_reader = csv.reader(file)\n",
        "\n",
        "    # Читаем заголовок\n",
        "    header = next(csv_reader)\n",
        "\n",
        "    # Читаем данные из файла\n",
        "    data = list(csv_reader)\n",
        "\n",
        "print(len(data))\n",
        "\n",
        "# Заменяем каждое значение в колонке is_relevant на 1\n",
        "for row, text in zip(data, concatenated_questions_list[:len(data)]):\n",
        "    print(text)\n",
        "    row[2] = get_label_object(text)\n",
        "\n",
        "# Записываем измененные данные обратно в файл CSV\n",
        "with open('your_submission.csv', 'w', newline='') as file:\n",
        "    # Создаем объект записи CSV\n",
        "    csv_writer = csv.writer(file)\n",
        "\n",
        "    # Записываем заголовок\n",
        "    csv_writer.writerow(header)\n",
        "\n",
        "    # Записываем данные в файл\n",
        "    csv_writer.writerows(data)"
      ],
      "metadata": {
        "colab": {
          "base_uri": "https://localhost:8080/"
        },
        "id": "EkLqQc3gO2qk",
        "outputId": "85b8bccb-9203-4e02-db56-7191ded44201"
      },
      "execution_count": null,
      "outputs": [
        {
          "output_type": "stream",
          "name": "stdout",
          "text": [
            "53\n",
            "Интерактивный подход к изучению основ C# был очень увлекательным. Нет. Увеличить количество практических заданий для лучшего закрепления материала. Введение в разработку на .NET Framework.\n",
            "0\n",
            "Подробное объяснение логических операторов в JavaScript помогло мне лучше понять условные конструкции. Нет. Предоставить ещё больше практических задач после теории. Детальное изучение асинхронного программирования в JavaScript.\n",
            "1\n",
            "Введение в программирование на Python было простым и интуитивно понятным, особенно для начинающих. Нет. Улучшить качество видеоматериалов, иногда было трудно разглядеть код. Библиотеки Python для анализа данных и машинного обучения.\n",
            "0\n",
            "Понятное изложение основных понятий, хорошая структура материала. Да, циклы for и while были объяснены слишком быстро. Добавить видеоматериалы для самостоятельного изучения. Функциональное программирование.\n",
            "0\n",
            "Кларность и структура материала по основам JavaScript, особенно затронутые темы циклов и функций. Нет. Ввести больше примеров на работу с массивами и объектами. Работа с асинхронным кодом в JavaScript.\n",
            "0\n",
            "Простота объяснений основ Python, особенно циклов и условий, сделала занятие очень доступным. Нет. Предложить больше дополнительных материалов для самостоятельного изучения после вебинара. Подробнее о работе с API в Python.\n",
            "0\n",
            "Лектор имел забавную прическу, что отвлекало, но было весело. Да, особенно когда кот лектора прыгнул на стол. Может, начать с курса стрижки для лекторов? И убрать котов из кадра. Как сделать так, чтобы коты не мешали учёбе.\n",
            "2\n",
            "Детальный разбор объектно-ориентированного программирования. Нет. Ввести дополнительные Q&A сессии после вебинара. Принципы SOLID в программировании.\n",
            "1\n",
            "Разбор использования шаблонов проектирования в Java был очень подробным и полезным. Да, тема абстрактных фабрик была сложной для понимания. Организовать вебинары с более подробными примерами реализации каждого шаблона. Применение шаблонов проектирования в реальных проектах.\n",
            "1\n",
            "Изучение сложных структур данных в Python, таких как деревья и графы, было особенно интересным. Да, работа с графами и их алгоритмами. Устроить отдельные вебинары по каждому типу структуры данных с подробными примерами. Глубокое изучение алгоритмов поиска пути и оптимизации.\n",
            "1\n",
            "Обширное покрытие темы REST API и как они интегрируются с современными веб-приложениями было очень полезно. Да, концепции OAuth 2.0 были сложными для понимания. Больше интерактивных примеров и пошаговых руководств по реализации API. Подробности реализации микросервисов на Spring Boot и Docker.\n",
            "1\n",
            "Глубина разбора модульного тестирования и TDD была полезной для понимания процессов разработки. Да, использование моков и стабов в тестах. Предоставить дополнительные ресурсы для изучения инструментов мокирования. Интеграционное тестирование и CI/CD пайплайны.\n",
            "0\n",
            "Ясное и чёткое объяснение базовых структур данных. Нет. Включить больше реальных примеров использования данных структур. Принципы проектирования алгоритмов.\n",
            "1\n",
            "На вебинаре раздали виртуальные печеньки, очень мило. Нет, я был слишком занят едой. В следующий раз добавить виртуальный чай. Как запекать печенья.\n",
            "0\n",
            "Подробный разбор применения шаблонов проектирования в реальных проектах был очень познавательным. Сложности с пониманием абстрактной фабрики. Больше практических примеров для каждого шаблона проектирования. Применение шаблонов проектирования в микросервисах.\n",
            "1\n",
            "Дискуссия о будущем облачных вычислений и их влиянии на ИТ-индустрию была очень проницательной. Нет. Включить больше кейс-стади от компаний, успешно интегрировавших облачные решения. Стратегии миграции предприятий в облако.\n",
            "1\n",
            "Обсуждение актуальных IT-трендов 2024 года. Да, тема искусственного интеллекта требует более глубокого погружения. Больше времени на сложные темы. Глубокое изучение нейронных сетей.\n",
            "1\n",
            "Обсуждение тенденций в разработке мобильных приложений и их влияние на рынок было весьма познавательным. Нет. Включить больше примеров успешных мобильных приложений и их стратегий монетизации. Разработка кроссплатформенных мобильных приложений.\n",
            "1\n",
            "Обзор последних достижений в области квантовых вычислений был впечатляющим. Да, сложность темы требует более глубокого погружения. Организовать серию вебинаров по квантовым технологиям с участием экспертов. Квантовая криптография и её практическое применение.\n",
            "1\n",
            "Вебинар о технологиях блокчейна и их влиянии на финансовую отрасль был глубоко информативным. Да, концепции смарт-контрактов были сложными для понимания. Ввести вебинар, полностью посвященный смарт-контрактам, с практическими примерами. Разработка и тестирование смарт-контрактов на разных платформах.\n",
            "1\n",
            "Обсуждение влияния облачных технологий на современные IT-структуры было особенно актуальным. Да, различия между IaaS, PaaS, и SaaS. Устроить подробный вебинар о каждой облачной модели в отдельности. Безопасность данных в облаке и лучшие практики.\n",
            "1\n",
            "как правильно пользоваться GPT чатом, для получения более развернутого ответа не было пока нет предложений затрудняюсь ответить\n",
            "2\n",
            "Все понравилось Календарь составили так, что совместилось два обучения в одно и тоже время, что не совсем удобно Все хорошо Создания чата со студентами\n",
            "0\n",
            "Gpt чат Информация предоставлена в доступном виде Все хорошо Другие виды ИИ\n",
            "0\n",
            "Промт-Инжиниринг, это уже даёт какое-то понимание правильной формулировки вопросов для ИИ. Нет Не увидел минусов в вебинаре, очень понравился. Промт-Инжиниринг\n",
            "1\n",
            "новая информация, полезно нет не было таких моментов мне все понравилось пока затрудняюсь ответить\n",
            "1\n",
            "Светлые и темные стороны ChatGPT Не знание определений Все идеально темы по дизайну интерьера\n",
            "1\n",
            "Обсуждение было настолько скучным, что я научился жонглировать во время вебинара. Да, пытался понять жонглирование тремя шарами. Возможно, включить более динамичную музыку во время обсуждений. Жонглирование для начинающих.\n",
            "0\n",
            "Глубокий анализ шаблонов проектирования на конкретных примерах. Сложно было понять шаблон Singleton. Подробнее разбирать каждый шаблон на примерах. Тестирование ПО и фреймворки для автоматизации.\n",
            "1\n",
            "Объяснение циклов и массивов в JavaScript было очень доступным и понятным. Нет. Добавить видео с разбором сложных примеров кода после вебинара. Подробнее о Node.js и серверном JavaScript.\n",
            "0\n",
            "Примеры кода были очень полезными для понимания. Нет. Предоставить дополнительные ресурсы для углубленного изучения. Базы данных и SQL.\n",
            "1\n",
            "Занятие по основам HTML и CSS было чрезвычайно полезным для понимания структуры веб-страниц. Нет. Предложить курс по продвинутым техникам CSS, включая Flexbox и Grid. Погружение в JavaScript для интерактивности веб-страниц.\n",
            "1\n",
            "Подробный разбор циклов и условных операторов в JavaScript помог укрепить мои знания. Нет. Ввести более сложные задачи для практики после вебинара. Асинхронное программирование в JavaScript и его применение в реальных проектах.\n",
            "1\n",
            "Отличное объяснение переменных, типов данных и структур в Python. Нет. Предложить дополнительные учебные материалы для глубокого изучения каждой темы. Глубокое изучение функционального программирования.\n",
            "0\n",
            "Дискуссия о том, как писать код одной рукой, была неожиданно увлекательной. Нет, это было странно интересно. Может быть, курс по печати ногами для разнообразия? Как писать код левой пяткой.\n",
            "0\n",
            "Отличное введение в основы SQL, особенно работа с JOIN-операциями. Да, сложности с пониманием внешних и внутренних соединений. Предложить более подробные учебные ресурсы и примеры запросов для практики. Оптимизация запросов SQL и анализ производительности баз данных.\n",
            "1\n",
            "Сессия по оптимизации производительности веб-приложений дала мне новые инструменты для работы. Да, концепты кэширования данных были сложными. Углубить тему кэширования и состояния сессии в отдельном вебинаре. Работа с большими данными и их хранение.\n",
            "1\n",
            "Затронута тема безопасности приложений, что крайне важно. Сложности с пониманием криптографических методов. Добавить примеры на кейсах из жизни. Кибербезопасность.\n",
            "1\n",
            "Отличное объяснение темы циклов и условий, всё стало на свои места. Да, сложно было понять тему рекурсии. Хотелось бы больше практических заданий по каждой теме. Глубже изучить тему работы с базами данных.\n",
            "1\n",
            "Разбор примеров рефакторинга кода был очень практичным и полезным для понимания, как улучшить существующий код. Некоторые сложные примеры рефакторинга. Углубить материал с дополнительными кейс-стади из реальных проектов. Методы оптимизации производительности приложений.\n",
            "0\n",
            "Очень ценно было изучить интеграцию API в большие системы, использование RESTful и GraphQL. Да, работа с GraphQL была сложнее, чем ожидалось. Провести серию практических вебинаров, специально посвященных GraphQL. Безопасность API, управление доступом и ограничения скорости запросов.\n",
            "1\n",
            "Интересное обсуждение применения искусственного интеллекта в нетехнических отраслях. Да, были трудности с пониманием нейросетей. Уделить больше времени основам нейросетей перед их применением. Машинное обучение и его применение в реальных условиях.\n",
            "1\n",
            "Глубокое погружение в архитектуру REST и SOAP интерфейсов было крайне полезным для моих проектов. Нет. Организовать практические лаборатории по созданию и тестированию API. Безопасность API и использование OAuth 2.0.\n",
            "1\n",
            "Глубокий анализ принципов SOLID и их применение в объектно-ориентированном проектировании был великолепен. Да, примеры на C# были запутанными. Организовать дополнительные сессии по практическому применению SOLID в различных языках программирования. Глубокое изучение паттернов проектирования и рефакторинга существующего кода.\n",
            "1\n",
            "Презентация была настолько монотонной, что я научился рисовать слонов. Да, как правильно рисовать уши слона. Пожалуй, стоит добавить курс по рисованию к вебинарам, чтобы сохранить внимание слушателей. Рисование слонов в Photoshop.\n",
            "0\n",
            "Лекция о влиянии ИИ на автоматизацию рабочих процессов была весьма актуальной. Нет. Обсудить более подробно кейсы применения ИИ в разных отраслях. Применение ИИ для оптимизации клиентского сервиса.\n",
            "1\n",
            "Дискуссия о будущем искусственного интеллекта и его этических аспектах была особенно привлекательной. Да, темы моральных дилемм ИИ требовали более глубокого понимания. Устроить дебаты или панельную дискуссию с экспертами по этике ИИ, чтобы обсудить эти вопросы подробнее. Роль ИИ в управлении данными и приватности.\n",
            "2\n",
            "Обсуждение машинного обучения было особенно интересным. Да, темы, связанные с Big Data, остались не до конца ясны. Углубленный разбор каждой темы. Технологии Big Data.\n",
            "1\n",
            "Введение в искусственный интеллект и его влияние на робототехнику было захватывающим и познавательным. Да, темы построения нейросетей требовали более детального объяснения. Провести специализированные вебинары по машинному обучению и нейросетям, с практическими занятиями на реальных данных. Разработка и применение нейросетей в индустрии развлечений и медиа.\n",
            "1\n",
            "Доклад о последних инновациях в области искусственного интеллекта и машинного обучения был вдохновляющим. Да, сложности с пониманием концепций глубокого обучения. Провести серию вебинаров, посвященных только машинному обучению, с кейс-стади и примерами из практики. Применение ИИ в реальных бизнес-задачах.\n",
            "1\n",
            "Лектор использовал так много жаргонных слов, что я составил словарь. Да, пытался понять, что такое \"блокчейн\". Ввести словарь на каждом вебинаре, чтобы можно было следить за разговором. Разработка собственного жаргона для внутреннего использования.\n",
            "0\n",
            "Интерактивная сессия о применении ИИ в финансовом секторе была исчерпывающей и инновационной. Да, спецификации алгоритмов машинного обучения. Организовать более детальные практические занятия по настройке ИИ. Этические аспекты использования ИИ в финансах.\n",
            "1\n",
            "Отличное введение в язык программирования Java, особенно раздел про исключения. Нет. Добавить больше задач на практику после каждой темы. Глубокое изучение многопоточности в Java.\n",
            "0\n"
          ]
        }
      ]
    },
    {
      "cell_type": "markdown",
      "source": [
        "### bert классификатор позитивных негативныз"
      ],
      "metadata": {
        "id": "sDHYjp43QOL0"
      }
    },
    {
      "cell_type": "code",
      "source": [
        "# Use a pipeline as a high-level helper\n",
        "from transformers import pipeline\n",
        "\n",
        "pipe = pipeline(\"text-classification\", model=\"Dpanov2302/sbert-reviews-classification\")"
      ],
      "metadata": {
        "id": "yn4tpnShQW7e"
      },
      "execution_count": null,
      "outputs": []
    },
    {
      "cell_type": "code",
      "source": [
        "import csv\n",
        "\n",
        "# # mappingId2Label = {0:'negative', 1:'positive'}\n",
        "mappingLabe2Id = {'negative':0, 'positive':1}\n",
        "\n",
        "# def get_label(text):\n",
        "#     preprocessed_text = preprocess(text, stop_words, punctuation_marks, morph)\n",
        "#     predicted_label = w2v_pipeline.predict([preprocessed_text])[0]\n",
        "#     print(predicted_label)\n",
        "#     return mappingLabe2Id[predicted_label]\n",
        "\n",
        "# Открываем файл CSV для чтения\n",
        "with open('your_submission.csv', 'r') as file:\n",
        "    # Создаем объект чтения CSV\n",
        "    csv_reader = csv.reader(file)\n",
        "\n",
        "    # Читаем заголовок\n",
        "    header = next(csv_reader)\n",
        "\n",
        "    # Читаем данные из файла\n",
        "    data = list(csv_reader)\n",
        "\n",
        "print(len(data))\n",
        "\n",
        "# Заменяем каждое значение в колонке is_relevant на 1\n",
        "for row, text in zip(data, concatenated_questions_list[:len(data)]):\n",
        "    print(text)\n",
        "    row[3] = mappingLabe2Id[pipe(text)[0]['label']]\n",
        "    print(row[3])\n",
        "\n",
        "# Записываем измененные данные обратно в файл CSV\n",
        "with open('your_file.csv', 'w', newline='') as file:\n",
        "    # Создаем объект записи CSV\n",
        "    csv_writer = csv.writer(file)\n",
        "\n",
        "    # Записываем заголовок\n",
        "    csv_writer.writerow(header)\n",
        "\n",
        "    # Записываем данные в файл\n",
        "    csv_writer.writerows(data)"
      ],
      "metadata": {
        "id": "CzMcmW3MRVmv"
      },
      "execution_count": null,
      "outputs": []
    },
    {
      "cell_type": "markdown",
      "source": [
        "### Обработка не информативно"
      ],
      "metadata": {
        "id": "9TQk319VOpv-"
      }
    },
    {
      "cell_type": "code",
      "source": [
        "import pandas as pd\n",
        "\n",
        "# Замените 'data.csv' на путь к вашему файлу CSV\n",
        "df = pd.read_csv('train_data.csv')\n",
        "\n",
        "concatenated_questions_list = []\n",
        "rel_list = []\n",
        "\n",
        "# Проходим по каждой строке и конкатенируем значения в столбцах question_1 до question_5\n",
        "for index, row in df.iterrows():\n",
        "    concatenated_questions = ' '.join(row[['question_1', 'question_2', 'question_3', 'question_4', 'question_5']])\n",
        "    concatenated_questions_list.append(concatenated_questions)\n",
        "    # print(concatenated_questions)\n",
        "\n",
        "# Проходим по каждой строке и конкатенируем значения в столбцах question_1 до question_5\n",
        "for index, row in df.iterrows():\n",
        "    rel = ''.join(str(row['is_relevant']))\n",
        "    rel_list.append(rel)\n",
        "print(concatenated_questions_list)\n",
        "print(rel_list)\n"
      ],
      "metadata": {
        "id": "fJ2N0IRdE0yh",
        "colab": {
          "base_uri": "https://localhost:8080/",
          "height": 1000
        },
        "outputId": "91903377-033f-42c1-b1dd-d6ef01c50b43"
      },
      "execution_count": null,
      "outputs": [
        {
          "output_type": "stream",
          "name": "stdout",
          "text": [
            "                  hash            timestamp  \\\n",
            "0  6758859381752519691  2024-04-22 19:03:00   \n",
            "1 -5134118675246852169  2024-04-03 18:00:00   \n",
            "2  -968268261123424087  2024-04-06 14:00:00   \n",
            "3  4896484430320162846  2024-04-08 16:00:00   \n",
            "4  4354272097770242871  2024-04-11 15:00:00   \n",
            "\n",
            "                             question_1  \\\n",
            "0               Новейшие тенденции в IT   \n",
            "1               Основы программирования   \n",
            "2  Продвинутые техники программирования   \n",
            "3               Новейшие тенденции в IT   \n",
            "4               Основы программирования   \n",
            "\n",
            "                                          question_2  \\\n",
            "0                             Преподователь ел носки   \n",
            "1  Лекционный материал был очень структурирован и...   \n",
            "2  Очень понравился глубокий разбор алгоритмов со...   \n",
            "3  Презентация кейсов из реальной жизни помогла п...   \n",
            "4  Разбор базового синтаксиса Python был особенно...   \n",
            "\n",
            "                                          question_3  \\\n",
            "0                                              Носки   \n",
            "1  Да, объяснения по массивам и их методам были с...   \n",
            "2                             Нет, все было понятно.   \n",
            "3  Да, тема криптовалют осталась не до конца поня...   \n",
            "4                                               Нет.   \n",
            "\n",
            "                                          question_4  \\\n",
            "0                                           пикапика   \n",
            "1  Предложить дополнительные учебные видео по сло...   \n",
            "2  Организовать больше интерактивных сессий для о...   \n",
            "3  Увеличить время на вопросы и ответы в конце ка...   \n",
            "4  Включить больше примеров кода в презентации дл...   \n",
            "\n",
            "                                          question_5  \n",
            "0                                          чипи-чипи  \n",
            "1  Введение в объектно-ориентированное программир...  \n",
            "2                             Алгоритмы оптимизации.  \n",
            "3  Использование блокчейн технологий в различных ...  \n",
            "4              Библиотеки Python для анализа данных.  \n"
          ]
        },
        {
          "output_type": "error",
          "ename": "KeyError",
          "evalue": "'is_relevant'",
          "traceback": [
            "\u001b[0;31m---------------------------------------------------------------------------\u001b[0m",
            "\u001b[0;31mKeyError\u001b[0m                                  Traceback (most recent call last)",
            "\u001b[0;32m/usr/local/lib/python3.10/dist-packages/pandas/core/indexes/base.py\u001b[0m in \u001b[0;36mget_loc\u001b[0;34m(self, key)\u001b[0m\n\u001b[1;32m   3652\u001b[0m         \u001b[0;32mtry\u001b[0m\u001b[0;34m:\u001b[0m\u001b[0;34m\u001b[0m\u001b[0;34m\u001b[0m\u001b[0m\n\u001b[0;32m-> 3653\u001b[0;31m             \u001b[0;32mreturn\u001b[0m \u001b[0mself\u001b[0m\u001b[0;34m.\u001b[0m\u001b[0m_engine\u001b[0m\u001b[0;34m.\u001b[0m\u001b[0mget_loc\u001b[0m\u001b[0;34m(\u001b[0m\u001b[0mcasted_key\u001b[0m\u001b[0;34m)\u001b[0m\u001b[0;34m\u001b[0m\u001b[0;34m\u001b[0m\u001b[0m\n\u001b[0m\u001b[1;32m   3654\u001b[0m         \u001b[0;32mexcept\u001b[0m \u001b[0mKeyError\u001b[0m \u001b[0;32mas\u001b[0m \u001b[0merr\u001b[0m\u001b[0;34m:\u001b[0m\u001b[0;34m\u001b[0m\u001b[0;34m\u001b[0m\u001b[0m\n",
            "\u001b[0;32m/usr/local/lib/python3.10/dist-packages/pandas/_libs/index.pyx\u001b[0m in \u001b[0;36mpandas._libs.index.IndexEngine.get_loc\u001b[0;34m()\u001b[0m\n",
            "\u001b[0;32m/usr/local/lib/python3.10/dist-packages/pandas/_libs/index.pyx\u001b[0m in \u001b[0;36mpandas._libs.index.IndexEngine.get_loc\u001b[0;34m()\u001b[0m\n",
            "\u001b[0;32mpandas/_libs/hashtable_class_helper.pxi\u001b[0m in \u001b[0;36mpandas._libs.hashtable.PyObjectHashTable.get_item\u001b[0;34m()\u001b[0m\n",
            "\u001b[0;32mpandas/_libs/hashtable_class_helper.pxi\u001b[0m in \u001b[0;36mpandas._libs.hashtable.PyObjectHashTable.get_item\u001b[0;34m()\u001b[0m\n",
            "\u001b[0;31mKeyError\u001b[0m: 'is_relevant'",
            "\nThe above exception was the direct cause of the following exception:\n",
            "\u001b[0;31mKeyError\u001b[0m                                  Traceback (most recent call last)",
            "\u001b[0;32m<ipython-input-8-ee377b0b3578>\u001b[0m in \u001b[0;36m<cell line: 17>\u001b[0;34m()\u001b[0m\n\u001b[1;32m     16\u001b[0m \u001b[0;31m# Проходим по каждой строке и конкатенируем значения в столбцах question_1 до question_5\u001b[0m\u001b[0;34m\u001b[0m\u001b[0;34m\u001b[0m\u001b[0m\n\u001b[1;32m     17\u001b[0m \u001b[0;32mfor\u001b[0m \u001b[0mindex\u001b[0m\u001b[0;34m,\u001b[0m \u001b[0mrow\u001b[0m \u001b[0;32min\u001b[0m \u001b[0mdf\u001b[0m\u001b[0;34m.\u001b[0m\u001b[0miterrows\u001b[0m\u001b[0;34m(\u001b[0m\u001b[0;34m)\u001b[0m\u001b[0;34m:\u001b[0m\u001b[0;34m\u001b[0m\u001b[0;34m\u001b[0m\u001b[0m\n\u001b[0;32m---> 18\u001b[0;31m     \u001b[0mrel\u001b[0m \u001b[0;34m=\u001b[0m \u001b[0;34m''\u001b[0m\u001b[0;34m.\u001b[0m\u001b[0mjoin\u001b[0m\u001b[0;34m(\u001b[0m\u001b[0mstr\u001b[0m\u001b[0;34m(\u001b[0m\u001b[0mrow\u001b[0m\u001b[0;34m[\u001b[0m\u001b[0;34m'is_relevant'\u001b[0m\u001b[0;34m]\u001b[0m\u001b[0;34m)\u001b[0m\u001b[0;34m)\u001b[0m\u001b[0;34m\u001b[0m\u001b[0;34m\u001b[0m\u001b[0m\n\u001b[0m\u001b[1;32m     19\u001b[0m     \u001b[0mrel_list\u001b[0m\u001b[0;34m.\u001b[0m\u001b[0mappend\u001b[0m\u001b[0;34m(\u001b[0m\u001b[0mrel\u001b[0m\u001b[0;34m)\u001b[0m\u001b[0;34m\u001b[0m\u001b[0;34m\u001b[0m\u001b[0m\n\u001b[1;32m     20\u001b[0m \u001b[0mprint\u001b[0m\u001b[0;34m(\u001b[0m\u001b[0mconcatenated_questions_list\u001b[0m\u001b[0;34m)\u001b[0m\u001b[0;34m\u001b[0m\u001b[0;34m\u001b[0m\u001b[0m\n",
            "\u001b[0;32m/usr/local/lib/python3.10/dist-packages/pandas/core/series.py\u001b[0m in \u001b[0;36m__getitem__\u001b[0;34m(self, key)\u001b[0m\n\u001b[1;32m   1005\u001b[0m \u001b[0;34m\u001b[0m\u001b[0m\n\u001b[1;32m   1006\u001b[0m         \u001b[0;32melif\u001b[0m \u001b[0mkey_is_scalar\u001b[0m\u001b[0;34m:\u001b[0m\u001b[0;34m\u001b[0m\u001b[0;34m\u001b[0m\u001b[0m\n\u001b[0;32m-> 1007\u001b[0;31m             \u001b[0;32mreturn\u001b[0m \u001b[0mself\u001b[0m\u001b[0;34m.\u001b[0m\u001b[0m_get_value\u001b[0m\u001b[0;34m(\u001b[0m\u001b[0mkey\u001b[0m\u001b[0;34m)\u001b[0m\u001b[0;34m\u001b[0m\u001b[0;34m\u001b[0m\u001b[0m\n\u001b[0m\u001b[1;32m   1008\u001b[0m \u001b[0;34m\u001b[0m\u001b[0m\n\u001b[1;32m   1009\u001b[0m         \u001b[0;32mif\u001b[0m \u001b[0mis_hashable\u001b[0m\u001b[0;34m(\u001b[0m\u001b[0mkey\u001b[0m\u001b[0;34m)\u001b[0m\u001b[0;34m:\u001b[0m\u001b[0;34m\u001b[0m\u001b[0;34m\u001b[0m\u001b[0m\n",
            "\u001b[0;32m/usr/local/lib/python3.10/dist-packages/pandas/core/series.py\u001b[0m in \u001b[0;36m_get_value\u001b[0;34m(self, label, takeable)\u001b[0m\n\u001b[1;32m   1114\u001b[0m \u001b[0;34m\u001b[0m\u001b[0m\n\u001b[1;32m   1115\u001b[0m         \u001b[0;31m# Similar to Index.get_value, but we do not fall back to positional\u001b[0m\u001b[0;34m\u001b[0m\u001b[0;34m\u001b[0m\u001b[0m\n\u001b[0;32m-> 1116\u001b[0;31m         \u001b[0mloc\u001b[0m \u001b[0;34m=\u001b[0m \u001b[0mself\u001b[0m\u001b[0;34m.\u001b[0m\u001b[0mindex\u001b[0m\u001b[0;34m.\u001b[0m\u001b[0mget_loc\u001b[0m\u001b[0;34m(\u001b[0m\u001b[0mlabel\u001b[0m\u001b[0;34m)\u001b[0m\u001b[0;34m\u001b[0m\u001b[0;34m\u001b[0m\u001b[0m\n\u001b[0m\u001b[1;32m   1117\u001b[0m \u001b[0;34m\u001b[0m\u001b[0m\n\u001b[1;32m   1118\u001b[0m         \u001b[0;32mif\u001b[0m \u001b[0mis_integer\u001b[0m\u001b[0;34m(\u001b[0m\u001b[0mloc\u001b[0m\u001b[0;34m)\u001b[0m\u001b[0;34m:\u001b[0m\u001b[0;34m\u001b[0m\u001b[0;34m\u001b[0m\u001b[0m\n",
            "\u001b[0;32m/usr/local/lib/python3.10/dist-packages/pandas/core/indexes/base.py\u001b[0m in \u001b[0;36mget_loc\u001b[0;34m(self, key)\u001b[0m\n\u001b[1;32m   3653\u001b[0m             \u001b[0;32mreturn\u001b[0m \u001b[0mself\u001b[0m\u001b[0;34m.\u001b[0m\u001b[0m_engine\u001b[0m\u001b[0;34m.\u001b[0m\u001b[0mget_loc\u001b[0m\u001b[0;34m(\u001b[0m\u001b[0mcasted_key\u001b[0m\u001b[0;34m)\u001b[0m\u001b[0;34m\u001b[0m\u001b[0;34m\u001b[0m\u001b[0m\n\u001b[1;32m   3654\u001b[0m         \u001b[0;32mexcept\u001b[0m \u001b[0mKeyError\u001b[0m \u001b[0;32mas\u001b[0m \u001b[0merr\u001b[0m\u001b[0;34m:\u001b[0m\u001b[0;34m\u001b[0m\u001b[0;34m\u001b[0m\u001b[0m\n\u001b[0;32m-> 3655\u001b[0;31m             \u001b[0;32mraise\u001b[0m \u001b[0mKeyError\u001b[0m\u001b[0;34m(\u001b[0m\u001b[0mkey\u001b[0m\u001b[0;34m)\u001b[0m \u001b[0;32mfrom\u001b[0m \u001b[0merr\u001b[0m\u001b[0;34m\u001b[0m\u001b[0;34m\u001b[0m\u001b[0m\n\u001b[0m\u001b[1;32m   3656\u001b[0m         \u001b[0;32mexcept\u001b[0m \u001b[0mTypeError\u001b[0m\u001b[0;34m:\u001b[0m\u001b[0;34m\u001b[0m\u001b[0;34m\u001b[0m\u001b[0m\n\u001b[1;32m   3657\u001b[0m             \u001b[0;31m# If we have a listlike key, _check_indexing_error will raise\u001b[0m\u001b[0;34m\u001b[0m\u001b[0;34m\u001b[0m\u001b[0m\n",
            "\u001b[0;31mKeyError\u001b[0m: 'is_relevant'"
          ]
        }
      ]
    },
    {
      "cell_type": "code",
      "source": [
        "!pip install gradio_client"
      ],
      "metadata": {
        "colab": {
          "base_uri": "https://localhost:8080/"
        },
        "id": "m1Q-Gz46jJvJ",
        "outputId": "c6630563-9224-4d65-b564-e1c78e2c4af8"
      },
      "execution_count": null,
      "outputs": [
        {
          "output_type": "stream",
          "name": "stdout",
          "text": [
            "Collecting gradio_client\n",
            "  Downloading gradio_client-0.16.0-py3-none-any.whl (314 kB)\n",
            "\u001b[2K     \u001b[90m━━━━━━━━━━━━━━━━━━━━━━━━━━━━━━━━━━━━━━━━\u001b[0m \u001b[32m314.4/314.4 kB\u001b[0m \u001b[31m4.5 MB/s\u001b[0m eta \u001b[36m0:00:00\u001b[0m\n",
            "\u001b[?25hRequirement already satisfied: fsspec in /usr/local/lib/python3.10/dist-packages (from gradio_client) (2023.6.0)\n",
            "Collecting httpx>=0.24.1 (from gradio_client)\n",
            "  Downloading httpx-0.27.0-py3-none-any.whl (75 kB)\n",
            "\u001b[2K     \u001b[90m━━━━━━━━━━━━━━━━━━━━━━━━━━━━━━━━━━━━━━━━\u001b[0m \u001b[32m75.6/75.6 kB\u001b[0m \u001b[31m7.8 MB/s\u001b[0m eta \u001b[36m0:00:00\u001b[0m\n",
            "\u001b[?25hRequirement already satisfied: huggingface-hub>=0.19.3 in /usr/local/lib/python3.10/dist-packages (from gradio_client) (0.20.3)\n",
            "Requirement already satisfied: packaging in /usr/local/lib/python3.10/dist-packages (from gradio_client) (24.0)\n",
            "Requirement already satisfied: typing-extensions~=4.0 in /usr/local/lib/python3.10/dist-packages (from gradio_client) (4.11.0)\n",
            "Collecting websockets<12.0,>=10.0 (from gradio_client)\n",
            "  Downloading websockets-11.0.3-cp310-cp310-manylinux_2_5_x86_64.manylinux1_x86_64.manylinux_2_17_x86_64.manylinux2014_x86_64.whl (129 kB)\n",
            "\u001b[2K     \u001b[90m━━━━━━━━━━━━━━━━━━━━━━━━━━━━━━━━━━━━━━━━\u001b[0m \u001b[32m129.9/129.9 kB\u001b[0m \u001b[31m16.7 MB/s\u001b[0m eta \u001b[36m0:00:00\u001b[0m\n",
            "\u001b[?25hRequirement already satisfied: anyio in /usr/local/lib/python3.10/dist-packages (from httpx>=0.24.1->gradio_client) (3.7.1)\n",
            "Requirement already satisfied: certifi in /usr/local/lib/python3.10/dist-packages (from httpx>=0.24.1->gradio_client) (2024.2.2)\n",
            "Collecting httpcore==1.* (from httpx>=0.24.1->gradio_client)\n",
            "  Downloading httpcore-1.0.5-py3-none-any.whl (77 kB)\n",
            "\u001b[2K     \u001b[90m━━━━━━━━━━━━━━━━━━━━━━━━━━━━━━━━━━━━━━━━\u001b[0m \u001b[32m77.9/77.9 kB\u001b[0m \u001b[31m8.1 MB/s\u001b[0m eta \u001b[36m0:00:00\u001b[0m\n",
            "\u001b[?25hRequirement already satisfied: idna in /usr/local/lib/python3.10/dist-packages (from httpx>=0.24.1->gradio_client) (3.7)\n",
            "Requirement already satisfied: sniffio in /usr/local/lib/python3.10/dist-packages (from httpx>=0.24.1->gradio_client) (1.3.1)\n",
            "Collecting h11<0.15,>=0.13 (from httpcore==1.*->httpx>=0.24.1->gradio_client)\n",
            "  Downloading h11-0.14.0-py3-none-any.whl (58 kB)\n",
            "\u001b[2K     \u001b[90m━━━━━━━━━━━━━━━━━━━━━━━━━━━━━━━━━━━━━━━━\u001b[0m \u001b[32m58.3/58.3 kB\u001b[0m \u001b[31m8.5 MB/s\u001b[0m eta \u001b[36m0:00:00\u001b[0m\n",
            "\u001b[?25hRequirement already satisfied: filelock in /usr/local/lib/python3.10/dist-packages (from huggingface-hub>=0.19.3->gradio_client) (3.13.4)\n",
            "Requirement already satisfied: requests in /usr/local/lib/python3.10/dist-packages (from huggingface-hub>=0.19.3->gradio_client) (2.31.0)\n",
            "Requirement already satisfied: tqdm>=4.42.1 in /usr/local/lib/python3.10/dist-packages (from huggingface-hub>=0.19.3->gradio_client) (4.66.2)\n",
            "Requirement already satisfied: pyyaml>=5.1 in /usr/local/lib/python3.10/dist-packages (from huggingface-hub>=0.19.3->gradio_client) (6.0.1)\n",
            "Requirement already satisfied: exceptiongroup in /usr/local/lib/python3.10/dist-packages (from anyio->httpx>=0.24.1->gradio_client) (1.2.1)\n",
            "Requirement already satisfied: charset-normalizer<4,>=2 in /usr/local/lib/python3.10/dist-packages (from requests->huggingface-hub>=0.19.3->gradio_client) (3.3.2)\n",
            "Requirement already satisfied: urllib3<3,>=1.21.1 in /usr/local/lib/python3.10/dist-packages (from requests->huggingface-hub>=0.19.3->gradio_client) (2.0.7)\n",
            "Installing collected packages: websockets, h11, httpcore, httpx, gradio_client\n",
            "Successfully installed gradio_client-0.16.0 h11-0.14.0 httpcore-1.0.5 httpx-0.27.0 websockets-11.0.3\n"
          ]
        }
      ]
    },
    {
      "cell_type": "code",
      "source": [
        "from gradio_client import Client\n",
        "\n",
        "client = Client(\"https://qwen-qwen1-5-72b-chat.hf.space/--replicas/3kh1x/\")\n",
        "\n",
        "for text, i in zip(concatenated_questions_list, rel_list):\n",
        "\n",
        "    dox=f\"Информативно или не информативно?: {text}\"\n",
        "    result = client.predict(\n",
        "        dox,\t# str  in 'Input' Textbox component\n",
        "        [[ \"None\", \"None\" ],],\t# Tuple[str | Dict(file: filepath, alt_text: str | None) | None, str | Dict(file: filepath, alt_text: str | None) | None]  in 'Qwen1.5-72B-Chat' Chatbot component\n",
        "        \"None\",\t# str  in 'parameter_9' Textbox component\n",
        "        api_name=\"/model_chat\"\n",
        "    )\n",
        "\n",
        "    answer = result[1][1][1].lower()\n",
        "    print(i)\n",
        "    if \"не информативно\" in answer or \"не информативным\" in answer or \"не информативное\" in answer or \"не является информативным\" in answer:\n",
        "        if \"частично информативным\" in answer or \"выражает личное мнение\" in answer or \"не является информативным в традиционном смысле\" in answer or \"содержит как информативные\" in answer or \"субъективный опыт\" in answer:\n",
        "            print(1)\n",
        "        else:\n",
        "            print(0)\n",
        "    else:\n",
        "        print(1)\n",
        "    print(\"------>\", answer, \"<------\")\n",
        "    print()"
      ],
      "metadata": {
        "colab": {
          "base_uri": "https://localhost:8080/",
          "height": 391
        },
        "id": "XUv4wjl0HZe4",
        "outputId": "e2c37380-e08f-4d82-d522-e6f8d2f7253b"
      },
      "execution_count": null,
      "outputs": [
        {
          "output_type": "stream",
          "name": "stdout",
          "text": [
            "Loaded as API: https://qwen-qwen1-5-72b-chat.hf.space/--replicas/3kh1x/ ✔\n"
          ]
        },
        {
          "output_type": "error",
          "ename": "KeyboardInterrupt",
          "evalue": "",
          "traceback": [
            "\u001b[0;31m---------------------------------------------------------------------------\u001b[0m",
            "\u001b[0;31mKeyboardInterrupt\u001b[0m                         Traceback (most recent call last)",
            "\u001b[0;32m<ipython-input-8-0040e2f6c536>\u001b[0m in \u001b[0;36m<cell line: 5>\u001b[0;34m()\u001b[0m\n\u001b[1;32m      6\u001b[0m \u001b[0;34m\u001b[0m\u001b[0m\n\u001b[1;32m      7\u001b[0m     \u001b[0mdox\u001b[0m\u001b[0;34m=\u001b[0m\u001b[0;34mf\"Информативно или не информативно?: {text}\"\u001b[0m\u001b[0;34m\u001b[0m\u001b[0;34m\u001b[0m\u001b[0m\n\u001b[0;32m----> 8\u001b[0;31m     result = client.predict(\n\u001b[0m\u001b[1;32m      9\u001b[0m         \u001b[0mdox\u001b[0m\u001b[0;34m,\u001b[0m    \u001b[0;31m# str  in 'Input' Textbox component\u001b[0m\u001b[0;34m\u001b[0m\u001b[0;34m\u001b[0m\u001b[0m\n\u001b[1;32m     10\u001b[0m         \u001b[0;34m[\u001b[0m\u001b[0;34m[\u001b[0m \u001b[0;34m\"None\"\u001b[0m\u001b[0;34m,\u001b[0m \u001b[0;34m\"None\"\u001b[0m \u001b[0;34m]\u001b[0m\u001b[0;34m,\u001b[0m\u001b[0;34m]\u001b[0m\u001b[0;34m,\u001b[0m  \u001b[0;31m# Tuple[str | Dict(file: filepath, alt_text: str | None) | None, str | Dict(file: filepath, alt_text: str | None) | None]  in 'Qwen1.5-72B-Chat' Chatbot component\u001b[0m\u001b[0;34m\u001b[0m\u001b[0;34m\u001b[0m\u001b[0m\n",
            "\u001b[0;32m/usr/local/lib/python3.10/dist-packages/gradio_client/client.py\u001b[0m in \u001b[0;36mpredict\u001b[0;34m(self, api_name, fn_index, *args, **kwargs)\u001b[0m\n\u001b[1;32m    460\u001b[0m         return self.submit(\n\u001b[1;32m    461\u001b[0m             \u001b[0;34m*\u001b[0m\u001b[0margs\u001b[0m\u001b[0;34m,\u001b[0m \u001b[0mapi_name\u001b[0m\u001b[0;34m=\u001b[0m\u001b[0mapi_name\u001b[0m\u001b[0;34m,\u001b[0m \u001b[0mfn_index\u001b[0m\u001b[0;34m=\u001b[0m\u001b[0mfn_index\u001b[0m\u001b[0;34m,\u001b[0m \u001b[0;34m**\u001b[0m\u001b[0mkwargs\u001b[0m\u001b[0;34m\u001b[0m\u001b[0;34m\u001b[0m\u001b[0m\n\u001b[0;32m--> 462\u001b[0;31m         ).result()\n\u001b[0m\u001b[1;32m    463\u001b[0m \u001b[0;34m\u001b[0m\u001b[0m\n\u001b[1;32m    464\u001b[0m     \u001b[0;32mdef\u001b[0m \u001b[0mnew_helper\u001b[0m\u001b[0;34m(\u001b[0m\u001b[0mself\u001b[0m\u001b[0;34m,\u001b[0m \u001b[0mfn_index\u001b[0m\u001b[0;34m:\u001b[0m \u001b[0mint\u001b[0m\u001b[0;34m)\u001b[0m \u001b[0;34m->\u001b[0m \u001b[0mCommunicator\u001b[0m\u001b[0;34m:\u001b[0m\u001b[0;34m\u001b[0m\u001b[0;34m\u001b[0m\u001b[0m\n",
            "\u001b[0;32m/usr/local/lib/python3.10/dist-packages/gradio_client/client.py\u001b[0m in \u001b[0;36mresult\u001b[0;34m(self, timeout)\u001b[0m\n\u001b[1;32m   1391\u001b[0m             \u001b[0;34m>>\u001b[0m \u001b[0;36m9\u001b[0m\u001b[0;34m\u001b[0m\u001b[0;34m\u001b[0m\u001b[0m\n\u001b[1;32m   1392\u001b[0m         \"\"\"\n\u001b[0;32m-> 1393\u001b[0;31m         \u001b[0;32mreturn\u001b[0m \u001b[0msuper\u001b[0m\u001b[0;34m(\u001b[0m\u001b[0;34m)\u001b[0m\u001b[0;34m.\u001b[0m\u001b[0mresult\u001b[0m\u001b[0;34m(\u001b[0m\u001b[0mtimeout\u001b[0m\u001b[0;34m=\u001b[0m\u001b[0mtimeout\u001b[0m\u001b[0;34m)\u001b[0m\u001b[0;34m\u001b[0m\u001b[0;34m\u001b[0m\u001b[0m\n\u001b[0m\u001b[1;32m   1394\u001b[0m \u001b[0;34m\u001b[0m\u001b[0m\n\u001b[1;32m   1395\u001b[0m     \u001b[0;32mdef\u001b[0m \u001b[0moutputs\u001b[0m\u001b[0;34m(\u001b[0m\u001b[0mself\u001b[0m\u001b[0;34m)\u001b[0m \u001b[0;34m->\u001b[0m \u001b[0mlist\u001b[0m\u001b[0;34m[\u001b[0m\u001b[0mtuple\u001b[0m \u001b[0;34m|\u001b[0m \u001b[0mAny\u001b[0m\u001b[0;34m]\u001b[0m\u001b[0;34m:\u001b[0m\u001b[0;34m\u001b[0m\u001b[0;34m\u001b[0m\u001b[0m\n",
            "\u001b[0;32m/usr/lib/python3.10/concurrent/futures/_base.py\u001b[0m in \u001b[0;36mresult\u001b[0;34m(self, timeout)\u001b[0m\n\u001b[1;32m    451\u001b[0m                     \u001b[0;32mreturn\u001b[0m \u001b[0mself\u001b[0m\u001b[0;34m.\u001b[0m\u001b[0m__get_result\u001b[0m\u001b[0;34m(\u001b[0m\u001b[0;34m)\u001b[0m\u001b[0;34m\u001b[0m\u001b[0;34m\u001b[0m\u001b[0m\n\u001b[1;32m    452\u001b[0m \u001b[0;34m\u001b[0m\u001b[0m\n\u001b[0;32m--> 453\u001b[0;31m                 \u001b[0mself\u001b[0m\u001b[0;34m.\u001b[0m\u001b[0m_condition\u001b[0m\u001b[0;34m.\u001b[0m\u001b[0mwait\u001b[0m\u001b[0;34m(\u001b[0m\u001b[0mtimeout\u001b[0m\u001b[0;34m)\u001b[0m\u001b[0;34m\u001b[0m\u001b[0;34m\u001b[0m\u001b[0m\n\u001b[0m\u001b[1;32m    454\u001b[0m \u001b[0;34m\u001b[0m\u001b[0m\n\u001b[1;32m    455\u001b[0m                 \u001b[0;32mif\u001b[0m \u001b[0mself\u001b[0m\u001b[0;34m.\u001b[0m\u001b[0m_state\u001b[0m \u001b[0;32min\u001b[0m \u001b[0;34m[\u001b[0m\u001b[0mCANCELLED\u001b[0m\u001b[0;34m,\u001b[0m \u001b[0mCANCELLED_AND_NOTIFIED\u001b[0m\u001b[0;34m]\u001b[0m\u001b[0;34m:\u001b[0m\u001b[0;34m\u001b[0m\u001b[0;34m\u001b[0m\u001b[0m\n",
            "\u001b[0;32m/usr/lib/python3.10/threading.py\u001b[0m in \u001b[0;36mwait\u001b[0;34m(self, timeout)\u001b[0m\n\u001b[1;32m    318\u001b[0m         \u001b[0;32mtry\u001b[0m\u001b[0;34m:\u001b[0m    \u001b[0;31m# restore state no matter what (e.g., KeyboardInterrupt)\u001b[0m\u001b[0;34m\u001b[0m\u001b[0;34m\u001b[0m\u001b[0m\n\u001b[1;32m    319\u001b[0m             \u001b[0;32mif\u001b[0m \u001b[0mtimeout\u001b[0m \u001b[0;32mis\u001b[0m \u001b[0;32mNone\u001b[0m\u001b[0;34m:\u001b[0m\u001b[0;34m\u001b[0m\u001b[0;34m\u001b[0m\u001b[0m\n\u001b[0;32m--> 320\u001b[0;31m                 \u001b[0mwaiter\u001b[0m\u001b[0;34m.\u001b[0m\u001b[0macquire\u001b[0m\u001b[0;34m(\u001b[0m\u001b[0;34m)\u001b[0m\u001b[0;34m\u001b[0m\u001b[0;34m\u001b[0m\u001b[0m\n\u001b[0m\u001b[1;32m    321\u001b[0m                 \u001b[0mgotit\u001b[0m \u001b[0;34m=\u001b[0m \u001b[0;32mTrue\u001b[0m\u001b[0;34m\u001b[0m\u001b[0;34m\u001b[0m\u001b[0m\n\u001b[1;32m    322\u001b[0m             \u001b[0;32melse\u001b[0m\u001b[0;34m:\u001b[0m\u001b[0;34m\u001b[0m\u001b[0;34m\u001b[0m\u001b[0m\n",
            "\u001b[0;31mKeyboardInterrupt\u001b[0m: "
          ]
        }
      ]
    }
  ]
}